{
 "cells": [
  {
   "cell_type": "code",
   "execution_count": 2,
   "id": "cf01889b",
   "metadata": {},
   "outputs": [],
   "source": [
    "import pandas as pd\n",
    "import numpy as np\n",
    "import seaborn as sns\n",
    "from pathlib import Path\n",
    "import plotly.express as px"
   ]
  },
  {
   "cell_type": "code",
   "execution_count": 3,
   "id": "56181c3c",
   "metadata": {},
   "outputs": [],
   "source": [
    "# Load CSVs\n",
    "standard_csv = Path(\"ising_model_sweep_data.csv\")\n",
    "qdrift_csv = Path(\"qdrift_ising_model_sweep_data2.csv\")\n",
    "qdrift_csv_more_random = Path(\"qdrift_ising_model_sweep_data_more_random.csv\")\n",
    "\n",
    "standard_qpe_df = pd.read_csv(standard_csv)\n",
    "qdrift_qpe_df = pd.read_csv(qdrift_csv)\n",
    "qdrift_qpe_df_more_random = pd.read_csv(qdrift_csv_more_random)"
   ]
  },
  {
   "cell_type": "code",
   "execution_count": 4,
   "id": "1abb5782",
   "metadata": {},
   "outputs": [],
   "source": [
    "\n",
    "\n",
    "def plot_error_vs_time(df: pd.DataFrame, title_suffix, true_eigenval):\n",
    "\n",
    "    fig_scatter = px.scatter(\n",
    "        df,\n",
    "        x=\"Time\",\n",
    "        y=\"Eigenvalue Error\",\n",
    "        color=\"Num Ancilla\",\n",
    "        title=f\"Eigenvalue Error vs Time (Scatter Plot) {title_suffix}\",\n",
    "        labels={\"Eigenvalue Error\": \"Error\", \"Num Qubits\": \"# Qubits\"},\n",
    "    )\n",
    "    # Add a horizontal line for the true eigenvalue\n",
    "\n",
    "    fig_scatter.add_hline(y=true_eigenval, line_dash=\"dash\", line_color=\"red\", annotation_text=\"Magnitude of True Eigenvalue\", annotation_position=\"top left\")\n",
    "    fig_scatter.update_layout(\n",
    "        xaxis_title=\"Simulation Time\",\n",
    "        yaxis_title=\"Eigenvalue Estimation Error\",\n",
    "        legend_title=\"Number of Ancilla Qubits\",\n",
    "    )\n",
    "\n",
    "    fig_scatter.show()\n",
    "\n",
    "def loglog_error_vs_time(df: pd.DataFrame, title_suffix, true_eigenval):\n",
    "    fig_loglog = px.scatter(\n",
    "        df,\n",
    "        x=\"Time\",\n",
    "        y=\"Eigenvalue Error\",\n",
    "        color=\"Num Ancilla\",\n",
    "        log_x=True,\n",
    "        log_y=True,\n",
    "        title=f\"Eigenvalue Error vs Time (Log-Log Plot) {title_suffix}\",\n",
    "        labels={\"Eigenvalue Error\": \"Error\", \"Num Qubits\": \"# Qubits\"},\n",
    "    )\n",
    "    # Add a horizontal line for the true eigenvalue\n",
    "    fig_loglog.add_hline(y=true_eigenval, line_dash=\"dash\", line_color=\"red\", annotation_text=\"Magnitude of True Eigenvalue\", annotation_position=\"top left\")\n",
    "    fig_loglog.update_layout(\n",
    "        xaxis_title=\"Simulation Time (Log Scale)\",\n",
    "        yaxis_title=\"Eigenvalue Estimation Error (Log Scale)\",\n",
    "        legend_title=\"Number of Ancilla Qubits\",\n",
    "    )\n",
    "\n",
    "    fig_loglog.show()\n",
    "\n",
    "def plot_error_vs_ancilla(df: pd.DataFrame, title_suffix=\"\"):\n",
    "    fig = px.box(\n",
    "        df,\n",
    "        x=\"Num Ancilla\",\n",
    "        y=\"Eigenvalue Error\",\n",
    "        points=\"all\",\n",
    "        title=f\"Error vs Number of Ancilla Qubits {title_suffix}\",\n",
    "        labels={\"Num Ancilla\": \"# Ancilla Qubits\", \"Eigenvalue Error\": \"Eigenvalue Estimation Error\"},\n",
    "    )\n",
    "    fig.show()\n",
    "\n",
    "def plot_3d_relationship(df: pd.DataFrame, title_suffix=\"\"):\n",
    "    fig = px.scatter_3d(\n",
    "        df,\n",
    "        x=\"Time\",\n",
    "        y=\"Num Ancilla\",\n",
    "        z=\"Eigenvalue Error\",\n",
    "        color=\"Eigenvalue Error\",\n",
    "        title=f\"3D Plot of Error vs Time vs Ancilla Qubits {title_suffix}\",\n",
    "        labels={\"Time\": \"Simulation Time\", \"Num Ancilla\": \"# Ancilla Qubits\", \"Eigenvalue Error\": \"Error\"},\n",
    "    )\n",
    "    fig.show()\n"
   ]
  },
  {
   "cell_type": "code",
   "execution_count": 5,
   "id": "5785beda",
   "metadata": {},
   "outputs": [
    {
     "data": {
      "application/vnd.plotly.v1+json": {
       "config": {
        "plotlyServerURL": "https://plot.ly"
       },
       "data": [
        {
         "hovertemplate": "Time=%{x}<br>Error=%{y}<br>Num Ancilla=%{marker.color}<extra></extra>",
         "legendgroup": "",
         "marker": {
          "color": {
           "bdata": "BQUFBQUFBQUFBQUFBQUFBQUFBQUFBQUFBQUFBQUFBQUFBQUFBQUFBQUFBQUFBQUFBQUFBQUFBQUFBQUFBQUFBQUFBQUFBQUFBQUFBQUFBQUFBQUFBQUFBQUFBQUFBQUFBQUFBQUFBQUFBQUFBQUFBQUFBQUFBQUFBQUFBQUFBQUFBQUFBQUFBQUFBQUFBQUFBQUFBQUFBQUFBQUFBQUFBQUFBQUFBQUFBQUFBQUFBQUFBQUFBQUFBQUFBQUFBQUFBQUFBQUFBQUKCgoKCgoKCgoKCgoKCgoKCgoKCgoKCgoKCgoKCgoKCgoKCgoKCgoKCgoKCgoKCgoKCgoKCgoKCgoKCgoKCgoKCgoKCgoKCgoKCgoKCgoKCgoKCgoKCgoKCgoKCgoKCgoKCgoKCgoKCgoKCgoKCgoKCgoKCgoKCgoKCgoKCgoKCgoKCgoKCgoKCgoKCgoKCgoKCgoKCgoKCgoKCgoKCgoKCgoKCgoKCgoKCgoK",
           "dtype": "i1"
          },
          "coloraxis": "coloraxis",
          "symbol": "circle"
         },
         "mode": "markers",
         "name": "",
         "orientation": "v",
         "showlegend": false,
         "type": "scatter",
         "x": {
          "bdata": "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",
          "dtype": "f8"
         },
         "xaxis": "x",
         "y": {
          "bdata": "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",
          "dtype": "f8"
         },
         "yaxis": "y"
        }
       ],
       "layout": {
        "annotations": [
         {
          "showarrow": false,
          "text": "Magnitude of True Eigenvalue",
          "x": 0,
          "xanchor": "left",
          "xref": "x domain",
          "y": 2.4,
          "yanchor": "bottom",
          "yref": "y"
         }
        ],
        "coloraxis": {
         "colorbar": {
          "title": {
           "text": "Num Ancilla"
          }
         },
         "colorscale": [
          [
           0,
           "#0d0887"
          ],
          [
           0.1111111111111111,
           "#46039f"
          ],
          [
           0.2222222222222222,
           "#7201a8"
          ],
          [
           0.3333333333333333,
           "#9c179e"
          ],
          [
           0.4444444444444444,
           "#bd3786"
          ],
          [
           0.5555555555555556,
           "#d8576b"
          ],
          [
           0.6666666666666666,
           "#ed7953"
          ],
          [
           0.7777777777777778,
           "#fb9f3a"
          ],
          [
           0.8888888888888888,
           "#fdca26"
          ],
          [
           1,
           "#f0f921"
          ]
         ]
        },
        "legend": {
         "title": {
          "text": "Number of Ancilla Qubits"
         },
         "tracegroupgap": 0
        },
        "shapes": [
         {
          "line": {
           "color": "red",
           "dash": "dash"
          },
          "type": "line",
          "x0": 0,
          "x1": 1,
          "xref": "x domain",
          "y0": 2.4,
          "y1": 2.4,
          "yref": "y"
         }
        ],
        "template": {
         "data": {
          "bar": [
           {
            "error_x": {
             "color": "#2a3f5f"
            },
            "error_y": {
             "color": "#2a3f5f"
            },
            "marker": {
             "line": {
              "color": "#E5ECF6",
              "width": 0.5
             },
             "pattern": {
              "fillmode": "overlay",
              "size": 10,
              "solidity": 0.2
             }
            },
            "type": "bar"
           }
          ],
          "barpolar": [
           {
            "marker": {
             "line": {
              "color": "#E5ECF6",
              "width": 0.5
             },
             "pattern": {
              "fillmode": "overlay",
              "size": 10,
              "solidity": 0.2
             }
            },
            "type": "barpolar"
           }
          ],
          "carpet": [
           {
            "aaxis": {
             "endlinecolor": "#2a3f5f",
             "gridcolor": "white",
             "linecolor": "white",
             "minorgridcolor": "white",
             "startlinecolor": "#2a3f5f"
            },
            "baxis": {
             "endlinecolor": "#2a3f5f",
             "gridcolor": "white",
             "linecolor": "white",
             "minorgridcolor": "white",
             "startlinecolor": "#2a3f5f"
            },
            "type": "carpet"
           }
          ],
          "choropleth": [
           {
            "colorbar": {
             "outlinewidth": 0,
             "ticks": ""
            },
            "type": "choropleth"
           }
          ],
          "contour": [
           {
            "colorbar": {
             "outlinewidth": 0,
             "ticks": ""
            },
            "colorscale": [
             [
              0,
              "#0d0887"
             ],
             [
              0.1111111111111111,
              "#46039f"
             ],
             [
              0.2222222222222222,
              "#7201a8"
             ],
             [
              0.3333333333333333,
              "#9c179e"
             ],
             [
              0.4444444444444444,
              "#bd3786"
             ],
             [
              0.5555555555555556,
              "#d8576b"
             ],
             [
              0.6666666666666666,
              "#ed7953"
             ],
             [
              0.7777777777777778,
              "#fb9f3a"
             ],
             [
              0.8888888888888888,
              "#fdca26"
             ],
             [
              1,
              "#f0f921"
             ]
            ],
            "type": "contour"
           }
          ],
          "contourcarpet": [
           {
            "colorbar": {
             "outlinewidth": 0,
             "ticks": ""
            },
            "type": "contourcarpet"
           }
          ],
          "heatmap": [
           {
            "colorbar": {
             "outlinewidth": 0,
             "ticks": ""
            },
            "colorscale": [
             [
              0,
              "#0d0887"
             ],
             [
              0.1111111111111111,
              "#46039f"
             ],
             [
              0.2222222222222222,
              "#7201a8"
             ],
             [
              0.3333333333333333,
              "#9c179e"
             ],
             [
              0.4444444444444444,
              "#bd3786"
             ],
             [
              0.5555555555555556,
              "#d8576b"
             ],
             [
              0.6666666666666666,
              "#ed7953"
             ],
             [
              0.7777777777777778,
              "#fb9f3a"
             ],
             [
              0.8888888888888888,
              "#fdca26"
             ],
             [
              1,
              "#f0f921"
             ]
            ],
            "type": "heatmap"
           }
          ],
          "histogram": [
           {
            "marker": {
             "pattern": {
              "fillmode": "overlay",
              "size": 10,
              "solidity": 0.2
             }
            },
            "type": "histogram"
           }
          ],
          "histogram2d": [
           {
            "colorbar": {
             "outlinewidth": 0,
             "ticks": ""
            },
            "colorscale": [
             [
              0,
              "#0d0887"
             ],
             [
              0.1111111111111111,
              "#46039f"
             ],
             [
              0.2222222222222222,
              "#7201a8"
             ],
             [
              0.3333333333333333,
              "#9c179e"
             ],
             [
              0.4444444444444444,
              "#bd3786"
             ],
             [
              0.5555555555555556,
              "#d8576b"
             ],
             [
              0.6666666666666666,
              "#ed7953"
             ],
             [
              0.7777777777777778,
              "#fb9f3a"
             ],
             [
              0.8888888888888888,
              "#fdca26"
             ],
             [
              1,
              "#f0f921"
             ]
            ],
            "type": "histogram2d"
           }
          ],
          "histogram2dcontour": [
           {
            "colorbar": {
             "outlinewidth": 0,
             "ticks": ""
            },
            "colorscale": [
             [
              0,
              "#0d0887"
             ],
             [
              0.1111111111111111,
              "#46039f"
             ],
             [
              0.2222222222222222,
              "#7201a8"
             ],
             [
              0.3333333333333333,
              "#9c179e"
             ],
             [
              0.4444444444444444,
              "#bd3786"
             ],
             [
              0.5555555555555556,
              "#d8576b"
             ],
             [
              0.6666666666666666,
              "#ed7953"
             ],
             [
              0.7777777777777778,
              "#fb9f3a"
             ],
             [
              0.8888888888888888,
              "#fdca26"
             ],
             [
              1,
              "#f0f921"
             ]
            ],
            "type": "histogram2dcontour"
           }
          ],
          "mesh3d": [
           {
            "colorbar": {
             "outlinewidth": 0,
             "ticks": ""
            },
            "type": "mesh3d"
           }
          ],
          "parcoords": [
           {
            "line": {
             "colorbar": {
              "outlinewidth": 0,
              "ticks": ""
             }
            },
            "type": "parcoords"
           }
          ],
          "pie": [
           {
            "automargin": true,
            "type": "pie"
           }
          ],
          "scatter": [
           {
            "fillpattern": {
             "fillmode": "overlay",
             "size": 10,
             "solidity": 0.2
            },
            "type": "scatter"
           }
          ],
          "scatter3d": [
           {
            "line": {
             "colorbar": {
              "outlinewidth": 0,
              "ticks": ""
             }
            },
            "marker": {
             "colorbar": {
              "outlinewidth": 0,
              "ticks": ""
             }
            },
            "type": "scatter3d"
           }
          ],
          "scattercarpet": [
           {
            "marker": {
             "colorbar": {
              "outlinewidth": 0,
              "ticks": ""
             }
            },
            "type": "scattercarpet"
           }
          ],
          "scattergeo": [
           {
            "marker": {
             "colorbar": {
              "outlinewidth": 0,
              "ticks": ""
             }
            },
            "type": "scattergeo"
           }
          ],
          "scattergl": [
           {
            "marker": {
             "colorbar": {
              "outlinewidth": 0,
              "ticks": ""
             }
            },
            "type": "scattergl"
           }
          ],
          "scattermap": [
           {
            "marker": {
             "colorbar": {
              "outlinewidth": 0,
              "ticks": ""
             }
            },
            "type": "scattermap"
           }
          ],
          "scattermapbox": [
           {
            "marker": {
             "colorbar": {
              "outlinewidth": 0,
              "ticks": ""
             }
            },
            "type": "scattermapbox"
           }
          ],
          "scatterpolar": [
           {
            "marker": {
             "colorbar": {
              "outlinewidth": 0,
              "ticks": ""
             }
            },
            "type": "scatterpolar"
           }
          ],
          "scatterpolargl": [
           {
            "marker": {
             "colorbar": {
              "outlinewidth": 0,
              "ticks": ""
             }
            },
            "type": "scatterpolargl"
           }
          ],
          "scatterternary": [
           {
            "marker": {
             "colorbar": {
              "outlinewidth": 0,
              "ticks": ""
             }
            },
            "type": "scatterternary"
           }
          ],
          "surface": [
           {
            "colorbar": {
             "outlinewidth": 0,
             "ticks": ""
            },
            "colorscale": [
             [
              0,
              "#0d0887"
             ],
             [
              0.1111111111111111,
              "#46039f"
             ],
             [
              0.2222222222222222,
              "#7201a8"
             ],
             [
              0.3333333333333333,
              "#9c179e"
             ],
             [
              0.4444444444444444,
              "#bd3786"
             ],
             [
              0.5555555555555556,
              "#d8576b"
             ],
             [
              0.6666666666666666,
              "#ed7953"
             ],
             [
              0.7777777777777778,
              "#fb9f3a"
             ],
             [
              0.8888888888888888,
              "#fdca26"
             ],
             [
              1,
              "#f0f921"
             ]
            ],
            "type": "surface"
           }
          ],
          "table": [
           {
            "cells": {
             "fill": {
              "color": "#EBF0F8"
             },
             "line": {
              "color": "white"
             }
            },
            "header": {
             "fill": {
              "color": "#C8D4E3"
             },
             "line": {
              "color": "white"
             }
            },
            "type": "table"
           }
          ]
         },
         "layout": {
          "annotationdefaults": {
           "arrowcolor": "#2a3f5f",
           "arrowhead": 0,
           "arrowwidth": 1
          },
          "autotypenumbers": "strict",
          "coloraxis": {
           "colorbar": {
            "outlinewidth": 0,
            "ticks": ""
           }
          },
          "colorscale": {
           "diverging": [
            [
             0,
             "#8e0152"
            ],
            [
             0.1,
             "#c51b7d"
            ],
            [
             0.2,
             "#de77ae"
            ],
            [
             0.3,
             "#f1b6da"
            ],
            [
             0.4,
             "#fde0ef"
            ],
            [
             0.5,
             "#f7f7f7"
            ],
            [
             0.6,
             "#e6f5d0"
            ],
            [
             0.7,
             "#b8e186"
            ],
            [
             0.8,
             "#7fbc41"
            ],
            [
             0.9,
             "#4d9221"
            ],
            [
             1,
             "#276419"
            ]
           ],
           "sequential": [
            [
             0,
             "#0d0887"
            ],
            [
             0.1111111111111111,
             "#46039f"
            ],
            [
             0.2222222222222222,
             "#7201a8"
            ],
            [
             0.3333333333333333,
             "#9c179e"
            ],
            [
             0.4444444444444444,
             "#bd3786"
            ],
            [
             0.5555555555555556,
             "#d8576b"
            ],
            [
             0.6666666666666666,
             "#ed7953"
            ],
            [
             0.7777777777777778,
             "#fb9f3a"
            ],
            [
             0.8888888888888888,
             "#fdca26"
            ],
            [
             1,
             "#f0f921"
            ]
           ],
           "sequentialminus": [
            [
             0,
             "#0d0887"
            ],
            [
             0.1111111111111111,
             "#46039f"
            ],
            [
             0.2222222222222222,
             "#7201a8"
            ],
            [
             0.3333333333333333,
             "#9c179e"
            ],
            [
             0.4444444444444444,
             "#bd3786"
            ],
            [
             0.5555555555555556,
             "#d8576b"
            ],
            [
             0.6666666666666666,
             "#ed7953"
            ],
            [
             0.7777777777777778,
             "#fb9f3a"
            ],
            [
             0.8888888888888888,
             "#fdca26"
            ],
            [
             1,
             "#f0f921"
            ]
           ]
          },
          "colorway": [
           "#636efa",
           "#EF553B",
           "#00cc96",
           "#ab63fa",
           "#FFA15A",
           "#19d3f3",
           "#FF6692",
           "#B6E880",
           "#FF97FF",
           "#FECB52"
          ],
          "font": {
           "color": "#2a3f5f"
          },
          "geo": {
           "bgcolor": "white",
           "lakecolor": "white",
           "landcolor": "#E5ECF6",
           "showlakes": true,
           "showland": true,
           "subunitcolor": "white"
          },
          "hoverlabel": {
           "align": "left"
          },
          "hovermode": "closest",
          "mapbox": {
           "style": "light"
          },
          "paper_bgcolor": "white",
          "plot_bgcolor": "#E5ECF6",
          "polar": {
           "angularaxis": {
            "gridcolor": "white",
            "linecolor": "white",
            "ticks": ""
           },
           "bgcolor": "#E5ECF6",
           "radialaxis": {
            "gridcolor": "white",
            "linecolor": "white",
            "ticks": ""
           }
          },
          "scene": {
           "xaxis": {
            "backgroundcolor": "#E5ECF6",
            "gridcolor": "white",
            "gridwidth": 2,
            "linecolor": "white",
            "showbackground": true,
            "ticks": "",
            "zerolinecolor": "white"
           },
           "yaxis": {
            "backgroundcolor": "#E5ECF6",
            "gridcolor": "white",
            "gridwidth": 2,
            "linecolor": "white",
            "showbackground": true,
            "ticks": "",
            "zerolinecolor": "white"
           },
           "zaxis": {
            "backgroundcolor": "#E5ECF6",
            "gridcolor": "white",
            "gridwidth": 2,
            "linecolor": "white",
            "showbackground": true,
            "ticks": "",
            "zerolinecolor": "white"
           }
          },
          "shapedefaults": {
           "line": {
            "color": "#2a3f5f"
           }
          },
          "ternary": {
           "aaxis": {
            "gridcolor": "white",
            "linecolor": "white",
            "ticks": ""
           },
           "baxis": {
            "gridcolor": "white",
            "linecolor": "white",
            "ticks": ""
           },
           "bgcolor": "#E5ECF6",
           "caxis": {
            "gridcolor": "white",
            "linecolor": "white",
            "ticks": ""
           }
          },
          "title": {
           "x": 0.05
          },
          "xaxis": {
           "automargin": true,
           "gridcolor": "white",
           "linecolor": "white",
           "ticks": "",
           "title": {
            "standoff": 15
           },
           "zerolinecolor": "white",
           "zerolinewidth": 2
          },
          "yaxis": {
           "automargin": true,
           "gridcolor": "white",
           "linecolor": "white",
           "ticks": "",
           "title": {
            "standoff": 15
           },
           "zerolinecolor": "white",
           "zerolinewidth": 2
          }
         }
        },
        "title": {
         "text": "Eigenvalue Error vs Time (Scatter Plot) Standard QPE"
        },
        "xaxis": {
         "anchor": "y",
         "domain": [
          0,
          1
         ],
         "title": {
          "text": "Simulation Time"
         }
        },
        "yaxis": {
         "anchor": "x",
         "domain": [
          0,
          1
         ],
         "title": {
          "text": "Eigenvalue Estimation Error"
         }
        }
       }
      }
     },
     "metadata": {},
     "output_type": "display_data"
    }
   ],
   "source": [
    "# lets start with standard qpe\n",
    "exact_eigenvalue = 2.4\n",
    "plot_error_vs_time(standard_qpe_df, \"Standard QPE\", exact_eigenvalue)"
   ]
  },
  {
   "cell_type": "code",
   "execution_count": 6,
   "id": "1af989ee",
   "metadata": {},
   "outputs": [
    {
     "data": {
      "application/vnd.plotly.v1+json": {
       "config": {
        "plotlyServerURL": "https://plot.ly"
       },
       "data": [
        {
         "hovertemplate": "Time=%{x}<br>Error=%{y}<br>Num Ancilla=%{marker.color}<extra></extra>",
         "legendgroup": "",
         "marker": {
          "color": {
           "bdata": "CgoKCgoKCgoKCgoKCgoKCgoKCgoKCgoKCgoKCgoKCgoKCgoKCgoKCgoKCgoKCgoKCgoKCgoKCgoKCgoKCgoKCgoKCgoKCgoKCgoKCgwMDAwMDAwMDAwMDAwMDAwMDAwMDAwMDA==",
           "dtype": "i1"
          },
          "coloraxis": "coloraxis",
          "symbol": "circle"
         },
         "mode": "markers",
         "name": "",
         "orientation": "v",
         "showlegend": false,
         "type": "scatter",
         "x": {
          "bdata": "c2iR7Xw/tT8K16NwPQq3P1pkO99PjZc/H4XrUbge1T/hehSuR+HKPy1DHOviNho/ukkMAiuHtj+amZmZmZm5P3npJjEIrJw/w/UoXI/C1T8tQxzr4jYqPylcj8L1KMw/KVyPwvUovD8CK4cW2c63P0w3iUFg5aA/ZmZmZmZm1j8tQxzr4jY6P3E9CtejcM0/uB6F61G4vj9KDAIrhxa5P9v5fmq8dKM/uB6F61G4zj8K16NwPQrXP2EyVTAqqUM/pHA9CtejwD97FK5H4XqEP65H4XoUrtc/arx0kxgEpj8AAAAAAADQPy1DHOviNko/7FG4HoXrwT9SuB6F61HYP/p+arx0k6g/exSuR+F6lD+kcD0K16PQP/yp8dJNYlA/MzMzMzMzwz+4HoXrUbieP/YoXI/C9dg/iUFg5dAiqz9I4XoUrkfRP/yp8dJNYmA/exSuR+F6xD97FK5H4XqkP5qZmZmZmdk/7FG4HoXr0T8ZBFYOLbKtP/p+arx0k2g/w/UoXI/CxT+amZmZmZmpPz0K16NwPdo//Knx0k1igD9U46WbxCCwP4/C9Shcj9I/CtejcD0Kxz+4HoXrUbiuP+F6FK5H4do/ObTIdr6fij8zMzMzMzPTP5zEILByaLE/UrgehetRyD/sUbgeheuxPzvfT42XbpI/hetRuB6F2z/Xo3A9CtfTP+Olm8QgsLI/mpmZmZmZyT8pXI/C9SjcP83MzMzMzNw/exSuR+F6tD97FK5H4XrUPyuHFtnO97M/cT0K16Nw3T8UrkfhehTeP7gehetRuN4/XI/C9Shc3z9MN4lBYOWgP3sUrkfheqQ/H4XrUbge1T9SuB6F61HIP3E9CtejcN0/LUMc6+I2Gj/b+X5qvHSjP5qZmZmZmak/FK5H4XoU3j/D9Shcj8LVP5qZmZmZmck/LUMc6+I2Kj+4HoXrUbiuP2q8dJMYBKY/uB6F61G43j/hehSuR+HKP2ZmZmZmZtY/LUMc6+I2Oj/sUbgeheuxP/p+arx0k6g/CtejcD0K1z8pXI/C9SjMP1yPwvUoXN8/YTJVMCqpQz8=",
          "dtype": "f8"
         },
         "xaxis": "x",
         "y": {
          "bdata": "qt9zqmQx8T9dFNAWomRQQHyuf52JmlA/aERPEnXr6z9KH9Ef+Pj2PzMzMzMzMwNAPgRbXsWZxT//wsQkwyfQP9muZQelloU/d6Acg3PgDEAzMzMzMzMDQEJ8wQQiGApAXgOAuNAyvD+OsjQ6G6/hP3D9t0UemJE/h1uZzXrr/D8zMzMzMzMDQJ7kEyDdHixA9gGEqEnWqz9N8z6d610CQODaOG/HFNY/FyGWZRdUNEAWN/XwklL7PzMzMzMzMwNAb5fOJbyv1D/2AYSoSdarP4bMPltCuBNAmAEhkpa+2T/S6p9UqZI0QDMzMzMzMwNAd8PljlUd1z+naGacyggkQKhycHiyNNI//8LEJMMn0D8Cy7mxaIwQQDMzMzMzMwNACg84l8FzF0D2AYSoSdarP20TVn7cz/w/+W5dBsj2nz/dlukIjGb+P1iDXfTwX+U/kHwNluW87D+YZK9RCfnZP678PcB4awVAwy9dl7zXM0DPfZ8F18rBPxCEtkJHs9Y/oLyk821XQEBnHLtJBjDTPxIRhbgfaPw/eYVo3/NZuT9tlsvQMmbNP4LCcDMrefU/SmMZpz6B9D+9BgpH14WoP7m0UpYO2hxAOy06DcF+pD8KiiW+U1wGQLQEjeSiKeA/Mnna48vW/j/oua6gNBrzP8AtlS/U7tQ/TjdhTyfcDEC9aPr9Pp66P3NGqIveOqM/uNJ7lW1Joz8HrFvnacEIQPlVlwzqHwFAXh83GQyYUkD/CcBazcz4Pz5SSG52Fck/oEK5jQ/+0T9l2/ai5gkIQIC3tmxnu/U/06tscEyQAEBw/bdFHpiRP1/knhxAfsY/tFQsd1mQ6z+M0WiqbLP2PyFFn+3WSwNAMzMzMzMzA0C4BywiNGzYP2gqiDlATek/s7FyVqoj9D8SF0CvSrUpQCBNcne/Ku4/MzMzMzMzA0DZ4Fp72P38P5592UQ5I8o/RfiJXLE0CkDkY1YDs6XoP7T2TGPuW+8/sQtUMpD19j//373Fy72zPwyMgFk7n+c/MK9q5dySGEDgi6GVaBs5QBFhzetSig9AroIEppoMxD8=",
          "dtype": "f8"
         },
         "yaxis": "y"
        }
       ],
       "layout": {
        "annotations": [
         {
          "showarrow": false,
          "text": "Magnitude of True Eigenvalue",
          "x": 0,
          "xanchor": "left",
          "xref": "x domain",
          "y": 2.4,
          "yanchor": "bottom",
          "yref": "y"
         }
        ],
        "coloraxis": {
         "colorbar": {
          "title": {
           "text": "Num Ancilla"
          }
         },
         "colorscale": [
          [
           0,
           "#0d0887"
          ],
          [
           0.1111111111111111,
           "#46039f"
          ],
          [
           0.2222222222222222,
           "#7201a8"
          ],
          [
           0.3333333333333333,
           "#9c179e"
          ],
          [
           0.4444444444444444,
           "#bd3786"
          ],
          [
           0.5555555555555556,
           "#d8576b"
          ],
          [
           0.6666666666666666,
           "#ed7953"
          ],
          [
           0.7777777777777778,
           "#fb9f3a"
          ],
          [
           0.8888888888888888,
           "#fdca26"
          ],
          [
           1,
           "#f0f921"
          ]
         ]
        },
        "legend": {
         "title": {
          "text": "Number of Ancilla Qubits"
         },
         "tracegroupgap": 0
        },
        "shapes": [
         {
          "line": {
           "color": "red",
           "dash": "dash"
          },
          "type": "line",
          "x0": 0,
          "x1": 1,
          "xref": "x domain",
          "y0": 2.4,
          "y1": 2.4,
          "yref": "y"
         }
        ],
        "template": {
         "data": {
          "bar": [
           {
            "error_x": {
             "color": "#2a3f5f"
            },
            "error_y": {
             "color": "#2a3f5f"
            },
            "marker": {
             "line": {
              "color": "#E5ECF6",
              "width": 0.5
             },
             "pattern": {
              "fillmode": "overlay",
              "size": 10,
              "solidity": 0.2
             }
            },
            "type": "bar"
           }
          ],
          "barpolar": [
           {
            "marker": {
             "line": {
              "color": "#E5ECF6",
              "width": 0.5
             },
             "pattern": {
              "fillmode": "overlay",
              "size": 10,
              "solidity": 0.2
             }
            },
            "type": "barpolar"
           }
          ],
          "carpet": [
           {
            "aaxis": {
             "endlinecolor": "#2a3f5f",
             "gridcolor": "white",
             "linecolor": "white",
             "minorgridcolor": "white",
             "startlinecolor": "#2a3f5f"
            },
            "baxis": {
             "endlinecolor": "#2a3f5f",
             "gridcolor": "white",
             "linecolor": "white",
             "minorgridcolor": "white",
             "startlinecolor": "#2a3f5f"
            },
            "type": "carpet"
           }
          ],
          "choropleth": [
           {
            "colorbar": {
             "outlinewidth": 0,
             "ticks": ""
            },
            "type": "choropleth"
           }
          ],
          "contour": [
           {
            "colorbar": {
             "outlinewidth": 0,
             "ticks": ""
            },
            "colorscale": [
             [
              0,
              "#0d0887"
             ],
             [
              0.1111111111111111,
              "#46039f"
             ],
             [
              0.2222222222222222,
              "#7201a8"
             ],
             [
              0.3333333333333333,
              "#9c179e"
             ],
             [
              0.4444444444444444,
              "#bd3786"
             ],
             [
              0.5555555555555556,
              "#d8576b"
             ],
             [
              0.6666666666666666,
              "#ed7953"
             ],
             [
              0.7777777777777778,
              "#fb9f3a"
             ],
             [
              0.8888888888888888,
              "#fdca26"
             ],
             [
              1,
              "#f0f921"
             ]
            ],
            "type": "contour"
           }
          ],
          "contourcarpet": [
           {
            "colorbar": {
             "outlinewidth": 0,
             "ticks": ""
            },
            "type": "contourcarpet"
           }
          ],
          "heatmap": [
           {
            "colorbar": {
             "outlinewidth": 0,
             "ticks": ""
            },
            "colorscale": [
             [
              0,
              "#0d0887"
             ],
             [
              0.1111111111111111,
              "#46039f"
             ],
             [
              0.2222222222222222,
              "#7201a8"
             ],
             [
              0.3333333333333333,
              "#9c179e"
             ],
             [
              0.4444444444444444,
              "#bd3786"
             ],
             [
              0.5555555555555556,
              "#d8576b"
             ],
             [
              0.6666666666666666,
              "#ed7953"
             ],
             [
              0.7777777777777778,
              "#fb9f3a"
             ],
             [
              0.8888888888888888,
              "#fdca26"
             ],
             [
              1,
              "#f0f921"
             ]
            ],
            "type": "heatmap"
           }
          ],
          "histogram": [
           {
            "marker": {
             "pattern": {
              "fillmode": "overlay",
              "size": 10,
              "solidity": 0.2
             }
            },
            "type": "histogram"
           }
          ],
          "histogram2d": [
           {
            "colorbar": {
             "outlinewidth": 0,
             "ticks": ""
            },
            "colorscale": [
             [
              0,
              "#0d0887"
             ],
             [
              0.1111111111111111,
              "#46039f"
             ],
             [
              0.2222222222222222,
              "#7201a8"
             ],
             [
              0.3333333333333333,
              "#9c179e"
             ],
             [
              0.4444444444444444,
              "#bd3786"
             ],
             [
              0.5555555555555556,
              "#d8576b"
             ],
             [
              0.6666666666666666,
              "#ed7953"
             ],
             [
              0.7777777777777778,
              "#fb9f3a"
             ],
             [
              0.8888888888888888,
              "#fdca26"
             ],
             [
              1,
              "#f0f921"
             ]
            ],
            "type": "histogram2d"
           }
          ],
          "histogram2dcontour": [
           {
            "colorbar": {
             "outlinewidth": 0,
             "ticks": ""
            },
            "colorscale": [
             [
              0,
              "#0d0887"
             ],
             [
              0.1111111111111111,
              "#46039f"
             ],
             [
              0.2222222222222222,
              "#7201a8"
             ],
             [
              0.3333333333333333,
              "#9c179e"
             ],
             [
              0.4444444444444444,
              "#bd3786"
             ],
             [
              0.5555555555555556,
              "#d8576b"
             ],
             [
              0.6666666666666666,
              "#ed7953"
             ],
             [
              0.7777777777777778,
              "#fb9f3a"
             ],
             [
              0.8888888888888888,
              "#fdca26"
             ],
             [
              1,
              "#f0f921"
             ]
            ],
            "type": "histogram2dcontour"
           }
          ],
          "mesh3d": [
           {
            "colorbar": {
             "outlinewidth": 0,
             "ticks": ""
            },
            "type": "mesh3d"
           }
          ],
          "parcoords": [
           {
            "line": {
             "colorbar": {
              "outlinewidth": 0,
              "ticks": ""
             }
            },
            "type": "parcoords"
           }
          ],
          "pie": [
           {
            "automargin": true,
            "type": "pie"
           }
          ],
          "scatter": [
           {
            "fillpattern": {
             "fillmode": "overlay",
             "size": 10,
             "solidity": 0.2
            },
            "type": "scatter"
           }
          ],
          "scatter3d": [
           {
            "line": {
             "colorbar": {
              "outlinewidth": 0,
              "ticks": ""
             }
            },
            "marker": {
             "colorbar": {
              "outlinewidth": 0,
              "ticks": ""
             }
            },
            "type": "scatter3d"
           }
          ],
          "scattercarpet": [
           {
            "marker": {
             "colorbar": {
              "outlinewidth": 0,
              "ticks": ""
             }
            },
            "type": "scattercarpet"
           }
          ],
          "scattergeo": [
           {
            "marker": {
             "colorbar": {
              "outlinewidth": 0,
              "ticks": ""
             }
            },
            "type": "scattergeo"
           }
          ],
          "scattergl": [
           {
            "marker": {
             "colorbar": {
              "outlinewidth": 0,
              "ticks": ""
             }
            },
            "type": "scattergl"
           }
          ],
          "scattermap": [
           {
            "marker": {
             "colorbar": {
              "outlinewidth": 0,
              "ticks": ""
             }
            },
            "type": "scattermap"
           }
          ],
          "scattermapbox": [
           {
            "marker": {
             "colorbar": {
              "outlinewidth": 0,
              "ticks": ""
             }
            },
            "type": "scattermapbox"
           }
          ],
          "scatterpolar": [
           {
            "marker": {
             "colorbar": {
              "outlinewidth": 0,
              "ticks": ""
             }
            },
            "type": "scatterpolar"
           }
          ],
          "scatterpolargl": [
           {
            "marker": {
             "colorbar": {
              "outlinewidth": 0,
              "ticks": ""
             }
            },
            "type": "scatterpolargl"
           }
          ],
          "scatterternary": [
           {
            "marker": {
             "colorbar": {
              "outlinewidth": 0,
              "ticks": ""
             }
            },
            "type": "scatterternary"
           }
          ],
          "surface": [
           {
            "colorbar": {
             "outlinewidth": 0,
             "ticks": ""
            },
            "colorscale": [
             [
              0,
              "#0d0887"
             ],
             [
              0.1111111111111111,
              "#46039f"
             ],
             [
              0.2222222222222222,
              "#7201a8"
             ],
             [
              0.3333333333333333,
              "#9c179e"
             ],
             [
              0.4444444444444444,
              "#bd3786"
             ],
             [
              0.5555555555555556,
              "#d8576b"
             ],
             [
              0.6666666666666666,
              "#ed7953"
             ],
             [
              0.7777777777777778,
              "#fb9f3a"
             ],
             [
              0.8888888888888888,
              "#fdca26"
             ],
             [
              1,
              "#f0f921"
             ]
            ],
            "type": "surface"
           }
          ],
          "table": [
           {
            "cells": {
             "fill": {
              "color": "#EBF0F8"
             },
             "line": {
              "color": "white"
             }
            },
            "header": {
             "fill": {
              "color": "#C8D4E3"
             },
             "line": {
              "color": "white"
             }
            },
            "type": "table"
           }
          ]
         },
         "layout": {
          "annotationdefaults": {
           "arrowcolor": "#2a3f5f",
           "arrowhead": 0,
           "arrowwidth": 1
          },
          "autotypenumbers": "strict",
          "coloraxis": {
           "colorbar": {
            "outlinewidth": 0,
            "ticks": ""
           }
          },
          "colorscale": {
           "diverging": [
            [
             0,
             "#8e0152"
            ],
            [
             0.1,
             "#c51b7d"
            ],
            [
             0.2,
             "#de77ae"
            ],
            [
             0.3,
             "#f1b6da"
            ],
            [
             0.4,
             "#fde0ef"
            ],
            [
             0.5,
             "#f7f7f7"
            ],
            [
             0.6,
             "#e6f5d0"
            ],
            [
             0.7,
             "#b8e186"
            ],
            [
             0.8,
             "#7fbc41"
            ],
            [
             0.9,
             "#4d9221"
            ],
            [
             1,
             "#276419"
            ]
           ],
           "sequential": [
            [
             0,
             "#0d0887"
            ],
            [
             0.1111111111111111,
             "#46039f"
            ],
            [
             0.2222222222222222,
             "#7201a8"
            ],
            [
             0.3333333333333333,
             "#9c179e"
            ],
            [
             0.4444444444444444,
             "#bd3786"
            ],
            [
             0.5555555555555556,
             "#d8576b"
            ],
            [
             0.6666666666666666,
             "#ed7953"
            ],
            [
             0.7777777777777778,
             "#fb9f3a"
            ],
            [
             0.8888888888888888,
             "#fdca26"
            ],
            [
             1,
             "#f0f921"
            ]
           ],
           "sequentialminus": [
            [
             0,
             "#0d0887"
            ],
            [
             0.1111111111111111,
             "#46039f"
            ],
            [
             0.2222222222222222,
             "#7201a8"
            ],
            [
             0.3333333333333333,
             "#9c179e"
            ],
            [
             0.4444444444444444,
             "#bd3786"
            ],
            [
             0.5555555555555556,
             "#d8576b"
            ],
            [
             0.6666666666666666,
             "#ed7953"
            ],
            [
             0.7777777777777778,
             "#fb9f3a"
            ],
            [
             0.8888888888888888,
             "#fdca26"
            ],
            [
             1,
             "#f0f921"
            ]
           ]
          },
          "colorway": [
           "#636efa",
           "#EF553B",
           "#00cc96",
           "#ab63fa",
           "#FFA15A",
           "#19d3f3",
           "#FF6692",
           "#B6E880",
           "#FF97FF",
           "#FECB52"
          ],
          "font": {
           "color": "#2a3f5f"
          },
          "geo": {
           "bgcolor": "white",
           "lakecolor": "white",
           "landcolor": "#E5ECF6",
           "showlakes": true,
           "showland": true,
           "subunitcolor": "white"
          },
          "hoverlabel": {
           "align": "left"
          },
          "hovermode": "closest",
          "mapbox": {
           "style": "light"
          },
          "paper_bgcolor": "white",
          "plot_bgcolor": "#E5ECF6",
          "polar": {
           "angularaxis": {
            "gridcolor": "white",
            "linecolor": "white",
            "ticks": ""
           },
           "bgcolor": "#E5ECF6",
           "radialaxis": {
            "gridcolor": "white",
            "linecolor": "white",
            "ticks": ""
           }
          },
          "scene": {
           "xaxis": {
            "backgroundcolor": "#E5ECF6",
            "gridcolor": "white",
            "gridwidth": 2,
            "linecolor": "white",
            "showbackground": true,
            "ticks": "",
            "zerolinecolor": "white"
           },
           "yaxis": {
            "backgroundcolor": "#E5ECF6",
            "gridcolor": "white",
            "gridwidth": 2,
            "linecolor": "white",
            "showbackground": true,
            "ticks": "",
            "zerolinecolor": "white"
           },
           "zaxis": {
            "backgroundcolor": "#E5ECF6",
            "gridcolor": "white",
            "gridwidth": 2,
            "linecolor": "white",
            "showbackground": true,
            "ticks": "",
            "zerolinecolor": "white"
           }
          },
          "shapedefaults": {
           "line": {
            "color": "#2a3f5f"
           }
          },
          "ternary": {
           "aaxis": {
            "gridcolor": "white",
            "linecolor": "white",
            "ticks": ""
           },
           "baxis": {
            "gridcolor": "white",
            "linecolor": "white",
            "ticks": ""
           },
           "bgcolor": "#E5ECF6",
           "caxis": {
            "gridcolor": "white",
            "linecolor": "white",
            "ticks": ""
           }
          },
          "title": {
           "x": 0.05
          },
          "xaxis": {
           "automargin": true,
           "gridcolor": "white",
           "linecolor": "white",
           "ticks": "",
           "title": {
            "standoff": 15
           },
           "zerolinecolor": "white",
           "zerolinewidth": 2
          },
          "yaxis": {
           "automargin": true,
           "gridcolor": "white",
           "linecolor": "white",
           "ticks": "",
           "title": {
            "standoff": 15
           },
           "zerolinecolor": "white",
           "zerolinewidth": 2
          }
         }
        },
        "title": {
         "text": "Eigenvalue Error vs Time (Scatter Plot) qDRIFT-QPE: exponential invocations of qDRIFT channel"
        },
        "xaxis": {
         "anchor": "y",
         "domain": [
          0,
          1
         ],
         "title": {
          "text": "Simulation Time"
         }
        },
        "yaxis": {
         "anchor": "x",
         "domain": [
          0,
          1
         ],
         "title": {
          "text": "Eigenvalue Estimation Error"
         }
        }
       }
      }
     },
     "metadata": {},
     "output_type": "display_data"
    }
   ],
   "source": [
    "# now qdrift qpe\n",
    "exponential_invocations = qdrift_qpe_df[qdrift_qpe_df[\"QDRIFT Implementation\"] == \"exponential invocations of qdrift channel\"]\n",
    "plot_error_vs_time(exponential_invocations, \"qDRIFT-QPE: exponential invocations of qDRIFT channel\", exact_eigenvalue)"
   ]
  },
  {
   "cell_type": "code",
   "execution_count": 7,
   "id": "7e8a136b",
   "metadata": {},
   "outputs": [
    {
     "data": {
      "application/vnd.plotly.v1+json": {
       "config": {
        "plotlyServerURL": "https://plot.ly"
       },
       "data": [
        {
         "hovertemplate": "Time=%{x}<br>Error=%{y}<br>Num Ancilla=%{marker.color}<extra></extra>",
         "legendgroup": "",
         "marker": {
          "color": {
           "bdata": "CgoKCgoKCgoKCgoKCgoKCgoKCgoKCgoKCgoKCgoKCgoKCgoKCgoKCgoKCgoKCgoKCgoKCgoKCgoKCgoKCgoKCgoKCgoKCgoKCgoKCgwMDAwMDAwMDAwMDAwMDAwMDAwMDAwMDAwMDAwMDAwMDAwMDAw=",
           "dtype": "i1"
          },
          "coloraxis": "coloraxis",
          "symbol": "circle"
         },
         "mode": "markers",
         "name": "",
         "orientation": "v",
         "showlegend": false,
         "type": "scatter",
         "x": {
          "bdata": "LUMc6+I2Gj8tQxzr4jYqPy1DHOviNjo/YTJVMCqpQz8tQxzr4jZKP/yp8dJNYlA//Knx0k1iYD/6fmq8dJNoP/yp8dJNYoA/ObTIdr6fij8730+Nl26SP1pkO99PjZc/eekmMQisnD9MN4lBYOWgP9v5fmq8dKM/arx0kxgEpj/6fmq8dJOoP4lBYOXQIqs/GQRWDi2yrT9U46WbxCCwP5zEILByaLE/46WbxCCwsj8rhxbZzvezP3Noke18P7U/ukkMAiuHtj8CK4cW2c63P0oMAiuHFrk/exSuR+F6hD97FK5H4XqUP7gehetRuJ4/exSuR+F6pD+amZmZmZmpP7gehetRuK4/7FG4HoXrsT97FK5H4Xq0PwrXo3A9Crc/mpmZmZmZuT8pXI/C9Si8P7gehetRuL4/pHA9CtejwD/sUbgehevBPzMzMzMzM8M/exSuR+F6xD/D9Shcj8LFPwrXo3A9Csc/UrgehetRyD+amZmZmZnJP+F6FK5H4co/KVyPwvUozD9xPQrXo3DNP7gehetRuM4/AAAAAAAA0D+kcD0K16PQP0jhehSuR9E/7FG4HoXr0T+PwvUoXI/SPzMzMzMzM9M/16NwPQrX0z97FK5H4XrUPx+F61G4HtU/w/UoXI/C1T9mZmZmZmbWPwrXo3A9Ctc/rkfhehSu1z9SuB6F61HYP/YoXI/C9dg/mpmZmZmZ2T89CtejcD3aP+F6FK5H4do/hetRuB6F2z8pXI/C9SjcP83MzMzMzNw/cT0K16Nw3T8UrkfhehTeP7gehetRuN4/XI/C9Shc3z8tQxzr4jYaPy1DHOviNio/LUMc6+I2Oj9hMlUwKqlDPy1DHOviNko//Knx0k1iUD/8qfHSTWJgP/p+arx0k2g//Knx0k1igD85tMh2vp+KPzvfT42XbpI/WmQ730+Nlz956SYxCKycP0w3iUFg5aA/2/l+arx0oz9qvHSTGASmP/p+arx0k6g/iUFg5dAiqz8ZBFYOLbKtP1TjpZvEILA/nMQgsHJosT/jpZvEILCyPyuHFtnO97M/c2iR7Xw/tT+6SQwCK4e2PwIrhxbZzrc/SgwCK4cWuT97FK5H4XqEP3sUrkfhepQ/uB6F61G4nj97FK5H4XqkP5qZmZmZmak/uB6F61G4rj/sUbgeheuxP3sUrkfherQ/CtejcD0Ktz+amZmZmZm5Pw==",
          "dtype": "f8"
         },
         "xaxis": "x",
         "y": {
          "bdata": "MzMzMzMzA0AzMzMzMzMDQDMzMzMzMwNAMzMzMzMzA0AzMzMzMzMDQDMzMzMzMwNAWINd9PBf5T8QhLZCR7PWP1iDXfTwX+U/oBGfaX9i4D+ALu59KkLmPx+Doc9OAtE/bZbL0DJmzT8Ewx/r1UzhP2D4/FUqNeA/MzMzMzMzA0AApN6dF2PaP9607pd9lPg/CNBdW0N18T/HLZUv1O7UP7qkN+xttus/4cqLrngcAUBYg1308F/lP3AIvR+KH9U/u4LF0WkW8D+fk+drClruP22Wy9AyZs0/WINd9PBf5T//wsQkwyfQP0KFMPsv/O4/k8vLlys49T+ANxNVVX+xP7qkN+xttus/wBWaMdf10j+QfA2W5bzsP/YBhKhJ1qs/aHlGO4bI8T8PBH5AFGHMP70GCkfXhag/vTrDoDrt7D8Y1jIBBS7oP7qQ7Ye2WPc/kHwNluW87D9bMhMRmAq3PwwZrlNyjuc/hBqgn5nc4D+IFlrHah7SPy7EPt2rcOg/TH8jjM0hOkCAgtzigyPRP7BmQVbE0vA/8sw/T3f48D9XXYZ8XbraP4Kd4tOxBAFAj78lonNS2z8s/MWDS/3hP8wVAXkUy+A/0NGc/y971j/sU8LVys3mP0iDTKG48NE/N34mduJcoj+wMTQRSzDPP7/9vLQ5OPI/vmDoyivF9D/YtFcP1LrzP6IRn2l/YuA/FABmb/68AUAQDMq7U1rPP4DD5Y5VHdc/KegX6zVz8j+Moxj6l5LkP8DQWTA558s/0APTbqpyyz9AP4+Z9IDrP59LXbZ4WgxAPJTlE/RN9D8zMzMzMzMDQDMzMzMzMwNAsQtUMpD19j+Jw/OHxrQFQGy1JGis4d4/WINd9PBf5T9Yg1308F/lP5+CBKaaDMQ/naIsAWu8tz/bqjz1k50BQC4vR8yAlcc/gILc4oMj0T/eVSLMO7PkP3D9t0UemJE//maZl2W7kj8vhh/MTP7yP7+M2aeR8sg/iMflcD+r0j/4oGPPmouuP3D5+d4ks+A/YsVzZ87u+z8WFs0Mqiv8P7QtIqUw+OA/K96toAkU7j/Qaw/HbiLmPySso1kk4O4/kAgwvEk16T95hWjf81m5P79D9sMemMo/HANNvyfl4T8wvHTGt4TXP9pd2Y41Zfo/2eBae9j9/D/AFZox1/XSPyjU0gqUSOo/3abX6ZknAUClWm7dARBOQA==",
          "dtype": "f8"
         },
         "yaxis": "y"
        }
       ],
       "layout": {
        "annotations": [
         {
          "showarrow": false,
          "text": "Magnitude of True Eigenvalue",
          "x": 0,
          "xanchor": "left",
          "xref": "x domain",
          "y": 2.4,
          "yanchor": "bottom",
          "yref": "y"
         }
        ],
        "coloraxis": {
         "colorbar": {
          "title": {
           "text": "Num Ancilla"
          }
         },
         "colorscale": [
          [
           0,
           "#0d0887"
          ],
          [
           0.1111111111111111,
           "#46039f"
          ],
          [
           0.2222222222222222,
           "#7201a8"
          ],
          [
           0.3333333333333333,
           "#9c179e"
          ],
          [
           0.4444444444444444,
           "#bd3786"
          ],
          [
           0.5555555555555556,
           "#d8576b"
          ],
          [
           0.6666666666666666,
           "#ed7953"
          ],
          [
           0.7777777777777778,
           "#fb9f3a"
          ],
          [
           0.8888888888888888,
           "#fdca26"
          ],
          [
           1,
           "#f0f921"
          ]
         ]
        },
        "legend": {
         "title": {
          "text": "Number of Ancilla Qubits"
         },
         "tracegroupgap": 0
        },
        "shapes": [
         {
          "line": {
           "color": "red",
           "dash": "dash"
          },
          "type": "line",
          "x0": 0,
          "x1": 1,
          "xref": "x domain",
          "y0": 2.4,
          "y1": 2.4,
          "yref": "y"
         }
        ],
        "template": {
         "data": {
          "bar": [
           {
            "error_x": {
             "color": "#2a3f5f"
            },
            "error_y": {
             "color": "#2a3f5f"
            },
            "marker": {
             "line": {
              "color": "#E5ECF6",
              "width": 0.5
             },
             "pattern": {
              "fillmode": "overlay",
              "size": 10,
              "solidity": 0.2
             }
            },
            "type": "bar"
           }
          ],
          "barpolar": [
           {
            "marker": {
             "line": {
              "color": "#E5ECF6",
              "width": 0.5
             },
             "pattern": {
              "fillmode": "overlay",
              "size": 10,
              "solidity": 0.2
             }
            },
            "type": "barpolar"
           }
          ],
          "carpet": [
           {
            "aaxis": {
             "endlinecolor": "#2a3f5f",
             "gridcolor": "white",
             "linecolor": "white",
             "minorgridcolor": "white",
             "startlinecolor": "#2a3f5f"
            },
            "baxis": {
             "endlinecolor": "#2a3f5f",
             "gridcolor": "white",
             "linecolor": "white",
             "minorgridcolor": "white",
             "startlinecolor": "#2a3f5f"
            },
            "type": "carpet"
           }
          ],
          "choropleth": [
           {
            "colorbar": {
             "outlinewidth": 0,
             "ticks": ""
            },
            "type": "choropleth"
           }
          ],
          "contour": [
           {
            "colorbar": {
             "outlinewidth": 0,
             "ticks": ""
            },
            "colorscale": [
             [
              0,
              "#0d0887"
             ],
             [
              0.1111111111111111,
              "#46039f"
             ],
             [
              0.2222222222222222,
              "#7201a8"
             ],
             [
              0.3333333333333333,
              "#9c179e"
             ],
             [
              0.4444444444444444,
              "#bd3786"
             ],
             [
              0.5555555555555556,
              "#d8576b"
             ],
             [
              0.6666666666666666,
              "#ed7953"
             ],
             [
              0.7777777777777778,
              "#fb9f3a"
             ],
             [
              0.8888888888888888,
              "#fdca26"
             ],
             [
              1,
              "#f0f921"
             ]
            ],
            "type": "contour"
           }
          ],
          "contourcarpet": [
           {
            "colorbar": {
             "outlinewidth": 0,
             "ticks": ""
            },
            "type": "contourcarpet"
           }
          ],
          "heatmap": [
           {
            "colorbar": {
             "outlinewidth": 0,
             "ticks": ""
            },
            "colorscale": [
             [
              0,
              "#0d0887"
             ],
             [
              0.1111111111111111,
              "#46039f"
             ],
             [
              0.2222222222222222,
              "#7201a8"
             ],
             [
              0.3333333333333333,
              "#9c179e"
             ],
             [
              0.4444444444444444,
              "#bd3786"
             ],
             [
              0.5555555555555556,
              "#d8576b"
             ],
             [
              0.6666666666666666,
              "#ed7953"
             ],
             [
              0.7777777777777778,
              "#fb9f3a"
             ],
             [
              0.8888888888888888,
              "#fdca26"
             ],
             [
              1,
              "#f0f921"
             ]
            ],
            "type": "heatmap"
           }
          ],
          "histogram": [
           {
            "marker": {
             "pattern": {
              "fillmode": "overlay",
              "size": 10,
              "solidity": 0.2
             }
            },
            "type": "histogram"
           }
          ],
          "histogram2d": [
           {
            "colorbar": {
             "outlinewidth": 0,
             "ticks": ""
            },
            "colorscale": [
             [
              0,
              "#0d0887"
             ],
             [
              0.1111111111111111,
              "#46039f"
             ],
             [
              0.2222222222222222,
              "#7201a8"
             ],
             [
              0.3333333333333333,
              "#9c179e"
             ],
             [
              0.4444444444444444,
              "#bd3786"
             ],
             [
              0.5555555555555556,
              "#d8576b"
             ],
             [
              0.6666666666666666,
              "#ed7953"
             ],
             [
              0.7777777777777778,
              "#fb9f3a"
             ],
             [
              0.8888888888888888,
              "#fdca26"
             ],
             [
              1,
              "#f0f921"
             ]
            ],
            "type": "histogram2d"
           }
          ],
          "histogram2dcontour": [
           {
            "colorbar": {
             "outlinewidth": 0,
             "ticks": ""
            },
            "colorscale": [
             [
              0,
              "#0d0887"
             ],
             [
              0.1111111111111111,
              "#46039f"
             ],
             [
              0.2222222222222222,
              "#7201a8"
             ],
             [
              0.3333333333333333,
              "#9c179e"
             ],
             [
              0.4444444444444444,
              "#bd3786"
             ],
             [
              0.5555555555555556,
              "#d8576b"
             ],
             [
              0.6666666666666666,
              "#ed7953"
             ],
             [
              0.7777777777777778,
              "#fb9f3a"
             ],
             [
              0.8888888888888888,
              "#fdca26"
             ],
             [
              1,
              "#f0f921"
             ]
            ],
            "type": "histogram2dcontour"
           }
          ],
          "mesh3d": [
           {
            "colorbar": {
             "outlinewidth": 0,
             "ticks": ""
            },
            "type": "mesh3d"
           }
          ],
          "parcoords": [
           {
            "line": {
             "colorbar": {
              "outlinewidth": 0,
              "ticks": ""
             }
            },
            "type": "parcoords"
           }
          ],
          "pie": [
           {
            "automargin": true,
            "type": "pie"
           }
          ],
          "scatter": [
           {
            "fillpattern": {
             "fillmode": "overlay",
             "size": 10,
             "solidity": 0.2
            },
            "type": "scatter"
           }
          ],
          "scatter3d": [
           {
            "line": {
             "colorbar": {
              "outlinewidth": 0,
              "ticks": ""
             }
            },
            "marker": {
             "colorbar": {
              "outlinewidth": 0,
              "ticks": ""
             }
            },
            "type": "scatter3d"
           }
          ],
          "scattercarpet": [
           {
            "marker": {
             "colorbar": {
              "outlinewidth": 0,
              "ticks": ""
             }
            },
            "type": "scattercarpet"
           }
          ],
          "scattergeo": [
           {
            "marker": {
             "colorbar": {
              "outlinewidth": 0,
              "ticks": ""
             }
            },
            "type": "scattergeo"
           }
          ],
          "scattergl": [
           {
            "marker": {
             "colorbar": {
              "outlinewidth": 0,
              "ticks": ""
             }
            },
            "type": "scattergl"
           }
          ],
          "scattermap": [
           {
            "marker": {
             "colorbar": {
              "outlinewidth": 0,
              "ticks": ""
             }
            },
            "type": "scattermap"
           }
          ],
          "scattermapbox": [
           {
            "marker": {
             "colorbar": {
              "outlinewidth": 0,
              "ticks": ""
             }
            },
            "type": "scattermapbox"
           }
          ],
          "scatterpolar": [
           {
            "marker": {
             "colorbar": {
              "outlinewidth": 0,
              "ticks": ""
             }
            },
            "type": "scatterpolar"
           }
          ],
          "scatterpolargl": [
           {
            "marker": {
             "colorbar": {
              "outlinewidth": 0,
              "ticks": ""
             }
            },
            "type": "scatterpolargl"
           }
          ],
          "scatterternary": [
           {
            "marker": {
             "colorbar": {
              "outlinewidth": 0,
              "ticks": ""
             }
            },
            "type": "scatterternary"
           }
          ],
          "surface": [
           {
            "colorbar": {
             "outlinewidth": 0,
             "ticks": ""
            },
            "colorscale": [
             [
              0,
              "#0d0887"
             ],
             [
              0.1111111111111111,
              "#46039f"
             ],
             [
              0.2222222222222222,
              "#7201a8"
             ],
             [
              0.3333333333333333,
              "#9c179e"
             ],
             [
              0.4444444444444444,
              "#bd3786"
             ],
             [
              0.5555555555555556,
              "#d8576b"
             ],
             [
              0.6666666666666666,
              "#ed7953"
             ],
             [
              0.7777777777777778,
              "#fb9f3a"
             ],
             [
              0.8888888888888888,
              "#fdca26"
             ],
             [
              1,
              "#f0f921"
             ]
            ],
            "type": "surface"
           }
          ],
          "table": [
           {
            "cells": {
             "fill": {
              "color": "#EBF0F8"
             },
             "line": {
              "color": "white"
             }
            },
            "header": {
             "fill": {
              "color": "#C8D4E3"
             },
             "line": {
              "color": "white"
             }
            },
            "type": "table"
           }
          ]
         },
         "layout": {
          "annotationdefaults": {
           "arrowcolor": "#2a3f5f",
           "arrowhead": 0,
           "arrowwidth": 1
          },
          "autotypenumbers": "strict",
          "coloraxis": {
           "colorbar": {
            "outlinewidth": 0,
            "ticks": ""
           }
          },
          "colorscale": {
           "diverging": [
            [
             0,
             "#8e0152"
            ],
            [
             0.1,
             "#c51b7d"
            ],
            [
             0.2,
             "#de77ae"
            ],
            [
             0.3,
             "#f1b6da"
            ],
            [
             0.4,
             "#fde0ef"
            ],
            [
             0.5,
             "#f7f7f7"
            ],
            [
             0.6,
             "#e6f5d0"
            ],
            [
             0.7,
             "#b8e186"
            ],
            [
             0.8,
             "#7fbc41"
            ],
            [
             0.9,
             "#4d9221"
            ],
            [
             1,
             "#276419"
            ]
           ],
           "sequential": [
            [
             0,
             "#0d0887"
            ],
            [
             0.1111111111111111,
             "#46039f"
            ],
            [
             0.2222222222222222,
             "#7201a8"
            ],
            [
             0.3333333333333333,
             "#9c179e"
            ],
            [
             0.4444444444444444,
             "#bd3786"
            ],
            [
             0.5555555555555556,
             "#d8576b"
            ],
            [
             0.6666666666666666,
             "#ed7953"
            ],
            [
             0.7777777777777778,
             "#fb9f3a"
            ],
            [
             0.8888888888888888,
             "#fdca26"
            ],
            [
             1,
             "#f0f921"
            ]
           ],
           "sequentialminus": [
            [
             0,
             "#0d0887"
            ],
            [
             0.1111111111111111,
             "#46039f"
            ],
            [
             0.2222222222222222,
             "#7201a8"
            ],
            [
             0.3333333333333333,
             "#9c179e"
            ],
            [
             0.4444444444444444,
             "#bd3786"
            ],
            [
             0.5555555555555556,
             "#d8576b"
            ],
            [
             0.6666666666666666,
             "#ed7953"
            ],
            [
             0.7777777777777778,
             "#fb9f3a"
            ],
            [
             0.8888888888888888,
             "#fdca26"
            ],
            [
             1,
             "#f0f921"
            ]
           ]
          },
          "colorway": [
           "#636efa",
           "#EF553B",
           "#00cc96",
           "#ab63fa",
           "#FFA15A",
           "#19d3f3",
           "#FF6692",
           "#B6E880",
           "#FF97FF",
           "#FECB52"
          ],
          "font": {
           "color": "#2a3f5f"
          },
          "geo": {
           "bgcolor": "white",
           "lakecolor": "white",
           "landcolor": "#E5ECF6",
           "showlakes": true,
           "showland": true,
           "subunitcolor": "white"
          },
          "hoverlabel": {
           "align": "left"
          },
          "hovermode": "closest",
          "mapbox": {
           "style": "light"
          },
          "paper_bgcolor": "white",
          "plot_bgcolor": "#E5ECF6",
          "polar": {
           "angularaxis": {
            "gridcolor": "white",
            "linecolor": "white",
            "ticks": ""
           },
           "bgcolor": "#E5ECF6",
           "radialaxis": {
            "gridcolor": "white",
            "linecolor": "white",
            "ticks": ""
           }
          },
          "scene": {
           "xaxis": {
            "backgroundcolor": "#E5ECF6",
            "gridcolor": "white",
            "gridwidth": 2,
            "linecolor": "white",
            "showbackground": true,
            "ticks": "",
            "zerolinecolor": "white"
           },
           "yaxis": {
            "backgroundcolor": "#E5ECF6",
            "gridcolor": "white",
            "gridwidth": 2,
            "linecolor": "white",
            "showbackground": true,
            "ticks": "",
            "zerolinecolor": "white"
           },
           "zaxis": {
            "backgroundcolor": "#E5ECF6",
            "gridcolor": "white",
            "gridwidth": 2,
            "linecolor": "white",
            "showbackground": true,
            "ticks": "",
            "zerolinecolor": "white"
           }
          },
          "shapedefaults": {
           "line": {
            "color": "#2a3f5f"
           }
          },
          "ternary": {
           "aaxis": {
            "gridcolor": "white",
            "linecolor": "white",
            "ticks": ""
           },
           "baxis": {
            "gridcolor": "white",
            "linecolor": "white",
            "ticks": ""
           },
           "bgcolor": "#E5ECF6",
           "caxis": {
            "gridcolor": "white",
            "linecolor": "white",
            "ticks": ""
           }
          },
          "title": {
           "x": 0.05
          },
          "xaxis": {
           "automargin": true,
           "gridcolor": "white",
           "linecolor": "white",
           "ticks": "",
           "title": {
            "standoff": 15
           },
           "zerolinecolor": "white",
           "zerolinewidth": 2
          },
          "yaxis": {
           "automargin": true,
           "gridcolor": "white",
           "linecolor": "white",
           "ticks": "",
           "title": {
            "standoff": 15
           },
           "zerolinecolor": "white",
           "zerolinewidth": 2
          }
         }
        },
        "title": {
         "text": "Eigenvalue Error vs Time (Scatter Plot) qDRIFT-QPE: linear invocations of qDRIFT channel"
        },
        "xaxis": {
         "anchor": "y",
         "domain": [
          0,
          1
         ],
         "title": {
          "text": "Simulation Time"
         }
        },
        "yaxis": {
         "anchor": "x",
         "domain": [
          0,
          1
         ],
         "title": {
          "text": "Eigenvalue Estimation Error"
         }
        }
       }
      }
     },
     "metadata": {},
     "output_type": "display_data"
    }
   ],
   "source": [
    "linear_invocations = qdrift_qpe_df[qdrift_qpe_df[\"QDRIFT Implementation\"] == \"linear invocations of qdrift channel\"]\n",
    "plot_error_vs_time(linear_invocations, \"qDRIFT-QPE: linear invocations of qDRIFT channel\", exact_eigenvalue)"
   ]
  },
  {
   "cell_type": "code",
   "execution_count": 8,
   "id": "687c470c",
   "metadata": {},
   "outputs": [
    {
     "data": {
      "application/vnd.plotly.v1+json": {
       "config": {
        "plotlyServerURL": "https://plot.ly"
       },
       "data": [
        {
         "hovertemplate": "Time=%{x}<br>Error=%{y}<br>Num Ancilla=%{marker.color}<extra></extra>",
         "legendgroup": "",
         "marker": {
          "color": {
           "bdata": "CgoKCgoKCgoKCgoKCgoKCgoKCgoKCgoKCgoKCgoKCgoKCgoKCgoKCgoKCgoKCgoKCgoKCgoKCgoKCgoKCgoKCgoKCgoKCgoKCgoKCgwMDAwMDAwMDAwMDAwMDAwMDAwMDAwMDA==",
           "dtype": "i1"
          },
          "coloraxis": "coloraxis",
          "symbol": "circle"
         },
         "mode": "markers",
         "name": "",
         "orientation": "v",
         "showlegend": false,
         "type": "scatter",
         "x": {
          "bdata": "c2iR7Xw/tT8K16NwPQq3P1pkO99PjZc/H4XrUbge1T/hehSuR+HKPy1DHOviNho/ukkMAiuHtj+amZmZmZm5P3npJjEIrJw/w/UoXI/C1T8tQxzr4jYqPylcj8L1KMw/KVyPwvUovD8CK4cW2c63P0w3iUFg5aA/ZmZmZmZm1j8tQxzr4jY6P3E9CtejcM0/uB6F61G4vj9KDAIrhxa5P9v5fmq8dKM/uB6F61G4zj8K16NwPQrXP2EyVTAqqUM/pHA9CtejwD97FK5H4XqEP65H4XoUrtc/arx0kxgEpj8AAAAAAADQPy1DHOviNko/7FG4HoXrwT9SuB6F61HYP/p+arx0k6g/exSuR+F6lD+kcD0K16PQP/yp8dJNYlA/MzMzMzMzwz+4HoXrUbieP/YoXI/C9dg/iUFg5dAiqz9I4XoUrkfRP/yp8dJNYmA/exSuR+F6xD97FK5H4XqkP5qZmZmZmdk/7FG4HoXr0T8ZBFYOLbKtP/p+arx0k2g/w/UoXI/CxT+amZmZmZmpPz0K16NwPdo//Knx0k1igD9U46WbxCCwP4/C9Shcj9I/CtejcD0Kxz+4HoXrUbiuP+F6FK5H4do/ObTIdr6fij8zMzMzMzPTP5zEILByaLE/UrgehetRyD/sUbgeheuxPzvfT42XbpI/hetRuB6F2z/Xo3A9CtfTP+Olm8QgsLI/mpmZmZmZyT8pXI/C9SjcP83MzMzMzNw/exSuR+F6tD97FK5H4XrUPyuHFtnO97M/cT0K16Nw3T8UrkfhehTeP7gehetRuN4/XI/C9Shc3z9MN4lBYOWgP3sUrkfheqQ/H4XrUbge1T9SuB6F61HIP3E9CtejcN0/LUMc6+I2Gj/b+X5qvHSjP5qZmZmZmak/FK5H4XoU3j/D9Shcj8LVP5qZmZmZmck/LUMc6+I2Kj+4HoXrUbiuP2q8dJMYBKY/uB6F61G43j/hehSuR+HKP2ZmZmZmZtY/LUMc6+I2Oj/sUbgeheuxP/p+arx0k6g/CtejcD0K1z8pXI/C9SjMP1yPwvUoXN8/YTJVMCqpQz8=",
          "dtype": "f8"
         },
         "xaxis": "x",
         "y": {
          "bdata": "qt9zqmQx8T9dFNAWomRQQHyuf52JmlA/aERPEnXr6z9KH9Ef+Pj2PzMzMzMzMwNAPgRbXsWZxT//wsQkwyfQP9muZQelloU/d6Acg3PgDEAzMzMzMzMDQEJ8wQQiGApAXgOAuNAyvD+OsjQ6G6/hP3D9t0UemJE/h1uZzXrr/D8zMzMzMzMDQJ7kEyDdHixA9gGEqEnWqz9N8z6d610CQODaOG/HFNY/FyGWZRdUNEAWN/XwklL7PzMzMzMzMwNAb5fOJbyv1D/2AYSoSdarP4bMPltCuBNAmAEhkpa+2T/S6p9UqZI0QDMzMzMzMwNAd8PljlUd1z+naGacyggkQKhycHiyNNI//8LEJMMn0D8Cy7mxaIwQQDMzMzMzMwNACg84l8FzF0D2AYSoSdarP20TVn7cz/w/+W5dBsj2nz/dlukIjGb+P1iDXfTwX+U/kHwNluW87D+YZK9RCfnZP678PcB4awVAwy9dl7zXM0DPfZ8F18rBPxCEtkJHs9Y/oLyk821XQEBnHLtJBjDTPxIRhbgfaPw/eYVo3/NZuT9tlsvQMmbNP4LCcDMrefU/SmMZpz6B9D+9BgpH14WoP7m0UpYO2hxAOy06DcF+pD8KiiW+U1wGQLQEjeSiKeA/Mnna48vW/j/oua6gNBrzP8AtlS/U7tQ/TjdhTyfcDEC9aPr9Pp66P3NGqIveOqM/uNJ7lW1Joz8HrFvnacEIQPlVlwzqHwFAXh83GQyYUkD/CcBazcz4Pz5SSG52Fck/oEK5jQ/+0T9l2/ai5gkIQIC3tmxnu/U/06tscEyQAEBw/bdFHpiRP1/knhxAfsY/tFQsd1mQ6z+M0WiqbLP2PyFFn+3WSwNAMzMzMzMzA0C4BywiNGzYP2gqiDlATek/s7FyVqoj9D8SF0CvSrUpQCBNcne/Ku4/MzMzMzMzA0DZ4Fp72P38P5592UQ5I8o/RfiJXLE0CkDkY1YDs6XoP7T2TGPuW+8/sQtUMpD19j//373Fy72zPwyMgFk7n+c/MK9q5dySGEDgi6GVaBs5QBFhzetSig9AroIEppoMxD8=",
          "dtype": "f8"
         },
         "yaxis": "y"
        }
       ],
       "layout": {
        "annotations": [
         {
          "showarrow": false,
          "text": "Magnitude of True Eigenvalue",
          "x": 0,
          "xanchor": "left",
          "xref": "x domain",
          "y": 2.4,
          "yanchor": "bottom",
          "yref": "y"
         }
        ],
        "coloraxis": {
         "colorbar": {
          "title": {
           "text": "Num Ancilla"
          }
         },
         "colorscale": [
          [
           0,
           "#0d0887"
          ],
          [
           0.1111111111111111,
           "#46039f"
          ],
          [
           0.2222222222222222,
           "#7201a8"
          ],
          [
           0.3333333333333333,
           "#9c179e"
          ],
          [
           0.4444444444444444,
           "#bd3786"
          ],
          [
           0.5555555555555556,
           "#d8576b"
          ],
          [
           0.6666666666666666,
           "#ed7953"
          ],
          [
           0.7777777777777778,
           "#fb9f3a"
          ],
          [
           0.8888888888888888,
           "#fdca26"
          ],
          [
           1,
           "#f0f921"
          ]
         ]
        },
        "legend": {
         "title": {
          "text": "Number of Ancilla Qubits"
         },
         "tracegroupgap": 0
        },
        "shapes": [
         {
          "line": {
           "color": "red",
           "dash": "dash"
          },
          "type": "line",
          "x0": 0,
          "x1": 1,
          "xref": "x domain",
          "y0": 2.4,
          "y1": 2.4,
          "yref": "y"
         }
        ],
        "template": {
         "data": {
          "bar": [
           {
            "error_x": {
             "color": "#2a3f5f"
            },
            "error_y": {
             "color": "#2a3f5f"
            },
            "marker": {
             "line": {
              "color": "#E5ECF6",
              "width": 0.5
             },
             "pattern": {
              "fillmode": "overlay",
              "size": 10,
              "solidity": 0.2
             }
            },
            "type": "bar"
           }
          ],
          "barpolar": [
           {
            "marker": {
             "line": {
              "color": "#E5ECF6",
              "width": 0.5
             },
             "pattern": {
              "fillmode": "overlay",
              "size": 10,
              "solidity": 0.2
             }
            },
            "type": "barpolar"
           }
          ],
          "carpet": [
           {
            "aaxis": {
             "endlinecolor": "#2a3f5f",
             "gridcolor": "white",
             "linecolor": "white",
             "minorgridcolor": "white",
             "startlinecolor": "#2a3f5f"
            },
            "baxis": {
             "endlinecolor": "#2a3f5f",
             "gridcolor": "white",
             "linecolor": "white",
             "minorgridcolor": "white",
             "startlinecolor": "#2a3f5f"
            },
            "type": "carpet"
           }
          ],
          "choropleth": [
           {
            "colorbar": {
             "outlinewidth": 0,
             "ticks": ""
            },
            "type": "choropleth"
           }
          ],
          "contour": [
           {
            "colorbar": {
             "outlinewidth": 0,
             "ticks": ""
            },
            "colorscale": [
             [
              0,
              "#0d0887"
             ],
             [
              0.1111111111111111,
              "#46039f"
             ],
             [
              0.2222222222222222,
              "#7201a8"
             ],
             [
              0.3333333333333333,
              "#9c179e"
             ],
             [
              0.4444444444444444,
              "#bd3786"
             ],
             [
              0.5555555555555556,
              "#d8576b"
             ],
             [
              0.6666666666666666,
              "#ed7953"
             ],
             [
              0.7777777777777778,
              "#fb9f3a"
             ],
             [
              0.8888888888888888,
              "#fdca26"
             ],
             [
              1,
              "#f0f921"
             ]
            ],
            "type": "contour"
           }
          ],
          "contourcarpet": [
           {
            "colorbar": {
             "outlinewidth": 0,
             "ticks": ""
            },
            "type": "contourcarpet"
           }
          ],
          "heatmap": [
           {
            "colorbar": {
             "outlinewidth": 0,
             "ticks": ""
            },
            "colorscale": [
             [
              0,
              "#0d0887"
             ],
             [
              0.1111111111111111,
              "#46039f"
             ],
             [
              0.2222222222222222,
              "#7201a8"
             ],
             [
              0.3333333333333333,
              "#9c179e"
             ],
             [
              0.4444444444444444,
              "#bd3786"
             ],
             [
              0.5555555555555556,
              "#d8576b"
             ],
             [
              0.6666666666666666,
              "#ed7953"
             ],
             [
              0.7777777777777778,
              "#fb9f3a"
             ],
             [
              0.8888888888888888,
              "#fdca26"
             ],
             [
              1,
              "#f0f921"
             ]
            ],
            "type": "heatmap"
           }
          ],
          "histogram": [
           {
            "marker": {
             "pattern": {
              "fillmode": "overlay",
              "size": 10,
              "solidity": 0.2
             }
            },
            "type": "histogram"
           }
          ],
          "histogram2d": [
           {
            "colorbar": {
             "outlinewidth": 0,
             "ticks": ""
            },
            "colorscale": [
             [
              0,
              "#0d0887"
             ],
             [
              0.1111111111111111,
              "#46039f"
             ],
             [
              0.2222222222222222,
              "#7201a8"
             ],
             [
              0.3333333333333333,
              "#9c179e"
             ],
             [
              0.4444444444444444,
              "#bd3786"
             ],
             [
              0.5555555555555556,
              "#d8576b"
             ],
             [
              0.6666666666666666,
              "#ed7953"
             ],
             [
              0.7777777777777778,
              "#fb9f3a"
             ],
             [
              0.8888888888888888,
              "#fdca26"
             ],
             [
              1,
              "#f0f921"
             ]
            ],
            "type": "histogram2d"
           }
          ],
          "histogram2dcontour": [
           {
            "colorbar": {
             "outlinewidth": 0,
             "ticks": ""
            },
            "colorscale": [
             [
              0,
              "#0d0887"
             ],
             [
              0.1111111111111111,
              "#46039f"
             ],
             [
              0.2222222222222222,
              "#7201a8"
             ],
             [
              0.3333333333333333,
              "#9c179e"
             ],
             [
              0.4444444444444444,
              "#bd3786"
             ],
             [
              0.5555555555555556,
              "#d8576b"
             ],
             [
              0.6666666666666666,
              "#ed7953"
             ],
             [
              0.7777777777777778,
              "#fb9f3a"
             ],
             [
              0.8888888888888888,
              "#fdca26"
             ],
             [
              1,
              "#f0f921"
             ]
            ],
            "type": "histogram2dcontour"
           }
          ],
          "mesh3d": [
           {
            "colorbar": {
             "outlinewidth": 0,
             "ticks": ""
            },
            "type": "mesh3d"
           }
          ],
          "parcoords": [
           {
            "line": {
             "colorbar": {
              "outlinewidth": 0,
              "ticks": ""
             }
            },
            "type": "parcoords"
           }
          ],
          "pie": [
           {
            "automargin": true,
            "type": "pie"
           }
          ],
          "scatter": [
           {
            "fillpattern": {
             "fillmode": "overlay",
             "size": 10,
             "solidity": 0.2
            },
            "type": "scatter"
           }
          ],
          "scatter3d": [
           {
            "line": {
             "colorbar": {
              "outlinewidth": 0,
              "ticks": ""
             }
            },
            "marker": {
             "colorbar": {
              "outlinewidth": 0,
              "ticks": ""
             }
            },
            "type": "scatter3d"
           }
          ],
          "scattercarpet": [
           {
            "marker": {
             "colorbar": {
              "outlinewidth": 0,
              "ticks": ""
             }
            },
            "type": "scattercarpet"
           }
          ],
          "scattergeo": [
           {
            "marker": {
             "colorbar": {
              "outlinewidth": 0,
              "ticks": ""
             }
            },
            "type": "scattergeo"
           }
          ],
          "scattergl": [
           {
            "marker": {
             "colorbar": {
              "outlinewidth": 0,
              "ticks": ""
             }
            },
            "type": "scattergl"
           }
          ],
          "scattermap": [
           {
            "marker": {
             "colorbar": {
              "outlinewidth": 0,
              "ticks": ""
             }
            },
            "type": "scattermap"
           }
          ],
          "scattermapbox": [
           {
            "marker": {
             "colorbar": {
              "outlinewidth": 0,
              "ticks": ""
             }
            },
            "type": "scattermapbox"
           }
          ],
          "scatterpolar": [
           {
            "marker": {
             "colorbar": {
              "outlinewidth": 0,
              "ticks": ""
             }
            },
            "type": "scatterpolar"
           }
          ],
          "scatterpolargl": [
           {
            "marker": {
             "colorbar": {
              "outlinewidth": 0,
              "ticks": ""
             }
            },
            "type": "scatterpolargl"
           }
          ],
          "scatterternary": [
           {
            "marker": {
             "colorbar": {
              "outlinewidth": 0,
              "ticks": ""
             }
            },
            "type": "scatterternary"
           }
          ],
          "surface": [
           {
            "colorbar": {
             "outlinewidth": 0,
             "ticks": ""
            },
            "colorscale": [
             [
              0,
              "#0d0887"
             ],
             [
              0.1111111111111111,
              "#46039f"
             ],
             [
              0.2222222222222222,
              "#7201a8"
             ],
             [
              0.3333333333333333,
              "#9c179e"
             ],
             [
              0.4444444444444444,
              "#bd3786"
             ],
             [
              0.5555555555555556,
              "#d8576b"
             ],
             [
              0.6666666666666666,
              "#ed7953"
             ],
             [
              0.7777777777777778,
              "#fb9f3a"
             ],
             [
              0.8888888888888888,
              "#fdca26"
             ],
             [
              1,
              "#f0f921"
             ]
            ],
            "type": "surface"
           }
          ],
          "table": [
           {
            "cells": {
             "fill": {
              "color": "#EBF0F8"
             },
             "line": {
              "color": "white"
             }
            },
            "header": {
             "fill": {
              "color": "#C8D4E3"
             },
             "line": {
              "color": "white"
             }
            },
            "type": "table"
           }
          ]
         },
         "layout": {
          "annotationdefaults": {
           "arrowcolor": "#2a3f5f",
           "arrowhead": 0,
           "arrowwidth": 1
          },
          "autotypenumbers": "strict",
          "coloraxis": {
           "colorbar": {
            "outlinewidth": 0,
            "ticks": ""
           }
          },
          "colorscale": {
           "diverging": [
            [
             0,
             "#8e0152"
            ],
            [
             0.1,
             "#c51b7d"
            ],
            [
             0.2,
             "#de77ae"
            ],
            [
             0.3,
             "#f1b6da"
            ],
            [
             0.4,
             "#fde0ef"
            ],
            [
             0.5,
             "#f7f7f7"
            ],
            [
             0.6,
             "#e6f5d0"
            ],
            [
             0.7,
             "#b8e186"
            ],
            [
             0.8,
             "#7fbc41"
            ],
            [
             0.9,
             "#4d9221"
            ],
            [
             1,
             "#276419"
            ]
           ],
           "sequential": [
            [
             0,
             "#0d0887"
            ],
            [
             0.1111111111111111,
             "#46039f"
            ],
            [
             0.2222222222222222,
             "#7201a8"
            ],
            [
             0.3333333333333333,
             "#9c179e"
            ],
            [
             0.4444444444444444,
             "#bd3786"
            ],
            [
             0.5555555555555556,
             "#d8576b"
            ],
            [
             0.6666666666666666,
             "#ed7953"
            ],
            [
             0.7777777777777778,
             "#fb9f3a"
            ],
            [
             0.8888888888888888,
             "#fdca26"
            ],
            [
             1,
             "#f0f921"
            ]
           ],
           "sequentialminus": [
            [
             0,
             "#0d0887"
            ],
            [
             0.1111111111111111,
             "#46039f"
            ],
            [
             0.2222222222222222,
             "#7201a8"
            ],
            [
             0.3333333333333333,
             "#9c179e"
            ],
            [
             0.4444444444444444,
             "#bd3786"
            ],
            [
             0.5555555555555556,
             "#d8576b"
            ],
            [
             0.6666666666666666,
             "#ed7953"
            ],
            [
             0.7777777777777778,
             "#fb9f3a"
            ],
            [
             0.8888888888888888,
             "#fdca26"
            ],
            [
             1,
             "#f0f921"
            ]
           ]
          },
          "colorway": [
           "#636efa",
           "#EF553B",
           "#00cc96",
           "#ab63fa",
           "#FFA15A",
           "#19d3f3",
           "#FF6692",
           "#B6E880",
           "#FF97FF",
           "#FECB52"
          ],
          "font": {
           "color": "#2a3f5f"
          },
          "geo": {
           "bgcolor": "white",
           "lakecolor": "white",
           "landcolor": "#E5ECF6",
           "showlakes": true,
           "showland": true,
           "subunitcolor": "white"
          },
          "hoverlabel": {
           "align": "left"
          },
          "hovermode": "closest",
          "mapbox": {
           "style": "light"
          },
          "paper_bgcolor": "white",
          "plot_bgcolor": "#E5ECF6",
          "polar": {
           "angularaxis": {
            "gridcolor": "white",
            "linecolor": "white",
            "ticks": ""
           },
           "bgcolor": "#E5ECF6",
           "radialaxis": {
            "gridcolor": "white",
            "linecolor": "white",
            "ticks": ""
           }
          },
          "scene": {
           "xaxis": {
            "backgroundcolor": "#E5ECF6",
            "gridcolor": "white",
            "gridwidth": 2,
            "linecolor": "white",
            "showbackground": true,
            "ticks": "",
            "zerolinecolor": "white"
           },
           "yaxis": {
            "backgroundcolor": "#E5ECF6",
            "gridcolor": "white",
            "gridwidth": 2,
            "linecolor": "white",
            "showbackground": true,
            "ticks": "",
            "zerolinecolor": "white"
           },
           "zaxis": {
            "backgroundcolor": "#E5ECF6",
            "gridcolor": "white",
            "gridwidth": 2,
            "linecolor": "white",
            "showbackground": true,
            "ticks": "",
            "zerolinecolor": "white"
           }
          },
          "shapedefaults": {
           "line": {
            "color": "#2a3f5f"
           }
          },
          "ternary": {
           "aaxis": {
            "gridcolor": "white",
            "linecolor": "white",
            "ticks": ""
           },
           "baxis": {
            "gridcolor": "white",
            "linecolor": "white",
            "ticks": ""
           },
           "bgcolor": "#E5ECF6",
           "caxis": {
            "gridcolor": "white",
            "linecolor": "white",
            "ticks": ""
           }
          },
          "title": {
           "x": 0.05
          },
          "xaxis": {
           "automargin": true,
           "gridcolor": "white",
           "linecolor": "white",
           "ticks": "",
           "title": {
            "standoff": 15
           },
           "zerolinecolor": "white",
           "zerolinewidth": 2
          },
          "yaxis": {
           "automargin": true,
           "gridcolor": "white",
           "linecolor": "white",
           "ticks": "",
           "title": {
            "standoff": 15
           },
           "zerolinecolor": "white",
           "zerolinewidth": 2
          }
         }
        },
        "title": {
         "text": "Eigenvalue Error vs Time (Log-Log Plot) qDRIFT-QPE: exponential invocations of qdrift channel"
        },
        "xaxis": {
         "anchor": "y",
         "domain": [
          0,
          1
         ],
         "title": {
          "text": "Simulation Time (Log Scale)"
         },
         "type": "log"
        },
        "yaxis": {
         "anchor": "x",
         "domain": [
          0,
          1
         ],
         "title": {
          "text": "Eigenvalue Estimation Error (Log Scale)"
         },
         "type": "log"
        }
       }
      }
     },
     "metadata": {},
     "output_type": "display_data"
    }
   ],
   "source": [
    "loglog_error_vs_time(exponential_invocations, \"qDRIFT-QPE: exponential invocations of qdrift channel\", exact_eigenvalue)"
   ]
  },
  {
   "cell_type": "code",
   "execution_count": 9,
   "id": "bea92319",
   "metadata": {},
   "outputs": [
    {
     "data": {
      "application/vnd.plotly.v1+json": {
       "config": {
        "plotlyServerURL": "https://plot.ly"
       },
       "data": [
        {
         "hovertemplate": "Time=%{x}<br>Error=%{y}<br>Num Ancilla=%{marker.color}<extra></extra>",
         "legendgroup": "",
         "marker": {
          "color": {
           "bdata": "BQUFBQUFBQUFBQUFBQUFBQUFBQUFBQUFBQUFBQUFBQUFBQUFBQUFBQUFBQUFBQUFBQUFBQUFBQUFBQUFBQUFBQUFBQUFBQUFBQUFBQUFBQUFBQUFBQUFBQUFBQUFBQUKBQUFBQUFBQUFBQUFCgUFBQUFBQUFBQUFBQUFBQUFBQUKCgoKCgoKCgoKCgoKCgoKCgoKCgwMCgoKCgoKCgoKCgoKCgoKCgoKCgoMDAoKCgoKCgoKCgoKCgoKCgoKCgoKCgoKDAoMCgoKCgoKCgoKCgoKCgoKCgoKCgoMDAoKCgoKCgoKCgoKCgoKCgwMCgoKDAoKCgoKCgoMCgwMDAoKCgoKDAwMDAoKCgoKDAoMDAwKCgoMDAwMDAwMDAwMDAw=",
           "dtype": "i1"
          },
          "coloraxis": "coloraxis",
          "symbol": "circle"
         },
         "mode": "markers",
         "name": "",
         "orientation": "v",
         "showlegend": false,
         "type": "scatter",
         "x": {
          "bdata": "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",
          "dtype": "f8"
         },
         "xaxis": "x",
         "y": {
          "bdata": "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",
          "dtype": "f8"
         },
         "yaxis": "y"
        }
       ],
       "layout": {
        "annotations": [
         {
          "showarrow": false,
          "text": "Magnitude of True Eigenvalue",
          "x": 0,
          "xanchor": "left",
          "xref": "x domain",
          "y": 2.4,
          "yanchor": "bottom",
          "yref": "y"
         }
        ],
        "coloraxis": {
         "colorbar": {
          "title": {
           "text": "Num Ancilla"
          }
         },
         "colorscale": [
          [
           0,
           "#0d0887"
          ],
          [
           0.1111111111111111,
           "#46039f"
          ],
          [
           0.2222222222222222,
           "#7201a8"
          ],
          [
           0.3333333333333333,
           "#9c179e"
          ],
          [
           0.4444444444444444,
           "#bd3786"
          ],
          [
           0.5555555555555556,
           "#d8576b"
          ],
          [
           0.6666666666666666,
           "#ed7953"
          ],
          [
           0.7777777777777778,
           "#fb9f3a"
          ],
          [
           0.8888888888888888,
           "#fdca26"
          ],
          [
           1,
           "#f0f921"
          ]
         ]
        },
        "legend": {
         "title": {
          "text": "Number of Ancilla Qubits"
         },
         "tracegroupgap": 0
        },
        "shapes": [
         {
          "line": {
           "color": "red",
           "dash": "dash"
          },
          "type": "line",
          "x0": 0,
          "x1": 1,
          "xref": "x domain",
          "y0": 2.4,
          "y1": 2.4,
          "yref": "y"
         }
        ],
        "template": {
         "data": {
          "bar": [
           {
            "error_x": {
             "color": "#2a3f5f"
            },
            "error_y": {
             "color": "#2a3f5f"
            },
            "marker": {
             "line": {
              "color": "#E5ECF6",
              "width": 0.5
             },
             "pattern": {
              "fillmode": "overlay",
              "size": 10,
              "solidity": 0.2
             }
            },
            "type": "bar"
           }
          ],
          "barpolar": [
           {
            "marker": {
             "line": {
              "color": "#E5ECF6",
              "width": 0.5
             },
             "pattern": {
              "fillmode": "overlay",
              "size": 10,
              "solidity": 0.2
             }
            },
            "type": "barpolar"
           }
          ],
          "carpet": [
           {
            "aaxis": {
             "endlinecolor": "#2a3f5f",
             "gridcolor": "white",
             "linecolor": "white",
             "minorgridcolor": "white",
             "startlinecolor": "#2a3f5f"
            },
            "baxis": {
             "endlinecolor": "#2a3f5f",
             "gridcolor": "white",
             "linecolor": "white",
             "minorgridcolor": "white",
             "startlinecolor": "#2a3f5f"
            },
            "type": "carpet"
           }
          ],
          "choropleth": [
           {
            "colorbar": {
             "outlinewidth": 0,
             "ticks": ""
            },
            "type": "choropleth"
           }
          ],
          "contour": [
           {
            "colorbar": {
             "outlinewidth": 0,
             "ticks": ""
            },
            "colorscale": [
             [
              0,
              "#0d0887"
             ],
             [
              0.1111111111111111,
              "#46039f"
             ],
             [
              0.2222222222222222,
              "#7201a8"
             ],
             [
              0.3333333333333333,
              "#9c179e"
             ],
             [
              0.4444444444444444,
              "#bd3786"
             ],
             [
              0.5555555555555556,
              "#d8576b"
             ],
             [
              0.6666666666666666,
              "#ed7953"
             ],
             [
              0.7777777777777778,
              "#fb9f3a"
             ],
             [
              0.8888888888888888,
              "#fdca26"
             ],
             [
              1,
              "#f0f921"
             ]
            ],
            "type": "contour"
           }
          ],
          "contourcarpet": [
           {
            "colorbar": {
             "outlinewidth": 0,
             "ticks": ""
            },
            "type": "contourcarpet"
           }
          ],
          "heatmap": [
           {
            "colorbar": {
             "outlinewidth": 0,
             "ticks": ""
            },
            "colorscale": [
             [
              0,
              "#0d0887"
             ],
             [
              0.1111111111111111,
              "#46039f"
             ],
             [
              0.2222222222222222,
              "#7201a8"
             ],
             [
              0.3333333333333333,
              "#9c179e"
             ],
             [
              0.4444444444444444,
              "#bd3786"
             ],
             [
              0.5555555555555556,
              "#d8576b"
             ],
             [
              0.6666666666666666,
              "#ed7953"
             ],
             [
              0.7777777777777778,
              "#fb9f3a"
             ],
             [
              0.8888888888888888,
              "#fdca26"
             ],
             [
              1,
              "#f0f921"
             ]
            ],
            "type": "heatmap"
           }
          ],
          "histogram": [
           {
            "marker": {
             "pattern": {
              "fillmode": "overlay",
              "size": 10,
              "solidity": 0.2
             }
            },
            "type": "histogram"
           }
          ],
          "histogram2d": [
           {
            "colorbar": {
             "outlinewidth": 0,
             "ticks": ""
            },
            "colorscale": [
             [
              0,
              "#0d0887"
             ],
             [
              0.1111111111111111,
              "#46039f"
             ],
             [
              0.2222222222222222,
              "#7201a8"
             ],
             [
              0.3333333333333333,
              "#9c179e"
             ],
             [
              0.4444444444444444,
              "#bd3786"
             ],
             [
              0.5555555555555556,
              "#d8576b"
             ],
             [
              0.6666666666666666,
              "#ed7953"
             ],
             [
              0.7777777777777778,
              "#fb9f3a"
             ],
             [
              0.8888888888888888,
              "#fdca26"
             ],
             [
              1,
              "#f0f921"
             ]
            ],
            "type": "histogram2d"
           }
          ],
          "histogram2dcontour": [
           {
            "colorbar": {
             "outlinewidth": 0,
             "ticks": ""
            },
            "colorscale": [
             [
              0,
              "#0d0887"
             ],
             [
              0.1111111111111111,
              "#46039f"
             ],
             [
              0.2222222222222222,
              "#7201a8"
             ],
             [
              0.3333333333333333,
              "#9c179e"
             ],
             [
              0.4444444444444444,
              "#bd3786"
             ],
             [
              0.5555555555555556,
              "#d8576b"
             ],
             [
              0.6666666666666666,
              "#ed7953"
             ],
             [
              0.7777777777777778,
              "#fb9f3a"
             ],
             [
              0.8888888888888888,
              "#fdca26"
             ],
             [
              1,
              "#f0f921"
             ]
            ],
            "type": "histogram2dcontour"
           }
          ],
          "mesh3d": [
           {
            "colorbar": {
             "outlinewidth": 0,
             "ticks": ""
            },
            "type": "mesh3d"
           }
          ],
          "parcoords": [
           {
            "line": {
             "colorbar": {
              "outlinewidth": 0,
              "ticks": ""
             }
            },
            "type": "parcoords"
           }
          ],
          "pie": [
           {
            "automargin": true,
            "type": "pie"
           }
          ],
          "scatter": [
           {
            "fillpattern": {
             "fillmode": "overlay",
             "size": 10,
             "solidity": 0.2
            },
            "type": "scatter"
           }
          ],
          "scatter3d": [
           {
            "line": {
             "colorbar": {
              "outlinewidth": 0,
              "ticks": ""
             }
            },
            "marker": {
             "colorbar": {
              "outlinewidth": 0,
              "ticks": ""
             }
            },
            "type": "scatter3d"
           }
          ],
          "scattercarpet": [
           {
            "marker": {
             "colorbar": {
              "outlinewidth": 0,
              "ticks": ""
             }
            },
            "type": "scattercarpet"
           }
          ],
          "scattergeo": [
           {
            "marker": {
             "colorbar": {
              "outlinewidth": 0,
              "ticks": ""
             }
            },
            "type": "scattergeo"
           }
          ],
          "scattergl": [
           {
            "marker": {
             "colorbar": {
              "outlinewidth": 0,
              "ticks": ""
             }
            },
            "type": "scattergl"
           }
          ],
          "scattermap": [
           {
            "marker": {
             "colorbar": {
              "outlinewidth": 0,
              "ticks": ""
             }
            },
            "type": "scattermap"
           }
          ],
          "scattermapbox": [
           {
            "marker": {
             "colorbar": {
              "outlinewidth": 0,
              "ticks": ""
             }
            },
            "type": "scattermapbox"
           }
          ],
          "scatterpolar": [
           {
            "marker": {
             "colorbar": {
              "outlinewidth": 0,
              "ticks": ""
             }
            },
            "type": "scatterpolar"
           }
          ],
          "scatterpolargl": [
           {
            "marker": {
             "colorbar": {
              "outlinewidth": 0,
              "ticks": ""
             }
            },
            "type": "scatterpolargl"
           }
          ],
          "scatterternary": [
           {
            "marker": {
             "colorbar": {
              "outlinewidth": 0,
              "ticks": ""
             }
            },
            "type": "scatterternary"
           }
          ],
          "surface": [
           {
            "colorbar": {
             "outlinewidth": 0,
             "ticks": ""
            },
            "colorscale": [
             [
              0,
              "#0d0887"
             ],
             [
              0.1111111111111111,
              "#46039f"
             ],
             [
              0.2222222222222222,
              "#7201a8"
             ],
             [
              0.3333333333333333,
              "#9c179e"
             ],
             [
              0.4444444444444444,
              "#bd3786"
             ],
             [
              0.5555555555555556,
              "#d8576b"
             ],
             [
              0.6666666666666666,
              "#ed7953"
             ],
             [
              0.7777777777777778,
              "#fb9f3a"
             ],
             [
              0.8888888888888888,
              "#fdca26"
             ],
             [
              1,
              "#f0f921"
             ]
            ],
            "type": "surface"
           }
          ],
          "table": [
           {
            "cells": {
             "fill": {
              "color": "#EBF0F8"
             },
             "line": {
              "color": "white"
             }
            },
            "header": {
             "fill": {
              "color": "#C8D4E3"
             },
             "line": {
              "color": "white"
             }
            },
            "type": "table"
           }
          ]
         },
         "layout": {
          "annotationdefaults": {
           "arrowcolor": "#2a3f5f",
           "arrowhead": 0,
           "arrowwidth": 1
          },
          "autotypenumbers": "strict",
          "coloraxis": {
           "colorbar": {
            "outlinewidth": 0,
            "ticks": ""
           }
          },
          "colorscale": {
           "diverging": [
            [
             0,
             "#8e0152"
            ],
            [
             0.1,
             "#c51b7d"
            ],
            [
             0.2,
             "#de77ae"
            ],
            [
             0.3,
             "#f1b6da"
            ],
            [
             0.4,
             "#fde0ef"
            ],
            [
             0.5,
             "#f7f7f7"
            ],
            [
             0.6,
             "#e6f5d0"
            ],
            [
             0.7,
             "#b8e186"
            ],
            [
             0.8,
             "#7fbc41"
            ],
            [
             0.9,
             "#4d9221"
            ],
            [
             1,
             "#276419"
            ]
           ],
           "sequential": [
            [
             0,
             "#0d0887"
            ],
            [
             0.1111111111111111,
             "#46039f"
            ],
            [
             0.2222222222222222,
             "#7201a8"
            ],
            [
             0.3333333333333333,
             "#9c179e"
            ],
            [
             0.4444444444444444,
             "#bd3786"
            ],
            [
             0.5555555555555556,
             "#d8576b"
            ],
            [
             0.6666666666666666,
             "#ed7953"
            ],
            [
             0.7777777777777778,
             "#fb9f3a"
            ],
            [
             0.8888888888888888,
             "#fdca26"
            ],
            [
             1,
             "#f0f921"
            ]
           ],
           "sequentialminus": [
            [
             0,
             "#0d0887"
            ],
            [
             0.1111111111111111,
             "#46039f"
            ],
            [
             0.2222222222222222,
             "#7201a8"
            ],
            [
             0.3333333333333333,
             "#9c179e"
            ],
            [
             0.4444444444444444,
             "#bd3786"
            ],
            [
             0.5555555555555556,
             "#d8576b"
            ],
            [
             0.6666666666666666,
             "#ed7953"
            ],
            [
             0.7777777777777778,
             "#fb9f3a"
            ],
            [
             0.8888888888888888,
             "#fdca26"
            ],
            [
             1,
             "#f0f921"
            ]
           ]
          },
          "colorway": [
           "#636efa",
           "#EF553B",
           "#00cc96",
           "#ab63fa",
           "#FFA15A",
           "#19d3f3",
           "#FF6692",
           "#B6E880",
           "#FF97FF",
           "#FECB52"
          ],
          "font": {
           "color": "#2a3f5f"
          },
          "geo": {
           "bgcolor": "white",
           "lakecolor": "white",
           "landcolor": "#E5ECF6",
           "showlakes": true,
           "showland": true,
           "subunitcolor": "white"
          },
          "hoverlabel": {
           "align": "left"
          },
          "hovermode": "closest",
          "mapbox": {
           "style": "light"
          },
          "paper_bgcolor": "white",
          "plot_bgcolor": "#E5ECF6",
          "polar": {
           "angularaxis": {
            "gridcolor": "white",
            "linecolor": "white",
            "ticks": ""
           },
           "bgcolor": "#E5ECF6",
           "radialaxis": {
            "gridcolor": "white",
            "linecolor": "white",
            "ticks": ""
           }
          },
          "scene": {
           "xaxis": {
            "backgroundcolor": "#E5ECF6",
            "gridcolor": "white",
            "gridwidth": 2,
            "linecolor": "white",
            "showbackground": true,
            "ticks": "",
            "zerolinecolor": "white"
           },
           "yaxis": {
            "backgroundcolor": "#E5ECF6",
            "gridcolor": "white",
            "gridwidth": 2,
            "linecolor": "white",
            "showbackground": true,
            "ticks": "",
            "zerolinecolor": "white"
           },
           "zaxis": {
            "backgroundcolor": "#E5ECF6",
            "gridcolor": "white",
            "gridwidth": 2,
            "linecolor": "white",
            "showbackground": true,
            "ticks": "",
            "zerolinecolor": "white"
           }
          },
          "shapedefaults": {
           "line": {
            "color": "#2a3f5f"
           }
          },
          "ternary": {
           "aaxis": {
            "gridcolor": "white",
            "linecolor": "white",
            "ticks": ""
           },
           "baxis": {
            "gridcolor": "white",
            "linecolor": "white",
            "ticks": ""
           },
           "bgcolor": "#E5ECF6",
           "caxis": {
            "gridcolor": "white",
            "linecolor": "white",
            "ticks": ""
           }
          },
          "title": {
           "x": 0.05
          },
          "xaxis": {
           "automargin": true,
           "gridcolor": "white",
           "linecolor": "white",
           "ticks": "",
           "title": {
            "standoff": 15
           },
           "zerolinecolor": "white",
           "zerolinewidth": 2
          },
          "yaxis": {
           "automargin": true,
           "gridcolor": "white",
           "linecolor": "white",
           "ticks": "",
           "title": {
            "standoff": 15
           },
           "zerolinecolor": "white",
           "zerolinewidth": 2
          }
         }
        },
        "title": {
         "text": "Eigenvalue Error vs Time (Scatter Plot) qDRIFT-QPE: exponential invocations of qdrift channel (more random)"
        },
        "xaxis": {
         "anchor": "y",
         "domain": [
          0,
          1
         ],
         "title": {
          "text": "Simulation Time"
         }
        },
        "yaxis": {
         "anchor": "x",
         "domain": [
          0,
          1
         ],
         "title": {
          "text": "Eigenvalue Estimation Error"
         }
        }
       }
      }
     },
     "metadata": {},
     "output_type": "display_data"
    }
   ],
   "source": [
    "exact_eigenvalue = 2.4\n",
    "exponential_invocations_more_random = qdrift_qpe_df_more_random[qdrift_qpe_df_more_random[\"QDRIFT Implementation\"] == \"exponential invocations of qdrift channel\"]\n",
    "plot_error_vs_time(exponential_invocations_more_random, \"qDRIFT-QPE: exponential invocations of qdrift channel (more random)\", exact_eigenvalue)"
   ]
  },
  {
   "cell_type": "code",
   "execution_count": 10,
   "id": "590e34f4",
   "metadata": {},
   "outputs": [
    {
     "data": {
      "application/vnd.plotly.v1+json": {
       "config": {
        "plotlyServerURL": "https://plot.ly"
       },
       "data": [
        {
         "hovertemplate": "Time=%{x}<br>Error=%{y}<br>Num Ancilla=%{marker.color}<extra></extra>",
         "legendgroup": "",
         "marker": {
          "color": {
           "bdata": "BQUFBQUFBQUFBQUFBQUFBQUFBQUFBQUFBQUFBQUFBQUFBQUFBQUFBQUFBQUFBQUFBQUFBQUFBQUFBQUFBQUFBQUFBQUFBQUFBQUFBQUFBQUFBQUFBQUFBQUFBQUFBQUFBQUFBQUFBQUFBQUFBQUFBQUFBQUFBQUFBQUFCgoKCgoKCgoKCgoKCgoKCgoKCgoKCgoKCgoKCgoKCgoKCgoKCgoKCgoKCgoKCgoKCgoKCgoKCgoKCgoKCgoKCgoKCgoKCgoKCgoKCgoKCgoKCgoKCgoKCgoKCgoKCgoKCgoKCgoKCgoKCgoKCgoKCgoKCgoKCgoKCgoKCgoKDAwMDAwMDAwMDAwMDAwMDAwMDAwMDAwMDAwMDAwMDAwMDAwMDAwMDAwMDAwMDAwMDAwMDAwMDAwMDAwMDAwMDAwMDAwMDAwMDAwMDAwMDAwMDAwMDAwMDAwMDAwMDAwMDAwMDAwMDAwMDAwMDAwMDAwMDAwMDAwMDAwMDAwM",
           "dtype": "i1"
          },
          "coloraxis": "coloraxis",
          "symbol": "circle"
         },
         "mode": "markers",
         "name": "",
         "orientation": "v",
         "showlegend": false,
         "type": "scatter",
         "x": {
          "bdata": "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",
          "dtype": "f8"
         },
         "xaxis": "x",
         "y": {
          "bdata": "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",
          "dtype": "f8"
         },
         "yaxis": "y"
        }
       ],
       "layout": {
        "annotations": [
         {
          "showarrow": false,
          "text": "Magnitude of True Eigenvalue",
          "x": 0,
          "xanchor": "left",
          "xref": "x domain",
          "y": 2.4,
          "yanchor": "bottom",
          "yref": "y"
         }
        ],
        "coloraxis": {
         "colorbar": {
          "title": {
           "text": "Num Ancilla"
          }
         },
         "colorscale": [
          [
           0,
           "#0d0887"
          ],
          [
           0.1111111111111111,
           "#46039f"
          ],
          [
           0.2222222222222222,
           "#7201a8"
          ],
          [
           0.3333333333333333,
           "#9c179e"
          ],
          [
           0.4444444444444444,
           "#bd3786"
          ],
          [
           0.5555555555555556,
           "#d8576b"
          ],
          [
           0.6666666666666666,
           "#ed7953"
          ],
          [
           0.7777777777777778,
           "#fb9f3a"
          ],
          [
           0.8888888888888888,
           "#fdca26"
          ],
          [
           1,
           "#f0f921"
          ]
         ]
        },
        "legend": {
         "title": {
          "text": "Number of Ancilla Qubits"
         },
         "tracegroupgap": 0
        },
        "shapes": [
         {
          "line": {
           "color": "red",
           "dash": "dash"
          },
          "type": "line",
          "x0": 0,
          "x1": 1,
          "xref": "x domain",
          "y0": 2.4,
          "y1": 2.4,
          "yref": "y"
         }
        ],
        "template": {
         "data": {
          "bar": [
           {
            "error_x": {
             "color": "#2a3f5f"
            },
            "error_y": {
             "color": "#2a3f5f"
            },
            "marker": {
             "line": {
              "color": "#E5ECF6",
              "width": 0.5
             },
             "pattern": {
              "fillmode": "overlay",
              "size": 10,
              "solidity": 0.2
             }
            },
            "type": "bar"
           }
          ],
          "barpolar": [
           {
            "marker": {
             "line": {
              "color": "#E5ECF6",
              "width": 0.5
             },
             "pattern": {
              "fillmode": "overlay",
              "size": 10,
              "solidity": 0.2
             }
            },
            "type": "barpolar"
           }
          ],
          "carpet": [
           {
            "aaxis": {
             "endlinecolor": "#2a3f5f",
             "gridcolor": "white",
             "linecolor": "white",
             "minorgridcolor": "white",
             "startlinecolor": "#2a3f5f"
            },
            "baxis": {
             "endlinecolor": "#2a3f5f",
             "gridcolor": "white",
             "linecolor": "white",
             "minorgridcolor": "white",
             "startlinecolor": "#2a3f5f"
            },
            "type": "carpet"
           }
          ],
          "choropleth": [
           {
            "colorbar": {
             "outlinewidth": 0,
             "ticks": ""
            },
            "type": "choropleth"
           }
          ],
          "contour": [
           {
            "colorbar": {
             "outlinewidth": 0,
             "ticks": ""
            },
            "colorscale": [
             [
              0,
              "#0d0887"
             ],
             [
              0.1111111111111111,
              "#46039f"
             ],
             [
              0.2222222222222222,
              "#7201a8"
             ],
             [
              0.3333333333333333,
              "#9c179e"
             ],
             [
              0.4444444444444444,
              "#bd3786"
             ],
             [
              0.5555555555555556,
              "#d8576b"
             ],
             [
              0.6666666666666666,
              "#ed7953"
             ],
             [
              0.7777777777777778,
              "#fb9f3a"
             ],
             [
              0.8888888888888888,
              "#fdca26"
             ],
             [
              1,
              "#f0f921"
             ]
            ],
            "type": "contour"
           }
          ],
          "contourcarpet": [
           {
            "colorbar": {
             "outlinewidth": 0,
             "ticks": ""
            },
            "type": "contourcarpet"
           }
          ],
          "heatmap": [
           {
            "colorbar": {
             "outlinewidth": 0,
             "ticks": ""
            },
            "colorscale": [
             [
              0,
              "#0d0887"
             ],
             [
              0.1111111111111111,
              "#46039f"
             ],
             [
              0.2222222222222222,
              "#7201a8"
             ],
             [
              0.3333333333333333,
              "#9c179e"
             ],
             [
              0.4444444444444444,
              "#bd3786"
             ],
             [
              0.5555555555555556,
              "#d8576b"
             ],
             [
              0.6666666666666666,
              "#ed7953"
             ],
             [
              0.7777777777777778,
              "#fb9f3a"
             ],
             [
              0.8888888888888888,
              "#fdca26"
             ],
             [
              1,
              "#f0f921"
             ]
            ],
            "type": "heatmap"
           }
          ],
          "histogram": [
           {
            "marker": {
             "pattern": {
              "fillmode": "overlay",
              "size": 10,
              "solidity": 0.2
             }
            },
            "type": "histogram"
           }
          ],
          "histogram2d": [
           {
            "colorbar": {
             "outlinewidth": 0,
             "ticks": ""
            },
            "colorscale": [
             [
              0,
              "#0d0887"
             ],
             [
              0.1111111111111111,
              "#46039f"
             ],
             [
              0.2222222222222222,
              "#7201a8"
             ],
             [
              0.3333333333333333,
              "#9c179e"
             ],
             [
              0.4444444444444444,
              "#bd3786"
             ],
             [
              0.5555555555555556,
              "#d8576b"
             ],
             [
              0.6666666666666666,
              "#ed7953"
             ],
             [
              0.7777777777777778,
              "#fb9f3a"
             ],
             [
              0.8888888888888888,
              "#fdca26"
             ],
             [
              1,
              "#f0f921"
             ]
            ],
            "type": "histogram2d"
           }
          ],
          "histogram2dcontour": [
           {
            "colorbar": {
             "outlinewidth": 0,
             "ticks": ""
            },
            "colorscale": [
             [
              0,
              "#0d0887"
             ],
             [
              0.1111111111111111,
              "#46039f"
             ],
             [
              0.2222222222222222,
              "#7201a8"
             ],
             [
              0.3333333333333333,
              "#9c179e"
             ],
             [
              0.4444444444444444,
              "#bd3786"
             ],
             [
              0.5555555555555556,
              "#d8576b"
             ],
             [
              0.6666666666666666,
              "#ed7953"
             ],
             [
              0.7777777777777778,
              "#fb9f3a"
             ],
             [
              0.8888888888888888,
              "#fdca26"
             ],
             [
              1,
              "#f0f921"
             ]
            ],
            "type": "histogram2dcontour"
           }
          ],
          "mesh3d": [
           {
            "colorbar": {
             "outlinewidth": 0,
             "ticks": ""
            },
            "type": "mesh3d"
           }
          ],
          "parcoords": [
           {
            "line": {
             "colorbar": {
              "outlinewidth": 0,
              "ticks": ""
             }
            },
            "type": "parcoords"
           }
          ],
          "pie": [
           {
            "automargin": true,
            "type": "pie"
           }
          ],
          "scatter": [
           {
            "fillpattern": {
             "fillmode": "overlay",
             "size": 10,
             "solidity": 0.2
            },
            "type": "scatter"
           }
          ],
          "scatter3d": [
           {
            "line": {
             "colorbar": {
              "outlinewidth": 0,
              "ticks": ""
             }
            },
            "marker": {
             "colorbar": {
              "outlinewidth": 0,
              "ticks": ""
             }
            },
            "type": "scatter3d"
           }
          ],
          "scattercarpet": [
           {
            "marker": {
             "colorbar": {
              "outlinewidth": 0,
              "ticks": ""
             }
            },
            "type": "scattercarpet"
           }
          ],
          "scattergeo": [
           {
            "marker": {
             "colorbar": {
              "outlinewidth": 0,
              "ticks": ""
             }
            },
            "type": "scattergeo"
           }
          ],
          "scattergl": [
           {
            "marker": {
             "colorbar": {
              "outlinewidth": 0,
              "ticks": ""
             }
            },
            "type": "scattergl"
           }
          ],
          "scattermap": [
           {
            "marker": {
             "colorbar": {
              "outlinewidth": 0,
              "ticks": ""
             }
            },
            "type": "scattermap"
           }
          ],
          "scattermapbox": [
           {
            "marker": {
             "colorbar": {
              "outlinewidth": 0,
              "ticks": ""
             }
            },
            "type": "scattermapbox"
           }
          ],
          "scatterpolar": [
           {
            "marker": {
             "colorbar": {
              "outlinewidth": 0,
              "ticks": ""
             }
            },
            "type": "scatterpolar"
           }
          ],
          "scatterpolargl": [
           {
            "marker": {
             "colorbar": {
              "outlinewidth": 0,
              "ticks": ""
             }
            },
            "type": "scatterpolargl"
           }
          ],
          "scatterternary": [
           {
            "marker": {
             "colorbar": {
              "outlinewidth": 0,
              "ticks": ""
             }
            },
            "type": "scatterternary"
           }
          ],
          "surface": [
           {
            "colorbar": {
             "outlinewidth": 0,
             "ticks": ""
            },
            "colorscale": [
             [
              0,
              "#0d0887"
             ],
             [
              0.1111111111111111,
              "#46039f"
             ],
             [
              0.2222222222222222,
              "#7201a8"
             ],
             [
              0.3333333333333333,
              "#9c179e"
             ],
             [
              0.4444444444444444,
              "#bd3786"
             ],
             [
              0.5555555555555556,
              "#d8576b"
             ],
             [
              0.6666666666666666,
              "#ed7953"
             ],
             [
              0.7777777777777778,
              "#fb9f3a"
             ],
             [
              0.8888888888888888,
              "#fdca26"
             ],
             [
              1,
              "#f0f921"
             ]
            ],
            "type": "surface"
           }
          ],
          "table": [
           {
            "cells": {
             "fill": {
              "color": "#EBF0F8"
             },
             "line": {
              "color": "white"
             }
            },
            "header": {
             "fill": {
              "color": "#C8D4E3"
             },
             "line": {
              "color": "white"
             }
            },
            "type": "table"
           }
          ]
         },
         "layout": {
          "annotationdefaults": {
           "arrowcolor": "#2a3f5f",
           "arrowhead": 0,
           "arrowwidth": 1
          },
          "autotypenumbers": "strict",
          "coloraxis": {
           "colorbar": {
            "outlinewidth": 0,
            "ticks": ""
           }
          },
          "colorscale": {
           "diverging": [
            [
             0,
             "#8e0152"
            ],
            [
             0.1,
             "#c51b7d"
            ],
            [
             0.2,
             "#de77ae"
            ],
            [
             0.3,
             "#f1b6da"
            ],
            [
             0.4,
             "#fde0ef"
            ],
            [
             0.5,
             "#f7f7f7"
            ],
            [
             0.6,
             "#e6f5d0"
            ],
            [
             0.7,
             "#b8e186"
            ],
            [
             0.8,
             "#7fbc41"
            ],
            [
             0.9,
             "#4d9221"
            ],
            [
             1,
             "#276419"
            ]
           ],
           "sequential": [
            [
             0,
             "#0d0887"
            ],
            [
             0.1111111111111111,
             "#46039f"
            ],
            [
             0.2222222222222222,
             "#7201a8"
            ],
            [
             0.3333333333333333,
             "#9c179e"
            ],
            [
             0.4444444444444444,
             "#bd3786"
            ],
            [
             0.5555555555555556,
             "#d8576b"
            ],
            [
             0.6666666666666666,
             "#ed7953"
            ],
            [
             0.7777777777777778,
             "#fb9f3a"
            ],
            [
             0.8888888888888888,
             "#fdca26"
            ],
            [
             1,
             "#f0f921"
            ]
           ],
           "sequentialminus": [
            [
             0,
             "#0d0887"
            ],
            [
             0.1111111111111111,
             "#46039f"
            ],
            [
             0.2222222222222222,
             "#7201a8"
            ],
            [
             0.3333333333333333,
             "#9c179e"
            ],
            [
             0.4444444444444444,
             "#bd3786"
            ],
            [
             0.5555555555555556,
             "#d8576b"
            ],
            [
             0.6666666666666666,
             "#ed7953"
            ],
            [
             0.7777777777777778,
             "#fb9f3a"
            ],
            [
             0.8888888888888888,
             "#fdca26"
            ],
            [
             1,
             "#f0f921"
            ]
           ]
          },
          "colorway": [
           "#636efa",
           "#EF553B",
           "#00cc96",
           "#ab63fa",
           "#FFA15A",
           "#19d3f3",
           "#FF6692",
           "#B6E880",
           "#FF97FF",
           "#FECB52"
          ],
          "font": {
           "color": "#2a3f5f"
          },
          "geo": {
           "bgcolor": "white",
           "lakecolor": "white",
           "landcolor": "#E5ECF6",
           "showlakes": true,
           "showland": true,
           "subunitcolor": "white"
          },
          "hoverlabel": {
           "align": "left"
          },
          "hovermode": "closest",
          "mapbox": {
           "style": "light"
          },
          "paper_bgcolor": "white",
          "plot_bgcolor": "#E5ECF6",
          "polar": {
           "angularaxis": {
            "gridcolor": "white",
            "linecolor": "white",
            "ticks": ""
           },
           "bgcolor": "#E5ECF6",
           "radialaxis": {
            "gridcolor": "white",
            "linecolor": "white",
            "ticks": ""
           }
          },
          "scene": {
           "xaxis": {
            "backgroundcolor": "#E5ECF6",
            "gridcolor": "white",
            "gridwidth": 2,
            "linecolor": "white",
            "showbackground": true,
            "ticks": "",
            "zerolinecolor": "white"
           },
           "yaxis": {
            "backgroundcolor": "#E5ECF6",
            "gridcolor": "white",
            "gridwidth": 2,
            "linecolor": "white",
            "showbackground": true,
            "ticks": "",
            "zerolinecolor": "white"
           },
           "zaxis": {
            "backgroundcolor": "#E5ECF6",
            "gridcolor": "white",
            "gridwidth": 2,
            "linecolor": "white",
            "showbackground": true,
            "ticks": "",
            "zerolinecolor": "white"
           }
          },
          "shapedefaults": {
           "line": {
            "color": "#2a3f5f"
           }
          },
          "ternary": {
           "aaxis": {
            "gridcolor": "white",
            "linecolor": "white",
            "ticks": ""
           },
           "baxis": {
            "gridcolor": "white",
            "linecolor": "white",
            "ticks": ""
           },
           "bgcolor": "#E5ECF6",
           "caxis": {
            "gridcolor": "white",
            "linecolor": "white",
            "ticks": ""
           }
          },
          "title": {
           "x": 0.05
          },
          "xaxis": {
           "automargin": true,
           "gridcolor": "white",
           "linecolor": "white",
           "ticks": "",
           "title": {
            "standoff": 15
           },
           "zerolinecolor": "white",
           "zerolinewidth": 2
          },
          "yaxis": {
           "automargin": true,
           "gridcolor": "white",
           "linecolor": "white",
           "ticks": "",
           "title": {
            "standoff": 15
           },
           "zerolinecolor": "white",
           "zerolinewidth": 2
          }
         }
        },
        "title": {
         "text": "Eigenvalue Error vs Time (Scatter Plot) qDRIFT-QPE: linear invocations of qdrift channel (more random)"
        },
        "xaxis": {
         "anchor": "y",
         "domain": [
          0,
          1
         ],
         "title": {
          "text": "Simulation Time"
         }
        },
        "yaxis": {
         "anchor": "x",
         "domain": [
          0,
          1
         ],
         "title": {
          "text": "Eigenvalue Estimation Error"
         }
        }
       }
      }
     },
     "metadata": {},
     "output_type": "display_data"
    },
    {
     "data": {
      "application/vnd.plotly.v1+json": {
       "config": {
        "plotlyServerURL": "https://plot.ly"
       },
       "data": [
        {
         "hovertemplate": "Time=%{x}<br>Error=%{y}<br>Num Ancilla=%{marker.color}<extra></extra>",
         "legendgroup": "",
         "marker": {
          "color": {
           "bdata": "BQUFBQUFBQUFBQUFBQUFBQUFBQUFBQUFBQUFBQUFBQUFBQUFBQUFBQUFBQUFBQUFBQUFBQUFBQUFBQUFBQUFBQUFBQUFBQUFBQUFBQUFBQUFBQUFBQUFBQUFBQUFBQUKBQUFBQUFBQUFBQUFCgUFBQUFBQUFBQUFBQUFBQUFBQUKCgoKCgoKCgoKCgoKCgoKCgoKCgwMCgoKCgoKCgoKCgoKCgoKCgoKCgoMDAoKCgoKCgoKCgoKCgoKCgoKCgoKCgoKDAoMCgoKCgoKCgoKCgoKCgoKCgoKCgoMDAoKCgoKCgoKCgoKCgoKCgwMCgoKDAoKCgoKCgoMCgwMDAoKCgoKDAwMDAoKCgoKDAoMDAwKCgoMDAwMDAwMDAwMDAw=",
           "dtype": "i1"
          },
          "coloraxis": "coloraxis",
          "symbol": "circle"
         },
         "mode": "markers",
         "name": "",
         "orientation": "v",
         "showlegend": false,
         "type": "scatter",
         "x": {
          "bdata": "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",
          "dtype": "f8"
         },
         "xaxis": "x",
         "y": {
          "bdata": "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",
          "dtype": "f8"
         },
         "yaxis": "y"
        }
       ],
       "layout": {
        "annotations": [
         {
          "showarrow": false,
          "text": "Magnitude of True Eigenvalue",
          "x": 0,
          "xanchor": "left",
          "xref": "x domain",
          "y": 2.4,
          "yanchor": "bottom",
          "yref": "y"
         }
        ],
        "coloraxis": {
         "colorbar": {
          "title": {
           "text": "Num Ancilla"
          }
         },
         "colorscale": [
          [
           0,
           "#0d0887"
          ],
          [
           0.1111111111111111,
           "#46039f"
          ],
          [
           0.2222222222222222,
           "#7201a8"
          ],
          [
           0.3333333333333333,
           "#9c179e"
          ],
          [
           0.4444444444444444,
           "#bd3786"
          ],
          [
           0.5555555555555556,
           "#d8576b"
          ],
          [
           0.6666666666666666,
           "#ed7953"
          ],
          [
           0.7777777777777778,
           "#fb9f3a"
          ],
          [
           0.8888888888888888,
           "#fdca26"
          ],
          [
           1,
           "#f0f921"
          ]
         ]
        },
        "legend": {
         "title": {
          "text": "Number of Ancilla Qubits"
         },
         "tracegroupgap": 0
        },
        "shapes": [
         {
          "line": {
           "color": "red",
           "dash": "dash"
          },
          "type": "line",
          "x0": 0,
          "x1": 1,
          "xref": "x domain",
          "y0": 2.4,
          "y1": 2.4,
          "yref": "y"
         }
        ],
        "template": {
         "data": {
          "bar": [
           {
            "error_x": {
             "color": "#2a3f5f"
            },
            "error_y": {
             "color": "#2a3f5f"
            },
            "marker": {
             "line": {
              "color": "#E5ECF6",
              "width": 0.5
             },
             "pattern": {
              "fillmode": "overlay",
              "size": 10,
              "solidity": 0.2
             }
            },
            "type": "bar"
           }
          ],
          "barpolar": [
           {
            "marker": {
             "line": {
              "color": "#E5ECF6",
              "width": 0.5
             },
             "pattern": {
              "fillmode": "overlay",
              "size": 10,
              "solidity": 0.2
             }
            },
            "type": "barpolar"
           }
          ],
          "carpet": [
           {
            "aaxis": {
             "endlinecolor": "#2a3f5f",
             "gridcolor": "white",
             "linecolor": "white",
             "minorgridcolor": "white",
             "startlinecolor": "#2a3f5f"
            },
            "baxis": {
             "endlinecolor": "#2a3f5f",
             "gridcolor": "white",
             "linecolor": "white",
             "minorgridcolor": "white",
             "startlinecolor": "#2a3f5f"
            },
            "type": "carpet"
           }
          ],
          "choropleth": [
           {
            "colorbar": {
             "outlinewidth": 0,
             "ticks": ""
            },
            "type": "choropleth"
           }
          ],
          "contour": [
           {
            "colorbar": {
             "outlinewidth": 0,
             "ticks": ""
            },
            "colorscale": [
             [
              0,
              "#0d0887"
             ],
             [
              0.1111111111111111,
              "#46039f"
             ],
             [
              0.2222222222222222,
              "#7201a8"
             ],
             [
              0.3333333333333333,
              "#9c179e"
             ],
             [
              0.4444444444444444,
              "#bd3786"
             ],
             [
              0.5555555555555556,
              "#d8576b"
             ],
             [
              0.6666666666666666,
              "#ed7953"
             ],
             [
              0.7777777777777778,
              "#fb9f3a"
             ],
             [
              0.8888888888888888,
              "#fdca26"
             ],
             [
              1,
              "#f0f921"
             ]
            ],
            "type": "contour"
           }
          ],
          "contourcarpet": [
           {
            "colorbar": {
             "outlinewidth": 0,
             "ticks": ""
            },
            "type": "contourcarpet"
           }
          ],
          "heatmap": [
           {
            "colorbar": {
             "outlinewidth": 0,
             "ticks": ""
            },
            "colorscale": [
             [
              0,
              "#0d0887"
             ],
             [
              0.1111111111111111,
              "#46039f"
             ],
             [
              0.2222222222222222,
              "#7201a8"
             ],
             [
              0.3333333333333333,
              "#9c179e"
             ],
             [
              0.4444444444444444,
              "#bd3786"
             ],
             [
              0.5555555555555556,
              "#d8576b"
             ],
             [
              0.6666666666666666,
              "#ed7953"
             ],
             [
              0.7777777777777778,
              "#fb9f3a"
             ],
             [
              0.8888888888888888,
              "#fdca26"
             ],
             [
              1,
              "#f0f921"
             ]
            ],
            "type": "heatmap"
           }
          ],
          "histogram": [
           {
            "marker": {
             "pattern": {
              "fillmode": "overlay",
              "size": 10,
              "solidity": 0.2
             }
            },
            "type": "histogram"
           }
          ],
          "histogram2d": [
           {
            "colorbar": {
             "outlinewidth": 0,
             "ticks": ""
            },
            "colorscale": [
             [
              0,
              "#0d0887"
             ],
             [
              0.1111111111111111,
              "#46039f"
             ],
             [
              0.2222222222222222,
              "#7201a8"
             ],
             [
              0.3333333333333333,
              "#9c179e"
             ],
             [
              0.4444444444444444,
              "#bd3786"
             ],
             [
              0.5555555555555556,
              "#d8576b"
             ],
             [
              0.6666666666666666,
              "#ed7953"
             ],
             [
              0.7777777777777778,
              "#fb9f3a"
             ],
             [
              0.8888888888888888,
              "#fdca26"
             ],
             [
              1,
              "#f0f921"
             ]
            ],
            "type": "histogram2d"
           }
          ],
          "histogram2dcontour": [
           {
            "colorbar": {
             "outlinewidth": 0,
             "ticks": ""
            },
            "colorscale": [
             [
              0,
              "#0d0887"
             ],
             [
              0.1111111111111111,
              "#46039f"
             ],
             [
              0.2222222222222222,
              "#7201a8"
             ],
             [
              0.3333333333333333,
              "#9c179e"
             ],
             [
              0.4444444444444444,
              "#bd3786"
             ],
             [
              0.5555555555555556,
              "#d8576b"
             ],
             [
              0.6666666666666666,
              "#ed7953"
             ],
             [
              0.7777777777777778,
              "#fb9f3a"
             ],
             [
              0.8888888888888888,
              "#fdca26"
             ],
             [
              1,
              "#f0f921"
             ]
            ],
            "type": "histogram2dcontour"
           }
          ],
          "mesh3d": [
           {
            "colorbar": {
             "outlinewidth": 0,
             "ticks": ""
            },
            "type": "mesh3d"
           }
          ],
          "parcoords": [
           {
            "line": {
             "colorbar": {
              "outlinewidth": 0,
              "ticks": ""
             }
            },
            "type": "parcoords"
           }
          ],
          "pie": [
           {
            "automargin": true,
            "type": "pie"
           }
          ],
          "scatter": [
           {
            "fillpattern": {
             "fillmode": "overlay",
             "size": 10,
             "solidity": 0.2
            },
            "type": "scatter"
           }
          ],
          "scatter3d": [
           {
            "line": {
             "colorbar": {
              "outlinewidth": 0,
              "ticks": ""
             }
            },
            "marker": {
             "colorbar": {
              "outlinewidth": 0,
              "ticks": ""
             }
            },
            "type": "scatter3d"
           }
          ],
          "scattercarpet": [
           {
            "marker": {
             "colorbar": {
              "outlinewidth": 0,
              "ticks": ""
             }
            },
            "type": "scattercarpet"
           }
          ],
          "scattergeo": [
           {
            "marker": {
             "colorbar": {
              "outlinewidth": 0,
              "ticks": ""
             }
            },
            "type": "scattergeo"
           }
          ],
          "scattergl": [
           {
            "marker": {
             "colorbar": {
              "outlinewidth": 0,
              "ticks": ""
             }
            },
            "type": "scattergl"
           }
          ],
          "scattermap": [
           {
            "marker": {
             "colorbar": {
              "outlinewidth": 0,
              "ticks": ""
             }
            },
            "type": "scattermap"
           }
          ],
          "scattermapbox": [
           {
            "marker": {
             "colorbar": {
              "outlinewidth": 0,
              "ticks": ""
             }
            },
            "type": "scattermapbox"
           }
          ],
          "scatterpolar": [
           {
            "marker": {
             "colorbar": {
              "outlinewidth": 0,
              "ticks": ""
             }
            },
            "type": "scatterpolar"
           }
          ],
          "scatterpolargl": [
           {
            "marker": {
             "colorbar": {
              "outlinewidth": 0,
              "ticks": ""
             }
            },
            "type": "scatterpolargl"
           }
          ],
          "scatterternary": [
           {
            "marker": {
             "colorbar": {
              "outlinewidth": 0,
              "ticks": ""
             }
            },
            "type": "scatterternary"
           }
          ],
          "surface": [
           {
            "colorbar": {
             "outlinewidth": 0,
             "ticks": ""
            },
            "colorscale": [
             [
              0,
              "#0d0887"
             ],
             [
              0.1111111111111111,
              "#46039f"
             ],
             [
              0.2222222222222222,
              "#7201a8"
             ],
             [
              0.3333333333333333,
              "#9c179e"
             ],
             [
              0.4444444444444444,
              "#bd3786"
             ],
             [
              0.5555555555555556,
              "#d8576b"
             ],
             [
              0.6666666666666666,
              "#ed7953"
             ],
             [
              0.7777777777777778,
              "#fb9f3a"
             ],
             [
              0.8888888888888888,
              "#fdca26"
             ],
             [
              1,
              "#f0f921"
             ]
            ],
            "type": "surface"
           }
          ],
          "table": [
           {
            "cells": {
             "fill": {
              "color": "#EBF0F8"
             },
             "line": {
              "color": "white"
             }
            },
            "header": {
             "fill": {
              "color": "#C8D4E3"
             },
             "line": {
              "color": "white"
             }
            },
            "type": "table"
           }
          ]
         },
         "layout": {
          "annotationdefaults": {
           "arrowcolor": "#2a3f5f",
           "arrowhead": 0,
           "arrowwidth": 1
          },
          "autotypenumbers": "strict",
          "coloraxis": {
           "colorbar": {
            "outlinewidth": 0,
            "ticks": ""
           }
          },
          "colorscale": {
           "diverging": [
            [
             0,
             "#8e0152"
            ],
            [
             0.1,
             "#c51b7d"
            ],
            [
             0.2,
             "#de77ae"
            ],
            [
             0.3,
             "#f1b6da"
            ],
            [
             0.4,
             "#fde0ef"
            ],
            [
             0.5,
             "#f7f7f7"
            ],
            [
             0.6,
             "#e6f5d0"
            ],
            [
             0.7,
             "#b8e186"
            ],
            [
             0.8,
             "#7fbc41"
            ],
            [
             0.9,
             "#4d9221"
            ],
            [
             1,
             "#276419"
            ]
           ],
           "sequential": [
            [
             0,
             "#0d0887"
            ],
            [
             0.1111111111111111,
             "#46039f"
            ],
            [
             0.2222222222222222,
             "#7201a8"
            ],
            [
             0.3333333333333333,
             "#9c179e"
            ],
            [
             0.4444444444444444,
             "#bd3786"
            ],
            [
             0.5555555555555556,
             "#d8576b"
            ],
            [
             0.6666666666666666,
             "#ed7953"
            ],
            [
             0.7777777777777778,
             "#fb9f3a"
            ],
            [
             0.8888888888888888,
             "#fdca26"
            ],
            [
             1,
             "#f0f921"
            ]
           ],
           "sequentialminus": [
            [
             0,
             "#0d0887"
            ],
            [
             0.1111111111111111,
             "#46039f"
            ],
            [
             0.2222222222222222,
             "#7201a8"
            ],
            [
             0.3333333333333333,
             "#9c179e"
            ],
            [
             0.4444444444444444,
             "#bd3786"
            ],
            [
             0.5555555555555556,
             "#d8576b"
            ],
            [
             0.6666666666666666,
             "#ed7953"
            ],
            [
             0.7777777777777778,
             "#fb9f3a"
            ],
            [
             0.8888888888888888,
             "#fdca26"
            ],
            [
             1,
             "#f0f921"
            ]
           ]
          },
          "colorway": [
           "#636efa",
           "#EF553B",
           "#00cc96",
           "#ab63fa",
           "#FFA15A",
           "#19d3f3",
           "#FF6692",
           "#B6E880",
           "#FF97FF",
           "#FECB52"
          ],
          "font": {
           "color": "#2a3f5f"
          },
          "geo": {
           "bgcolor": "white",
           "lakecolor": "white",
           "landcolor": "#E5ECF6",
           "showlakes": true,
           "showland": true,
           "subunitcolor": "white"
          },
          "hoverlabel": {
           "align": "left"
          },
          "hovermode": "closest",
          "mapbox": {
           "style": "light"
          },
          "paper_bgcolor": "white",
          "plot_bgcolor": "#E5ECF6",
          "polar": {
           "angularaxis": {
            "gridcolor": "white",
            "linecolor": "white",
            "ticks": ""
           },
           "bgcolor": "#E5ECF6",
           "radialaxis": {
            "gridcolor": "white",
            "linecolor": "white",
            "ticks": ""
           }
          },
          "scene": {
           "xaxis": {
            "backgroundcolor": "#E5ECF6",
            "gridcolor": "white",
            "gridwidth": 2,
            "linecolor": "white",
            "showbackground": true,
            "ticks": "",
            "zerolinecolor": "white"
           },
           "yaxis": {
            "backgroundcolor": "#E5ECF6",
            "gridcolor": "white",
            "gridwidth": 2,
            "linecolor": "white",
            "showbackground": true,
            "ticks": "",
            "zerolinecolor": "white"
           },
           "zaxis": {
            "backgroundcolor": "#E5ECF6",
            "gridcolor": "white",
            "gridwidth": 2,
            "linecolor": "white",
            "showbackground": true,
            "ticks": "",
            "zerolinecolor": "white"
           }
          },
          "shapedefaults": {
           "line": {
            "color": "#2a3f5f"
           }
          },
          "ternary": {
           "aaxis": {
            "gridcolor": "white",
            "linecolor": "white",
            "ticks": ""
           },
           "baxis": {
            "gridcolor": "white",
            "linecolor": "white",
            "ticks": ""
           },
           "bgcolor": "#E5ECF6",
           "caxis": {
            "gridcolor": "white",
            "linecolor": "white",
            "ticks": ""
           }
          },
          "title": {
           "x": 0.05
          },
          "xaxis": {
           "automargin": true,
           "gridcolor": "white",
           "linecolor": "white",
           "ticks": "",
           "title": {
            "standoff": 15
           },
           "zerolinecolor": "white",
           "zerolinewidth": 2
          },
          "yaxis": {
           "automargin": true,
           "gridcolor": "white",
           "linecolor": "white",
           "ticks": "",
           "title": {
            "standoff": 15
           },
           "zerolinecolor": "white",
           "zerolinewidth": 2
          }
         }
        },
        "title": {
         "text": "Eigenvalue Error vs Time (Log-Log Plot) qDRIFT-QPE: exponential invocations of qdrift channel (more random)"
        },
        "xaxis": {
         "anchor": "y",
         "domain": [
          0,
          1
         ],
         "title": {
          "text": "Simulation Time (Log Scale)"
         },
         "type": "log"
        },
        "yaxis": {
         "anchor": "x",
         "domain": [
          0,
          1
         ],
         "title": {
          "text": "Eigenvalue Estimation Error (Log Scale)"
         },
         "type": "log"
        }
       }
      }
     },
     "metadata": {},
     "output_type": "display_data"
    }
   ],
   "source": [
    "linear_invocations_more_random = qdrift_qpe_df_more_random[qdrift_qpe_df_more_random[\"QDRIFT Implementation\"] == \"linear invocations of qdrift channel\"]\n",
    "plot_error_vs_time(linear_invocations_more_random, \"qDRIFT-QPE: linear invocations of qdrift channel (more random)\", exact_eigenvalue)\n",
    "loglog_error_vs_time(exponential_invocations_more_random, \"qDRIFT-QPE: exponential invocations of qdrift channel (more random)\", exact_eigenvalue)"
   ]
  },
  {
   "cell_type": "code",
   "execution_count": 16,
   "id": "44c035d3",
   "metadata": {},
   "outputs": [
    {
     "name": "stdout",
     "output_type": "stream",
     "text": [
      "Num Random Circuits: 1, Smallest Error: 0.0023400833859725, Mean Error: 1.7792299796391948, Std Dev Error: 1.3258192252541472\n"
     ]
    },
    {
     "data": {
      "application/vnd.plotly.v1+json": {
       "config": {
        "plotlyServerURL": "https://plot.ly"
       },
       "data": [
        {
         "hovertemplate": "Time=%{x}<br>Error=%{y}<br>Num Ancilla=%{marker.color}<extra></extra>",
         "legendgroup": "",
         "marker": {
          "color": {
           "bdata": "BggGBggICAYGBggICAYGBggICAYGBggICAYGBggICAYGBggICAYGBggICAYGBggICAYGBggICAYGBggICAYGBggICAYGBggICAYGBggICAYGBggICAYGBggICAYGBggICAYGBggICAYGBggICAYIBgYIBggIBgYGCAgIBgYGCAgIBgYGCAgIBgYGCAgIBgYGCAgIBgYGCAgIBgYGCAgIBgYGCAgIBgYGCAgIBgYGCAgIBgYGCAgIBgYGCAgIBgYGCAgIBgYICAgGBg==",
           "dtype": "i1"
          },
          "coloraxis": "coloraxis",
          "symbol": "circle"
         },
         "mode": "markers",
         "name": "",
         "orientation": "v",
         "showlegend": false,
         "type": "scatter",
         "x": {
          "bdata": "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",
          "dtype": "f8"
         },
         "xaxis": "x",
         "y": {
          "bdata": "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",
          "dtype": "f8"
         },
         "yaxis": "y"
        }
       ],
       "layout": {
        "annotations": [
         {
          "showarrow": false,
          "text": "Magnitude of True Eigenvalue",
          "x": 0,
          "xanchor": "left",
          "xref": "x domain",
          "y": 3.1240998703626572,
          "yanchor": "bottom",
          "yref": "y"
         }
        ],
        "coloraxis": {
         "colorbar": {
          "title": {
           "text": "Num Ancilla"
          }
         },
         "colorscale": [
          [
           0,
           "#0d0887"
          ],
          [
           0.1111111111111111,
           "#46039f"
          ],
          [
           0.2222222222222222,
           "#7201a8"
          ],
          [
           0.3333333333333333,
           "#9c179e"
          ],
          [
           0.4444444444444444,
           "#bd3786"
          ],
          [
           0.5555555555555556,
           "#d8576b"
          ],
          [
           0.6666666666666666,
           "#ed7953"
          ],
          [
           0.7777777777777778,
           "#fb9f3a"
          ],
          [
           0.8888888888888888,
           "#fdca26"
          ],
          [
           1,
           "#f0f921"
          ]
         ]
        },
        "legend": {
         "title": {
          "text": "Number of Ancilla Qubits"
         },
         "tracegroupgap": 0
        },
        "shapes": [
         {
          "line": {
           "color": "red",
           "dash": "dash"
          },
          "type": "line",
          "x0": 0,
          "x1": 1,
          "xref": "x domain",
          "y0": 3.1240998703626572,
          "y1": 3.1240998703626572,
          "yref": "y"
         }
        ],
        "template": {
         "data": {
          "bar": [
           {
            "error_x": {
             "color": "#2a3f5f"
            },
            "error_y": {
             "color": "#2a3f5f"
            },
            "marker": {
             "line": {
              "color": "#E5ECF6",
              "width": 0.5
             },
             "pattern": {
              "fillmode": "overlay",
              "size": 10,
              "solidity": 0.2
             }
            },
            "type": "bar"
           }
          ],
          "barpolar": [
           {
            "marker": {
             "line": {
              "color": "#E5ECF6",
              "width": 0.5
             },
             "pattern": {
              "fillmode": "overlay",
              "size": 10,
              "solidity": 0.2
             }
            },
            "type": "barpolar"
           }
          ],
          "carpet": [
           {
            "aaxis": {
             "endlinecolor": "#2a3f5f",
             "gridcolor": "white",
             "linecolor": "white",
             "minorgridcolor": "white",
             "startlinecolor": "#2a3f5f"
            },
            "baxis": {
             "endlinecolor": "#2a3f5f",
             "gridcolor": "white",
             "linecolor": "white",
             "minorgridcolor": "white",
             "startlinecolor": "#2a3f5f"
            },
            "type": "carpet"
           }
          ],
          "choropleth": [
           {
            "colorbar": {
             "outlinewidth": 0,
             "ticks": ""
            },
            "type": "choropleth"
           }
          ],
          "contour": [
           {
            "colorbar": {
             "outlinewidth": 0,
             "ticks": ""
            },
            "colorscale": [
             [
              0,
              "#0d0887"
             ],
             [
              0.1111111111111111,
              "#46039f"
             ],
             [
              0.2222222222222222,
              "#7201a8"
             ],
             [
              0.3333333333333333,
              "#9c179e"
             ],
             [
              0.4444444444444444,
              "#bd3786"
             ],
             [
              0.5555555555555556,
              "#d8576b"
             ],
             [
              0.6666666666666666,
              "#ed7953"
             ],
             [
              0.7777777777777778,
              "#fb9f3a"
             ],
             [
              0.8888888888888888,
              "#fdca26"
             ],
             [
              1,
              "#f0f921"
             ]
            ],
            "type": "contour"
           }
          ],
          "contourcarpet": [
           {
            "colorbar": {
             "outlinewidth": 0,
             "ticks": ""
            },
            "type": "contourcarpet"
           }
          ],
          "heatmap": [
           {
            "colorbar": {
             "outlinewidth": 0,
             "ticks": ""
            },
            "colorscale": [
             [
              0,
              "#0d0887"
             ],
             [
              0.1111111111111111,
              "#46039f"
             ],
             [
              0.2222222222222222,
              "#7201a8"
             ],
             [
              0.3333333333333333,
              "#9c179e"
             ],
             [
              0.4444444444444444,
              "#bd3786"
             ],
             [
              0.5555555555555556,
              "#d8576b"
             ],
             [
              0.6666666666666666,
              "#ed7953"
             ],
             [
              0.7777777777777778,
              "#fb9f3a"
             ],
             [
              0.8888888888888888,
              "#fdca26"
             ],
             [
              1,
              "#f0f921"
             ]
            ],
            "type": "heatmap"
           }
          ],
          "histogram": [
           {
            "marker": {
             "pattern": {
              "fillmode": "overlay",
              "size": 10,
              "solidity": 0.2
             }
            },
            "type": "histogram"
           }
          ],
          "histogram2d": [
           {
            "colorbar": {
             "outlinewidth": 0,
             "ticks": ""
            },
            "colorscale": [
             [
              0,
              "#0d0887"
             ],
             [
              0.1111111111111111,
              "#46039f"
             ],
             [
              0.2222222222222222,
              "#7201a8"
             ],
             [
              0.3333333333333333,
              "#9c179e"
             ],
             [
              0.4444444444444444,
              "#bd3786"
             ],
             [
              0.5555555555555556,
              "#d8576b"
             ],
             [
              0.6666666666666666,
              "#ed7953"
             ],
             [
              0.7777777777777778,
              "#fb9f3a"
             ],
             [
              0.8888888888888888,
              "#fdca26"
             ],
             [
              1,
              "#f0f921"
             ]
            ],
            "type": "histogram2d"
           }
          ],
          "histogram2dcontour": [
           {
            "colorbar": {
             "outlinewidth": 0,
             "ticks": ""
            },
            "colorscale": [
             [
              0,
              "#0d0887"
             ],
             [
              0.1111111111111111,
              "#46039f"
             ],
             [
              0.2222222222222222,
              "#7201a8"
             ],
             [
              0.3333333333333333,
              "#9c179e"
             ],
             [
              0.4444444444444444,
              "#bd3786"
             ],
             [
              0.5555555555555556,
              "#d8576b"
             ],
             [
              0.6666666666666666,
              "#ed7953"
             ],
             [
              0.7777777777777778,
              "#fb9f3a"
             ],
             [
              0.8888888888888888,
              "#fdca26"
             ],
             [
              1,
              "#f0f921"
             ]
            ],
            "type": "histogram2dcontour"
           }
          ],
          "mesh3d": [
           {
            "colorbar": {
             "outlinewidth": 0,
             "ticks": ""
            },
            "type": "mesh3d"
           }
          ],
          "parcoords": [
           {
            "line": {
             "colorbar": {
              "outlinewidth": 0,
              "ticks": ""
             }
            },
            "type": "parcoords"
           }
          ],
          "pie": [
           {
            "automargin": true,
            "type": "pie"
           }
          ],
          "scatter": [
           {
            "fillpattern": {
             "fillmode": "overlay",
             "size": 10,
             "solidity": 0.2
            },
            "type": "scatter"
           }
          ],
          "scatter3d": [
           {
            "line": {
             "colorbar": {
              "outlinewidth": 0,
              "ticks": ""
             }
            },
            "marker": {
             "colorbar": {
              "outlinewidth": 0,
              "ticks": ""
             }
            },
            "type": "scatter3d"
           }
          ],
          "scattercarpet": [
           {
            "marker": {
             "colorbar": {
              "outlinewidth": 0,
              "ticks": ""
             }
            },
            "type": "scattercarpet"
           }
          ],
          "scattergeo": [
           {
            "marker": {
             "colorbar": {
              "outlinewidth": 0,
              "ticks": ""
             }
            },
            "type": "scattergeo"
           }
          ],
          "scattergl": [
           {
            "marker": {
             "colorbar": {
              "outlinewidth": 0,
              "ticks": ""
             }
            },
            "type": "scattergl"
           }
          ],
          "scattermap": [
           {
            "marker": {
             "colorbar": {
              "outlinewidth": 0,
              "ticks": ""
             }
            },
            "type": "scattermap"
           }
          ],
          "scattermapbox": [
           {
            "marker": {
             "colorbar": {
              "outlinewidth": 0,
              "ticks": ""
             }
            },
            "type": "scattermapbox"
           }
          ],
          "scatterpolar": [
           {
            "marker": {
             "colorbar": {
              "outlinewidth": 0,
              "ticks": ""
             }
            },
            "type": "scatterpolar"
           }
          ],
          "scatterpolargl": [
           {
            "marker": {
             "colorbar": {
              "outlinewidth": 0,
              "ticks": ""
             }
            },
            "type": "scatterpolargl"
           }
          ],
          "scatterternary": [
           {
            "marker": {
             "colorbar": {
              "outlinewidth": 0,
              "ticks": ""
             }
            },
            "type": "scatterternary"
           }
          ],
          "surface": [
           {
            "colorbar": {
             "outlinewidth": 0,
             "ticks": ""
            },
            "colorscale": [
             [
              0,
              "#0d0887"
             ],
             [
              0.1111111111111111,
              "#46039f"
             ],
             [
              0.2222222222222222,
              "#7201a8"
             ],
             [
              0.3333333333333333,
              "#9c179e"
             ],
             [
              0.4444444444444444,
              "#bd3786"
             ],
             [
              0.5555555555555556,
              "#d8576b"
             ],
             [
              0.6666666666666666,
              "#ed7953"
             ],
             [
              0.7777777777777778,
              "#fb9f3a"
             ],
             [
              0.8888888888888888,
              "#fdca26"
             ],
             [
              1,
              "#f0f921"
             ]
            ],
            "type": "surface"
           }
          ],
          "table": [
           {
            "cells": {
             "fill": {
              "color": "#EBF0F8"
             },
             "line": {
              "color": "white"
             }
            },
            "header": {
             "fill": {
              "color": "#C8D4E3"
             },
             "line": {
              "color": "white"
             }
            },
            "type": "table"
           }
          ]
         },
         "layout": {
          "annotationdefaults": {
           "arrowcolor": "#2a3f5f",
           "arrowhead": 0,
           "arrowwidth": 1
          },
          "autotypenumbers": "strict",
          "coloraxis": {
           "colorbar": {
            "outlinewidth": 0,
            "ticks": ""
           }
          },
          "colorscale": {
           "diverging": [
            [
             0,
             "#8e0152"
            ],
            [
             0.1,
             "#c51b7d"
            ],
            [
             0.2,
             "#de77ae"
            ],
            [
             0.3,
             "#f1b6da"
            ],
            [
             0.4,
             "#fde0ef"
            ],
            [
             0.5,
             "#f7f7f7"
            ],
            [
             0.6,
             "#e6f5d0"
            ],
            [
             0.7,
             "#b8e186"
            ],
            [
             0.8,
             "#7fbc41"
            ],
            [
             0.9,
             "#4d9221"
            ],
            [
             1,
             "#276419"
            ]
           ],
           "sequential": [
            [
             0,
             "#0d0887"
            ],
            [
             0.1111111111111111,
             "#46039f"
            ],
            [
             0.2222222222222222,
             "#7201a8"
            ],
            [
             0.3333333333333333,
             "#9c179e"
            ],
            [
             0.4444444444444444,
             "#bd3786"
            ],
            [
             0.5555555555555556,
             "#d8576b"
            ],
            [
             0.6666666666666666,
             "#ed7953"
            ],
            [
             0.7777777777777778,
             "#fb9f3a"
            ],
            [
             0.8888888888888888,
             "#fdca26"
            ],
            [
             1,
             "#f0f921"
            ]
           ],
           "sequentialminus": [
            [
             0,
             "#0d0887"
            ],
            [
             0.1111111111111111,
             "#46039f"
            ],
            [
             0.2222222222222222,
             "#7201a8"
            ],
            [
             0.3333333333333333,
             "#9c179e"
            ],
            [
             0.4444444444444444,
             "#bd3786"
            ],
            [
             0.5555555555555556,
             "#d8576b"
            ],
            [
             0.6666666666666666,
             "#ed7953"
            ],
            [
             0.7777777777777778,
             "#fb9f3a"
            ],
            [
             0.8888888888888888,
             "#fdca26"
            ],
            [
             1,
             "#f0f921"
            ]
           ]
          },
          "colorway": [
           "#636efa",
           "#EF553B",
           "#00cc96",
           "#ab63fa",
           "#FFA15A",
           "#19d3f3",
           "#FF6692",
           "#B6E880",
           "#FF97FF",
           "#FECB52"
          ],
          "font": {
           "color": "#2a3f5f"
          },
          "geo": {
           "bgcolor": "white",
           "lakecolor": "white",
           "landcolor": "#E5ECF6",
           "showlakes": true,
           "showland": true,
           "subunitcolor": "white"
          },
          "hoverlabel": {
           "align": "left"
          },
          "hovermode": "closest",
          "mapbox": {
           "style": "light"
          },
          "paper_bgcolor": "white",
          "plot_bgcolor": "#E5ECF6",
          "polar": {
           "angularaxis": {
            "gridcolor": "white",
            "linecolor": "white",
            "ticks": ""
           },
           "bgcolor": "#E5ECF6",
           "radialaxis": {
            "gridcolor": "white",
            "linecolor": "white",
            "ticks": ""
           }
          },
          "scene": {
           "xaxis": {
            "backgroundcolor": "#E5ECF6",
            "gridcolor": "white",
            "gridwidth": 2,
            "linecolor": "white",
            "showbackground": true,
            "ticks": "",
            "zerolinecolor": "white"
           },
           "yaxis": {
            "backgroundcolor": "#E5ECF6",
            "gridcolor": "white",
            "gridwidth": 2,
            "linecolor": "white",
            "showbackground": true,
            "ticks": "",
            "zerolinecolor": "white"
           },
           "zaxis": {
            "backgroundcolor": "#E5ECF6",
            "gridcolor": "white",
            "gridwidth": 2,
            "linecolor": "white",
            "showbackground": true,
            "ticks": "",
            "zerolinecolor": "white"
           }
          },
          "shapedefaults": {
           "line": {
            "color": "#2a3f5f"
           }
          },
          "ternary": {
           "aaxis": {
            "gridcolor": "white",
            "linecolor": "white",
            "ticks": ""
           },
           "baxis": {
            "gridcolor": "white",
            "linecolor": "white",
            "ticks": ""
           },
           "bgcolor": "#E5ECF6",
           "caxis": {
            "gridcolor": "white",
            "linecolor": "white",
            "ticks": ""
           }
          },
          "title": {
           "x": 0.05
          },
          "xaxis": {
           "automargin": true,
           "gridcolor": "white",
           "linecolor": "white",
           "ticks": "",
           "title": {
            "standoff": 15
           },
           "zerolinecolor": "white",
           "zerolinewidth": 2
          },
          "yaxis": {
           "automargin": true,
           "gridcolor": "white",
           "linecolor": "white",
           "ticks": "",
           "title": {
            "standoff": 15
           },
           "zerolinecolor": "white",
           "zerolinewidth": 2
          }
         }
        },
        "title": {
         "text": "Eigenvalue Error vs Time (Scatter Plot) qDRIFT-QPE: 1 random circuits"
        },
        "xaxis": {
         "anchor": "y",
         "domain": [
          0,
          1
         ],
         "title": {
          "text": "Simulation Time"
         }
        },
        "yaxis": {
         "anchor": "x",
         "domain": [
          0,
          1
         ],
         "title": {
          "text": "Eigenvalue Estimation Error"
         }
        }
       }
      }
     },
     "metadata": {},
     "output_type": "display_data"
    },
    {
     "name": "stdout",
     "output_type": "stream",
     "text": [
      "Num Random Circuits: 1024, Smallest Error: 0.0023400833859725, Mean Error: 1.7360270759635847, Std Dev Error: 1.3589036944826907\n"
     ]
    },
    {
     "data": {
      "application/vnd.plotly.v1+json": {
       "config": {
        "plotlyServerURL": "https://plot.ly"
       },
       "data": [
        {
         "hovertemplate": "Time=%{x}<br>Error=%{y}<br>Num Ancilla=%{marker.color}<extra></extra>",
         "legendgroup": "",
         "marker": {
          "color": {
           "bdata": "BgYICAgGBgYICAgGBgYICAgGBgYICAgGBgYICAgGBgYICAgGBgYICAgGBgYICAgGBgYICAgGBgYICAgGBgYICAgGBgYICAgGBgYICAgGBgYICAgGBgYICAgGBgYICAgGBgYICAgGBgYIBggICAYGBggICAYGBggICAYGBggICAYGBggICAYGBggICAYGBggICAYGBggICAYGBggICAYGBggICAYGBggICAYGBggICAYGBggICAYGBggICAYGBggICAYGCAYICAY=",
           "dtype": "i1"
          },
          "coloraxis": "coloraxis",
          "symbol": "circle"
         },
         "mode": "markers",
         "name": "",
         "orientation": "v",
         "showlegend": false,
         "type": "scatter",
         "x": {
          "bdata": "NpneAw8Dcz/8qfHSTWJQPx32ZqW4D5Y//Knx0k1iUD82md4DDwNzP/VJSkukHJc/RWEorM7qcz/RimjZBCpRP/VJSkukHJc/RWEorM7qcz/RimjZBCpRP0RG9vtdNpg/kZTMQpfddD9rR4hTPvtRP0RG9vtdNpg/a0eIUz77UT+RlMxCl910P1QTjM2BXZk/0J5jLG7WUj8beapK79t1P1QTjM2BXZk/0J5jLG7WUj8beapK79t1PxnFz0Szkpo/HsVFrmPmdj8Zjg3UDbxTPxnFz0Szkpo/HsVFrmPmdj8Zjg3UDbxTP7PMwK+d1ps/vEvhgpysVD/xRNkNiP13P7PMwK+d1ps/vEvhgpysVD/xRNkNiP13PzG7goT0KZ0/0FT+f5+oVT8nKyER9yF5PzG7goT0KZ0/0FT+f5+oVT8nKyER9yF5P6buysRzjZ4/Yr4fa6KwVj/gXwq9UlR6P6buysRzjZ4/Yr4fa6KwVj/gXwq9UlR6P3UeBTPwAKA/SUd2zUSVez8ckveJN8VXP3UeBTPwAKA/SUd2zUSVez8ckveJN8VXPyUqRl8ExKA/3xs5GfjmWD/NvEQTf+V8PyUqRl8ExKA/3xs5GfjmWD/NvEQTf+V8P+wbf6GEFlo/M6Lke2KQoT9CWdjWu0V+P+wbf6GEFlo/QlnY1rtFfj8zouR7YpChP8fZPFCFVFs/AJxLP762fz/bRBTDe2aiP8fZPFCFVFs/AJxLP762fz/bRBTDe2aiP1lW61SqoVw/c/g708ZGoz+eEUhfqZyAP1lW61SqoVw/nhFIX6mcgD9z+DvTxkajP0NbpkKs/l0/0eyt8L8xpD/A7lnBJ2eBP0NbpkKs/l0/0eyt8L8xpD/A7lnBJ2eBP3xXb3ZMbF8/KHlFdko7gj8W1IBK6SelP3xXb3ZMbF8/KHlFdko7gj8W1IBK6SelP3loJ8GqdWA/0liwQssppj+8EgAGhxmDP3loJ8GqdWA/vBIABocZgz/SWLBCyymmP7bVx85NPmE/KEYokVgChD/uxqy59DenP7bVx85NPmE/7sasufQ3pz8oRiiRWAKEP8FEKY1+EGI/2WQ9FUD2hD+dxINd+1KoP8FEKY1+EGI/iC9dcLHsYj/ZZD0VQPaEP53Eg137Uqg/iC9dcLHsYj9W9838e3upP1+sFrTE9YU/1Dj7d2DTYz9W9838e3upP1+sFrTE9YU/1Dj7d2DTYz+MhY/dGrKqP6uQwf5zAYc/Qqi4cgvFZD+MhY/dGrKqP6uQwf5zAYc/Qqi4cgvFZD/umDsYhPerP9ak8EPiGYg/Rcs3RTjCZT/umDsYhPerP9ak8EPiGYg/Rcs3RTjCZT/2lCbiqj+JP0lMDfdrTK0/VYg2NHPLZj/2lCbiqj+JP0lMDfdrTK0/VYg2NHPLZj+wIEUyT+FnP4O5yp1wc4o/zNnqWY+xrj+wIEUyT+FnP8zZ6lmPsa4/g7nKnXBzij/gUjAxZgRpP0cwhQ/aE7A/VfRW+921iz/gUjAxZgRpP0cwhQ/aE7A/VfRW+921iz8w1Ut3WTVqPzbO0J2lB40/kx1JyNTXsD8w1Ut3WTVqPzbO0J2lB40/kx1JyNTXsD/ki8z40XRrP/8qwqmCaY4/JdK4aySlsT//KsKpgmmOP+SLzPjRdGs/JdK4aySlsT8tbOgsOdyPP2yl2Lk6fLI/+9pjtYDDbD9spdi5OnyyPy1s6Cw53I8/+9pjtYDDbD+suGlFS7CQP3Q+P92OXbM/6AxQGh8ibj90Pj/djl2zP+gMUBofIm4/rLhpRUuwkD9SEBhpb5FvP5NTWPe4e5E/MmAbrZ1JtD9SEBhpb5FvPzJgG62dSbQ/k1NY97h7kT91v5WRHolwP6OWQGHWUJI/fIBe8ulAtT91v5WRHolwP3yAXvLpQLU/o5ZAYdZQkj9tR1G9rlJxP+CR/pUZMJM/rXsysPxDtj9tR1G9rlJxP617MrD8Q7Y/4JH+lRkwkz8gMi7k1yVyPz6mtEf+GZQ/cYrib2VTtz8gMi7k1yVyPz6mtEf+GZQ/cYrib2VTtz+MwFMMBg+VPzyIYZC6b7g/PIhhkLpvuD8d9maluA+WP4zAUwwGD5U/mpmZmZmZuT+amZmZmZm5Pw==",
          "dtype": "f8"
         },
         "xaxis": "x",
         "y": {
          "bdata": "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",
          "dtype": "f8"
         },
         "yaxis": "y"
        }
       ],
       "layout": {
        "annotations": [
         {
          "showarrow": false,
          "text": "Magnitude of True Eigenvalue",
          "x": 0,
          "xanchor": "left",
          "xref": "x domain",
          "y": 3.1240998703626572,
          "yanchor": "bottom",
          "yref": "y"
         }
        ],
        "coloraxis": {
         "colorbar": {
          "title": {
           "text": "Num Ancilla"
          }
         },
         "colorscale": [
          [
           0,
           "#0d0887"
          ],
          [
           0.1111111111111111,
           "#46039f"
          ],
          [
           0.2222222222222222,
           "#7201a8"
          ],
          [
           0.3333333333333333,
           "#9c179e"
          ],
          [
           0.4444444444444444,
           "#bd3786"
          ],
          [
           0.5555555555555556,
           "#d8576b"
          ],
          [
           0.6666666666666666,
           "#ed7953"
          ],
          [
           0.7777777777777778,
           "#fb9f3a"
          ],
          [
           0.8888888888888888,
           "#fdca26"
          ],
          [
           1,
           "#f0f921"
          ]
         ]
        },
        "legend": {
         "title": {
          "text": "Number of Ancilla Qubits"
         },
         "tracegroupgap": 0
        },
        "shapes": [
         {
          "line": {
           "color": "red",
           "dash": "dash"
          },
          "type": "line",
          "x0": 0,
          "x1": 1,
          "xref": "x domain",
          "y0": 3.1240998703626572,
          "y1": 3.1240998703626572,
          "yref": "y"
         }
        ],
        "template": {
         "data": {
          "bar": [
           {
            "error_x": {
             "color": "#2a3f5f"
            },
            "error_y": {
             "color": "#2a3f5f"
            },
            "marker": {
             "line": {
              "color": "#E5ECF6",
              "width": 0.5
             },
             "pattern": {
              "fillmode": "overlay",
              "size": 10,
              "solidity": 0.2
             }
            },
            "type": "bar"
           }
          ],
          "barpolar": [
           {
            "marker": {
             "line": {
              "color": "#E5ECF6",
              "width": 0.5
             },
             "pattern": {
              "fillmode": "overlay",
              "size": 10,
              "solidity": 0.2
             }
            },
            "type": "barpolar"
           }
          ],
          "carpet": [
           {
            "aaxis": {
             "endlinecolor": "#2a3f5f",
             "gridcolor": "white",
             "linecolor": "white",
             "minorgridcolor": "white",
             "startlinecolor": "#2a3f5f"
            },
            "baxis": {
             "endlinecolor": "#2a3f5f",
             "gridcolor": "white",
             "linecolor": "white",
             "minorgridcolor": "white",
             "startlinecolor": "#2a3f5f"
            },
            "type": "carpet"
           }
          ],
          "choropleth": [
           {
            "colorbar": {
             "outlinewidth": 0,
             "ticks": ""
            },
            "type": "choropleth"
           }
          ],
          "contour": [
           {
            "colorbar": {
             "outlinewidth": 0,
             "ticks": ""
            },
            "colorscale": [
             [
              0,
              "#0d0887"
             ],
             [
              0.1111111111111111,
              "#46039f"
             ],
             [
              0.2222222222222222,
              "#7201a8"
             ],
             [
              0.3333333333333333,
              "#9c179e"
             ],
             [
              0.4444444444444444,
              "#bd3786"
             ],
             [
              0.5555555555555556,
              "#d8576b"
             ],
             [
              0.6666666666666666,
              "#ed7953"
             ],
             [
              0.7777777777777778,
              "#fb9f3a"
             ],
             [
              0.8888888888888888,
              "#fdca26"
             ],
             [
              1,
              "#f0f921"
             ]
            ],
            "type": "contour"
           }
          ],
          "contourcarpet": [
           {
            "colorbar": {
             "outlinewidth": 0,
             "ticks": ""
            },
            "type": "contourcarpet"
           }
          ],
          "heatmap": [
           {
            "colorbar": {
             "outlinewidth": 0,
             "ticks": ""
            },
            "colorscale": [
             [
              0,
              "#0d0887"
             ],
             [
              0.1111111111111111,
              "#46039f"
             ],
             [
              0.2222222222222222,
              "#7201a8"
             ],
             [
              0.3333333333333333,
              "#9c179e"
             ],
             [
              0.4444444444444444,
              "#bd3786"
             ],
             [
              0.5555555555555556,
              "#d8576b"
             ],
             [
              0.6666666666666666,
              "#ed7953"
             ],
             [
              0.7777777777777778,
              "#fb9f3a"
             ],
             [
              0.8888888888888888,
              "#fdca26"
             ],
             [
              1,
              "#f0f921"
             ]
            ],
            "type": "heatmap"
           }
          ],
          "histogram": [
           {
            "marker": {
             "pattern": {
              "fillmode": "overlay",
              "size": 10,
              "solidity": 0.2
             }
            },
            "type": "histogram"
           }
          ],
          "histogram2d": [
           {
            "colorbar": {
             "outlinewidth": 0,
             "ticks": ""
            },
            "colorscale": [
             [
              0,
              "#0d0887"
             ],
             [
              0.1111111111111111,
              "#46039f"
             ],
             [
              0.2222222222222222,
              "#7201a8"
             ],
             [
              0.3333333333333333,
              "#9c179e"
             ],
             [
              0.4444444444444444,
              "#bd3786"
             ],
             [
              0.5555555555555556,
              "#d8576b"
             ],
             [
              0.6666666666666666,
              "#ed7953"
             ],
             [
              0.7777777777777778,
              "#fb9f3a"
             ],
             [
              0.8888888888888888,
              "#fdca26"
             ],
             [
              1,
              "#f0f921"
             ]
            ],
            "type": "histogram2d"
           }
          ],
          "histogram2dcontour": [
           {
            "colorbar": {
             "outlinewidth": 0,
             "ticks": ""
            },
            "colorscale": [
             [
              0,
              "#0d0887"
             ],
             [
              0.1111111111111111,
              "#46039f"
             ],
             [
              0.2222222222222222,
              "#7201a8"
             ],
             [
              0.3333333333333333,
              "#9c179e"
             ],
             [
              0.4444444444444444,
              "#bd3786"
             ],
             [
              0.5555555555555556,
              "#d8576b"
             ],
             [
              0.6666666666666666,
              "#ed7953"
             ],
             [
              0.7777777777777778,
              "#fb9f3a"
             ],
             [
              0.8888888888888888,
              "#fdca26"
             ],
             [
              1,
              "#f0f921"
             ]
            ],
            "type": "histogram2dcontour"
           }
          ],
          "mesh3d": [
           {
            "colorbar": {
             "outlinewidth": 0,
             "ticks": ""
            },
            "type": "mesh3d"
           }
          ],
          "parcoords": [
           {
            "line": {
             "colorbar": {
              "outlinewidth": 0,
              "ticks": ""
             }
            },
            "type": "parcoords"
           }
          ],
          "pie": [
           {
            "automargin": true,
            "type": "pie"
           }
          ],
          "scatter": [
           {
            "fillpattern": {
             "fillmode": "overlay",
             "size": 10,
             "solidity": 0.2
            },
            "type": "scatter"
           }
          ],
          "scatter3d": [
           {
            "line": {
             "colorbar": {
              "outlinewidth": 0,
              "ticks": ""
             }
            },
            "marker": {
             "colorbar": {
              "outlinewidth": 0,
              "ticks": ""
             }
            },
            "type": "scatter3d"
           }
          ],
          "scattercarpet": [
           {
            "marker": {
             "colorbar": {
              "outlinewidth": 0,
              "ticks": ""
             }
            },
            "type": "scattercarpet"
           }
          ],
          "scattergeo": [
           {
            "marker": {
             "colorbar": {
              "outlinewidth": 0,
              "ticks": ""
             }
            },
            "type": "scattergeo"
           }
          ],
          "scattergl": [
           {
            "marker": {
             "colorbar": {
              "outlinewidth": 0,
              "ticks": ""
             }
            },
            "type": "scattergl"
           }
          ],
          "scattermap": [
           {
            "marker": {
             "colorbar": {
              "outlinewidth": 0,
              "ticks": ""
             }
            },
            "type": "scattermap"
           }
          ],
          "scattermapbox": [
           {
            "marker": {
             "colorbar": {
              "outlinewidth": 0,
              "ticks": ""
             }
            },
            "type": "scattermapbox"
           }
          ],
          "scatterpolar": [
           {
            "marker": {
             "colorbar": {
              "outlinewidth": 0,
              "ticks": ""
             }
            },
            "type": "scatterpolar"
           }
          ],
          "scatterpolargl": [
           {
            "marker": {
             "colorbar": {
              "outlinewidth": 0,
              "ticks": ""
             }
            },
            "type": "scatterpolargl"
           }
          ],
          "scatterternary": [
           {
            "marker": {
             "colorbar": {
              "outlinewidth": 0,
              "ticks": ""
             }
            },
            "type": "scatterternary"
           }
          ],
          "surface": [
           {
            "colorbar": {
             "outlinewidth": 0,
             "ticks": ""
            },
            "colorscale": [
             [
              0,
              "#0d0887"
             ],
             [
              0.1111111111111111,
              "#46039f"
             ],
             [
              0.2222222222222222,
              "#7201a8"
             ],
             [
              0.3333333333333333,
              "#9c179e"
             ],
             [
              0.4444444444444444,
              "#bd3786"
             ],
             [
              0.5555555555555556,
              "#d8576b"
             ],
             [
              0.6666666666666666,
              "#ed7953"
             ],
             [
              0.7777777777777778,
              "#fb9f3a"
             ],
             [
              0.8888888888888888,
              "#fdca26"
             ],
             [
              1,
              "#f0f921"
             ]
            ],
            "type": "surface"
           }
          ],
          "table": [
           {
            "cells": {
             "fill": {
              "color": "#EBF0F8"
             },
             "line": {
              "color": "white"
             }
            },
            "header": {
             "fill": {
              "color": "#C8D4E3"
             },
             "line": {
              "color": "white"
             }
            },
            "type": "table"
           }
          ]
         },
         "layout": {
          "annotationdefaults": {
           "arrowcolor": "#2a3f5f",
           "arrowhead": 0,
           "arrowwidth": 1
          },
          "autotypenumbers": "strict",
          "coloraxis": {
           "colorbar": {
            "outlinewidth": 0,
            "ticks": ""
           }
          },
          "colorscale": {
           "diverging": [
            [
             0,
             "#8e0152"
            ],
            [
             0.1,
             "#c51b7d"
            ],
            [
             0.2,
             "#de77ae"
            ],
            [
             0.3,
             "#f1b6da"
            ],
            [
             0.4,
             "#fde0ef"
            ],
            [
             0.5,
             "#f7f7f7"
            ],
            [
             0.6,
             "#e6f5d0"
            ],
            [
             0.7,
             "#b8e186"
            ],
            [
             0.8,
             "#7fbc41"
            ],
            [
             0.9,
             "#4d9221"
            ],
            [
             1,
             "#276419"
            ]
           ],
           "sequential": [
            [
             0,
             "#0d0887"
            ],
            [
             0.1111111111111111,
             "#46039f"
            ],
            [
             0.2222222222222222,
             "#7201a8"
            ],
            [
             0.3333333333333333,
             "#9c179e"
            ],
            [
             0.4444444444444444,
             "#bd3786"
            ],
            [
             0.5555555555555556,
             "#d8576b"
            ],
            [
             0.6666666666666666,
             "#ed7953"
            ],
            [
             0.7777777777777778,
             "#fb9f3a"
            ],
            [
             0.8888888888888888,
             "#fdca26"
            ],
            [
             1,
             "#f0f921"
            ]
           ],
           "sequentialminus": [
            [
             0,
             "#0d0887"
            ],
            [
             0.1111111111111111,
             "#46039f"
            ],
            [
             0.2222222222222222,
             "#7201a8"
            ],
            [
             0.3333333333333333,
             "#9c179e"
            ],
            [
             0.4444444444444444,
             "#bd3786"
            ],
            [
             0.5555555555555556,
             "#d8576b"
            ],
            [
             0.6666666666666666,
             "#ed7953"
            ],
            [
             0.7777777777777778,
             "#fb9f3a"
            ],
            [
             0.8888888888888888,
             "#fdca26"
            ],
            [
             1,
             "#f0f921"
            ]
           ]
          },
          "colorway": [
           "#636efa",
           "#EF553B",
           "#00cc96",
           "#ab63fa",
           "#FFA15A",
           "#19d3f3",
           "#FF6692",
           "#B6E880",
           "#FF97FF",
           "#FECB52"
          ],
          "font": {
           "color": "#2a3f5f"
          },
          "geo": {
           "bgcolor": "white",
           "lakecolor": "white",
           "landcolor": "#E5ECF6",
           "showlakes": true,
           "showland": true,
           "subunitcolor": "white"
          },
          "hoverlabel": {
           "align": "left"
          },
          "hovermode": "closest",
          "mapbox": {
           "style": "light"
          },
          "paper_bgcolor": "white",
          "plot_bgcolor": "#E5ECF6",
          "polar": {
           "angularaxis": {
            "gridcolor": "white",
            "linecolor": "white",
            "ticks": ""
           },
           "bgcolor": "#E5ECF6",
           "radialaxis": {
            "gridcolor": "white",
            "linecolor": "white",
            "ticks": ""
           }
          },
          "scene": {
           "xaxis": {
            "backgroundcolor": "#E5ECF6",
            "gridcolor": "white",
            "gridwidth": 2,
            "linecolor": "white",
            "showbackground": true,
            "ticks": "",
            "zerolinecolor": "white"
           },
           "yaxis": {
            "backgroundcolor": "#E5ECF6",
            "gridcolor": "white",
            "gridwidth": 2,
            "linecolor": "white",
            "showbackground": true,
            "ticks": "",
            "zerolinecolor": "white"
           },
           "zaxis": {
            "backgroundcolor": "#E5ECF6",
            "gridcolor": "white",
            "gridwidth": 2,
            "linecolor": "white",
            "showbackground": true,
            "ticks": "",
            "zerolinecolor": "white"
           }
          },
          "shapedefaults": {
           "line": {
            "color": "#2a3f5f"
           }
          },
          "ternary": {
           "aaxis": {
            "gridcolor": "white",
            "linecolor": "white",
            "ticks": ""
           },
           "baxis": {
            "gridcolor": "white",
            "linecolor": "white",
            "ticks": ""
           },
           "bgcolor": "#E5ECF6",
           "caxis": {
            "gridcolor": "white",
            "linecolor": "white",
            "ticks": ""
           }
          },
          "title": {
           "x": 0.05
          },
          "xaxis": {
           "automargin": true,
           "gridcolor": "white",
           "linecolor": "white",
           "ticks": "",
           "title": {
            "standoff": 15
           },
           "zerolinecolor": "white",
           "zerolinewidth": 2
          },
          "yaxis": {
           "automargin": true,
           "gridcolor": "white",
           "linecolor": "white",
           "ticks": "",
           "title": {
            "standoff": 15
           },
           "zerolinecolor": "white",
           "zerolinewidth": 2
          }
         }
        },
        "title": {
         "text": "Eigenvalue Error vs Time (Scatter Plot) qDRIFT-QPE: 1024 random circuits"
        },
        "xaxis": {
         "anchor": "y",
         "domain": [
          0,
          1
         ],
         "title": {
          "text": "Simulation Time"
         }
        },
        "yaxis": {
         "anchor": "x",
         "domain": [
          0,
          1
         ],
         "title": {
          "text": "Eigenvalue Estimation Error"
         }
        }
       }
      }
     },
     "metadata": {},
     "output_type": "display_data"
    }
   ],
   "source": [
    "qdrift_qpe_df_other_parameters = pd.read_csv(\"qdrift_ising_model_sweep_data_all_2025-06-05.csv\")\n",
    "expected_eigenvalue = 3.1240998703626572\n",
    "for group in qdrift_qpe_df_other_parameters.groupby(\"Num Random Circuits\"):\n",
    "    num_random_circuits, group_df = group\n",
    "    title_suffix = f\"qDRIFT-QPE: {num_random_circuits} random circuits\"\n",
    "    smallest_error = group_df[\"Eigenvalue Error\"].min()\n",
    "    mean_error = group_df[\"Eigenvalue Error\"].mean()\n",
    "    stdev_error = group_df[\"Eigenvalue Error\"].std()\n",
    "    print(f\"Num Random Circuits: {num_random_circuits}, Smallest Error: {smallest_error}, Mean Error: {mean_error}, Std Dev Error: {stdev_error}\")\n",
    "    plot_error_vs_time(group_df, title_suffix, expected_eigenvalue)"
   ]
  }
 ],
 "metadata": {
  "kernelspec": {
   "display_name": ".venv",
   "language": "python",
   "name": "python3"
  },
  "language_info": {
   "codemirror_mode": {
    "name": "ipython",
    "version": 3
   },
   "file_extension": ".py",
   "mimetype": "text/x-python",
   "name": "python",
   "nbconvert_exporter": "python",
   "pygments_lexer": "ipython3",
   "version": "3.13.3"
  }
 },
 "nbformat": 4,
 "nbformat_minor": 5
}
