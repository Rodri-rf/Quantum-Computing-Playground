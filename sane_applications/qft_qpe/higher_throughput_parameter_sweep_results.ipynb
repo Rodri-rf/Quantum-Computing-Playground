{
 "cells": [
  {
   "cell_type": "code",
   "execution_count": 1,
   "id": "cf01889b",
   "metadata": {},
   "outputs": [],
   "source": [
    "import pandas as pd\n",
    "import numpy as np\n",
    "import seaborn as sns\n",
    "from pathlib import Path\n",
    "import plotly.express as px"
   ]
  },
  {
   "cell_type": "code",
   "execution_count": 2,
   "id": "56181c3c",
   "metadata": {},
   "outputs": [],
   "source": [
    "# Load CSVs\n",
    "standard_csv = Path(\"ising_model_sweep_data.csv\")\n",
    "qdrift_csv = Path(\"qdrift_ising_model_sweep_data.csv\")\n",
    "qdrift_csv2 = Path(\"qdrift_ising_model_sweep_data2.csv\")"
   ]
  },
  {
   "cell_type": "code",
   "execution_count": null,
   "id": "1abb5782",
   "metadata": {},
   "outputs": [],
   "source": [
    "\n",
    "\n",
    "def plot_error_vs_time(df: pd.DataFrame, title_suffix, true_eigenval):\n",
    "\n",
    "    fig_scatter = px.scatter(\n",
    "        df,\n",
    "        x=\"Time\",\n",
    "        y=\"Eigenvalue Error\",\n",
    "        color=\"Num Ancilla\",\n",
    "        title=f\"Eigenvalue Error vs Time (Scatter Plot) {title_suffix}\",\n",
    "        labels={\"Eigenvalue Error\": \"Error\", \"Num Qubits\": \"# Qubits\"},\n",
    "    )\n",
    "    # Add a horizontal line for the true eigenvalue\n",
    "\n",
    "    fig_scatter.add_hline(y=true_eigenval, line_dash=\"dash\", line_color=\"red\", annotation_text=\"True Eigenvalue\", annotation_position=\"top left\")\n",
    "    fig_scatter.update_layout(\n",
    "        xaxis_title=\"Simulation Time\",\n",
    "        yaxis_title=\"Eigenvalue Estimation Error\",\n",
    "        legend_title=\"Number of Ancilla Qubits\",\n",
    "    )\n",
    "\n",
    "    fig_scatter.show()\n",
    "\n",
    "def plot_error_vs_ancilla(df: pd.DataFrame, title_suffix=\"\"):\n",
    "    fig = px.box(\n",
    "        df,\n",
    "        x=\"Num Ancilla\",\n",
    "        y=\"Eigenvalue Error\",\n",
    "        points=\"all\",\n",
    "        title=f\"Error vs Number of Ancilla Qubits {title_suffix}\",\n",
    "        labels={\"Num Ancilla\": \"# Ancilla Qubits\", \"Eigenvalue Error\": \"Eigenvalue Estimation Error\"},\n",
    "    )\n",
    "    fig.show()\n",
    "\n",
    "def plot_3d_relationship(df: pd.DataFrame, title_suffix=\"\"):\n",
    "    fig = px.scatter_3d(\n",
    "        df,\n",
    "        x=\"Time\",\n",
    "        y=\"Num Ancilla\",\n",
    "        z=\"Eigenvalue Error\",\n",
    "        color=\"Eigenvalue Error\",\n",
    "        title=f\"3D Plot of Error vs Time vs Ancilla Qubits {title_suffix}\",\n",
    "        labels={\"Time\": \"Simulation Time\", \"Num Ancilla\": \"# Ancilla Qubits\", \"Eigenvalue Error\": \"Error\"},\n",
    "    )\n",
    "    fig.show()\n",
    "\n",
    "qdrift_df = pd.read_csv(qdrift_csv)\n"
   ]
  },
  {
   "cell_type": "code",
   "execution_count": 4,
   "id": "f6e5fb16",
   "metadata": {},
   "outputs": [
    {
     "data": {
      "application/vnd.plotly.v1+json": {
       "config": {
        "plotlyServerURL": "https://plot.ly"
       },
       "data": [
        {
         "hovertemplate": "Time=%{x}<br>Error=%{y}<br>Num Ancilla=%{marker.color}<extra></extra>",
         "legendgroup": "",
         "marker": {
          "color": {
           "bdata": "BQUFBQUFBQUFBQUFBQUFBQUFBQUFBQUFBQUFBQUFBQUFBQUFBQUFBQUFBQUFBQUFBQUFBQUFBQUFBQUFBQUFBQUFBQUFBQUFBQUFBQUFBQUFBQUFBQUFBQUFBQUFBQUFBQUFBQUFBQUFBQUFBQUFBQUFBQUFBQUFBQUFBQUFBQUFBQUFBQUFBQUFBQUFBQUFBQUFBQUFBQUFBQUFBQUFBQUFBQUFBQUFBQUFBQUFBQUFBQUFBQUFBQUFBQUFBQUFBQUFBQUFBQUKCgoKCgoKCgoKCgoKCgoKCgoKCgoKCgoKCgoKCgoKCgoKCgoKCgoKCgoKCgoKCgoKCgoKCgoKCgoKCgoKCgoKCgoKCgoKCgoKCgoKCgoKCgoKCgoKCgoKCgoKCgoKCgoKCgoK",
           "dtype": "i1"
          },
          "coloraxis": "coloraxis",
          "symbol": "circle"
         },
         "mode": "markers",
         "name": "",
         "orientation": "v",
         "showlegend": false,
         "type": "scatter",
         "x": {
          "bdata": "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",
          "dtype": "f8"
         },
         "xaxis": "x",
         "y": {
          "bdata": "p3RVdI8SAkC/l/S1icszQKwaN4Nxr+M/nhG9Rhhu+D8fn/1bBevTPzMzMzMzMwNA5BquNTnp6z8zMzMzMzMDQN26PZ+IcwFAb9oInl4NMkBU5EVP1UkkQJtOv0vyywBAMzMzMzMzA0B9wrX17WwDQAbRXwdXrBJAJBiQWWHb4z8tpAYZRYb9P0tqnsCHRANAJ1rBTyHo2T/cvrn5VNzjP81HZzZyzQJAMzMzMzMzA0AivcexIpobQG4DnNJ1Qu4/h8xIkAYzAkAoe1jAnLrnP66+uzKB4cs/MzMzMzMzA0D6vjFNp7LxP6jZqcppohhA40ZqQm6dAUC/8mbLLsKrPxWbnY29/wpAc361iVZr+D+OHZM+57YCQORQHk+Vk/A/fvKkp38Ttz9rfvJIcAwBQKNEet8AFwdAeChycf3m6z9s4LpQkOrrP53LXeT9xQpAuJeBItnk2T9bNiNBvUoGQGGZnRTXfwBA/gAqVt8h8j+qtnZMPXD1P/+5zzZ89ss/+rn3khSuqz+MMTiJZnvpPw3d/FCdTwJATbngyXBp/z8vtp1CAsTyP9ZJmGY9vPs/1eJSW8V/AEDvvszFdPrLP5u9YBNmwgFAHz6KZ7x+CkDe8GILXOH8P1zkWrVM8ds/qNzma+jy2z+WthaXq4oeQF2RkK5GOQFAWZu8FcoJ8T9zVa6LtxEEQDZOsO7fb/U/J2UkVp4yAEBQ4FU6ErQAQJNhQLLd5P0/Xf7njzAZAEDUfhJlWmEDQAiUSqh2wNE/WldA+IVp/z+T6JwVErcCQLoUs62Saf8/rwisr7R0/j/jyRJwXsYCQCqSmUCBhv0/ZHvQ3rUQ9z8RpqRnfGcAQOCfFVwQKf0/Rtbiah3f/z9rzxlq5TsDQIF/3uV89f4/nR7mQgstAUAObhPp2RH+P/IO+RaWDPs/CfVuOPoz/T+Ghm+PhKjwP2paQ4GmW/w/hMnSyE3r/D8C6kQsqoj7P6v+lMAwMgFAeWPloijhAkDOoGkb6Lr9P8gH6iHZLfk/Zv24el1u+D8pR26vaFQBQMZnTUgEmfo/KY5J8d9/AEC6Sy/j9LbyP4657X8zkhNAtkrnY0TuDkA1pbpbHbwEQDMzMzMzMwNAkGIgDaeaxD8zMzMzMzMDQMjv8SBX6us/VtQZ0ZhuCED0WI/LyXHoP0un/Ju6EQRA+vkjaWkM+z8zMzMzMzMDQFu8E96GmxxAJBiQWWHb4z88n12S/BgcQH3CtfXtbANAiQTsk9GtCUAzMzMzMzMDQPtZmbZC7yFA3Q92El7s7z8P+3m5Rv0xQM1HZzZyzQJACfIjrs+jBUCzTLNDYg8EQAmrilljrwZAfmPr7JAK+j9uA5zSdULuP3NdG6fQ1gRAh8xIkAYzAkAx/BnWNuwLQFOVutv20UFAxgxhkjQO/D93xuk93er8PzMzMzMzMwNA40ZqQm6dAUAlocW1dRwDQAzkuDj7wQFA5P+KGOsJ4j+DBNROfSEIQHgocnH95us/a37ySHAMAUAGDD4iA3MSQNMuoPaa8vQ/3sNLK13kyz+h9KBTCoYFQI0vVggc4QJAuJeBItnk2T+PY0rVmb3VPx85nP9RVNU/QX42KblEAED6ufeSFK6rPx8+ime8fgpAOxgtA6sRBEARuHOR4O7/P1zkWrVM8ds/2Uj4DnQtCkDvvszFdPrLP3NVrou3EQRAJrxyYaDl4T+bvWATZsIBQDAYtneG9uA/1H4SZVphA0Bh3jB1wsYFQKjc5mvo8ts/66LaOPbgAkBdkZCuRjkBQAiUSqh2wNE/a4zK+Bkj+T/XfBktYGwFQFDgVToStABAJ2UkVp4yAEBMI+R0QsIBQORrWdEo6+s/WldA+IVp/z+PbXVGlTfIP68IrK+0dP4/XtZGk2OdxD8qkplAgYb9PwudKh5O9QFAVvY+6qee/D8bVp8euke7P0bW4mod3/8/knyUQ9Ef9T+Bf97lfPX+P/IO+RaWDPs/Dm4T6dkR/j9RzZIU+Jz9Pwn1bjj6M/0/hMnSyE3r/D9qWkOBplv8P7qUwlPdEPk/AupELKqI+z9ZcQdamo/+P2mgwffx8fk/eC7H+2tw9T9m/bh6XW74Pz7cVf5+Wvs/xmdNSASZ+j/sezrxBkr2P3wKXZvObeE/QXfCJWi//j+f9JOJV3gBQDMzMzMzMwNAZTzfi6HtOkBbc84IKSQBQIV8sKlkIApA4EJ4O+spwj94KHJx/ebrP9AElOb49yZA0uU1caVuC0C7dOn26JSqP/Qa7B6MvOM/LEGEiRTE8j/2PxVXRjehP+8MCGhWZwNAl+wTM8mfFUD7juTAhDWrP87sN6BS6fg/oXNg+2OPBEDa7Ck6zp/5P4JkZhj7+xNAsKyAI1yHxj9f6h32DlHDPy81jgRWWwVARxiEsgSy/z+2pxHt5kYZQHs+gB+Msqs/qx7HFkjRCkDvpXP9BhLXP3wabv3opAJAS55d4ESg+z/aoc2j5Y+9Px3N88a+QQ1AI4rlr8N1AEDoTjEyC/HmPzGXOdH4RgJAz8gINIwX2T/w6EggFLgCQLH2x6qBzgZAS4IJx5SnAEDCPTWzDv18P1GCLBroGAlAuxeu2YZiAUC2t+G4MBYAQBkEpX1w50dAya2xPmO0BUCdCcQMUFoAQNNcWNp0JQpA0WXJGBePAkDPbtpKrt5GQJjzEE1IFBNAMG7faTx9MECPDZuEOA8AQO7S7Qn9kBNAFVs+P2WKAUBY7htkGhrXP8p2u6/6CP8/Fv6e5FWv/z8nzhaMkdQAQJFG7tUb9QNAa/zSK4HYAEDkVKsFug/rP8U327sA7gJAwjZjc9gg/z9SzL+F4N3yP+WCpN2fYAtAwnbfJDCx/T/fV6KlOKrFP/YyJoGw6/k/+xFXIgVA/z/UHagdu3/xP6ixPfUfhuY/EGCO+/HA5D8qHX/dWfT8PyL67e4B3vs/eGMpCTjWGECWxhRr1fn+P7jiCbYlVwRAgywBvX4h+z9wiNns+R3+PwjV1qmoX+U/wVTKWDjk7j9BGMrzAs79PxneiUBt0QtAmnamUgtJ+z++vddwv+X7P5yJ53BAtPU/5npaeTW0/j+ES5TYEVD5P7ooCV1yo/8/7y2ee3n7BkBk6SSzZWrrP4Kgq4Av5Po/ABxqfZFTsT8I0SWFkKjvP3XzGuCBZe0/zIeGd7BG9z9Ej2a2Pa/sPz7cVf5+Wvs/",
          "dtype": "f8"
         },
         "yaxis": "y"
        }
       ],
       "layout": {
        "coloraxis": {
         "colorbar": {
          "title": {
           "text": "Num Ancilla"
          }
         },
         "colorscale": [
          [
           0,
           "#0d0887"
          ],
          [
           0.1111111111111111,
           "#46039f"
          ],
          [
           0.2222222222222222,
           "#7201a8"
          ],
          [
           0.3333333333333333,
           "#9c179e"
          ],
          [
           0.4444444444444444,
           "#bd3786"
          ],
          [
           0.5555555555555556,
           "#d8576b"
          ],
          [
           0.6666666666666666,
           "#ed7953"
          ],
          [
           0.7777777777777778,
           "#fb9f3a"
          ],
          [
           0.8888888888888888,
           "#fdca26"
          ],
          [
           1,
           "#f0f921"
          ]
         ]
        },
        "legend": {
         "tracegroupgap": 0
        },
        "template": {
         "data": {
          "bar": [
           {
            "error_x": {
             "color": "#2a3f5f"
            },
            "error_y": {
             "color": "#2a3f5f"
            },
            "marker": {
             "line": {
              "color": "#E5ECF6",
              "width": 0.5
             },
             "pattern": {
              "fillmode": "overlay",
              "size": 10,
              "solidity": 0.2
             }
            },
            "type": "bar"
           }
          ],
          "barpolar": [
           {
            "marker": {
             "line": {
              "color": "#E5ECF6",
              "width": 0.5
             },
             "pattern": {
              "fillmode": "overlay",
              "size": 10,
              "solidity": 0.2
             }
            },
            "type": "barpolar"
           }
          ],
          "carpet": [
           {
            "aaxis": {
             "endlinecolor": "#2a3f5f",
             "gridcolor": "white",
             "linecolor": "white",
             "minorgridcolor": "white",
             "startlinecolor": "#2a3f5f"
            },
            "baxis": {
             "endlinecolor": "#2a3f5f",
             "gridcolor": "white",
             "linecolor": "white",
             "minorgridcolor": "white",
             "startlinecolor": "#2a3f5f"
            },
            "type": "carpet"
           }
          ],
          "choropleth": [
           {
            "colorbar": {
             "outlinewidth": 0,
             "ticks": ""
            },
            "type": "choropleth"
           }
          ],
          "contour": [
           {
            "colorbar": {
             "outlinewidth": 0,
             "ticks": ""
            },
            "colorscale": [
             [
              0,
              "#0d0887"
             ],
             [
              0.1111111111111111,
              "#46039f"
             ],
             [
              0.2222222222222222,
              "#7201a8"
             ],
             [
              0.3333333333333333,
              "#9c179e"
             ],
             [
              0.4444444444444444,
              "#bd3786"
             ],
             [
              0.5555555555555556,
              "#d8576b"
             ],
             [
              0.6666666666666666,
              "#ed7953"
             ],
             [
              0.7777777777777778,
              "#fb9f3a"
             ],
             [
              0.8888888888888888,
              "#fdca26"
             ],
             [
              1,
              "#f0f921"
             ]
            ],
            "type": "contour"
           }
          ],
          "contourcarpet": [
           {
            "colorbar": {
             "outlinewidth": 0,
             "ticks": ""
            },
            "type": "contourcarpet"
           }
          ],
          "heatmap": [
           {
            "colorbar": {
             "outlinewidth": 0,
             "ticks": ""
            },
            "colorscale": [
             [
              0,
              "#0d0887"
             ],
             [
              0.1111111111111111,
              "#46039f"
             ],
             [
              0.2222222222222222,
              "#7201a8"
             ],
             [
              0.3333333333333333,
              "#9c179e"
             ],
             [
              0.4444444444444444,
              "#bd3786"
             ],
             [
              0.5555555555555556,
              "#d8576b"
             ],
             [
              0.6666666666666666,
              "#ed7953"
             ],
             [
              0.7777777777777778,
              "#fb9f3a"
             ],
             [
              0.8888888888888888,
              "#fdca26"
             ],
             [
              1,
              "#f0f921"
             ]
            ],
            "type": "heatmap"
           }
          ],
          "histogram": [
           {
            "marker": {
             "pattern": {
              "fillmode": "overlay",
              "size": 10,
              "solidity": 0.2
             }
            },
            "type": "histogram"
           }
          ],
          "histogram2d": [
           {
            "colorbar": {
             "outlinewidth": 0,
             "ticks": ""
            },
            "colorscale": [
             [
              0,
              "#0d0887"
             ],
             [
              0.1111111111111111,
              "#46039f"
             ],
             [
              0.2222222222222222,
              "#7201a8"
             ],
             [
              0.3333333333333333,
              "#9c179e"
             ],
             [
              0.4444444444444444,
              "#bd3786"
             ],
             [
              0.5555555555555556,
              "#d8576b"
             ],
             [
              0.6666666666666666,
              "#ed7953"
             ],
             [
              0.7777777777777778,
              "#fb9f3a"
             ],
             [
              0.8888888888888888,
              "#fdca26"
             ],
             [
              1,
              "#f0f921"
             ]
            ],
            "type": "histogram2d"
           }
          ],
          "histogram2dcontour": [
           {
            "colorbar": {
             "outlinewidth": 0,
             "ticks": ""
            },
            "colorscale": [
             [
              0,
              "#0d0887"
             ],
             [
              0.1111111111111111,
              "#46039f"
             ],
             [
              0.2222222222222222,
              "#7201a8"
             ],
             [
              0.3333333333333333,
              "#9c179e"
             ],
             [
              0.4444444444444444,
              "#bd3786"
             ],
             [
              0.5555555555555556,
              "#d8576b"
             ],
             [
              0.6666666666666666,
              "#ed7953"
             ],
             [
              0.7777777777777778,
              "#fb9f3a"
             ],
             [
              0.8888888888888888,
              "#fdca26"
             ],
             [
              1,
              "#f0f921"
             ]
            ],
            "type": "histogram2dcontour"
           }
          ],
          "mesh3d": [
           {
            "colorbar": {
             "outlinewidth": 0,
             "ticks": ""
            },
            "type": "mesh3d"
           }
          ],
          "parcoords": [
           {
            "line": {
             "colorbar": {
              "outlinewidth": 0,
              "ticks": ""
             }
            },
            "type": "parcoords"
           }
          ],
          "pie": [
           {
            "automargin": true,
            "type": "pie"
           }
          ],
          "scatter": [
           {
            "fillpattern": {
             "fillmode": "overlay",
             "size": 10,
             "solidity": 0.2
            },
            "type": "scatter"
           }
          ],
          "scatter3d": [
           {
            "line": {
             "colorbar": {
              "outlinewidth": 0,
              "ticks": ""
             }
            },
            "marker": {
             "colorbar": {
              "outlinewidth": 0,
              "ticks": ""
             }
            },
            "type": "scatter3d"
           }
          ],
          "scattercarpet": [
           {
            "marker": {
             "colorbar": {
              "outlinewidth": 0,
              "ticks": ""
             }
            },
            "type": "scattercarpet"
           }
          ],
          "scattergeo": [
           {
            "marker": {
             "colorbar": {
              "outlinewidth": 0,
              "ticks": ""
             }
            },
            "type": "scattergeo"
           }
          ],
          "scattergl": [
           {
            "marker": {
             "colorbar": {
              "outlinewidth": 0,
              "ticks": ""
             }
            },
            "type": "scattergl"
           }
          ],
          "scattermap": [
           {
            "marker": {
             "colorbar": {
              "outlinewidth": 0,
              "ticks": ""
             }
            },
            "type": "scattermap"
           }
          ],
          "scattermapbox": [
           {
            "marker": {
             "colorbar": {
              "outlinewidth": 0,
              "ticks": ""
             }
            },
            "type": "scattermapbox"
           }
          ],
          "scatterpolar": [
           {
            "marker": {
             "colorbar": {
              "outlinewidth": 0,
              "ticks": ""
             }
            },
            "type": "scatterpolar"
           }
          ],
          "scatterpolargl": [
           {
            "marker": {
             "colorbar": {
              "outlinewidth": 0,
              "ticks": ""
             }
            },
            "type": "scatterpolargl"
           }
          ],
          "scatterternary": [
           {
            "marker": {
             "colorbar": {
              "outlinewidth": 0,
              "ticks": ""
             }
            },
            "type": "scatterternary"
           }
          ],
          "surface": [
           {
            "colorbar": {
             "outlinewidth": 0,
             "ticks": ""
            },
            "colorscale": [
             [
              0,
              "#0d0887"
             ],
             [
              0.1111111111111111,
              "#46039f"
             ],
             [
              0.2222222222222222,
              "#7201a8"
             ],
             [
              0.3333333333333333,
              "#9c179e"
             ],
             [
              0.4444444444444444,
              "#bd3786"
             ],
             [
              0.5555555555555556,
              "#d8576b"
             ],
             [
              0.6666666666666666,
              "#ed7953"
             ],
             [
              0.7777777777777778,
              "#fb9f3a"
             ],
             [
              0.8888888888888888,
              "#fdca26"
             ],
             [
              1,
              "#f0f921"
             ]
            ],
            "type": "surface"
           }
          ],
          "table": [
           {
            "cells": {
             "fill": {
              "color": "#EBF0F8"
             },
             "line": {
              "color": "white"
             }
            },
            "header": {
             "fill": {
              "color": "#C8D4E3"
             },
             "line": {
              "color": "white"
             }
            },
            "type": "table"
           }
          ]
         },
         "layout": {
          "annotationdefaults": {
           "arrowcolor": "#2a3f5f",
           "arrowhead": 0,
           "arrowwidth": 1
          },
          "autotypenumbers": "strict",
          "coloraxis": {
           "colorbar": {
            "outlinewidth": 0,
            "ticks": ""
           }
          },
          "colorscale": {
           "diverging": [
            [
             0,
             "#8e0152"
            ],
            [
             0.1,
             "#c51b7d"
            ],
            [
             0.2,
             "#de77ae"
            ],
            [
             0.3,
             "#f1b6da"
            ],
            [
             0.4,
             "#fde0ef"
            ],
            [
             0.5,
             "#f7f7f7"
            ],
            [
             0.6,
             "#e6f5d0"
            ],
            [
             0.7,
             "#b8e186"
            ],
            [
             0.8,
             "#7fbc41"
            ],
            [
             0.9,
             "#4d9221"
            ],
            [
             1,
             "#276419"
            ]
           ],
           "sequential": [
            [
             0,
             "#0d0887"
            ],
            [
             0.1111111111111111,
             "#46039f"
            ],
            [
             0.2222222222222222,
             "#7201a8"
            ],
            [
             0.3333333333333333,
             "#9c179e"
            ],
            [
             0.4444444444444444,
             "#bd3786"
            ],
            [
             0.5555555555555556,
             "#d8576b"
            ],
            [
             0.6666666666666666,
             "#ed7953"
            ],
            [
             0.7777777777777778,
             "#fb9f3a"
            ],
            [
             0.8888888888888888,
             "#fdca26"
            ],
            [
             1,
             "#f0f921"
            ]
           ],
           "sequentialminus": [
            [
             0,
             "#0d0887"
            ],
            [
             0.1111111111111111,
             "#46039f"
            ],
            [
             0.2222222222222222,
             "#7201a8"
            ],
            [
             0.3333333333333333,
             "#9c179e"
            ],
            [
             0.4444444444444444,
             "#bd3786"
            ],
            [
             0.5555555555555556,
             "#d8576b"
            ],
            [
             0.6666666666666666,
             "#ed7953"
            ],
            [
             0.7777777777777778,
             "#fb9f3a"
            ],
            [
             0.8888888888888888,
             "#fdca26"
            ],
            [
             1,
             "#f0f921"
            ]
           ]
          },
          "colorway": [
           "#636efa",
           "#EF553B",
           "#00cc96",
           "#ab63fa",
           "#FFA15A",
           "#19d3f3",
           "#FF6692",
           "#B6E880",
           "#FF97FF",
           "#FECB52"
          ],
          "font": {
           "color": "#2a3f5f"
          },
          "geo": {
           "bgcolor": "white",
           "lakecolor": "white",
           "landcolor": "#E5ECF6",
           "showlakes": true,
           "showland": true,
           "subunitcolor": "white"
          },
          "hoverlabel": {
           "align": "left"
          },
          "hovermode": "closest",
          "mapbox": {
           "style": "light"
          },
          "paper_bgcolor": "white",
          "plot_bgcolor": "#E5ECF6",
          "polar": {
           "angularaxis": {
            "gridcolor": "white",
            "linecolor": "white",
            "ticks": ""
           },
           "bgcolor": "#E5ECF6",
           "radialaxis": {
            "gridcolor": "white",
            "linecolor": "white",
            "ticks": ""
           }
          },
          "scene": {
           "xaxis": {
            "backgroundcolor": "#E5ECF6",
            "gridcolor": "white",
            "gridwidth": 2,
            "linecolor": "white",
            "showbackground": true,
            "ticks": "",
            "zerolinecolor": "white"
           },
           "yaxis": {
            "backgroundcolor": "#E5ECF6",
            "gridcolor": "white",
            "gridwidth": 2,
            "linecolor": "white",
            "showbackground": true,
            "ticks": "",
            "zerolinecolor": "white"
           },
           "zaxis": {
            "backgroundcolor": "#E5ECF6",
            "gridcolor": "white",
            "gridwidth": 2,
            "linecolor": "white",
            "showbackground": true,
            "ticks": "",
            "zerolinecolor": "white"
           }
          },
          "shapedefaults": {
           "line": {
            "color": "#2a3f5f"
           }
          },
          "ternary": {
           "aaxis": {
            "gridcolor": "white",
            "linecolor": "white",
            "ticks": ""
           },
           "baxis": {
            "gridcolor": "white",
            "linecolor": "white",
            "ticks": ""
           },
           "bgcolor": "#E5ECF6",
           "caxis": {
            "gridcolor": "white",
            "linecolor": "white",
            "ticks": ""
           }
          },
          "title": {
           "x": 0.05
          },
          "xaxis": {
           "automargin": true,
           "gridcolor": "white",
           "linecolor": "white",
           "ticks": "",
           "title": {
            "standoff": 15
           },
           "zerolinecolor": "white",
           "zerolinewidth": 2
          },
          "yaxis": {
           "automargin": true,
           "gridcolor": "white",
           "linecolor": "white",
           "ticks": "",
           "title": {
            "standoff": 15
           },
           "zerolinecolor": "white",
           "zerolinewidth": 2
          }
         }
        },
        "title": {
         "text": "Eigenvalue Error vs Time (Scatter Plot) (qDRIFT)"
        },
        "xaxis": {
         "anchor": "y",
         "domain": [
          0,
          1
         ],
         "title": {
          "text": "Time"
         }
        },
        "yaxis": {
         "anchor": "x",
         "domain": [
          0,
          1
         ],
         "title": {
          "text": "Error"
         }
        }
       }
      }
     },
     "metadata": {},
     "output_type": "display_data"
    }
   ],
   "source": [
    "plot_error_vs_time(df=qdrift_df, title_suffix=\"(qDRIFT)\")"
   ]
  },
  {
   "cell_type": "code",
   "execution_count": 5,
   "id": "5f593457",
   "metadata": {},
   "outputs": [
    {
     "data": {
      "application/vnd.plotly.v1+json": {
       "config": {
        "plotlyServerURL": "https://plot.ly"
       },
       "data": [
        {
         "hovertemplate": "Time=%{x}<br>Error=%{y}<br>Num Ancilla=%{marker.color}<extra></extra>",
         "legendgroup": "",
         "marker": {
          "color": {
           "bdata": "BQUFBQUFBQUFBQUFBQUFBQUFBQUFBQUFBQUFBQUFBQUFBQUFBQUFBQUFBQUFBQUFBQUFBQUFBQUFBQUFBQUFBQUFBQUFBQUFBQUFBQUFBQUFBQUFBQUFBQUFBQUFBQUFBQUFBQUFBQUFBQUFBQUFBQUFBQUFBQUFBQUFBQUFBQUFBQUFBQUFBQUFBQUFBQUFBQUFBQUFBQUFBQUFBQUFBQUFBQUFBQUFBQUFBQUFBQUFBQUFBQUFBQUFBQUFBQUFBQUFBQUFCgoKCgoKCgoKCgoKCgoKCgoKCgoKCgoKCgoKCgoKCgoKCgoKCgoKCgoKCgoKCgoKCgoKCgoKCgoKCgoKCgoKCgoKCgoKCgoKCgoKCgoKCgoKCgoKCgoKCgoKCgoKCgoKCgoK",
           "dtype": "i1"
          },
          "coloraxis": "coloraxis",
          "symbol": "circle"
         },
         "mode": "markers",
         "name": "",
         "orientation": "v",
         "showlegend": false,
         "type": "scatter",
         "x": {
          "bdata": "xQPKplzh4j/+YOC593DNP0SjO4idKbw/LXjRV5Bm1j/bv7LSpBTeP9RlMbH5uL4/VU0QdR+AhD8XvOgrSDPjP0ZCW86luM4/0egOYmcK1z9/MPDce7jeP+gwX16AfZQ/aXQHsTOF4z/HEWvxKQDQPzGUE+0qpMA/dVlMbD6u1z8joS3nUlzfP3l1jgHZ68E/a4Ko+wCk0D+7LCY2H9fjPyU7NgLxup4/GcqJdhVS2D8O8+UF2EfRPw3lRLsKKeQ/5Ii1+BQA4D/BVgkWhzPDP7GiBtMwfKQ/smMjEK/r0T+9OseA7PXYP1+dY0D2euQ/CTiEKjV7xD82QdR9AFLgP9An8iTpmqk/VtRgGoaP0j9gqwSLw5nZP1AZ/z7jwsU/sVWCxeHM5D+I+fIC7KPgP++s3Xahua4/+kSeJF0z0z8EHEKVmj3aPweZZOQs7LE/2rERiNf14D8DDqFKzR7lP5612y4019M/qIx/n3Hh2j+Y+nlTkQrHP5ZbWg2Je7Q/TP28qUiF2z9Vxr/PuHDlPytqMA3DR+E/QiYZOQt71D/g2/RnP1LIP/Bt+rMfKdw/Jh5QNuUKtz+mft5UpMLlP30iT5KumeE/5pZWQ+Ie1T8nvW987ZnJP7XgRV9Bmrk/lN43vvbM3D/4Nv3ZjxTmP4kHlE25wtU/z9ptF5rr4T9vnuqQm+HKP5ynOuRmuOY/Su8bX3tm5j83T3XIzXDdP1+dY0D2euw/IZOMnIU94j+3f2WlSSnMP+5fWWlSCuc/c0urIXGP4j+xVYLF4czsP0AYeO49XOc/Ag6hSs0e7T+S0JZzKa7nP1TGv8+4cO0/5Ii1+BQA6D+mft5UpMLtPzZB1H0AUug/+Db92Y8U7j+I+fIC7KPoP0rvG197Zu4/2rERiNf16D+cpzrkZrjuPyxqMA3DR+k/7l9ZaVIK7z9+Ik+SrpnpP0AYeO49XO8/0NptF5rr6T8hk4ychT3qP5HQlnMpru8/c0urIXGP6j/FA8qmXOHqPxe86CtIM+s/aXQHsTOF6z+7LCY2H9frPw3lRLsKKew/RKM7iJ0pvD8teNFXkGbWP9u/stKkFN4/xQPKplzh4j/+YOC593DNP1VNEHUfgIQ/RkJbzqW4zj/R6A5iZwrXP9RlMbH5uL4/F7zoK0gz4z9/MPDce7jeP+gwX16AfZQ/dVlMbD6u1z8xlBPtKqTAP8cRa/EpANA/aXQHsTOF4z8joS3nUlzfPyU7NgLxup4/GcqJdhVS2D95dY4B2evBP2uCqPsApNA/uywmNh/X4z/kiLX4FADgP7GiBtMwfKQ/wVYJFoczwz+9OseA7PXYPw7z5QXYR9E/NkHUfQBS4D8N5US7CinkP2CrBIvDmdk/CTiEKjV7xD+I+fIC7KPgP7JjIxCv69E/0CfyJOmaqT9fnWNA9nrkPwQcQpWaPdo/UBn/PuPCxT/asRGI1/XgP1bUYBqGj9I/76zddqG5rj+xVYLF4czkP6iMf59x4do/mPp5U5EKxz/6RJ4kXTPTPytqMA3DR+E/Aw6hSs0e5T8HmWTkLOyxP0z9vKlIhds/4Nv0Zz9SyD+etdsuNNfTP5ZbWg2Je7Q/fSJPkq6Z4T/wbfqzHyncP1XGv8+4cOU/J71vfO2ZyT+U3je+9szcPyYeUDblCrc/z9ptF5rr4T9CJhk5C3vUP6Z+3lSkwuU/b57qkJvhyj8hk4ychT3iPzdPdcjNcN0/teBFX0GauT/mllZD4h7VP/g2/dmPFOY/t39lpUkpzD9fnWNA9nrsP3NLqyFxj+I/Su8bX3tm5j+cpzrkZrjmP4kHlE25wtU/sVWCxeHM7D/uX1lpUgrnPwIOoUrNHu0/QBh47j1c5z9Uxr/PuHDtP5LQlnMpruc/pn7eVKTC7T/kiLX4FADoP/g2/dmPFO4/NkHUfQBS6D9K7xtfe2buP4j58gLso+g/nKc65Ga47j/asRGI1/XoP+5fWWlSCu8/LGowDcNH6T9AGHjuPVzvP34iT5Kumek/kdCWcymu7z/Q2m0XmuvpPyGTjJyFPeo/c0urIXGP6j/FA8qmXOHqPxe86CtIM+s/aXQHsTOF6z+7LCY2H9frPw3lRLsKKew/0CfyJOmaqT83T3XIzXDdP4kHlE25wtU/J71vfO2ZyT8hk4ychT3iP9u/stKkFN4/b57qkJvhyj/vrN12obmuPy140VeQZtY/c0urIXGP4j9VTRB1H4CEP38w8Nx7uN4/t39lpUkpzD8HmWTkLOyxP8UDyqZc4eI/0egOYmcK1z/oMF9egH2UPyOhLedSXN8/F7zoK0gz4z/+YOC593DNP3VZTGw+rtc/lltaDYl7tD8lOzYC8bqeP2l0B7EzheM/5Ii1+BQA4D8Zyol2FVLYPyYeUDblCrc/RkJbzqW4zj+xogbTMHykP7ssJjYf1+M/NkHUfQBS4D+14EVfQZq5P706x4Ds9dg/pn7eVKTC5T/HEWvxKQDQPw3lRLsKKeQ/RKM7iJ0pvD9gqwSLw5nZP4j58gLso+A/+Db92Y8U5j9rgqj7AKTQPwQcQpWaPdo/X51jQPZ65D/asRGI1/XgP9RlMbH5uL4/DvPlBdhH0T9K7xtfe2bmP6iMf59x4do/sVWCxeHM5D8xlBPtKqTAPytqMA3DR+E/smMjEK/r0T+cpzrkZrjmP0z9vKlIhds/Aw6hSs0e5T95dY4B2evBP30iT5KumeE/7l9ZaVIK5z9W1GAaho/SP/Bt+rMfKdw/Vca/z7hw5T/BVgkWhzPDP8/abRea6+E/QBh47j1c5z/6RJ4kXTPTP5TeN772zNw/2rERiNf16D8JOIQqNXvEP7ssJjYf1+s/ktCWcymu5z+etdsuNNfTP1AZ/z7jwsU/Su8bX3tm7j8sajANw0fpPw3lRLsKKew/QiYZOQt71D/kiLX4FADoP5j6eVORCsc/fiJPkq6Z6T+cpzrkZrjuP1+dY0D2euw/5pZWQ+Ie1T82QdR9AFLoP+Db9Gc/Usg/7l9ZaVIK7z/Q2m0XmuvpP7FVgsXhzOw/iPnyAuyj6D9AGHjuPVzvPyGTjJyFPeo/Ag6hSs0e7T+R0JZzKa7vP3NLqyFxj+o/VMa/z7hw7T/FA8qmXOHqP6Z+3lSkwu0/F7zoK0gz6z/4Nv3ZjxTuP2l0B7Ezhes/",
          "dtype": "f8"
         },
         "xaxis": "x",
         "y": {
          "bdata": "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",
          "dtype": "f8"
         },
         "yaxis": "y"
        }
       ],
       "layout": {
        "coloraxis": {
         "colorbar": {
          "title": {
           "text": "Num Ancilla"
          }
         },
         "colorscale": [
          [
           0,
           "#0d0887"
          ],
          [
           0.1111111111111111,
           "#46039f"
          ],
          [
           0.2222222222222222,
           "#7201a8"
          ],
          [
           0.3333333333333333,
           "#9c179e"
          ],
          [
           0.4444444444444444,
           "#bd3786"
          ],
          [
           0.5555555555555556,
           "#d8576b"
          ],
          [
           0.6666666666666666,
           "#ed7953"
          ],
          [
           0.7777777777777778,
           "#fb9f3a"
          ],
          [
           0.8888888888888888,
           "#fdca26"
          ],
          [
           1,
           "#f0f921"
          ]
         ]
        },
        "legend": {
         "tracegroupgap": 0
        },
        "template": {
         "data": {
          "bar": [
           {
            "error_x": {
             "color": "#2a3f5f"
            },
            "error_y": {
             "color": "#2a3f5f"
            },
            "marker": {
             "line": {
              "color": "#E5ECF6",
              "width": 0.5
             },
             "pattern": {
              "fillmode": "overlay",
              "size": 10,
              "solidity": 0.2
             }
            },
            "type": "bar"
           }
          ],
          "barpolar": [
           {
            "marker": {
             "line": {
              "color": "#E5ECF6",
              "width": 0.5
             },
             "pattern": {
              "fillmode": "overlay",
              "size": 10,
              "solidity": 0.2
             }
            },
            "type": "barpolar"
           }
          ],
          "carpet": [
           {
            "aaxis": {
             "endlinecolor": "#2a3f5f",
             "gridcolor": "white",
             "linecolor": "white",
             "minorgridcolor": "white",
             "startlinecolor": "#2a3f5f"
            },
            "baxis": {
             "endlinecolor": "#2a3f5f",
             "gridcolor": "white",
             "linecolor": "white",
             "minorgridcolor": "white",
             "startlinecolor": "#2a3f5f"
            },
            "type": "carpet"
           }
          ],
          "choropleth": [
           {
            "colorbar": {
             "outlinewidth": 0,
             "ticks": ""
            },
            "type": "choropleth"
           }
          ],
          "contour": [
           {
            "colorbar": {
             "outlinewidth": 0,
             "ticks": ""
            },
            "colorscale": [
             [
              0,
              "#0d0887"
             ],
             [
              0.1111111111111111,
              "#46039f"
             ],
             [
              0.2222222222222222,
              "#7201a8"
             ],
             [
              0.3333333333333333,
              "#9c179e"
             ],
             [
              0.4444444444444444,
              "#bd3786"
             ],
             [
              0.5555555555555556,
              "#d8576b"
             ],
             [
              0.6666666666666666,
              "#ed7953"
             ],
             [
              0.7777777777777778,
              "#fb9f3a"
             ],
             [
              0.8888888888888888,
              "#fdca26"
             ],
             [
              1,
              "#f0f921"
             ]
            ],
            "type": "contour"
           }
          ],
          "contourcarpet": [
           {
            "colorbar": {
             "outlinewidth": 0,
             "ticks": ""
            },
            "type": "contourcarpet"
           }
          ],
          "heatmap": [
           {
            "colorbar": {
             "outlinewidth": 0,
             "ticks": ""
            },
            "colorscale": [
             [
              0,
              "#0d0887"
             ],
             [
              0.1111111111111111,
              "#46039f"
             ],
             [
              0.2222222222222222,
              "#7201a8"
             ],
             [
              0.3333333333333333,
              "#9c179e"
             ],
             [
              0.4444444444444444,
              "#bd3786"
             ],
             [
              0.5555555555555556,
              "#d8576b"
             ],
             [
              0.6666666666666666,
              "#ed7953"
             ],
             [
              0.7777777777777778,
              "#fb9f3a"
             ],
             [
              0.8888888888888888,
              "#fdca26"
             ],
             [
              1,
              "#f0f921"
             ]
            ],
            "type": "heatmap"
           }
          ],
          "histogram": [
           {
            "marker": {
             "pattern": {
              "fillmode": "overlay",
              "size": 10,
              "solidity": 0.2
             }
            },
            "type": "histogram"
           }
          ],
          "histogram2d": [
           {
            "colorbar": {
             "outlinewidth": 0,
             "ticks": ""
            },
            "colorscale": [
             [
              0,
              "#0d0887"
             ],
             [
              0.1111111111111111,
              "#46039f"
             ],
             [
              0.2222222222222222,
              "#7201a8"
             ],
             [
              0.3333333333333333,
              "#9c179e"
             ],
             [
              0.4444444444444444,
              "#bd3786"
             ],
             [
              0.5555555555555556,
              "#d8576b"
             ],
             [
              0.6666666666666666,
              "#ed7953"
             ],
             [
              0.7777777777777778,
              "#fb9f3a"
             ],
             [
              0.8888888888888888,
              "#fdca26"
             ],
             [
              1,
              "#f0f921"
             ]
            ],
            "type": "histogram2d"
           }
          ],
          "histogram2dcontour": [
           {
            "colorbar": {
             "outlinewidth": 0,
             "ticks": ""
            },
            "colorscale": [
             [
              0,
              "#0d0887"
             ],
             [
              0.1111111111111111,
              "#46039f"
             ],
             [
              0.2222222222222222,
              "#7201a8"
             ],
             [
              0.3333333333333333,
              "#9c179e"
             ],
             [
              0.4444444444444444,
              "#bd3786"
             ],
             [
              0.5555555555555556,
              "#d8576b"
             ],
             [
              0.6666666666666666,
              "#ed7953"
             ],
             [
              0.7777777777777778,
              "#fb9f3a"
             ],
             [
              0.8888888888888888,
              "#fdca26"
             ],
             [
              1,
              "#f0f921"
             ]
            ],
            "type": "histogram2dcontour"
           }
          ],
          "mesh3d": [
           {
            "colorbar": {
             "outlinewidth": 0,
             "ticks": ""
            },
            "type": "mesh3d"
           }
          ],
          "parcoords": [
           {
            "line": {
             "colorbar": {
              "outlinewidth": 0,
              "ticks": ""
             }
            },
            "type": "parcoords"
           }
          ],
          "pie": [
           {
            "automargin": true,
            "type": "pie"
           }
          ],
          "scatter": [
           {
            "fillpattern": {
             "fillmode": "overlay",
             "size": 10,
             "solidity": 0.2
            },
            "type": "scatter"
           }
          ],
          "scatter3d": [
           {
            "line": {
             "colorbar": {
              "outlinewidth": 0,
              "ticks": ""
             }
            },
            "marker": {
             "colorbar": {
              "outlinewidth": 0,
              "ticks": ""
             }
            },
            "type": "scatter3d"
           }
          ],
          "scattercarpet": [
           {
            "marker": {
             "colorbar": {
              "outlinewidth": 0,
              "ticks": ""
             }
            },
            "type": "scattercarpet"
           }
          ],
          "scattergeo": [
           {
            "marker": {
             "colorbar": {
              "outlinewidth": 0,
              "ticks": ""
             }
            },
            "type": "scattergeo"
           }
          ],
          "scattergl": [
           {
            "marker": {
             "colorbar": {
              "outlinewidth": 0,
              "ticks": ""
             }
            },
            "type": "scattergl"
           }
          ],
          "scattermap": [
           {
            "marker": {
             "colorbar": {
              "outlinewidth": 0,
              "ticks": ""
             }
            },
            "type": "scattermap"
           }
          ],
          "scattermapbox": [
           {
            "marker": {
             "colorbar": {
              "outlinewidth": 0,
              "ticks": ""
             }
            },
            "type": "scattermapbox"
           }
          ],
          "scatterpolar": [
           {
            "marker": {
             "colorbar": {
              "outlinewidth": 0,
              "ticks": ""
             }
            },
            "type": "scatterpolar"
           }
          ],
          "scatterpolargl": [
           {
            "marker": {
             "colorbar": {
              "outlinewidth": 0,
              "ticks": ""
             }
            },
            "type": "scatterpolargl"
           }
          ],
          "scatterternary": [
           {
            "marker": {
             "colorbar": {
              "outlinewidth": 0,
              "ticks": ""
             }
            },
            "type": "scatterternary"
           }
          ],
          "surface": [
           {
            "colorbar": {
             "outlinewidth": 0,
             "ticks": ""
            },
            "colorscale": [
             [
              0,
              "#0d0887"
             ],
             [
              0.1111111111111111,
              "#46039f"
             ],
             [
              0.2222222222222222,
              "#7201a8"
             ],
             [
              0.3333333333333333,
              "#9c179e"
             ],
             [
              0.4444444444444444,
              "#bd3786"
             ],
             [
              0.5555555555555556,
              "#d8576b"
             ],
             [
              0.6666666666666666,
              "#ed7953"
             ],
             [
              0.7777777777777778,
              "#fb9f3a"
             ],
             [
              0.8888888888888888,
              "#fdca26"
             ],
             [
              1,
              "#f0f921"
             ]
            ],
            "type": "surface"
           }
          ],
          "table": [
           {
            "cells": {
             "fill": {
              "color": "#EBF0F8"
             },
             "line": {
              "color": "white"
             }
            },
            "header": {
             "fill": {
              "color": "#C8D4E3"
             },
             "line": {
              "color": "white"
             }
            },
            "type": "table"
           }
          ]
         },
         "layout": {
          "annotationdefaults": {
           "arrowcolor": "#2a3f5f",
           "arrowhead": 0,
           "arrowwidth": 1
          },
          "autotypenumbers": "strict",
          "coloraxis": {
           "colorbar": {
            "outlinewidth": 0,
            "ticks": ""
           }
          },
          "colorscale": {
           "diverging": [
            [
             0,
             "#8e0152"
            ],
            [
             0.1,
             "#c51b7d"
            ],
            [
             0.2,
             "#de77ae"
            ],
            [
             0.3,
             "#f1b6da"
            ],
            [
             0.4,
             "#fde0ef"
            ],
            [
             0.5,
             "#f7f7f7"
            ],
            [
             0.6,
             "#e6f5d0"
            ],
            [
             0.7,
             "#b8e186"
            ],
            [
             0.8,
             "#7fbc41"
            ],
            [
             0.9,
             "#4d9221"
            ],
            [
             1,
             "#276419"
            ]
           ],
           "sequential": [
            [
             0,
             "#0d0887"
            ],
            [
             0.1111111111111111,
             "#46039f"
            ],
            [
             0.2222222222222222,
             "#7201a8"
            ],
            [
             0.3333333333333333,
             "#9c179e"
            ],
            [
             0.4444444444444444,
             "#bd3786"
            ],
            [
             0.5555555555555556,
             "#d8576b"
            ],
            [
             0.6666666666666666,
             "#ed7953"
            ],
            [
             0.7777777777777778,
             "#fb9f3a"
            ],
            [
             0.8888888888888888,
             "#fdca26"
            ],
            [
             1,
             "#f0f921"
            ]
           ],
           "sequentialminus": [
            [
             0,
             "#0d0887"
            ],
            [
             0.1111111111111111,
             "#46039f"
            ],
            [
             0.2222222222222222,
             "#7201a8"
            ],
            [
             0.3333333333333333,
             "#9c179e"
            ],
            [
             0.4444444444444444,
             "#bd3786"
            ],
            [
             0.5555555555555556,
             "#d8576b"
            ],
            [
             0.6666666666666666,
             "#ed7953"
            ],
            [
             0.7777777777777778,
             "#fb9f3a"
            ],
            [
             0.8888888888888888,
             "#fdca26"
            ],
            [
             1,
             "#f0f921"
            ]
           ]
          },
          "colorway": [
           "#636efa",
           "#EF553B",
           "#00cc96",
           "#ab63fa",
           "#FFA15A",
           "#19d3f3",
           "#FF6692",
           "#B6E880",
           "#FF97FF",
           "#FECB52"
          ],
          "font": {
           "color": "#2a3f5f"
          },
          "geo": {
           "bgcolor": "white",
           "lakecolor": "white",
           "landcolor": "#E5ECF6",
           "showlakes": true,
           "showland": true,
           "subunitcolor": "white"
          },
          "hoverlabel": {
           "align": "left"
          },
          "hovermode": "closest",
          "mapbox": {
           "style": "light"
          },
          "paper_bgcolor": "white",
          "plot_bgcolor": "#E5ECF6",
          "polar": {
           "angularaxis": {
            "gridcolor": "white",
            "linecolor": "white",
            "ticks": ""
           },
           "bgcolor": "#E5ECF6",
           "radialaxis": {
            "gridcolor": "white",
            "linecolor": "white",
            "ticks": ""
           }
          },
          "scene": {
           "xaxis": {
            "backgroundcolor": "#E5ECF6",
            "gridcolor": "white",
            "gridwidth": 2,
            "linecolor": "white",
            "showbackground": true,
            "ticks": "",
            "zerolinecolor": "white"
           },
           "yaxis": {
            "backgroundcolor": "#E5ECF6",
            "gridcolor": "white",
            "gridwidth": 2,
            "linecolor": "white",
            "showbackground": true,
            "ticks": "",
            "zerolinecolor": "white"
           },
           "zaxis": {
            "backgroundcolor": "#E5ECF6",
            "gridcolor": "white",
            "gridwidth": 2,
            "linecolor": "white",
            "showbackground": true,
            "ticks": "",
            "zerolinecolor": "white"
           }
          },
          "shapedefaults": {
           "line": {
            "color": "#2a3f5f"
           }
          },
          "ternary": {
           "aaxis": {
            "gridcolor": "white",
            "linecolor": "white",
            "ticks": ""
           },
           "baxis": {
            "gridcolor": "white",
            "linecolor": "white",
            "ticks": ""
           },
           "bgcolor": "#E5ECF6",
           "caxis": {
            "gridcolor": "white",
            "linecolor": "white",
            "ticks": ""
           }
          },
          "title": {
           "x": 0.05
          },
          "xaxis": {
           "automargin": true,
           "gridcolor": "white",
           "linecolor": "white",
           "ticks": "",
           "title": {
            "standoff": 15
           },
           "zerolinecolor": "white",
           "zerolinewidth": 2
          },
          "yaxis": {
           "automargin": true,
           "gridcolor": "white",
           "linecolor": "white",
           "ticks": "",
           "title": {
            "standoff": 15
           },
           "zerolinecolor": "white",
           "zerolinewidth": 2
          }
         }
        },
        "title": {
         "text": "Eigenvalue Error vs Time (Scatter Plot) (qDRIFT, Filtered)"
        },
        "xaxis": {
         "anchor": "y",
         "domain": [
          0,
          1
         ],
         "title": {
          "text": "Time"
         }
        },
        "yaxis": {
         "anchor": "x",
         "domain": [
          0,
          1
         ],
         "title": {
          "text": "Error"
         }
        }
       }
      }
     },
     "metadata": {},
     "output_type": "display_data"
    }
   ],
   "source": [
    "# Plot error vs time but only for t > 0.001 and t < 1\n",
    "qdrift_df_filtered = qdrift_df[(qdrift_df[\"Time\"] > 0.001) & (qdrift_df[\"Time\"] < 1)]\n",
    "plot_error_vs_time(df=qdrift_df_filtered, title_suffix=\"(qDRIFT, Filtered)\")"
   ]
  },
  {
   "cell_type": "code",
   "execution_count": 6,
   "id": "f44b169d",
   "metadata": {},
   "outputs": [
    {
     "ename": "NameError",
     "evalue": "name 'standard_df' is not defined",
     "output_type": "error",
     "traceback": [
      "\u001b[1;31m---------------------------------------------------------------------------\u001b[0m",
      "\u001b[1;31mNameError\u001b[0m                                 Traceback (most recent call last)",
      "Cell \u001b[1;32mIn[6], line 1\u001b[0m\n\u001b[1;32m----> 1\u001b[0m error_vs_time_fig \u001b[38;5;241m=\u001b[39m plot_error_vs_time(df\u001b[38;5;241m=\u001b[39m\u001b[43mstandard_df\u001b[49m, title_suffix\u001b[38;5;241m=\u001b[39m\u001b[38;5;124m\"\u001b[39m\u001b[38;5;124m(Standard QPE)\u001b[39m\u001b[38;5;124m\"\u001b[39m)\n",
      "\u001b[1;31mNameError\u001b[0m: name 'standard_df' is not defined"
     ]
    }
   ],
   "source": [
    "error_vs_time_fig = plot_error_vs_time(df=standard_df, title_suffix=\"(Standard QPE)\")"
   ]
  },
  {
   "cell_type": "code",
   "execution_count": null,
   "id": "fa7a7562",
   "metadata": {},
   "outputs": [
    {
     "data": {
      "application/vnd.plotly.v1+json": {
       "config": {
        "plotlyServerURL": "https://plot.ly"
       },
       "data": [
        {
         "alignmentgroup": "True",
         "boxpoints": "all",
         "hovertemplate": "# Ancilla Qubits=%{x}<br>Eigenvalue Estimation Error=%{y}<extra></extra>",
         "legendgroup": "",
         "marker": {
          "color": "#636efa"
         },
         "name": "",
         "notched": false,
         "offsetgroup": "",
         "orientation": "v",
         "showlegend": false,
         "type": "box",
         "x": {
          "bdata": "BQUGBQYFBQUGBQYFBQUGBQYFBQUFBgUFBgUFBQUFBgUFBgUFBQUGBQUGBQUFBQYFBQYFBQUFBQUGBQUFBgUFBQYFBQUGBQUFBgUFBQYFBQUFBgUFBgUFBgYFBQUGBQUFBgYFBQYFBQYGBQUGBQUGBgUFBgUFBgYFBQYFBQYGBQUFBQYGBgUFBQUGBgYFBQUFBgYFBgUFBQYGBQUGBQUGBwUGBQYFBQYFBgUGBQUGBQYGBQUFBgcFBQYGBQYFBQYGBQUGBQUGBgUHBQYFBQYGBQUFBgUGBgUFBQcGBgUFBgYFBwUFBgYFBwUGBgUFBgYFBwYGBwYGBgYHBgYIBwYGBwYGBgYHBgYHBgYIBwYGBgYHBgYHBgYIBgYHBgYHBgYGBwYGBgcIBgYHBgYGBgcGBgcGCAYGBwYGBgcGBgcGBwgGBgcGBwYIBwYGBwYHBgcGCAYHBgcHCAcHBwcIBwcHCAcHBwgHBwcICQcHBwcIBwcHCAcHBwkHCAcHCAcHBwcIBwcHCAcHBwcICQcHBwgHBwcIBwcHCAcHCQcHCAcHBwgHBwcIBwcIBwkIBwcIBwcIBwgHCQcIBwcIBwgHBwkIBwcIBwgHBwgHCQcIBwgHBwgHBwgJBwgHBwgHBwgHCAcJBwgHBwgHCAcJBwgHBwgHCAcHCAcJCgcIBwgHBwgHBwgJBwgHBwgHBwgJCAgICAgICQgICAgJCAgICAkICAgICQgICAkICAgKCAkICAgJCAgICAgJCAoICAkICAgICAkICQgICQkICAkICggJCQgJCAgKCAkJCAkICAkICQgJCAgJCAkICQoICAkJCAgJCggJCAkICQgICQgJCAkICAkICQgKCQgICQkICAoJCAkICQgICQgJCAkICQgICQkKCQkJCgkJCQkJCQoJCgkKCQkJCQkKCQkKCgkJCQkJCgkJCgoJCQkJCQkLCgkKCQoJCQkJCQoJCQoKCQkJCQkKCQ==",
          "dtype": "i1"
         },
         "x0": " ",
         "xaxis": "x",
         "y": {
          "bdata": "EsJbrRuH/z9uKLIw04jCPzZz6Ic0C28/q/7+U9pO/j9pLZXmQ54CQLxGAcroObk/08O7vDyf/T/84jYK2pyrP3Rv6P1tq6Y/+ObdqcOG/D9dNNOTEPABQODpQ6cFTIY/Rv5JA5Pt+z/89HHUp2ifPz5nsqZFKLc/6zZdLqpc+z+pQzDL4E0BQGBqdr2EIbI/8nVdXY9p+j8zMzMzMzMDQHqi0gktEbw/O4K1NW+Yqz+kEWLmB+r5PzMzMzMzMwNAEnTc/oC2AECeCJJludbCP4Ai4kWrzgJAMzMzMzMzA0C+v1QJiArBPxE4zcEKbwJAl+VpBJ4nfz8zMzMzMzMDQAAoIt9gyrc/EXg7UOUoAEAvps/GGOQBQDMzMzMzMwNA+dV+tAekqz9LaphpX44BQPKc5qLZ7aI/iExI3XJO+D/rVfQKsqCQPxLCW60bh/8/ckyQatkOAUBgAubp2b7rP+bCiena2pQ/tOcBi6zBAED/IAbeHHa0PxfPwHLaqdk/txoFzwGcrD9NGBHcx4v+P/NlCqradwBANAkceKpEqj+cnsmI2iC3P+NfAH5lBgBArYmJiNtBzD9dtUFFPbK/P/ziNgranKs/EsJbrRuH/z99sS6lNse/PwSTOjnUD9w/08O7vDyf/T9aJNRR0LT+P+CnFOGorbY/rCOXPWW74z/g6UOnBUyGP0DV3AfVe+g/9K+QDp2pqz+KpDYeWzv+PzleVeg1wPw/auCCN9B3/T9YiWJKQ8rjP/shzv3755Q//PRx1Kdonz/VJmOGHwn9P+WNdzBMKok/OHzgCZzK2T9G/kkDk+37PyTe3dtT5wJA95/KB9mWpj/eJ14PEq7LP2ktleZDngJAYGp2vYQhsj8yKTz0WQ2rP/yR3GGrOrM/KGyE3lIm+z8afhLjl2O3P0DLAoop9bo/MzMzMzMzA0A5siYerqCrP98jVC01Gsw/HcAY5lfyvT+n6dX2WWTVP/J1XV2Pafo/30i7JJnKtT843QelxP/bP/q595IUrqs/MzMzMzMzA0DaEnO2qyKMPy82bOWJ1dk/b5NsUfJWmD8srRf9ebb5P+9Me8WGrtE//B37kGmydz8zMzMzMzMDQGj7nVOdypk/0E4xU9R5xD9/m2BfvrqhP4Ai4kWrzgJANtV0YU1Qqz9/OXvMlxKwP/5gNpWrGLA/BEx2sWSS6z9a35D5Zhy3P7f+mqko6aY/ETjNwQpvAkDdWZHbsXS8P/5zFL59UcE/+dV+tAekqz84kFStC7SoP7+xYVZKEbU/MC06OPsMzD+LwtZgCPwBQPze4zO8sas/V2ocaCUC0z+8MzwS5y/cP+tV9AqyoJA/KFZ1d2Sr0z/k6PIs6SebPxNcM7h1wzw/cEvOL6PKyz9LaphpX44BQDZlc3H5hug/5sKJ6dralD/qP5nWt3KbPzAR6s4l/cA/uBxmjRLuqj++EW7FyXGrPxAWl32yJQFAtxoFzwGcrD8Xz8By2qnZP1prIosL7bM/+18EuVc5lT+eqhmz3T+6P/6ykFMbN7c/tOcBi6zBAEC/WyBq/KarP+DsU2Iwd7Q/NAkceKpEqj/QoC6d+wzEP4AV0ejHtKs/PgRSxV0GzD+JH8Hl/2EAQP1WQjMV5JI/+1RSJ/eBnT/fTQTigCvQP62JiYjbQcw/zlWdpMaGcD8eSmikLmjHP+NfAH5lBgBAuByT3zCNqz9x+8JYWruUP3qU9DSBe5A/vWX3czPdvT8Ekzo51A/cP/YBhKhJ1qs//C8DEOKFqz9wUM9fOF3/P5/1A4p/5Hg/x2EHFJ2a0T/4Dk3EOiKQP7bqx0UFbqk/m07ex9IksD+8AYSoSdarP1ok1FHQtP4/OfdW0rQNvj83aLKpbcqqP/SvkA6dqas/sfsTHbWUJj+grDRGYqrFPzVYBACtbaY/iqQ2Hls7/j/l3wA8yR1HP06oDI1lAsw/7pHphtr0gz+/MKXtAm7BP/shzv3755Q/Zz3bxwcanD/Tw7u8PJ/9P+5Yz7EPjMQ/MzMzMzMzA0A4Cf5ecQ7TP+WNdzBMKok/vG6N0ocmuz/m3t369xMCQNUmY4YfCf0/gKGA8keTqz8rGWxa/pQAQN4nXg8Srss/95/KB9mWpj82c+iHNAtvP7V1wy+CD6s/EsJbrRuH/z9nM7OxS/oCQHRv6P1tq6Y/lhkRLfco/T8yKTz0WQ2rPzaecuf2q6s/PmeypkUotz9G/kkDk+37P2+DPAs5Q8E/aS2V5kOeAkCUbG/QYdP6P3i8fOxKtpY/Gn4S45djtz+dCfc5abvGP3EuouFYDPk/8o8t8iIw+D/vzya2ztRaP98jVC01Gsw/1w6gulkqgj84yrtRKbH2P+eWcS9TAvY/oAS24+tRxz93mdmqTQmkP7J2Jq+BuvQ/MzMzMzMzA0AbLOhiwy30PzMzMzMzMwNA+47kwIQ1qz/6ufeSFK6rP2ktleZDngJAfJgiQA7GqD/m3t369xMCQH5cqGlFSbA/b5NsUfJWmD+pQzDL4E0BQPnOTKMD2ABA/B37kGmydz/wsmU//brFPxF4O1DlKABAMzMzMzMzA0DQTjFT1HnEP3+bYF++uqE/NnPohzQLbz99EaGp/q+rPzbVdGFNUKs/f51N/GPQmT+3/pqpKOmmP7uZ/HTLlaU//nMUvn1RwT+S74LW53loP7uZ/HTLlaU/dG/o/W2rpj/yJczI9kSfP4D+mXFjecI/ZECrDTSd6D/83uMzvLGrP/SWw6tvY6s/5OjyLOknmz/pfMiqtNOfP+uLUb8QpXc/E1wzuHXDPD+8yCM5Lyq8PziQVK0LtKg/6j+Z1rdymz8wEerOJf3AP7OxiQaEoXw/uEWeezq6pD++EW7FyXGrP7gcZo0S7qo/+18EuVc5lT/1aGtY4mGcP7wzPBLnL9w/O2a6cU8EXz/+spBTGze3P5flaQSeJ38/768kmNfylz/84iOrlq+/P/tcWB6Fqac/NSnAnvOlqD+Ahqih83yrPz7plMMDv6k/+1RSJ/eBnT/njm+xa9OJP/Kc5qLZ7aI/zlWdpMaGcD8667RItk6zP71l93Mz3b0/D8tVkAIn0z9x+8JYWruUP/wvAxDihas/9DzbxwcanD/yluyvLw+DP05egxCMF10/n/UDin/keD/4Dk3EOiKQPzQJHHiqRKo/m07ex9IksD/zs4kGhKF8P/zG3SKQYbw/sfsTHbWUJj+7PgmiWUKhP7gck98wjas/qKX+oXKidT+tiYmI20HMP+XfADzJHUc/OJBUrQu0qD/ukemG2vSDP7V1wy+CD6s/4OlDpwVMhj/0xSyJi5KLP2A43FzhT7o/MzMzMzMzA0D0dOn26JSqP4ChgPJHk6s/5t7d+vcTAkD89HHUp2ifP/nOTKMD2ABAj+UmZy3cxT/zs4kGhKF8PxLCW60bh/8/08O7vDyf/T/QYtrWrFCJP0b+SQOT7fs/N2iyqW3Kqj/ydV1dj2n6P78t2XwsVKk/ZJJ+9auBnD9xLqLhWAz5P4QeEYpk0Pc/vzCl7QJuwT84yrtRKbH2P9oSc7arIow/55ZxL1MC9j//y4mrqvCqP/NZP0pIDvU/sfsTHbWUJj8bLOhiwy30P2j7nVOdypk/j1BwyINe8z/7BugxLVy8P+obryfVxo4/PumUwwO/qT8yKTz0WQ2rP3IOF9/9Ppc/Gn4S45djtz/rVfQKsqCQP6il/qFyonU/QPieTaojqz/mwonp2tqUP8DO9QnIdrM/+w+siV8Lqj9wRdIRCcuRP/uO5MCENas/a+Fyp7iakj+GXwD/wyFXP35cqGlFSbA//VZCMxXkkj+5zSGXIESrPzQJHHiqRKo/n/UDin/keD96lPQ0gXuQPz3wBuBbUqs/emRhfEztkz821XRhTVCrP4LXzwuTg2o/yfgc3uz0jD+3/pqpKOmmP/shzv3755Q/9q0usz1xqj+AGmPZmlqrP+WNdzBMKok/PF1AjS8noz+ndXloi1YBQG8XeUJN1ZU/4wtIFZmYYj/0lsOrb2OrP9cKjbi/koU/9HTp9uiUqj/pfMiqtNOfP3i8fOxKtpY//814Jhdrqz/XDqC6WSqCP10005MQ8AFA9Ri+Cf4umj/v95ye5IuXP74RbsXJcas/vbvPgRmyqj+SFwMVItt9P/tfBLlXOZU/b5NsUfJWmD97UDm7snerP4ShFFFCxwBAq0d7Pr7/cj/8HfuQabJ3P/+8ch7B1JA/9codLTcYmT83aLKpbcqqP4CGqKHzfKs/yYVVvcPUcT/njm+xa9OJP9hsMjOxZ/8/f51N/GPQmT/1qBsAp4GrP5LvgtbneWg/OJOaYATfqj/nIzdRCMuCP2hQXUgZgJo/KJaG/BHDAED8LwMQ4oWrP5BW7SbdmFs/08O7vDyf/T+f9QOKf+R4P+To8izpJ5s/vssdALaJqz//y4mrqvCqPxNcM7h1wzw/3AOT90rCaj/qP5nWt3KbP0b+SQOT7fs/+C8Odw6oSD/wIQ/qJamZP4BI1Oz2/6o/O2a6cU8EXz/cA5P3SsJqP/J1XV2Pafo/768kmNfylz85Y4dQonZoPzIpPPRZDas/8pSy3JtOlj/OVZ2kxoZwP55y9tx6Jfk/cfvCWFq7lD+8gEUKKhmrP9vGLImLkos//lbHhw41AED4Dk3EOiKQP+A6GCRU6Pc/87OJBoShfD+x+xMdtZQmP0D4nk2qI6s/qKX+oXKidT9yXcl32972P+6R6Yba9IM/87OJBoShfD8db2Xo2QdgP3I6dr0PLas/4wtIFZmYYj9dNNOTEPABQBMK36ad1vU/EnTc/oC2AED7juTAhDWrPxLCW60bh/8/08O7vDyf/T8jIXmjVvn0P0b+SQOT7fs/2GwyM7Fn/z/ydV1dj2n6P8DhW6wrPas/cS6i4VgM+T8qj3EzqBn0PztXH75DAPg/cl3Jd9ve9j+5zSGXIESrPxMK36ad1vU/Uuiy/GTk9D+PUHDIg17zP+XfADzJHUc/GyzoYsMt9D90JV+2ekqrP49QcMiDXvM/aS2V5kOeAkBpLZXmQ54CQF0005MQ8AFAqUMwy+BNAUB1kXhgPgapP4ShFFFCxwBAXTTTkxDwAUCi9vVEHDkAQLFOCsnudP4/2GwyM7Fn/z+3/pqpKOmmP30LCBhRbf4/08O7vDyf/T+ndXloi1YBQDleVeg1wPw/tVp3D671pD9G/kkDk+37PwEuMH+DG0A/KGyE3lIm+z/Mivin4b4AQPJ1XV2Pafo/aN+88UDQ+T88XUCNLyejP5VEjEM82wJAovb1RBw5AEBf2LY6yGICQF0005MQ8AFAfiNmD7d5oT9LaphpX44BQIpuxgp0kP0/NnPohzQLbz8QFpd9siUBQNhsMjOxZ/8/tOcBi6zBAEDpfMiqtNOfP4kfweX/YQBA418AfmUGAEDmkQx6jHz+P0CJlQYqcv8/X6q1jFTJ/j9rw85LR+mcP+/PJrbO1Fo/mgfA7j8n/j+KbsYKdJD9Px5SH3qGi/0/1SZjhh8J/T/1GL4J/i6aP2czs7FL+gJAaS2V5kOeAkA5XlXoNcD8P1JvhqAHufw/c4pH3lWglz8zMzMzMzMDQEb+SQOT7fs/+18EuVc5lT/zlMnmS8qePyhshN5SJvs/R0vwks1pZj9yFejrg/aSP8e0v6vJdvo//7xyHsHUkD9KRmp3XcP5P0b+SQOT7fs/y3xOMJyijT+VRIxDPNsCQOeOb7Fr04k/X9i2OshiAkA2c+iHNAtvP+FanCKLN4Y/dPtUegz2AUDnIzdRCMuCP2VgPSOHiAFAgYV/yB0t+z+kf3YSrBR/P6lj1Tj8HwFAn/UDin/keD/Ak+LdH6pzP7TnAYuswQBAq0d7Pr7/cj+JH8Hl/2EAQMCT4t0fqnM/3AOT90rCaj/HtL+ryXb6P2/Qqmy+CwBAHW9l6NkHYD/YbDIzsWf/P+uLUb8QpXc/5d8APMkdRz9fqrWMVMn+PwEuMH+DG0A/mgfA7j8n/j/vzya2ztRaP9mSkzTPyfk/+Yptm2GV/T/vksc5GvT0P0dL8JLNaWY//jOl6nT//D+Z8Vzo0nh7PzZz6Ic0C28/F949vI31AkDAk+LdH6pzP2ktleZDngJA64tRvxCldz8QvCEEGNgCQJnxXOjSeHs/l+VpBJ4nfz+X5WkEnid/P+LKFNq/WYE/MzMzMzMzA0Bf2LY6yGICQPKW7K8vD4M/9Uhb0AC1hD/iyhTav1mBP+DpQ6cFTIY/64tRvxCldz8ApCYeAtWHP/OUyeZLyp4/6BcUhw7zAUDQYtrWrFCJP/KW7K8vD4M/8dHORrC/ij/aEnO2qyKMPyqPcTOoGfQ/zAXmJzR6jT+7mfx0y5WlP2VgPSOHiAFA6huvJ9XGjj/1SFvQALWEP+tO88SIBJA/61X0CrKgkD/7XFgehamnP/F7NhEgOJE/3Dw2W9ciAUBwRdIRCcuRP/KT+GyvyYU/++pmFqBZkj929M9eLYeRPziQVK0LtKg/epT0NIF7kD+05wGLrMEAQPJwLg++7o4//KJexSZ+gz+u1fbI1tl0P8n4HN7s9Iw/z0fR1vYIiz+/Ldl8LFSpP1ZISj67ZABA5Y13MEwqiT/VKBzNZFiHP/sKydmHRoE/ul2yLNlU8z/XCo24v5KFPz7plMMDv6k/5npKseLYgz9v0KpsvgsAQNcOoLpZKoI/tlEupKdDfj8AOxa3toaAP5IXAxUi230/+w+siV8Lqj/v/w2GCr16Pw7745ztbP8//B37kGmydz+Sv/4WOR56P6HXRiOLunQ/yYVVvcPUcT80CRx4qkSqP81HteLfAG4/30j9fTPE/j+S74LW53loP/XLyk+uQXA/qu9VfwYbdj/lU7sBdhNjP5BW7SbdmFs/9q0usz1xqj+aB8DuPyf+P3Su0/eER1E/E1wzuHXDPD9pLZXmQ54CQKfZUpluOHI/VboDz0VoJT/0dOn26JSqP/gvDncOqEg/im7GCnSQ/T9bNuJy48VVPztmunFPBF8/cv+OaNTpbD8ARMOBdQhkP727z4EZsqo/OWOHUKJ2aD/+M6XqdP/8Pz//fiptzWw/fC+mYhSeZT/OVZ2kxoZwP6Otpz/Zm3I/Oo89G4qGqT/AiPi27PcCQCITXP0mqmc/wDaawtYVXT/+F/2qg2ylP2ktleZDngJArom0gI30AUAlHptEQ7dOP365VL1i6KE/+7/9QiRGID9nxft2Y7idP2gfJkd9zkU/9DyYg+5imD+V57ggmUZeP3tmFUSkeFc/MzMzMzMzA0B3e9+7Ba6TPycpJ8FgVAFAkq8o07XXYT/YpnPM1f2OP6nT65+tx2c/AMbqrACBhz/a95VJAo5tP2R+TFyQqUs/6X//8MHDgD/Pt+HwMZZxP/OUyeZLyp4/epA/0vnAAEDYXdObfFV1P50H1rc1UnQ/2ofF4Ex+ZD+1qxE6zvt2PwAAKp+mhP8+vL1qScdKID+W/a4ns5N5P9If4gd4UGI/0KZeZhU3AEC7mfx0y5WlP6tnmcWSGnw/1KsFuQCycT/FtSOGEpF+P5b9riezk3k/khcDFSLbfT/J4aYe/2+AP7739B/c+m8/xAYgY21bUT/v/w2GCr16P4GXd4Kea/8/1Oe6OHHTgz/7XFgehamnP/wd+5Bpsnc/2Xz2shX7hj+h10Yji7p0P8zYIgHn7Ik/yYVVvcPUcT+oryL6SRRgP+4fCy0arow/zUe14t8Abj+xTgrJ7nT+PziQVK0LtKg/zpiUrD1Djz+S74LW53loP/z0fU4p2JA/5VO7AXYTYz95RUXFcPyRP3lPb+m4O2c/kFbtJt2YWz8=",
          "dtype": "f8"
         },
         "y0": " ",
         "yaxis": "y"
        }
       ],
       "layout": {
        "boxmode": "group",
        "legend": {
         "tracegroupgap": 0
        },
        "template": {
         "data": {
          "bar": [
           {
            "error_x": {
             "color": "#2a3f5f"
            },
            "error_y": {
             "color": "#2a3f5f"
            },
            "marker": {
             "line": {
              "color": "#E5ECF6",
              "width": 0.5
             },
             "pattern": {
              "fillmode": "overlay",
              "size": 10,
              "solidity": 0.2
             }
            },
            "type": "bar"
           }
          ],
          "barpolar": [
           {
            "marker": {
             "line": {
              "color": "#E5ECF6",
              "width": 0.5
             },
             "pattern": {
              "fillmode": "overlay",
              "size": 10,
              "solidity": 0.2
             }
            },
            "type": "barpolar"
           }
          ],
          "carpet": [
           {
            "aaxis": {
             "endlinecolor": "#2a3f5f",
             "gridcolor": "white",
             "linecolor": "white",
             "minorgridcolor": "white",
             "startlinecolor": "#2a3f5f"
            },
            "baxis": {
             "endlinecolor": "#2a3f5f",
             "gridcolor": "white",
             "linecolor": "white",
             "minorgridcolor": "white",
             "startlinecolor": "#2a3f5f"
            },
            "type": "carpet"
           }
          ],
          "choropleth": [
           {
            "colorbar": {
             "outlinewidth": 0,
             "ticks": ""
            },
            "type": "choropleth"
           }
          ],
          "contour": [
           {
            "colorbar": {
             "outlinewidth": 0,
             "ticks": ""
            },
            "colorscale": [
             [
              0,
              "#0d0887"
             ],
             [
              0.1111111111111111,
              "#46039f"
             ],
             [
              0.2222222222222222,
              "#7201a8"
             ],
             [
              0.3333333333333333,
              "#9c179e"
             ],
             [
              0.4444444444444444,
              "#bd3786"
             ],
             [
              0.5555555555555556,
              "#d8576b"
             ],
             [
              0.6666666666666666,
              "#ed7953"
             ],
             [
              0.7777777777777778,
              "#fb9f3a"
             ],
             [
              0.8888888888888888,
              "#fdca26"
             ],
             [
              1,
              "#f0f921"
             ]
            ],
            "type": "contour"
           }
          ],
          "contourcarpet": [
           {
            "colorbar": {
             "outlinewidth": 0,
             "ticks": ""
            },
            "type": "contourcarpet"
           }
          ],
          "heatmap": [
           {
            "colorbar": {
             "outlinewidth": 0,
             "ticks": ""
            },
            "colorscale": [
             [
              0,
              "#0d0887"
             ],
             [
              0.1111111111111111,
              "#46039f"
             ],
             [
              0.2222222222222222,
              "#7201a8"
             ],
             [
              0.3333333333333333,
              "#9c179e"
             ],
             [
              0.4444444444444444,
              "#bd3786"
             ],
             [
              0.5555555555555556,
              "#d8576b"
             ],
             [
              0.6666666666666666,
              "#ed7953"
             ],
             [
              0.7777777777777778,
              "#fb9f3a"
             ],
             [
              0.8888888888888888,
              "#fdca26"
             ],
             [
              1,
              "#f0f921"
             ]
            ],
            "type": "heatmap"
           }
          ],
          "histogram": [
           {
            "marker": {
             "pattern": {
              "fillmode": "overlay",
              "size": 10,
              "solidity": 0.2
             }
            },
            "type": "histogram"
           }
          ],
          "histogram2d": [
           {
            "colorbar": {
             "outlinewidth": 0,
             "ticks": ""
            },
            "colorscale": [
             [
              0,
              "#0d0887"
             ],
             [
              0.1111111111111111,
              "#46039f"
             ],
             [
              0.2222222222222222,
              "#7201a8"
             ],
             [
              0.3333333333333333,
              "#9c179e"
             ],
             [
              0.4444444444444444,
              "#bd3786"
             ],
             [
              0.5555555555555556,
              "#d8576b"
             ],
             [
              0.6666666666666666,
              "#ed7953"
             ],
             [
              0.7777777777777778,
              "#fb9f3a"
             ],
             [
              0.8888888888888888,
              "#fdca26"
             ],
             [
              1,
              "#f0f921"
             ]
            ],
            "type": "histogram2d"
           }
          ],
          "histogram2dcontour": [
           {
            "colorbar": {
             "outlinewidth": 0,
             "ticks": ""
            },
            "colorscale": [
             [
              0,
              "#0d0887"
             ],
             [
              0.1111111111111111,
              "#46039f"
             ],
             [
              0.2222222222222222,
              "#7201a8"
             ],
             [
              0.3333333333333333,
              "#9c179e"
             ],
             [
              0.4444444444444444,
              "#bd3786"
             ],
             [
              0.5555555555555556,
              "#d8576b"
             ],
             [
              0.6666666666666666,
              "#ed7953"
             ],
             [
              0.7777777777777778,
              "#fb9f3a"
             ],
             [
              0.8888888888888888,
              "#fdca26"
             ],
             [
              1,
              "#f0f921"
             ]
            ],
            "type": "histogram2dcontour"
           }
          ],
          "mesh3d": [
           {
            "colorbar": {
             "outlinewidth": 0,
             "ticks": ""
            },
            "type": "mesh3d"
           }
          ],
          "parcoords": [
           {
            "line": {
             "colorbar": {
              "outlinewidth": 0,
              "ticks": ""
             }
            },
            "type": "parcoords"
           }
          ],
          "pie": [
           {
            "automargin": true,
            "type": "pie"
           }
          ],
          "scatter": [
           {
            "fillpattern": {
             "fillmode": "overlay",
             "size": 10,
             "solidity": 0.2
            },
            "type": "scatter"
           }
          ],
          "scatter3d": [
           {
            "line": {
             "colorbar": {
              "outlinewidth": 0,
              "ticks": ""
             }
            },
            "marker": {
             "colorbar": {
              "outlinewidth": 0,
              "ticks": ""
             }
            },
            "type": "scatter3d"
           }
          ],
          "scattercarpet": [
           {
            "marker": {
             "colorbar": {
              "outlinewidth": 0,
              "ticks": ""
             }
            },
            "type": "scattercarpet"
           }
          ],
          "scattergeo": [
           {
            "marker": {
             "colorbar": {
              "outlinewidth": 0,
              "ticks": ""
             }
            },
            "type": "scattergeo"
           }
          ],
          "scattergl": [
           {
            "marker": {
             "colorbar": {
              "outlinewidth": 0,
              "ticks": ""
             }
            },
            "type": "scattergl"
           }
          ],
          "scattermap": [
           {
            "marker": {
             "colorbar": {
              "outlinewidth": 0,
              "ticks": ""
             }
            },
            "type": "scattermap"
           }
          ],
          "scattermapbox": [
           {
            "marker": {
             "colorbar": {
              "outlinewidth": 0,
              "ticks": ""
             }
            },
            "type": "scattermapbox"
           }
          ],
          "scatterpolar": [
           {
            "marker": {
             "colorbar": {
              "outlinewidth": 0,
              "ticks": ""
             }
            },
            "type": "scatterpolar"
           }
          ],
          "scatterpolargl": [
           {
            "marker": {
             "colorbar": {
              "outlinewidth": 0,
              "ticks": ""
             }
            },
            "type": "scatterpolargl"
           }
          ],
          "scatterternary": [
           {
            "marker": {
             "colorbar": {
              "outlinewidth": 0,
              "ticks": ""
             }
            },
            "type": "scatterternary"
           }
          ],
          "surface": [
           {
            "colorbar": {
             "outlinewidth": 0,
             "ticks": ""
            },
            "colorscale": [
             [
              0,
              "#0d0887"
             ],
             [
              0.1111111111111111,
              "#46039f"
             ],
             [
              0.2222222222222222,
              "#7201a8"
             ],
             [
              0.3333333333333333,
              "#9c179e"
             ],
             [
              0.4444444444444444,
              "#bd3786"
             ],
             [
              0.5555555555555556,
              "#d8576b"
             ],
             [
              0.6666666666666666,
              "#ed7953"
             ],
             [
              0.7777777777777778,
              "#fb9f3a"
             ],
             [
              0.8888888888888888,
              "#fdca26"
             ],
             [
              1,
              "#f0f921"
             ]
            ],
            "type": "surface"
           }
          ],
          "table": [
           {
            "cells": {
             "fill": {
              "color": "#EBF0F8"
             },
             "line": {
              "color": "white"
             }
            },
            "header": {
             "fill": {
              "color": "#C8D4E3"
             },
             "line": {
              "color": "white"
             }
            },
            "type": "table"
           }
          ]
         },
         "layout": {
          "annotationdefaults": {
           "arrowcolor": "#2a3f5f",
           "arrowhead": 0,
           "arrowwidth": 1
          },
          "autotypenumbers": "strict",
          "coloraxis": {
           "colorbar": {
            "outlinewidth": 0,
            "ticks": ""
           }
          },
          "colorscale": {
           "diverging": [
            [
             0,
             "#8e0152"
            ],
            [
             0.1,
             "#c51b7d"
            ],
            [
             0.2,
             "#de77ae"
            ],
            [
             0.3,
             "#f1b6da"
            ],
            [
             0.4,
             "#fde0ef"
            ],
            [
             0.5,
             "#f7f7f7"
            ],
            [
             0.6,
             "#e6f5d0"
            ],
            [
             0.7,
             "#b8e186"
            ],
            [
             0.8,
             "#7fbc41"
            ],
            [
             0.9,
             "#4d9221"
            ],
            [
             1,
             "#276419"
            ]
           ],
           "sequential": [
            [
             0,
             "#0d0887"
            ],
            [
             0.1111111111111111,
             "#46039f"
            ],
            [
             0.2222222222222222,
             "#7201a8"
            ],
            [
             0.3333333333333333,
             "#9c179e"
            ],
            [
             0.4444444444444444,
             "#bd3786"
            ],
            [
             0.5555555555555556,
             "#d8576b"
            ],
            [
             0.6666666666666666,
             "#ed7953"
            ],
            [
             0.7777777777777778,
             "#fb9f3a"
            ],
            [
             0.8888888888888888,
             "#fdca26"
            ],
            [
             1,
             "#f0f921"
            ]
           ],
           "sequentialminus": [
            [
             0,
             "#0d0887"
            ],
            [
             0.1111111111111111,
             "#46039f"
            ],
            [
             0.2222222222222222,
             "#7201a8"
            ],
            [
             0.3333333333333333,
             "#9c179e"
            ],
            [
             0.4444444444444444,
             "#bd3786"
            ],
            [
             0.5555555555555556,
             "#d8576b"
            ],
            [
             0.6666666666666666,
             "#ed7953"
            ],
            [
             0.7777777777777778,
             "#fb9f3a"
            ],
            [
             0.8888888888888888,
             "#fdca26"
            ],
            [
             1,
             "#f0f921"
            ]
           ]
          },
          "colorway": [
           "#636efa",
           "#EF553B",
           "#00cc96",
           "#ab63fa",
           "#FFA15A",
           "#19d3f3",
           "#FF6692",
           "#B6E880",
           "#FF97FF",
           "#FECB52"
          ],
          "font": {
           "color": "#2a3f5f"
          },
          "geo": {
           "bgcolor": "white",
           "lakecolor": "white",
           "landcolor": "#E5ECF6",
           "showlakes": true,
           "showland": true,
           "subunitcolor": "white"
          },
          "hoverlabel": {
           "align": "left"
          },
          "hovermode": "closest",
          "mapbox": {
           "style": "light"
          },
          "paper_bgcolor": "white",
          "plot_bgcolor": "#E5ECF6",
          "polar": {
           "angularaxis": {
            "gridcolor": "white",
            "linecolor": "white",
            "ticks": ""
           },
           "bgcolor": "#E5ECF6",
           "radialaxis": {
            "gridcolor": "white",
            "linecolor": "white",
            "ticks": ""
           }
          },
          "scene": {
           "xaxis": {
            "backgroundcolor": "#E5ECF6",
            "gridcolor": "white",
            "gridwidth": 2,
            "linecolor": "white",
            "showbackground": true,
            "ticks": "",
            "zerolinecolor": "white"
           },
           "yaxis": {
            "backgroundcolor": "#E5ECF6",
            "gridcolor": "white",
            "gridwidth": 2,
            "linecolor": "white",
            "showbackground": true,
            "ticks": "",
            "zerolinecolor": "white"
           },
           "zaxis": {
            "backgroundcolor": "#E5ECF6",
            "gridcolor": "white",
            "gridwidth": 2,
            "linecolor": "white",
            "showbackground": true,
            "ticks": "",
            "zerolinecolor": "white"
           }
          },
          "shapedefaults": {
           "line": {
            "color": "#2a3f5f"
           }
          },
          "ternary": {
           "aaxis": {
            "gridcolor": "white",
            "linecolor": "white",
            "ticks": ""
           },
           "baxis": {
            "gridcolor": "white",
            "linecolor": "white",
            "ticks": ""
           },
           "bgcolor": "#E5ECF6",
           "caxis": {
            "gridcolor": "white",
            "linecolor": "white",
            "ticks": ""
           }
          },
          "title": {
           "x": 0.05
          },
          "xaxis": {
           "automargin": true,
           "gridcolor": "white",
           "linecolor": "white",
           "ticks": "",
           "title": {
            "standoff": 15
           },
           "zerolinecolor": "white",
           "zerolinewidth": 2
          },
          "yaxis": {
           "automargin": true,
           "gridcolor": "white",
           "linecolor": "white",
           "ticks": "",
           "title": {
            "standoff": 15
           },
           "zerolinecolor": "white",
           "zerolinewidth": 2
          }
         }
        },
        "title": {
         "text": "Error vs Number of Ancilla Qubits (qDRIFT)"
        },
        "xaxis": {
         "anchor": "y",
         "domain": [
          0,
          1
         ],
         "title": {
          "text": "# Ancilla Qubits"
         }
        },
        "yaxis": {
         "anchor": "x",
         "domain": [
          0,
          1
         ],
         "title": {
          "text": "Eigenvalue Estimation Error"
         }
        }
       }
      }
     },
     "metadata": {},
     "output_type": "display_data"
    }
   ],
   "source": [
    "plot_error_vs_ancilla(df=qdrift_df, title_suffix=\"(qDRIFT)\")"
   ]
  },
  {
   "cell_type": "code",
   "execution_count": 9,
   "id": "6a7ce9d4",
   "metadata": {},
   "outputs": [
    {
     "data": {
      "application/vnd.plotly.v1+json": {
       "config": {
        "plotlyServerURL": "https://plot.ly"
       },
       "data": [
        {
         "hovertemplate": "Time=%{x}<br>Error=%{y}<br>Num Ancilla=%{marker.color}<extra></extra>",
         "legendgroup": "",
         "marker": {
          "color": {
           "bdata": "CgoKCgoKCgoKCgoKCgoKCgoKCgoKCgoKCgoKCgoKCgoKCgoKCgoKCgoKCgoKCgoKCgoKCgoKCgoKCgoKCgoKCgoKCgoKCgoKCgoKCg==",
           "dtype": "i1"
          },
          "coloraxis": "coloraxis",
          "symbol": "circle"
         },
         "mode": "markers",
         "name": "",
         "orientation": "v",
         "showlegend": false,
         "type": "scatter",
         "x": {
          "bdata": "c2iR7Xw/tT8K16NwPQq3P1pkO99PjZc/H4XrUbge1T/hehSuR+HKPy1DHOviNho/ukkMAiuHtj+amZmZmZm5P3npJjEIrJw/w/UoXI/C1T8tQxzr4jYqPylcj8L1KMw/KVyPwvUovD8CK4cW2c63P0w3iUFg5aA/ZmZmZmZm1j8tQxzr4jY6P3E9CtejcM0/uB6F61G4vj9KDAIrhxa5P9v5fmq8dKM/uB6F61G4zj8K16NwPQrXP2EyVTAqqUM/pHA9CtejwD97FK5H4XqEP65H4XoUrtc/arx0kxgEpj8AAAAAAADQPy1DHOviNko/7FG4HoXrwT9SuB6F61HYP/p+arx0k6g/exSuR+F6lD+kcD0K16PQP/yp8dJNYlA/MzMzMzMzwz+4HoXrUbieP/YoXI/C9dg/iUFg5dAiqz9I4XoUrkfRP/yp8dJNYmA/exSuR+F6xD97FK5H4XqkP5qZmZmZmdk/7FG4HoXr0T8ZBFYOLbKtP/p+arx0k2g/w/UoXI/CxT+amZmZmZmpPz0K16NwPdo//Knx0k1igD9U46WbxCCwP4/C9Shcj9I/CtejcD0Kxz+4HoXrUbiuP+F6FK5H4do/ObTIdr6fij8zMzMzMzPTP5zEILByaLE/UrgehetRyD/sUbgeheuxPzvfT42XbpI/hetRuB6F2z/Xo3A9CtfTP+Olm8QgsLI/mpmZmZmZyT8pXI/C9SjcP83MzMzMzNw/exSuR+F6tD97FK5H4XrUPyuHFtnO97M/cT0K16Nw3T8UrkfhehTeP7gehetRuN4/XI/C9Shc3z8=",
          "dtype": "f8"
         },
         "xaxis": "x",
         "y": {
          "bdata": "qt9zqmQx8T9dFNAWomRQQHyuf52JmlA/aERPEnXr6z9KH9Ef+Pj2PzMzMzMzMwNAPgRbXsWZxT//wsQkwyfQP9muZQelloU/d6Acg3PgDEAzMzMzMzMDQEJ8wQQiGApAXgOAuNAyvD+OsjQ6G6/hP3D9t0UemJE/h1uZzXrr/D8zMzMzMzMDQJ7kEyDdHixA9gGEqEnWqz9N8z6d610CQODaOG/HFNY/FyGWZRdUNEAWN/XwklL7PzMzMzMzMwNAb5fOJbyv1D/2AYSoSdarP4bMPltCuBNAmAEhkpa+2T/S6p9UqZI0QDMzMzMzMwNAd8PljlUd1z+naGacyggkQKhycHiyNNI//8LEJMMn0D8Cy7mxaIwQQDMzMzMzMwNACg84l8FzF0D2AYSoSdarP20TVn7cz/w/+W5dBsj2nz/dlukIjGb+P1iDXfTwX+U/kHwNluW87D+YZK9RCfnZP678PcB4awVAwy9dl7zXM0DPfZ8F18rBPxCEtkJHs9Y/oLyk821XQEBnHLtJBjDTPxIRhbgfaPw/eYVo3/NZuT9tlsvQMmbNP4LCcDMrefU/SmMZpz6B9D+9BgpH14WoP7m0UpYO2hxAOy06DcF+pD8KiiW+U1wGQLQEjeSiKeA/Mnna48vW/j/oua6gNBrzP8AtlS/U7tQ/TjdhTyfcDEC9aPr9Pp66P3NGqIveOqM/uNJ7lW1Joz8HrFvnacEIQPlVlwzqHwFAXh83GQyYUkD/CcBazcz4Pz5SSG52Fck/oEK5jQ/+0T9l2/ai5gkIQIC3tmxnu/U/06tscEyQAEA=",
          "dtype": "f8"
         },
         "yaxis": "y"
        }
       ],
       "layout": {
        "coloraxis": {
         "colorbar": {
          "title": {
           "text": "Num Ancilla"
          }
         },
         "colorscale": [
          [
           0,
           "#0d0887"
          ],
          [
           0.1111111111111111,
           "#46039f"
          ],
          [
           0.2222222222222222,
           "#7201a8"
          ],
          [
           0.3333333333333333,
           "#9c179e"
          ],
          [
           0.4444444444444444,
           "#bd3786"
          ],
          [
           0.5555555555555556,
           "#d8576b"
          ],
          [
           0.6666666666666666,
           "#ed7953"
          ],
          [
           0.7777777777777778,
           "#fb9f3a"
          ],
          [
           0.8888888888888888,
           "#fdca26"
          ],
          [
           1,
           "#f0f921"
          ]
         ]
        },
        "legend": {
         "tracegroupgap": 0
        },
        "template": {
         "data": {
          "bar": [
           {
            "error_x": {
             "color": "#2a3f5f"
            },
            "error_y": {
             "color": "#2a3f5f"
            },
            "marker": {
             "line": {
              "color": "#E5ECF6",
              "width": 0.5
             },
             "pattern": {
              "fillmode": "overlay",
              "size": 10,
              "solidity": 0.2
             }
            },
            "type": "bar"
           }
          ],
          "barpolar": [
           {
            "marker": {
             "line": {
              "color": "#E5ECF6",
              "width": 0.5
             },
             "pattern": {
              "fillmode": "overlay",
              "size": 10,
              "solidity": 0.2
             }
            },
            "type": "barpolar"
           }
          ],
          "carpet": [
           {
            "aaxis": {
             "endlinecolor": "#2a3f5f",
             "gridcolor": "white",
             "linecolor": "white",
             "minorgridcolor": "white",
             "startlinecolor": "#2a3f5f"
            },
            "baxis": {
             "endlinecolor": "#2a3f5f",
             "gridcolor": "white",
             "linecolor": "white",
             "minorgridcolor": "white",
             "startlinecolor": "#2a3f5f"
            },
            "type": "carpet"
           }
          ],
          "choropleth": [
           {
            "colorbar": {
             "outlinewidth": 0,
             "ticks": ""
            },
            "type": "choropleth"
           }
          ],
          "contour": [
           {
            "colorbar": {
             "outlinewidth": 0,
             "ticks": ""
            },
            "colorscale": [
             [
              0,
              "#0d0887"
             ],
             [
              0.1111111111111111,
              "#46039f"
             ],
             [
              0.2222222222222222,
              "#7201a8"
             ],
             [
              0.3333333333333333,
              "#9c179e"
             ],
             [
              0.4444444444444444,
              "#bd3786"
             ],
             [
              0.5555555555555556,
              "#d8576b"
             ],
             [
              0.6666666666666666,
              "#ed7953"
             ],
             [
              0.7777777777777778,
              "#fb9f3a"
             ],
             [
              0.8888888888888888,
              "#fdca26"
             ],
             [
              1,
              "#f0f921"
             ]
            ],
            "type": "contour"
           }
          ],
          "contourcarpet": [
           {
            "colorbar": {
             "outlinewidth": 0,
             "ticks": ""
            },
            "type": "contourcarpet"
           }
          ],
          "heatmap": [
           {
            "colorbar": {
             "outlinewidth": 0,
             "ticks": ""
            },
            "colorscale": [
             [
              0,
              "#0d0887"
             ],
             [
              0.1111111111111111,
              "#46039f"
             ],
             [
              0.2222222222222222,
              "#7201a8"
             ],
             [
              0.3333333333333333,
              "#9c179e"
             ],
             [
              0.4444444444444444,
              "#bd3786"
             ],
             [
              0.5555555555555556,
              "#d8576b"
             ],
             [
              0.6666666666666666,
              "#ed7953"
             ],
             [
              0.7777777777777778,
              "#fb9f3a"
             ],
             [
              0.8888888888888888,
              "#fdca26"
             ],
             [
              1,
              "#f0f921"
             ]
            ],
            "type": "heatmap"
           }
          ],
          "histogram": [
           {
            "marker": {
             "pattern": {
              "fillmode": "overlay",
              "size": 10,
              "solidity": 0.2
             }
            },
            "type": "histogram"
           }
          ],
          "histogram2d": [
           {
            "colorbar": {
             "outlinewidth": 0,
             "ticks": ""
            },
            "colorscale": [
             [
              0,
              "#0d0887"
             ],
             [
              0.1111111111111111,
              "#46039f"
             ],
             [
              0.2222222222222222,
              "#7201a8"
             ],
             [
              0.3333333333333333,
              "#9c179e"
             ],
             [
              0.4444444444444444,
              "#bd3786"
             ],
             [
              0.5555555555555556,
              "#d8576b"
             ],
             [
              0.6666666666666666,
              "#ed7953"
             ],
             [
              0.7777777777777778,
              "#fb9f3a"
             ],
             [
              0.8888888888888888,
              "#fdca26"
             ],
             [
              1,
              "#f0f921"
             ]
            ],
            "type": "histogram2d"
           }
          ],
          "histogram2dcontour": [
           {
            "colorbar": {
             "outlinewidth": 0,
             "ticks": ""
            },
            "colorscale": [
             [
              0,
              "#0d0887"
             ],
             [
              0.1111111111111111,
              "#46039f"
             ],
             [
              0.2222222222222222,
              "#7201a8"
             ],
             [
              0.3333333333333333,
              "#9c179e"
             ],
             [
              0.4444444444444444,
              "#bd3786"
             ],
             [
              0.5555555555555556,
              "#d8576b"
             ],
             [
              0.6666666666666666,
              "#ed7953"
             ],
             [
              0.7777777777777778,
              "#fb9f3a"
             ],
             [
              0.8888888888888888,
              "#fdca26"
             ],
             [
              1,
              "#f0f921"
             ]
            ],
            "type": "histogram2dcontour"
           }
          ],
          "mesh3d": [
           {
            "colorbar": {
             "outlinewidth": 0,
             "ticks": ""
            },
            "type": "mesh3d"
           }
          ],
          "parcoords": [
           {
            "line": {
             "colorbar": {
              "outlinewidth": 0,
              "ticks": ""
             }
            },
            "type": "parcoords"
           }
          ],
          "pie": [
           {
            "automargin": true,
            "type": "pie"
           }
          ],
          "scatter": [
           {
            "fillpattern": {
             "fillmode": "overlay",
             "size": 10,
             "solidity": 0.2
            },
            "type": "scatter"
           }
          ],
          "scatter3d": [
           {
            "line": {
             "colorbar": {
              "outlinewidth": 0,
              "ticks": ""
             }
            },
            "marker": {
             "colorbar": {
              "outlinewidth": 0,
              "ticks": ""
             }
            },
            "type": "scatter3d"
           }
          ],
          "scattercarpet": [
           {
            "marker": {
             "colorbar": {
              "outlinewidth": 0,
              "ticks": ""
             }
            },
            "type": "scattercarpet"
           }
          ],
          "scattergeo": [
           {
            "marker": {
             "colorbar": {
              "outlinewidth": 0,
              "ticks": ""
             }
            },
            "type": "scattergeo"
           }
          ],
          "scattergl": [
           {
            "marker": {
             "colorbar": {
              "outlinewidth": 0,
              "ticks": ""
             }
            },
            "type": "scattergl"
           }
          ],
          "scattermap": [
           {
            "marker": {
             "colorbar": {
              "outlinewidth": 0,
              "ticks": ""
             }
            },
            "type": "scattermap"
           }
          ],
          "scattermapbox": [
           {
            "marker": {
             "colorbar": {
              "outlinewidth": 0,
              "ticks": ""
             }
            },
            "type": "scattermapbox"
           }
          ],
          "scatterpolar": [
           {
            "marker": {
             "colorbar": {
              "outlinewidth": 0,
              "ticks": ""
             }
            },
            "type": "scatterpolar"
           }
          ],
          "scatterpolargl": [
           {
            "marker": {
             "colorbar": {
              "outlinewidth": 0,
              "ticks": ""
             }
            },
            "type": "scatterpolargl"
           }
          ],
          "scatterternary": [
           {
            "marker": {
             "colorbar": {
              "outlinewidth": 0,
              "ticks": ""
             }
            },
            "type": "scatterternary"
           }
          ],
          "surface": [
           {
            "colorbar": {
             "outlinewidth": 0,
             "ticks": ""
            },
            "colorscale": [
             [
              0,
              "#0d0887"
             ],
             [
              0.1111111111111111,
              "#46039f"
             ],
             [
              0.2222222222222222,
              "#7201a8"
             ],
             [
              0.3333333333333333,
              "#9c179e"
             ],
             [
              0.4444444444444444,
              "#bd3786"
             ],
             [
              0.5555555555555556,
              "#d8576b"
             ],
             [
              0.6666666666666666,
              "#ed7953"
             ],
             [
              0.7777777777777778,
              "#fb9f3a"
             ],
             [
              0.8888888888888888,
              "#fdca26"
             ],
             [
              1,
              "#f0f921"
             ]
            ],
            "type": "surface"
           }
          ],
          "table": [
           {
            "cells": {
             "fill": {
              "color": "#EBF0F8"
             },
             "line": {
              "color": "white"
             }
            },
            "header": {
             "fill": {
              "color": "#C8D4E3"
             },
             "line": {
              "color": "white"
             }
            },
            "type": "table"
           }
          ]
         },
         "layout": {
          "annotationdefaults": {
           "arrowcolor": "#2a3f5f",
           "arrowhead": 0,
           "arrowwidth": 1
          },
          "autotypenumbers": "strict",
          "coloraxis": {
           "colorbar": {
            "outlinewidth": 0,
            "ticks": ""
           }
          },
          "colorscale": {
           "diverging": [
            [
             0,
             "#8e0152"
            ],
            [
             0.1,
             "#c51b7d"
            ],
            [
             0.2,
             "#de77ae"
            ],
            [
             0.3,
             "#f1b6da"
            ],
            [
             0.4,
             "#fde0ef"
            ],
            [
             0.5,
             "#f7f7f7"
            ],
            [
             0.6,
             "#e6f5d0"
            ],
            [
             0.7,
             "#b8e186"
            ],
            [
             0.8,
             "#7fbc41"
            ],
            [
             0.9,
             "#4d9221"
            ],
            [
             1,
             "#276419"
            ]
           ],
           "sequential": [
            [
             0,
             "#0d0887"
            ],
            [
             0.1111111111111111,
             "#46039f"
            ],
            [
             0.2222222222222222,
             "#7201a8"
            ],
            [
             0.3333333333333333,
             "#9c179e"
            ],
            [
             0.4444444444444444,
             "#bd3786"
            ],
            [
             0.5555555555555556,
             "#d8576b"
            ],
            [
             0.6666666666666666,
             "#ed7953"
            ],
            [
             0.7777777777777778,
             "#fb9f3a"
            ],
            [
             0.8888888888888888,
             "#fdca26"
            ],
            [
             1,
             "#f0f921"
            ]
           ],
           "sequentialminus": [
            [
             0,
             "#0d0887"
            ],
            [
             0.1111111111111111,
             "#46039f"
            ],
            [
             0.2222222222222222,
             "#7201a8"
            ],
            [
             0.3333333333333333,
             "#9c179e"
            ],
            [
             0.4444444444444444,
             "#bd3786"
            ],
            [
             0.5555555555555556,
             "#d8576b"
            ],
            [
             0.6666666666666666,
             "#ed7953"
            ],
            [
             0.7777777777777778,
             "#fb9f3a"
            ],
            [
             0.8888888888888888,
             "#fdca26"
            ],
            [
             1,
             "#f0f921"
            ]
           ]
          },
          "colorway": [
           "#636efa",
           "#EF553B",
           "#00cc96",
           "#ab63fa",
           "#FFA15A",
           "#19d3f3",
           "#FF6692",
           "#B6E880",
           "#FF97FF",
           "#FECB52"
          ],
          "font": {
           "color": "#2a3f5f"
          },
          "geo": {
           "bgcolor": "white",
           "lakecolor": "white",
           "landcolor": "#E5ECF6",
           "showlakes": true,
           "showland": true,
           "subunitcolor": "white"
          },
          "hoverlabel": {
           "align": "left"
          },
          "hovermode": "closest",
          "mapbox": {
           "style": "light"
          },
          "paper_bgcolor": "white",
          "plot_bgcolor": "#E5ECF6",
          "polar": {
           "angularaxis": {
            "gridcolor": "white",
            "linecolor": "white",
            "ticks": ""
           },
           "bgcolor": "#E5ECF6",
           "radialaxis": {
            "gridcolor": "white",
            "linecolor": "white",
            "ticks": ""
           }
          },
          "scene": {
           "xaxis": {
            "backgroundcolor": "#E5ECF6",
            "gridcolor": "white",
            "gridwidth": 2,
            "linecolor": "white",
            "showbackground": true,
            "ticks": "",
            "zerolinecolor": "white"
           },
           "yaxis": {
            "backgroundcolor": "#E5ECF6",
            "gridcolor": "white",
            "gridwidth": 2,
            "linecolor": "white",
            "showbackground": true,
            "ticks": "",
            "zerolinecolor": "white"
           },
           "zaxis": {
            "backgroundcolor": "#E5ECF6",
            "gridcolor": "white",
            "gridwidth": 2,
            "linecolor": "white",
            "showbackground": true,
            "ticks": "",
            "zerolinecolor": "white"
           }
          },
          "shapedefaults": {
           "line": {
            "color": "#2a3f5f"
           }
          },
          "ternary": {
           "aaxis": {
            "gridcolor": "white",
            "linecolor": "white",
            "ticks": ""
           },
           "baxis": {
            "gridcolor": "white",
            "linecolor": "white",
            "ticks": ""
           },
           "bgcolor": "#E5ECF6",
           "caxis": {
            "gridcolor": "white",
            "linecolor": "white",
            "ticks": ""
           }
          },
          "title": {
           "x": 0.05
          },
          "xaxis": {
           "automargin": true,
           "gridcolor": "white",
           "linecolor": "white",
           "ticks": "",
           "title": {
            "standoff": 15
           },
           "zerolinecolor": "white",
           "zerolinewidth": 2
          },
          "yaxis": {
           "automargin": true,
           "gridcolor": "white",
           "linecolor": "white",
           "ticks": "",
           "title": {
            "standoff": 15
           },
           "zerolinecolor": "white",
           "zerolinewidth": 2
          }
         }
        },
        "title": {
         "text": "Eigenvalue Error vs Time (Scatter Plot) (qDRIFT2)"
        },
        "xaxis": {
         "anchor": "y",
         "domain": [
          0,
          1
         ],
         "title": {
          "text": "Time"
         }
        },
        "yaxis": {
         "anchor": "x",
         "domain": [
          0,
          1
         ],
         "title": {
          "text": "Error"
         }
        }
       }
      }
     },
     "metadata": {},
     "output_type": "display_data"
    }
   ],
   "source": [
    "qdrift2 = pd.read_csv(qdrift_csv2)\n",
    "plot_error_vs_time(df=qdrift2, title_suffix=\"(qDRIFT2)\")"
   ]
  }
 ],
 "metadata": {
  "kernelspec": {
   "display_name": ".venv",
   "language": "python",
   "name": "python3"
  },
  "language_info": {
   "codemirror_mode": {
    "name": "ipython",
    "version": 3
   },
   "file_extension": ".py",
   "mimetype": "text/x-python",
   "name": "python",
   "nbconvert_exporter": "python",
   "pygments_lexer": "ipython3",
   "version": "3.13.3"
  }
 },
 "nbformat": 4,
 "nbformat_minor": 5
}
