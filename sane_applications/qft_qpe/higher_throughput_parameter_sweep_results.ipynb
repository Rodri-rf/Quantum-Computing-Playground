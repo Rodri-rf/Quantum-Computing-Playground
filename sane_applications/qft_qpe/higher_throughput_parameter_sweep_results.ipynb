{
 "cells": [
  {
   "cell_type": "code",
   "execution_count": 9,
   "id": "cf01889b",
   "metadata": {},
   "outputs": [],
   "source": [
    "import pandas as pd\n",
    "import numpy as np\n",
    "import seaborn as sns\n",
    "from pathlib import Path\n",
    "import plotly.express as px"
   ]
  },
  {
   "cell_type": "code",
   "execution_count": 6,
   "id": "56181c3c",
   "metadata": {},
   "outputs": [],
   "source": [
    "# Load CSVs\n",
    "standard_csv = Path(\"ising_model_sweep_data.csv\")\n",
    "qdrift_csv = Path(\"qdrift_ising_model_sweep_data.csv\")"
   ]
  },
  {
   "cell_type": "code",
   "execution_count": null,
   "id": "be924eee",
   "metadata": {},
   "outputs": [
    {
     "ename": "FileNotFoundError",
     "evalue": "[Errno 2] No such file or directory: 'ising_model_sweep_data.csv'",
     "output_type": "error",
     "traceback": [
      "\u001b[1;31m---------------------------------------------------------------------------\u001b[0m",
      "\u001b[1;31mFileNotFoundError\u001b[0m                         Traceback (most recent call last)",
      "Cell \u001b[1;32mIn[16], line 2\u001b[0m\n\u001b[0;32m      1\u001b[0m \u001b[38;5;66;03m# Read files into DataFrames\u001b[39;00m\n\u001b[1;32m----> 2\u001b[0m standard_df \u001b[38;5;241m=\u001b[39m \u001b[43mpd\u001b[49m\u001b[38;5;241;43m.\u001b[39;49m\u001b[43mread_csv\u001b[49m\u001b[43m(\u001b[49m\u001b[43mstandard_csv\u001b[49m\u001b[43m)\u001b[49m\n\u001b[0;32m      3\u001b[0m qdrift_df \u001b[38;5;241m=\u001b[39m pd\u001b[38;5;241m.\u001b[39mread_csv(qdrift_csv)\n\u001b[0;32m      5\u001b[0m \u001b[38;5;66;03m# Tag the method\u001b[39;00m\n",
      "File \u001b[1;32mc:\\Users\\rodcs\\.conda\\envs\\quantum_stuff\\Lib\\site-packages\\pandas\\io\\parsers\\readers.py:1026\u001b[0m, in \u001b[0;36mread_csv\u001b[1;34m(filepath_or_buffer, sep, delimiter, header, names, index_col, usecols, dtype, engine, converters, true_values, false_values, skipinitialspace, skiprows, skipfooter, nrows, na_values, keep_default_na, na_filter, verbose, skip_blank_lines, parse_dates, infer_datetime_format, keep_date_col, date_parser, date_format, dayfirst, cache_dates, iterator, chunksize, compression, thousands, decimal, lineterminator, quotechar, quoting, doublequote, escapechar, comment, encoding, encoding_errors, dialect, on_bad_lines, delim_whitespace, low_memory, memory_map, float_precision, storage_options, dtype_backend)\u001b[0m\n\u001b[0;32m   1013\u001b[0m kwds_defaults \u001b[38;5;241m=\u001b[39m _refine_defaults_read(\n\u001b[0;32m   1014\u001b[0m     dialect,\n\u001b[0;32m   1015\u001b[0m     delimiter,\n\u001b[1;32m   (...)\u001b[0m\n\u001b[0;32m   1022\u001b[0m     dtype_backend\u001b[38;5;241m=\u001b[39mdtype_backend,\n\u001b[0;32m   1023\u001b[0m )\n\u001b[0;32m   1024\u001b[0m kwds\u001b[38;5;241m.\u001b[39mupdate(kwds_defaults)\n\u001b[1;32m-> 1026\u001b[0m \u001b[38;5;28;01mreturn\u001b[39;00m \u001b[43m_read\u001b[49m\u001b[43m(\u001b[49m\u001b[43mfilepath_or_buffer\u001b[49m\u001b[43m,\u001b[49m\u001b[43m \u001b[49m\u001b[43mkwds\u001b[49m\u001b[43m)\u001b[49m\n",
      "File \u001b[1;32mc:\\Users\\rodcs\\.conda\\envs\\quantum_stuff\\Lib\\site-packages\\pandas\\io\\parsers\\readers.py:620\u001b[0m, in \u001b[0;36m_read\u001b[1;34m(filepath_or_buffer, kwds)\u001b[0m\n\u001b[0;32m    617\u001b[0m _validate_names(kwds\u001b[38;5;241m.\u001b[39mget(\u001b[38;5;124m\"\u001b[39m\u001b[38;5;124mnames\u001b[39m\u001b[38;5;124m\"\u001b[39m, \u001b[38;5;28;01mNone\u001b[39;00m))\n\u001b[0;32m    619\u001b[0m \u001b[38;5;66;03m# Create the parser.\u001b[39;00m\n\u001b[1;32m--> 620\u001b[0m parser \u001b[38;5;241m=\u001b[39m \u001b[43mTextFileReader\u001b[49m\u001b[43m(\u001b[49m\u001b[43mfilepath_or_buffer\u001b[49m\u001b[43m,\u001b[49m\u001b[43m \u001b[49m\u001b[38;5;241;43m*\u001b[39;49m\u001b[38;5;241;43m*\u001b[39;49m\u001b[43mkwds\u001b[49m\u001b[43m)\u001b[49m\n\u001b[0;32m    622\u001b[0m \u001b[38;5;28;01mif\u001b[39;00m chunksize \u001b[38;5;129;01mor\u001b[39;00m iterator:\n\u001b[0;32m    623\u001b[0m     \u001b[38;5;28;01mreturn\u001b[39;00m parser\n",
      "File \u001b[1;32mc:\\Users\\rodcs\\.conda\\envs\\quantum_stuff\\Lib\\site-packages\\pandas\\io\\parsers\\readers.py:1620\u001b[0m, in \u001b[0;36mTextFileReader.__init__\u001b[1;34m(self, f, engine, **kwds)\u001b[0m\n\u001b[0;32m   1617\u001b[0m     \u001b[38;5;28mself\u001b[39m\u001b[38;5;241m.\u001b[39moptions[\u001b[38;5;124m\"\u001b[39m\u001b[38;5;124mhas_index_names\u001b[39m\u001b[38;5;124m\"\u001b[39m] \u001b[38;5;241m=\u001b[39m kwds[\u001b[38;5;124m\"\u001b[39m\u001b[38;5;124mhas_index_names\u001b[39m\u001b[38;5;124m\"\u001b[39m]\n\u001b[0;32m   1619\u001b[0m \u001b[38;5;28mself\u001b[39m\u001b[38;5;241m.\u001b[39mhandles: IOHandles \u001b[38;5;241m|\u001b[39m \u001b[38;5;28;01mNone\u001b[39;00m \u001b[38;5;241m=\u001b[39m \u001b[38;5;28;01mNone\u001b[39;00m\n\u001b[1;32m-> 1620\u001b[0m \u001b[38;5;28mself\u001b[39m\u001b[38;5;241m.\u001b[39m_engine \u001b[38;5;241m=\u001b[39m \u001b[38;5;28;43mself\u001b[39;49m\u001b[38;5;241;43m.\u001b[39;49m\u001b[43m_make_engine\u001b[49m\u001b[43m(\u001b[49m\u001b[43mf\u001b[49m\u001b[43m,\u001b[49m\u001b[43m \u001b[49m\u001b[38;5;28;43mself\u001b[39;49m\u001b[38;5;241;43m.\u001b[39;49m\u001b[43mengine\u001b[49m\u001b[43m)\u001b[49m\n",
      "File \u001b[1;32mc:\\Users\\rodcs\\.conda\\envs\\quantum_stuff\\Lib\\site-packages\\pandas\\io\\parsers\\readers.py:1880\u001b[0m, in \u001b[0;36mTextFileReader._make_engine\u001b[1;34m(self, f, engine)\u001b[0m\n\u001b[0;32m   1878\u001b[0m     \u001b[38;5;28;01mif\u001b[39;00m \u001b[38;5;124m\"\u001b[39m\u001b[38;5;124mb\u001b[39m\u001b[38;5;124m\"\u001b[39m \u001b[38;5;129;01mnot\u001b[39;00m \u001b[38;5;129;01min\u001b[39;00m mode:\n\u001b[0;32m   1879\u001b[0m         mode \u001b[38;5;241m+\u001b[39m\u001b[38;5;241m=\u001b[39m \u001b[38;5;124m\"\u001b[39m\u001b[38;5;124mb\u001b[39m\u001b[38;5;124m\"\u001b[39m\n\u001b[1;32m-> 1880\u001b[0m \u001b[38;5;28mself\u001b[39m\u001b[38;5;241m.\u001b[39mhandles \u001b[38;5;241m=\u001b[39m \u001b[43mget_handle\u001b[49m\u001b[43m(\u001b[49m\n\u001b[0;32m   1881\u001b[0m \u001b[43m    \u001b[49m\u001b[43mf\u001b[49m\u001b[43m,\u001b[49m\n\u001b[0;32m   1882\u001b[0m \u001b[43m    \u001b[49m\u001b[43mmode\u001b[49m\u001b[43m,\u001b[49m\n\u001b[0;32m   1883\u001b[0m \u001b[43m    \u001b[49m\u001b[43mencoding\u001b[49m\u001b[38;5;241;43m=\u001b[39;49m\u001b[38;5;28;43mself\u001b[39;49m\u001b[38;5;241;43m.\u001b[39;49m\u001b[43moptions\u001b[49m\u001b[38;5;241;43m.\u001b[39;49m\u001b[43mget\u001b[49m\u001b[43m(\u001b[49m\u001b[38;5;124;43m\"\u001b[39;49m\u001b[38;5;124;43mencoding\u001b[39;49m\u001b[38;5;124;43m\"\u001b[39;49m\u001b[43m,\u001b[49m\u001b[43m \u001b[49m\u001b[38;5;28;43;01mNone\u001b[39;49;00m\u001b[43m)\u001b[49m\u001b[43m,\u001b[49m\n\u001b[0;32m   1884\u001b[0m \u001b[43m    \u001b[49m\u001b[43mcompression\u001b[49m\u001b[38;5;241;43m=\u001b[39;49m\u001b[38;5;28;43mself\u001b[39;49m\u001b[38;5;241;43m.\u001b[39;49m\u001b[43moptions\u001b[49m\u001b[38;5;241;43m.\u001b[39;49m\u001b[43mget\u001b[49m\u001b[43m(\u001b[49m\u001b[38;5;124;43m\"\u001b[39;49m\u001b[38;5;124;43mcompression\u001b[39;49m\u001b[38;5;124;43m\"\u001b[39;49m\u001b[43m,\u001b[49m\u001b[43m \u001b[49m\u001b[38;5;28;43;01mNone\u001b[39;49;00m\u001b[43m)\u001b[49m\u001b[43m,\u001b[49m\n\u001b[0;32m   1885\u001b[0m \u001b[43m    \u001b[49m\u001b[43mmemory_map\u001b[49m\u001b[38;5;241;43m=\u001b[39;49m\u001b[38;5;28;43mself\u001b[39;49m\u001b[38;5;241;43m.\u001b[39;49m\u001b[43moptions\u001b[49m\u001b[38;5;241;43m.\u001b[39;49m\u001b[43mget\u001b[49m\u001b[43m(\u001b[49m\u001b[38;5;124;43m\"\u001b[39;49m\u001b[38;5;124;43mmemory_map\u001b[39;49m\u001b[38;5;124;43m\"\u001b[39;49m\u001b[43m,\u001b[49m\u001b[43m \u001b[49m\u001b[38;5;28;43;01mFalse\u001b[39;49;00m\u001b[43m)\u001b[49m\u001b[43m,\u001b[49m\n\u001b[0;32m   1886\u001b[0m \u001b[43m    \u001b[49m\u001b[43mis_text\u001b[49m\u001b[38;5;241;43m=\u001b[39;49m\u001b[43mis_text\u001b[49m\u001b[43m,\u001b[49m\n\u001b[0;32m   1887\u001b[0m \u001b[43m    \u001b[49m\u001b[43merrors\u001b[49m\u001b[38;5;241;43m=\u001b[39;49m\u001b[38;5;28;43mself\u001b[39;49m\u001b[38;5;241;43m.\u001b[39;49m\u001b[43moptions\u001b[49m\u001b[38;5;241;43m.\u001b[39;49m\u001b[43mget\u001b[49m\u001b[43m(\u001b[49m\u001b[38;5;124;43m\"\u001b[39;49m\u001b[38;5;124;43mencoding_errors\u001b[39;49m\u001b[38;5;124;43m\"\u001b[39;49m\u001b[43m,\u001b[49m\u001b[43m \u001b[49m\u001b[38;5;124;43m\"\u001b[39;49m\u001b[38;5;124;43mstrict\u001b[39;49m\u001b[38;5;124;43m\"\u001b[39;49m\u001b[43m)\u001b[49m\u001b[43m,\u001b[49m\n\u001b[0;32m   1888\u001b[0m \u001b[43m    \u001b[49m\u001b[43mstorage_options\u001b[49m\u001b[38;5;241;43m=\u001b[39;49m\u001b[38;5;28;43mself\u001b[39;49m\u001b[38;5;241;43m.\u001b[39;49m\u001b[43moptions\u001b[49m\u001b[38;5;241;43m.\u001b[39;49m\u001b[43mget\u001b[49m\u001b[43m(\u001b[49m\u001b[38;5;124;43m\"\u001b[39;49m\u001b[38;5;124;43mstorage_options\u001b[39;49m\u001b[38;5;124;43m\"\u001b[39;49m\u001b[43m,\u001b[49m\u001b[43m \u001b[49m\u001b[38;5;28;43;01mNone\u001b[39;49;00m\u001b[43m)\u001b[49m\u001b[43m,\u001b[49m\n\u001b[0;32m   1889\u001b[0m \u001b[43m\u001b[49m\u001b[43m)\u001b[49m\n\u001b[0;32m   1890\u001b[0m \u001b[38;5;28;01massert\u001b[39;00m \u001b[38;5;28mself\u001b[39m\u001b[38;5;241m.\u001b[39mhandles \u001b[38;5;129;01mis\u001b[39;00m \u001b[38;5;129;01mnot\u001b[39;00m \u001b[38;5;28;01mNone\u001b[39;00m\n\u001b[0;32m   1891\u001b[0m f \u001b[38;5;241m=\u001b[39m \u001b[38;5;28mself\u001b[39m\u001b[38;5;241m.\u001b[39mhandles\u001b[38;5;241m.\u001b[39mhandle\n",
      "File \u001b[1;32mc:\\Users\\rodcs\\.conda\\envs\\quantum_stuff\\Lib\\site-packages\\pandas\\io\\common.py:873\u001b[0m, in \u001b[0;36mget_handle\u001b[1;34m(path_or_buf, mode, encoding, compression, memory_map, is_text, errors, storage_options)\u001b[0m\n\u001b[0;32m    868\u001b[0m \u001b[38;5;28;01melif\u001b[39;00m \u001b[38;5;28misinstance\u001b[39m(handle, \u001b[38;5;28mstr\u001b[39m):\n\u001b[0;32m    869\u001b[0m     \u001b[38;5;66;03m# Check whether the filename is to be opened in binary mode.\u001b[39;00m\n\u001b[0;32m    870\u001b[0m     \u001b[38;5;66;03m# Binary mode does not support 'encoding' and 'newline'.\u001b[39;00m\n\u001b[0;32m    871\u001b[0m     \u001b[38;5;28;01mif\u001b[39;00m ioargs\u001b[38;5;241m.\u001b[39mencoding \u001b[38;5;129;01mand\u001b[39;00m \u001b[38;5;124m\"\u001b[39m\u001b[38;5;124mb\u001b[39m\u001b[38;5;124m\"\u001b[39m \u001b[38;5;129;01mnot\u001b[39;00m \u001b[38;5;129;01min\u001b[39;00m ioargs\u001b[38;5;241m.\u001b[39mmode:\n\u001b[0;32m    872\u001b[0m         \u001b[38;5;66;03m# Encoding\u001b[39;00m\n\u001b[1;32m--> 873\u001b[0m         handle \u001b[38;5;241m=\u001b[39m \u001b[38;5;28;43mopen\u001b[39;49m\u001b[43m(\u001b[49m\n\u001b[0;32m    874\u001b[0m \u001b[43m            \u001b[49m\u001b[43mhandle\u001b[49m\u001b[43m,\u001b[49m\n\u001b[0;32m    875\u001b[0m \u001b[43m            \u001b[49m\u001b[43mioargs\u001b[49m\u001b[38;5;241;43m.\u001b[39;49m\u001b[43mmode\u001b[49m\u001b[43m,\u001b[49m\n\u001b[0;32m    876\u001b[0m \u001b[43m            \u001b[49m\u001b[43mencoding\u001b[49m\u001b[38;5;241;43m=\u001b[39;49m\u001b[43mioargs\u001b[49m\u001b[38;5;241;43m.\u001b[39;49m\u001b[43mencoding\u001b[49m\u001b[43m,\u001b[49m\n\u001b[0;32m    877\u001b[0m \u001b[43m            \u001b[49m\u001b[43merrors\u001b[49m\u001b[38;5;241;43m=\u001b[39;49m\u001b[43merrors\u001b[49m\u001b[43m,\u001b[49m\n\u001b[0;32m    878\u001b[0m \u001b[43m            \u001b[49m\u001b[43mnewline\u001b[49m\u001b[38;5;241;43m=\u001b[39;49m\u001b[38;5;124;43m\"\u001b[39;49m\u001b[38;5;124;43m\"\u001b[39;49m\u001b[43m,\u001b[49m\n\u001b[0;32m    879\u001b[0m \u001b[43m        \u001b[49m\u001b[43m)\u001b[49m\n\u001b[0;32m    880\u001b[0m     \u001b[38;5;28;01melse\u001b[39;00m:\n\u001b[0;32m    881\u001b[0m         \u001b[38;5;66;03m# Binary mode\u001b[39;00m\n\u001b[0;32m    882\u001b[0m         handle \u001b[38;5;241m=\u001b[39m \u001b[38;5;28mopen\u001b[39m(handle, ioargs\u001b[38;5;241m.\u001b[39mmode)\n",
      "\u001b[1;31mFileNotFoundError\u001b[0m: [Errno 2] No such file or directory: 'ising_model_sweep_data.csv'"
     ]
    }
   ],
   "source": [
    "# Read files into DataFrames\n",
    "standard_df = pd.read_csv(standard_csv)\n",
    "qdrift_df = pd.read_csv(qdrift_csv)\n",
    "\n",
    "# Tag the method\n",
    "standard_df[\"Method\"] = \"Standard QPE\"\n",
    "qdrift_df[\"Method\"] = \"qDRIFT QPE\"\n",
    "\n",
    "# Combine DataFrames\n",
    "combined_df = pd.concat([standard_df, qdrift_df], ignore_index=True)\n",
    "# Convert 'Time' to numeric, coerce errors to NaN\n",
    "combined_df[\"Time\"] = pd.to_numeric(combined_df[\"Time\"], errors=\"coerce\")\n"
   ]
  },
  {
   "cell_type": "code",
   "execution_count": 57,
   "id": "1abb5782",
   "metadata": {},
   "outputs": [],
   "source": [
    "\n",
    "\n",
    "def plot_error_vs_time(df: pd.DataFrame, title_suffix=\"\"):\n",
    "\n",
    "    fig_scatter = px.scatter(\n",
    "        df,\n",
    "        x=\"Time\",\n",
    "        y=\"Eigenvalue Error\",\n",
    "        color=\"Num Ancilla\",\n",
    "        title=f\"Eigenvalue Error vs Time (Scatter Plot) {title_suffix}\",\n",
    "        labels={\"Eigenvalue Error\": \"Error\", \"Num Qubits\": \"# Qubits\"},\n",
    "    )\n",
    "    fig_scatter.show()\n",
    "\n",
    "def plot_error_vs_ancilla(df: pd.DataFrame, title_suffix=\"\"):\n",
    "    fig = px.box(\n",
    "        df,\n",
    "        x=\"Num Ancilla\",\n",
    "        y=\"Eigenvalue Error\",\n",
    "        points=\"all\",\n",
    "        title=f\"Error vs Number of Ancilla Qubits {title_suffix}\",\n",
    "        labels={\"Num Ancilla\": \"# Ancilla Qubits\", \"Eigenvalue Error\": \"Eigenvalue Estimation Error\"},\n",
    "    )\n",
    "    fig.show()\n",
    "\n",
    "def plot_3d_relationship(df: pd.DataFrame, title_suffix=\"\"):\n",
    "    fig = px.scatter_3d(\n",
    "        df,\n",
    "        x=\"Time\",\n",
    "        y=\"Num Ancilla\",\n",
    "        z=\"Eigenvalue Error\",\n",
    "        color=\"Eigenvalue Error\",\n",
    "        title=f\"3D Plot of Error vs Time vs Ancilla Qubits {title_suffix}\",\n",
    "        labels={\"Time\": \"Simulation Time\", \"Num Ancilla\": \"# Ancilla Qubits\", \"Eigenvalue Error\": \"Error\"},\n",
    "    )\n",
    "    fig.show()\n",
    "\n",
    "qdrift_df = pd.read_csv(qdrift_csv)\n"
   ]
  },
  {
   "cell_type": "code",
   "execution_count": 58,
   "id": "f6e5fb16",
   "metadata": {},
   "outputs": [
    {
     "data": {
      "application/vnd.plotly.v1+json": {
       "config": {
        "plotlyServerURL": "https://plot.ly"
       },
       "data": [
        {
         "hovertemplate": "Time=%{x}<br>Error=%{y}<br>Num Ancilla=%{marker.color}<extra></extra>",
         "legendgroup": "",
         "marker": {
          "color": {
           "bdata": "BQUGBQYFBQUGBQYFBQUGBQYFBQUFBgUFBgUFBQUFBgUFBgUFBQUGBQUGBQUFBQYFBQYFBQUFBQUGBQUFBgUFBQYFBQUGBQUFBgUFBQYFBQUFBgUFBgUFBgYFBQUGBQUFBgYFBQYFBQYGBQUGBQUGBgUFBgUFBgYFBQYFBQYGBQUFBQYGBgUFBQUGBgYFBQUFBgYFBgUFBQYGBQUGBQUGBwUGBQYFBQYFBgUGBQUGBQYGBQUFBgcFBQYGBQYFBQYGBQUGBQUGBgUHBQYFBQYGBQUFBgUGBgUFBQcGBgUFBgYFBwUFBgYFBwUGBgUFBgYFBwYGBwYGBgYHBgYIBwYGBwYGBgYHBgYHBgYIBwYGBgYHBgYHBgYIBgYHBgYHBgYGBwYGBgcIBgYHBgYGBgcGBgcGCAYGBwYGBgcGBgcGBwgGBgcGBwYIBwYGBwYHBgcGCAYHBgcHCAcHBwcIBwcHCAcHBwgHBwcICQcHBwcIBwcHCAcHBwkHCAcHCAcHBwcIBwcHCAcHBwcICQcHBwgHBwcIBwcHCAcHCQcHCAcHBwgHBwcIBwcIBwkIBwcIBwcIBwgHCQcIBwcIBwgHBwkIBwcIBwgHBwgHCQcIBwgHBwgHBwgJBwgHBwgHBwgHCAcJBwgHBwgHCAcJBwgHBwgHCAcHCAcJCgcIBwgHBwgHBwgJBwgHBwgHBwgJCAgICAgICQgICAgJCAgICAkICAgICQgICAkICAgKCAkICAgJCAgICAgJCAoICAkICAgICAkICQgICQkICAkICggJCQgJCAgKCAkJCAkICAkICQgJCAgJCAkICQoICAkJCAgJCggJCAkICQgICQgJCAkICAkICQgKCQgICQkICAoJCAkICQgICQgJCAkICQgICQkKCQkJCgkJCQkJCQoJCgkKCQkJCQkKCQkKCgkJCQkJCgkJCgoJCQkJCQkLCgkKCQoJCQkJCQoJCQoKCQkJCQkKCQ==",
           "dtype": "i1"
          },
          "coloraxis": "coloraxis",
          "symbol": "circle"
         },
         "mode": "markers",
         "name": "",
         "orientation": "v",
         "showlegend": false,
         "type": "scatter",
         "x": {
          "bdata": "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",
          "dtype": "f8"
         },
         "xaxis": "x",
         "y": {
          "bdata": "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",
          "dtype": "f8"
         },
         "yaxis": "y"
        }
       ],
       "layout": {
        "coloraxis": {
         "colorbar": {
          "title": {
           "text": "Num Ancilla"
          }
         },
         "colorscale": [
          [
           0,
           "#0d0887"
          ],
          [
           0.1111111111111111,
           "#46039f"
          ],
          [
           0.2222222222222222,
           "#7201a8"
          ],
          [
           0.3333333333333333,
           "#9c179e"
          ],
          [
           0.4444444444444444,
           "#bd3786"
          ],
          [
           0.5555555555555556,
           "#d8576b"
          ],
          [
           0.6666666666666666,
           "#ed7953"
          ],
          [
           0.7777777777777778,
           "#fb9f3a"
          ],
          [
           0.8888888888888888,
           "#fdca26"
          ],
          [
           1,
           "#f0f921"
          ]
         ]
        },
        "legend": {
         "tracegroupgap": 0
        },
        "template": {
         "data": {
          "bar": [
           {
            "error_x": {
             "color": "#2a3f5f"
            },
            "error_y": {
             "color": "#2a3f5f"
            },
            "marker": {
             "line": {
              "color": "#E5ECF6",
              "width": 0.5
             },
             "pattern": {
              "fillmode": "overlay",
              "size": 10,
              "solidity": 0.2
             }
            },
            "type": "bar"
           }
          ],
          "barpolar": [
           {
            "marker": {
             "line": {
              "color": "#E5ECF6",
              "width": 0.5
             },
             "pattern": {
              "fillmode": "overlay",
              "size": 10,
              "solidity": 0.2
             }
            },
            "type": "barpolar"
           }
          ],
          "carpet": [
           {
            "aaxis": {
             "endlinecolor": "#2a3f5f",
             "gridcolor": "white",
             "linecolor": "white",
             "minorgridcolor": "white",
             "startlinecolor": "#2a3f5f"
            },
            "baxis": {
             "endlinecolor": "#2a3f5f",
             "gridcolor": "white",
             "linecolor": "white",
             "minorgridcolor": "white",
             "startlinecolor": "#2a3f5f"
            },
            "type": "carpet"
           }
          ],
          "choropleth": [
           {
            "colorbar": {
             "outlinewidth": 0,
             "ticks": ""
            },
            "type": "choropleth"
           }
          ],
          "contour": [
           {
            "colorbar": {
             "outlinewidth": 0,
             "ticks": ""
            },
            "colorscale": [
             [
              0,
              "#0d0887"
             ],
             [
              0.1111111111111111,
              "#46039f"
             ],
             [
              0.2222222222222222,
              "#7201a8"
             ],
             [
              0.3333333333333333,
              "#9c179e"
             ],
             [
              0.4444444444444444,
              "#bd3786"
             ],
             [
              0.5555555555555556,
              "#d8576b"
             ],
             [
              0.6666666666666666,
              "#ed7953"
             ],
             [
              0.7777777777777778,
              "#fb9f3a"
             ],
             [
              0.8888888888888888,
              "#fdca26"
             ],
             [
              1,
              "#f0f921"
             ]
            ],
            "type": "contour"
           }
          ],
          "contourcarpet": [
           {
            "colorbar": {
             "outlinewidth": 0,
             "ticks": ""
            },
            "type": "contourcarpet"
           }
          ],
          "heatmap": [
           {
            "colorbar": {
             "outlinewidth": 0,
             "ticks": ""
            },
            "colorscale": [
             [
              0,
              "#0d0887"
             ],
             [
              0.1111111111111111,
              "#46039f"
             ],
             [
              0.2222222222222222,
              "#7201a8"
             ],
             [
              0.3333333333333333,
              "#9c179e"
             ],
             [
              0.4444444444444444,
              "#bd3786"
             ],
             [
              0.5555555555555556,
              "#d8576b"
             ],
             [
              0.6666666666666666,
              "#ed7953"
             ],
             [
              0.7777777777777778,
              "#fb9f3a"
             ],
             [
              0.8888888888888888,
              "#fdca26"
             ],
             [
              1,
              "#f0f921"
             ]
            ],
            "type": "heatmap"
           }
          ],
          "histogram": [
           {
            "marker": {
             "pattern": {
              "fillmode": "overlay",
              "size": 10,
              "solidity": 0.2
             }
            },
            "type": "histogram"
           }
          ],
          "histogram2d": [
           {
            "colorbar": {
             "outlinewidth": 0,
             "ticks": ""
            },
            "colorscale": [
             [
              0,
              "#0d0887"
             ],
             [
              0.1111111111111111,
              "#46039f"
             ],
             [
              0.2222222222222222,
              "#7201a8"
             ],
             [
              0.3333333333333333,
              "#9c179e"
             ],
             [
              0.4444444444444444,
              "#bd3786"
             ],
             [
              0.5555555555555556,
              "#d8576b"
             ],
             [
              0.6666666666666666,
              "#ed7953"
             ],
             [
              0.7777777777777778,
              "#fb9f3a"
             ],
             [
              0.8888888888888888,
              "#fdca26"
             ],
             [
              1,
              "#f0f921"
             ]
            ],
            "type": "histogram2d"
           }
          ],
          "histogram2dcontour": [
           {
            "colorbar": {
             "outlinewidth": 0,
             "ticks": ""
            },
            "colorscale": [
             [
              0,
              "#0d0887"
             ],
             [
              0.1111111111111111,
              "#46039f"
             ],
             [
              0.2222222222222222,
              "#7201a8"
             ],
             [
              0.3333333333333333,
              "#9c179e"
             ],
             [
              0.4444444444444444,
              "#bd3786"
             ],
             [
              0.5555555555555556,
              "#d8576b"
             ],
             [
              0.6666666666666666,
              "#ed7953"
             ],
             [
              0.7777777777777778,
              "#fb9f3a"
             ],
             [
              0.8888888888888888,
              "#fdca26"
             ],
             [
              1,
              "#f0f921"
             ]
            ],
            "type": "histogram2dcontour"
           }
          ],
          "mesh3d": [
           {
            "colorbar": {
             "outlinewidth": 0,
             "ticks": ""
            },
            "type": "mesh3d"
           }
          ],
          "parcoords": [
           {
            "line": {
             "colorbar": {
              "outlinewidth": 0,
              "ticks": ""
             }
            },
            "type": "parcoords"
           }
          ],
          "pie": [
           {
            "automargin": true,
            "type": "pie"
           }
          ],
          "scatter": [
           {
            "fillpattern": {
             "fillmode": "overlay",
             "size": 10,
             "solidity": 0.2
            },
            "type": "scatter"
           }
          ],
          "scatter3d": [
           {
            "line": {
             "colorbar": {
              "outlinewidth": 0,
              "ticks": ""
             }
            },
            "marker": {
             "colorbar": {
              "outlinewidth": 0,
              "ticks": ""
             }
            },
            "type": "scatter3d"
           }
          ],
          "scattercarpet": [
           {
            "marker": {
             "colorbar": {
              "outlinewidth": 0,
              "ticks": ""
             }
            },
            "type": "scattercarpet"
           }
          ],
          "scattergeo": [
           {
            "marker": {
             "colorbar": {
              "outlinewidth": 0,
              "ticks": ""
             }
            },
            "type": "scattergeo"
           }
          ],
          "scattergl": [
           {
            "marker": {
             "colorbar": {
              "outlinewidth": 0,
              "ticks": ""
             }
            },
            "type": "scattergl"
           }
          ],
          "scattermap": [
           {
            "marker": {
             "colorbar": {
              "outlinewidth": 0,
              "ticks": ""
             }
            },
            "type": "scattermap"
           }
          ],
          "scattermapbox": [
           {
            "marker": {
             "colorbar": {
              "outlinewidth": 0,
              "ticks": ""
             }
            },
            "type": "scattermapbox"
           }
          ],
          "scatterpolar": [
           {
            "marker": {
             "colorbar": {
              "outlinewidth": 0,
              "ticks": ""
             }
            },
            "type": "scatterpolar"
           }
          ],
          "scatterpolargl": [
           {
            "marker": {
             "colorbar": {
              "outlinewidth": 0,
              "ticks": ""
             }
            },
            "type": "scatterpolargl"
           }
          ],
          "scatterternary": [
           {
            "marker": {
             "colorbar": {
              "outlinewidth": 0,
              "ticks": ""
             }
            },
            "type": "scatterternary"
           }
          ],
          "surface": [
           {
            "colorbar": {
             "outlinewidth": 0,
             "ticks": ""
            },
            "colorscale": [
             [
              0,
              "#0d0887"
             ],
             [
              0.1111111111111111,
              "#46039f"
             ],
             [
              0.2222222222222222,
              "#7201a8"
             ],
             [
              0.3333333333333333,
              "#9c179e"
             ],
             [
              0.4444444444444444,
              "#bd3786"
             ],
             [
              0.5555555555555556,
              "#d8576b"
             ],
             [
              0.6666666666666666,
              "#ed7953"
             ],
             [
              0.7777777777777778,
              "#fb9f3a"
             ],
             [
              0.8888888888888888,
              "#fdca26"
             ],
             [
              1,
              "#f0f921"
             ]
            ],
            "type": "surface"
           }
          ],
          "table": [
           {
            "cells": {
             "fill": {
              "color": "#EBF0F8"
             },
             "line": {
              "color": "white"
             }
            },
            "header": {
             "fill": {
              "color": "#C8D4E3"
             },
             "line": {
              "color": "white"
             }
            },
            "type": "table"
           }
          ]
         },
         "layout": {
          "annotationdefaults": {
           "arrowcolor": "#2a3f5f",
           "arrowhead": 0,
           "arrowwidth": 1
          },
          "autotypenumbers": "strict",
          "coloraxis": {
           "colorbar": {
            "outlinewidth": 0,
            "ticks": ""
           }
          },
          "colorscale": {
           "diverging": [
            [
             0,
             "#8e0152"
            ],
            [
             0.1,
             "#c51b7d"
            ],
            [
             0.2,
             "#de77ae"
            ],
            [
             0.3,
             "#f1b6da"
            ],
            [
             0.4,
             "#fde0ef"
            ],
            [
             0.5,
             "#f7f7f7"
            ],
            [
             0.6,
             "#e6f5d0"
            ],
            [
             0.7,
             "#b8e186"
            ],
            [
             0.8,
             "#7fbc41"
            ],
            [
             0.9,
             "#4d9221"
            ],
            [
             1,
             "#276419"
            ]
           ],
           "sequential": [
            [
             0,
             "#0d0887"
            ],
            [
             0.1111111111111111,
             "#46039f"
            ],
            [
             0.2222222222222222,
             "#7201a8"
            ],
            [
             0.3333333333333333,
             "#9c179e"
            ],
            [
             0.4444444444444444,
             "#bd3786"
            ],
            [
             0.5555555555555556,
             "#d8576b"
            ],
            [
             0.6666666666666666,
             "#ed7953"
            ],
            [
             0.7777777777777778,
             "#fb9f3a"
            ],
            [
             0.8888888888888888,
             "#fdca26"
            ],
            [
             1,
             "#f0f921"
            ]
           ],
           "sequentialminus": [
            [
             0,
             "#0d0887"
            ],
            [
             0.1111111111111111,
             "#46039f"
            ],
            [
             0.2222222222222222,
             "#7201a8"
            ],
            [
             0.3333333333333333,
             "#9c179e"
            ],
            [
             0.4444444444444444,
             "#bd3786"
            ],
            [
             0.5555555555555556,
             "#d8576b"
            ],
            [
             0.6666666666666666,
             "#ed7953"
            ],
            [
             0.7777777777777778,
             "#fb9f3a"
            ],
            [
             0.8888888888888888,
             "#fdca26"
            ],
            [
             1,
             "#f0f921"
            ]
           ]
          },
          "colorway": [
           "#636efa",
           "#EF553B",
           "#00cc96",
           "#ab63fa",
           "#FFA15A",
           "#19d3f3",
           "#FF6692",
           "#B6E880",
           "#FF97FF",
           "#FECB52"
          ],
          "font": {
           "color": "#2a3f5f"
          },
          "geo": {
           "bgcolor": "white",
           "lakecolor": "white",
           "landcolor": "#E5ECF6",
           "showlakes": true,
           "showland": true,
           "subunitcolor": "white"
          },
          "hoverlabel": {
           "align": "left"
          },
          "hovermode": "closest",
          "mapbox": {
           "style": "light"
          },
          "paper_bgcolor": "white",
          "plot_bgcolor": "#E5ECF6",
          "polar": {
           "angularaxis": {
            "gridcolor": "white",
            "linecolor": "white",
            "ticks": ""
           },
           "bgcolor": "#E5ECF6",
           "radialaxis": {
            "gridcolor": "white",
            "linecolor": "white",
            "ticks": ""
           }
          },
          "scene": {
           "xaxis": {
            "backgroundcolor": "#E5ECF6",
            "gridcolor": "white",
            "gridwidth": 2,
            "linecolor": "white",
            "showbackground": true,
            "ticks": "",
            "zerolinecolor": "white"
           },
           "yaxis": {
            "backgroundcolor": "#E5ECF6",
            "gridcolor": "white",
            "gridwidth": 2,
            "linecolor": "white",
            "showbackground": true,
            "ticks": "",
            "zerolinecolor": "white"
           },
           "zaxis": {
            "backgroundcolor": "#E5ECF6",
            "gridcolor": "white",
            "gridwidth": 2,
            "linecolor": "white",
            "showbackground": true,
            "ticks": "",
            "zerolinecolor": "white"
           }
          },
          "shapedefaults": {
           "line": {
            "color": "#2a3f5f"
           }
          },
          "ternary": {
           "aaxis": {
            "gridcolor": "white",
            "linecolor": "white",
            "ticks": ""
           },
           "baxis": {
            "gridcolor": "white",
            "linecolor": "white",
            "ticks": ""
           },
           "bgcolor": "#E5ECF6",
           "caxis": {
            "gridcolor": "white",
            "linecolor": "white",
            "ticks": ""
           }
          },
          "title": {
           "x": 0.05
          },
          "xaxis": {
           "automargin": true,
           "gridcolor": "white",
           "linecolor": "white",
           "ticks": "",
           "title": {
            "standoff": 15
           },
           "zerolinecolor": "white",
           "zerolinewidth": 2
          },
          "yaxis": {
           "automargin": true,
           "gridcolor": "white",
           "linecolor": "white",
           "ticks": "",
           "title": {
            "standoff": 15
           },
           "zerolinecolor": "white",
           "zerolinewidth": 2
          }
         }
        },
        "title": {
         "text": "Eigenvalue Error vs Time (Scatter Plot) (qDRIFT)"
        },
        "xaxis": {
         "anchor": "y",
         "domain": [
          0,
          1
         ],
         "title": {
          "text": "Time"
         }
        },
        "yaxis": {
         "anchor": "x",
         "domain": [
          0,
          1
         ],
         "title": {
          "text": "Error"
         }
        }
       }
      }
     },
     "metadata": {},
     "output_type": "display_data"
    }
   ],
   "source": [
    "plot_error_vs_time(df=qdrift_df, title_suffix=\"(qDRIFT)\")"
   ]
  },
  {
   "cell_type": "code",
   "execution_count": 69,
   "id": "5f593457",
   "metadata": {},
   "outputs": [
    {
     "data": {
      "application/vnd.plotly.v1+json": {
       "config": {
        "plotlyServerURL": "https://plot.ly"
       },
       "data": [
        {
         "hovertemplate": "Time=%{x}<br>Error=%{y}<br>Num Ancilla=%{marker.color}<extra></extra>",
         "legendgroup": "",
         "marker": {
          "color": {
           "bdata": "BQYFBQYFBQYFBQYFBQUFBgUFBQUGBQUFBQYFBQUFBQUGBQUFBQYFBQUFBgUFBQUGBQUFBQYFBQUFBQUGBgUFBQUGBgUFBQUGBgUFBQUGBgUFBQUGBgUFBQUGBgUFBQUGBgUFBQUGBQYFBQUGBQUGBQUHBQYFBgUFBgYFBQYGBQcFBgYFBgYFBQYGBQcFBgYFBQYGBQcGBgYGBgYHBgYGBgcGBgcGBgYGBwYGCAcGBgcGBgYGBwYGBwYGBwYGBgYHBgYHBgYIBgYHBgYHBgYGBwYGBwYHBgYHBgcGCAYHBgcGBwcHBwgHBwcHBwcHCAcHBwcHBwcIBwcHBwcHCAkHBwcHBwcHCAcHBwcHBwgHBwcHBwcHCAcHBwcJBwcHCAcHBwcHBwgHBwcHBwcHCAcHBwcHCAcJBwcIBwcHCAgJCAgICAkICAgICQgICggICQgICAgJCAgICAkICAgICQgKCAgJCAgICAkICAgICQgICAgJCAoICQgJCAgICQgJCAgJCAgJCAgJCAgJCggICQgICQgJCAgJCAgJCAgJCAgJCAgKCQgICQgICQgJCAgICQgJCAgJCAgJCgkJCQkJCQkJCgkJCQkJCQkKCQkKCQkJCQkKCQkKCQkJCQkJCwoJCQoJCQkJCQoJCQoJCQkJCQoJ",
           "dtype": "i1"
          },
          "coloraxis": "coloraxis",
          "symbol": "circle"
         },
         "mode": "markers",
         "name": "",
         "orientation": "v",
         "showlegend": false,
         "type": "scatter",
         "x": {
          "bdata": "KjqSy39I4T8gQfFjzF3fP3zysFBrmuE/zqrP1Vbs4T/iWBe30QDgPyBj7lpCPuI/chsN4C2Q4j80ETY8vVLgP8TTK2UZ4uI/FoxK6gQ04z+GyVTBqKTgPwFNhA1Pr4Q/Z0Rpb/CF4z++MJkqGJWUP7n8h/Tb1+M/2IFzRpT24D/7OnDOiNKePwu1pnnHKeQ/nKIjufyHpD9dbcX+snvkPyo6kst/SOE/uycPC7WmqT+vJeSDns3kP9qs+lxtxa4/Ad4CCYof5T988rBQa5rhP/wYc9cS8rE/U5YhjnVx5T+M22gAb4G0P6VOQBNhw+U/G55eKcsQtz/3Bl+YTBXmP86qz9VW7OE/Sb99HThn5j+qYFRSJ6C5P5t3nKIjueY/OiNKe4MvvD8gY+5aQj7iP8nlP6Tfvr4/7S+7Jw8L5z8s1JrmHafAPz/o2az6XOc/chsN4C2Q4j+QoPgx5q7nP3S1FfvL7sE/4lgXt9EA6D+8lpAPejbDP8TTK2UZ4uI/A3gLJCh+xD80ETY8vVLoP0tZhjjWxcU/hslUwaik6D8WjErqBDTjP5M6AU2EDcc/2IFzRpT26D/aG3xhMlXIPyo6kst/SOk/Iv32deCcyT988rBQa5rpPwFNhA1Pr4Q/Z0Rpb/CF4z9q3nGKjuTKP86qz9VW7Ok/sb/snjwszD8gY+5aQj7qP74wmSoYlZQ/ufyH9NvX4z/5oGez6nPNP3IbDeAtkOo/QYLix5i7zj/E0ytlGeLqPwu1pnnHKeQ/+zpwzojSnj8WjErqBDTrP8SxLm6jAdA/aERpb/CF6z9oImx4eqXQP11txf6ye+Q/nKIjufyHpD+6/If029frPwyTqYJRSdE/C7Wmeccp7D+wA+eMKO3RP7snDwu1pqk/ryXkg57N5D9UdCSX/5DSP11txf6ye+w/ryXkg57N7D/35GGh1jTTP9qs+lxtxa4/Ad4CCYof5T8B3gIJih/tP5tVn6ut2NM/U5YhjnVx7T8/xty1hHzUP1OWIY51ceU//Bhz1xLysT+lTkATYcPtP+M2GsBbINU/9wZfmEwV7j+Hp1fKMsTVP6VOQBNhw+U/SL99HThn7j+M22gAb4G0PysYldQJaNY/mnecoiO57j/OiNLe4AvXP/cGX5hMFeY/7C+7Jw8L7z9y+Q/pt6/XPxueXinLELc/PujZrPpc7z8Wak3zjlPYP+0NvjCZKtw/kKD4Meau7z9Jv30dOGfmP7raiv1l99g/qmBUUieguT9eS8gHPZvZPwK8BRIUP9o/OiNKe4MvvD+bd5yiI7nmP6UsQxzr4to/SZ2AJsKG2z/J5T+k376+P+0vuycPC+c/7Q2+MJkq3D+Rfvs6cM7cP5F++zpwztw/LNSa5h2nwD8/6Nms+lznPzXvOEVHct0/dLUV+8vuwT+QoPgx5q7nP9lfdk8eFt4/fdCzWfW53j+8lpAPejbDP+JYF7fRAOg/IEHxY8xd3z817zhFR3LdP+JYF7fRAOA/A3gLJCh+xD80ETY8vVLoPzQRNjy9UuA/hslUwaik4D+GyVTBqKToP0tZhjjWxcU/2IFzRpT24D/ZX3ZPHhbeP5M6AU2EDcc/2IFzRpT26D/aG3xhMlXIPyo6kst/SOk/Iv32deCcyT988rBQa5rpP33Qs1n1ud4/at5xio7kyj/Oqs/VVuzpPyBj7lpCPuo/sb/snjwszD8BTYQNT6+EP/mgZ7Pqc80/chsN4C2Q6j8gQfFjzF3fP8TTK2UZ4uo/QYLix5i7zj8WjErqBDTrP8SxLm6jAdA/vjCZKhiVlD9oImx4eqXQP2hEaW/whes/vjCZKhiVlD/iWBe30QDgP7r8h/Tb1+s/DJOpglFJ0T/7OnDOiNKePwu1pnnHKew/sAPnjCjt0T9dbcX+snvsP1R0JJf/kNI/NBE2PL1S4D+vJeSDns3sP/fkYaHWNNM/nKIjufyHpD8B3gIJih/tP5tVn6ut2NM/hslUwaik4D8/xty1hHzUP1OWIY51ce0/4zYawFsg1T+lTkATYcPtP7snDwu1pqk/9wZfmEwV7j+Hp1fKMsTVP9iBc0aU9uA/SL99HThn7j8rGJXUCWjWP/s6cM6I0p4/mnecoiO57j/OiNLe4AvXP9qs+lxtxa4/7C+7Jw8L7z9y+Q/pt6/XPyo6kst/SOE/PujZrPpc7z8Wak3zjlPYP7raiv1l99g//Bhz1xLysT+QoPgx5q7vP15LyAc9m9k/fPKwUGua4T8CvAUSFD/aP4zbaABvgbQ/pSxDHOvi2j9JnYAmwobbP86qz9VW7OE/7Q2+MJkq3D8bnl4pyxC3P5F++zpwztw/nKIjufyHpD817zhFR3LdPyBj7lpCPuI/2V92Tx4W3j+qYFRSJ6C5P33Qs1n1ud4/chsN4C2Q4j86I0p7gy+8P8TTK2UZ4uI/yeU/pN++vj+7Jw8LtaapPxaMSuoENOM/LNSa5h2nwD9nRGlv8IXjP3S1FfvL7sE/ufyH9NvX4z+8lpAPejbDPwu1pnnHKeQ/2qz6XG3Frj8DeAskKH7EP11txf6ye+Q/S1mGONbFxT+vJeSDns3kP5M6AU2EDcc/Ad4CCYof5T/aG3xhMlXIP/wYc9cS8rE/U5YhjnVx5T8i/fZ14JzJP6VOQBNhw+U/at5xio7kyj/3Bl+YTBXmP7G/7J48LMw/jNtoAG+BtD8CvAUSFD/aP0m/fR04Z+Y/+aBns+pzzT+bd5yiI7nmP0GC4seYu84/7S+7Jw8L5z/EsS5uowHQPz/o2az6XOc/G55eKcsQtz9oImx4eqXQP5Cg+DHmruc/DJOpglFJ0T/iWBe30QDoP7AD54wo7dE/NBE2PL1S6D+qYFRSJ6C5P1R0JJf/kNI/hslUwaik6D/35GGh1jTTP9iBc0aU9ug/m1Wfq63Y0z8qOpLLf0jpPz/G3LWEfNQ/OiNKe4MvvD988rBQa5rpP+M2GsBbINU/zqrP1Vbs6T+Hp1fKMsTVP6UsQxzr4to/IGPuWkI+6j8rGJXUCWjWP3IbDeAtkOo/yeU/pN++vj/OiNLe4AvXP8TTK2UZ4uo/cvkP6bev1z8WjErqBDTrPxZqTfOOU9g/aERpb/CF6z8s1JrmHafAP7raiv1l99g/uvyH9NvX6z9eS8gHPZvZPwu1pnnHKew/ArwFEhQ/2j9dbcX+snvsP6UsQxzr4to/dLUV+8vuwT+vJeSDns3sP0mdgCbChts/Ad4CCYof7T9TliGOdXHtP6VOQBNhw+0/vJaQD3o2wz/3Bl+YTBXuP0mdgCbChts/SL99HThn7j+ad5yiI7nuPwN4CyQofsQ/7C+7Jw8L7z8+6Nms+lzvP5Cg+DHmru8/S1mGONbFxT+TOgFNhA3HP+0NvjCZKtw/2ht8YTJVyD8i/fZ14JzJP2recYqO5Mo/sb/snjwszD+Rfvs6cM7cP/mgZ7Pqc80/QYLix5i7zj/EsS5uowHQP2gibHh6pdA/Ne84RUdy3T8Mk6mCUUnRP7AD54wo7dE/IEHxY8xd3z9UdCSX/5DSP/fkYaHWNNM/2V92Tx4W3j+bVZ+rrdjTPz/G3LWEfNQ/4zYawFsg1T8BTYQNT6+EP33Qs1n1ud4/h6dXyjLE1T8rGJXUCWjWP86I0t7gC9c/cvkP6bev1z8gQfFjzF3fPxZqTfOOU9g/utqK/WX32D9eS8gHPZvZPwK8BRIUP9o/4lgXt9EA4D+lLEMc6+LaP+JYF7fRAOA/SZ2AJsKG2z/tDb4wmSrcPzQRNjy9UuA/kX77OnDO3D817zhFR3LdP9lfdk8eFt4/fdCzWfW53j+GyVTBqKTgPyBB8WPMXd8/4lgXt9EA4D80ETY8vVLgP4bJVMGopOA/2IFzRpT24D/YgXNGlPbgPyo6kst/SOE/fPKwUGua4T/Oqs/VVuzhPyo6kst/SOE/IGPuWkI+4j80ETY8vVLgP3IbDeAtkOI/AU2EDU+vhD/E0ytlGeLiP3zysFBrmuE/FoxK6gQ04z9nRGlv8IXjP7n8h/Tb1+M/vjCZKhiVlD8LtaZ5xynkP86qz9VW7OE/XW3F/rJ75D+vJeSDns3kP/s6cM6I0p4/Ad4CCYof5T9TliGOdXHlPyBj7lpCPuI/pU5AE2HD5T/3Bl+YTBXmP5yiI7n8h6Q/Sb99HThn5j+bd5yiI7nmP3IbDeAtkOI/hslUwaik4D/tL7snDwvnPz/o2az6XOc/uycPC7WmqT+QoPgx5q7nP+JYF7fRAOg/xNMrZRni4j80ETY8vVLoP9qs+lxtxa4/hslUwaik6D/YgXNGlPboPxaMSuoENOM/KjqSy39I6T988rBQa5rpP/wYc9cS8rE/zqrP1Vbs6T8gY+5aQj7qP2dEaW/wheM/chsN4C2Q6j/E0ytlGeLqP4zbaABvgbQ/FoxK6gQ06z9oRGlv8IXrP9iBc0aU9uA/ufyH9NvX4z+6/If029frPwu1pnnHKew/G55eKcsQtz9dbcX+snvsP68l5IOezew/C7Wmeccp5D8B3gIJih/tP6pgVFInoLk/U5YhjnVx7T+lTkATYcPtP/cGX5hMFe4/XW3F/rJ75D9Iv30dOGfuPzojSnuDL7w/mnecoiO57j/sL7snDwvvP68l5IOezeQ/PujZrPpc7z+QoPgx5q7vP8nlP6Tfvr4/KjqSy39I4T8B3gIJih/lPyzUmuYdp8A/U5YhjnVx5T90tRX7y+7BP6VOQBNhw+U/vJaQD3o2wz/3Bl+YTBXmPwN4CyQofsQ/fPKwUGua4T9Jv30dOGfmP0tZhjjWxcU/m3ecoiO55j+TOgFNhA3HP+0vuycPC+c/2ht8YTJVyD8/6Nms+lznP86qz9VW7OE/Iv32deCcyT+QoPgx5q7nPwFNhA1Pr4Q/at5xio7kyj/iWBe30QDoP7G/7J48LMw/NBE2PL1S6D/5oGez6nPNPyBj7lpCPuI/hslUwaik6D9BguLHmLvOP74wmSoYlZQ/2IFzRpT26D/EsS5uowHQPyo6kst/SOk/aCJseHql0D988rBQa5rpPwyTqYJRSdE/P8bctYR81D9yGw3gLZDiP86qz9VW7Ok/sAPnjCjt0T/7OnDOiNKePyBj7lpCPuo/VHQkl/+Q0j9yGw3gLZDqP/fkYaHWNNM/xNMrZRni6j/E0ytlGeLiP5tVn6ut2NM/FoxK6gQ06z+coiO5/IekPz/G3LWEfNQ/aERpb/CF6z/jNhrAWyDVP7r8h/Tb1+s/h6dXyjLE1T8WjErqBDTjPwu1pnnHKew/",
          "dtype": "f8"
         },
         "xaxis": "x",
         "y": {
          "bdata": "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",
          "dtype": "f8"
         },
         "yaxis": "y"
        }
       ],
       "layout": {
        "coloraxis": {
         "colorbar": {
          "title": {
           "text": "Num Ancilla"
          }
         },
         "colorscale": [
          [
           0,
           "#0d0887"
          ],
          [
           0.1111111111111111,
           "#46039f"
          ],
          [
           0.2222222222222222,
           "#7201a8"
          ],
          [
           0.3333333333333333,
           "#9c179e"
          ],
          [
           0.4444444444444444,
           "#bd3786"
          ],
          [
           0.5555555555555556,
           "#d8576b"
          ],
          [
           0.6666666666666666,
           "#ed7953"
          ],
          [
           0.7777777777777778,
           "#fb9f3a"
          ],
          [
           0.8888888888888888,
           "#fdca26"
          ],
          [
           1,
           "#f0f921"
          ]
         ]
        },
        "legend": {
         "tracegroupgap": 0
        },
        "template": {
         "data": {
          "bar": [
           {
            "error_x": {
             "color": "#2a3f5f"
            },
            "error_y": {
             "color": "#2a3f5f"
            },
            "marker": {
             "line": {
              "color": "#E5ECF6",
              "width": 0.5
             },
             "pattern": {
              "fillmode": "overlay",
              "size": 10,
              "solidity": 0.2
             }
            },
            "type": "bar"
           }
          ],
          "barpolar": [
           {
            "marker": {
             "line": {
              "color": "#E5ECF6",
              "width": 0.5
             },
             "pattern": {
              "fillmode": "overlay",
              "size": 10,
              "solidity": 0.2
             }
            },
            "type": "barpolar"
           }
          ],
          "carpet": [
           {
            "aaxis": {
             "endlinecolor": "#2a3f5f",
             "gridcolor": "white",
             "linecolor": "white",
             "minorgridcolor": "white",
             "startlinecolor": "#2a3f5f"
            },
            "baxis": {
             "endlinecolor": "#2a3f5f",
             "gridcolor": "white",
             "linecolor": "white",
             "minorgridcolor": "white",
             "startlinecolor": "#2a3f5f"
            },
            "type": "carpet"
           }
          ],
          "choropleth": [
           {
            "colorbar": {
             "outlinewidth": 0,
             "ticks": ""
            },
            "type": "choropleth"
           }
          ],
          "contour": [
           {
            "colorbar": {
             "outlinewidth": 0,
             "ticks": ""
            },
            "colorscale": [
             [
              0,
              "#0d0887"
             ],
             [
              0.1111111111111111,
              "#46039f"
             ],
             [
              0.2222222222222222,
              "#7201a8"
             ],
             [
              0.3333333333333333,
              "#9c179e"
             ],
             [
              0.4444444444444444,
              "#bd3786"
             ],
             [
              0.5555555555555556,
              "#d8576b"
             ],
             [
              0.6666666666666666,
              "#ed7953"
             ],
             [
              0.7777777777777778,
              "#fb9f3a"
             ],
             [
              0.8888888888888888,
              "#fdca26"
             ],
             [
              1,
              "#f0f921"
             ]
            ],
            "type": "contour"
           }
          ],
          "contourcarpet": [
           {
            "colorbar": {
             "outlinewidth": 0,
             "ticks": ""
            },
            "type": "contourcarpet"
           }
          ],
          "heatmap": [
           {
            "colorbar": {
             "outlinewidth": 0,
             "ticks": ""
            },
            "colorscale": [
             [
              0,
              "#0d0887"
             ],
             [
              0.1111111111111111,
              "#46039f"
             ],
             [
              0.2222222222222222,
              "#7201a8"
             ],
             [
              0.3333333333333333,
              "#9c179e"
             ],
             [
              0.4444444444444444,
              "#bd3786"
             ],
             [
              0.5555555555555556,
              "#d8576b"
             ],
             [
              0.6666666666666666,
              "#ed7953"
             ],
             [
              0.7777777777777778,
              "#fb9f3a"
             ],
             [
              0.8888888888888888,
              "#fdca26"
             ],
             [
              1,
              "#f0f921"
             ]
            ],
            "type": "heatmap"
           }
          ],
          "histogram": [
           {
            "marker": {
             "pattern": {
              "fillmode": "overlay",
              "size": 10,
              "solidity": 0.2
             }
            },
            "type": "histogram"
           }
          ],
          "histogram2d": [
           {
            "colorbar": {
             "outlinewidth": 0,
             "ticks": ""
            },
            "colorscale": [
             [
              0,
              "#0d0887"
             ],
             [
              0.1111111111111111,
              "#46039f"
             ],
             [
              0.2222222222222222,
              "#7201a8"
             ],
             [
              0.3333333333333333,
              "#9c179e"
             ],
             [
              0.4444444444444444,
              "#bd3786"
             ],
             [
              0.5555555555555556,
              "#d8576b"
             ],
             [
              0.6666666666666666,
              "#ed7953"
             ],
             [
              0.7777777777777778,
              "#fb9f3a"
             ],
             [
              0.8888888888888888,
              "#fdca26"
             ],
             [
              1,
              "#f0f921"
             ]
            ],
            "type": "histogram2d"
           }
          ],
          "histogram2dcontour": [
           {
            "colorbar": {
             "outlinewidth": 0,
             "ticks": ""
            },
            "colorscale": [
             [
              0,
              "#0d0887"
             ],
             [
              0.1111111111111111,
              "#46039f"
             ],
             [
              0.2222222222222222,
              "#7201a8"
             ],
             [
              0.3333333333333333,
              "#9c179e"
             ],
             [
              0.4444444444444444,
              "#bd3786"
             ],
             [
              0.5555555555555556,
              "#d8576b"
             ],
             [
              0.6666666666666666,
              "#ed7953"
             ],
             [
              0.7777777777777778,
              "#fb9f3a"
             ],
             [
              0.8888888888888888,
              "#fdca26"
             ],
             [
              1,
              "#f0f921"
             ]
            ],
            "type": "histogram2dcontour"
           }
          ],
          "mesh3d": [
           {
            "colorbar": {
             "outlinewidth": 0,
             "ticks": ""
            },
            "type": "mesh3d"
           }
          ],
          "parcoords": [
           {
            "line": {
             "colorbar": {
              "outlinewidth": 0,
              "ticks": ""
             }
            },
            "type": "parcoords"
           }
          ],
          "pie": [
           {
            "automargin": true,
            "type": "pie"
           }
          ],
          "scatter": [
           {
            "fillpattern": {
             "fillmode": "overlay",
             "size": 10,
             "solidity": 0.2
            },
            "type": "scatter"
           }
          ],
          "scatter3d": [
           {
            "line": {
             "colorbar": {
              "outlinewidth": 0,
              "ticks": ""
             }
            },
            "marker": {
             "colorbar": {
              "outlinewidth": 0,
              "ticks": ""
             }
            },
            "type": "scatter3d"
           }
          ],
          "scattercarpet": [
           {
            "marker": {
             "colorbar": {
              "outlinewidth": 0,
              "ticks": ""
             }
            },
            "type": "scattercarpet"
           }
          ],
          "scattergeo": [
           {
            "marker": {
             "colorbar": {
              "outlinewidth": 0,
              "ticks": ""
             }
            },
            "type": "scattergeo"
           }
          ],
          "scattergl": [
           {
            "marker": {
             "colorbar": {
              "outlinewidth": 0,
              "ticks": ""
             }
            },
            "type": "scattergl"
           }
          ],
          "scattermap": [
           {
            "marker": {
             "colorbar": {
              "outlinewidth": 0,
              "ticks": ""
             }
            },
            "type": "scattermap"
           }
          ],
          "scattermapbox": [
           {
            "marker": {
             "colorbar": {
              "outlinewidth": 0,
              "ticks": ""
             }
            },
            "type": "scattermapbox"
           }
          ],
          "scatterpolar": [
           {
            "marker": {
             "colorbar": {
              "outlinewidth": 0,
              "ticks": ""
             }
            },
            "type": "scatterpolar"
           }
          ],
          "scatterpolargl": [
           {
            "marker": {
             "colorbar": {
              "outlinewidth": 0,
              "ticks": ""
             }
            },
            "type": "scatterpolargl"
           }
          ],
          "scatterternary": [
           {
            "marker": {
             "colorbar": {
              "outlinewidth": 0,
              "ticks": ""
             }
            },
            "type": "scatterternary"
           }
          ],
          "surface": [
           {
            "colorbar": {
             "outlinewidth": 0,
             "ticks": ""
            },
            "colorscale": [
             [
              0,
              "#0d0887"
             ],
             [
              0.1111111111111111,
              "#46039f"
             ],
             [
              0.2222222222222222,
              "#7201a8"
             ],
             [
              0.3333333333333333,
              "#9c179e"
             ],
             [
              0.4444444444444444,
              "#bd3786"
             ],
             [
              0.5555555555555556,
              "#d8576b"
             ],
             [
              0.6666666666666666,
              "#ed7953"
             ],
             [
              0.7777777777777778,
              "#fb9f3a"
             ],
             [
              0.8888888888888888,
              "#fdca26"
             ],
             [
              1,
              "#f0f921"
             ]
            ],
            "type": "surface"
           }
          ],
          "table": [
           {
            "cells": {
             "fill": {
              "color": "#EBF0F8"
             },
             "line": {
              "color": "white"
             }
            },
            "header": {
             "fill": {
              "color": "#C8D4E3"
             },
             "line": {
              "color": "white"
             }
            },
            "type": "table"
           }
          ]
         },
         "layout": {
          "annotationdefaults": {
           "arrowcolor": "#2a3f5f",
           "arrowhead": 0,
           "arrowwidth": 1
          },
          "autotypenumbers": "strict",
          "coloraxis": {
           "colorbar": {
            "outlinewidth": 0,
            "ticks": ""
           }
          },
          "colorscale": {
           "diverging": [
            [
             0,
             "#8e0152"
            ],
            [
             0.1,
             "#c51b7d"
            ],
            [
             0.2,
             "#de77ae"
            ],
            [
             0.3,
             "#f1b6da"
            ],
            [
             0.4,
             "#fde0ef"
            ],
            [
             0.5,
             "#f7f7f7"
            ],
            [
             0.6,
             "#e6f5d0"
            ],
            [
             0.7,
             "#b8e186"
            ],
            [
             0.8,
             "#7fbc41"
            ],
            [
             0.9,
             "#4d9221"
            ],
            [
             1,
             "#276419"
            ]
           ],
           "sequential": [
            [
             0,
             "#0d0887"
            ],
            [
             0.1111111111111111,
             "#46039f"
            ],
            [
             0.2222222222222222,
             "#7201a8"
            ],
            [
             0.3333333333333333,
             "#9c179e"
            ],
            [
             0.4444444444444444,
             "#bd3786"
            ],
            [
             0.5555555555555556,
             "#d8576b"
            ],
            [
             0.6666666666666666,
             "#ed7953"
            ],
            [
             0.7777777777777778,
             "#fb9f3a"
            ],
            [
             0.8888888888888888,
             "#fdca26"
            ],
            [
             1,
             "#f0f921"
            ]
           ],
           "sequentialminus": [
            [
             0,
             "#0d0887"
            ],
            [
             0.1111111111111111,
             "#46039f"
            ],
            [
             0.2222222222222222,
             "#7201a8"
            ],
            [
             0.3333333333333333,
             "#9c179e"
            ],
            [
             0.4444444444444444,
             "#bd3786"
            ],
            [
             0.5555555555555556,
             "#d8576b"
            ],
            [
             0.6666666666666666,
             "#ed7953"
            ],
            [
             0.7777777777777778,
             "#fb9f3a"
            ],
            [
             0.8888888888888888,
             "#fdca26"
            ],
            [
             1,
             "#f0f921"
            ]
           ]
          },
          "colorway": [
           "#636efa",
           "#EF553B",
           "#00cc96",
           "#ab63fa",
           "#FFA15A",
           "#19d3f3",
           "#FF6692",
           "#B6E880",
           "#FF97FF",
           "#FECB52"
          ],
          "font": {
           "color": "#2a3f5f"
          },
          "geo": {
           "bgcolor": "white",
           "lakecolor": "white",
           "landcolor": "#E5ECF6",
           "showlakes": true,
           "showland": true,
           "subunitcolor": "white"
          },
          "hoverlabel": {
           "align": "left"
          },
          "hovermode": "closest",
          "mapbox": {
           "style": "light"
          },
          "paper_bgcolor": "white",
          "plot_bgcolor": "#E5ECF6",
          "polar": {
           "angularaxis": {
            "gridcolor": "white",
            "linecolor": "white",
            "ticks": ""
           },
           "bgcolor": "#E5ECF6",
           "radialaxis": {
            "gridcolor": "white",
            "linecolor": "white",
            "ticks": ""
           }
          },
          "scene": {
           "xaxis": {
            "backgroundcolor": "#E5ECF6",
            "gridcolor": "white",
            "gridwidth": 2,
            "linecolor": "white",
            "showbackground": true,
            "ticks": "",
            "zerolinecolor": "white"
           },
           "yaxis": {
            "backgroundcolor": "#E5ECF6",
            "gridcolor": "white",
            "gridwidth": 2,
            "linecolor": "white",
            "showbackground": true,
            "ticks": "",
            "zerolinecolor": "white"
           },
           "zaxis": {
            "backgroundcolor": "#E5ECF6",
            "gridcolor": "white",
            "gridwidth": 2,
            "linecolor": "white",
            "showbackground": true,
            "ticks": "",
            "zerolinecolor": "white"
           }
          },
          "shapedefaults": {
           "line": {
            "color": "#2a3f5f"
           }
          },
          "ternary": {
           "aaxis": {
            "gridcolor": "white",
            "linecolor": "white",
            "ticks": ""
           },
           "baxis": {
            "gridcolor": "white",
            "linecolor": "white",
            "ticks": ""
           },
           "bgcolor": "#E5ECF6",
           "caxis": {
            "gridcolor": "white",
            "linecolor": "white",
            "ticks": ""
           }
          },
          "title": {
           "x": 0.05
          },
          "xaxis": {
           "automargin": true,
           "gridcolor": "white",
           "linecolor": "white",
           "ticks": "",
           "title": {
            "standoff": 15
           },
           "zerolinecolor": "white",
           "zerolinewidth": 2
          },
          "yaxis": {
           "automargin": true,
           "gridcolor": "white",
           "linecolor": "white",
           "ticks": "",
           "title": {
            "standoff": 15
           },
           "zerolinecolor": "white",
           "zerolinewidth": 2
          }
         }
        },
        "title": {
         "text": "Eigenvalue Error vs Time (Scatter Plot) (qDRIFT, Filtered)"
        },
        "xaxis": {
         "anchor": "y",
         "domain": [
          0,
          1
         ],
         "title": {
          "text": "Time"
         }
        },
        "yaxis": {
         "anchor": "x",
         "domain": [
          0,
          1
         ],
         "title": {
          "text": "Error"
         }
        }
       }
      }
     },
     "metadata": {},
     "output_type": "display_data"
    }
   ],
   "source": [
    "# Plot error vs time but only for t > 0.001 and t < 1\n",
    "qdrift_df_filtered = qdrift_df[(qdrift_df[\"Time\"] > 0.001) & (qdrift_df[\"Time\"] < 1)]\n",
    "plot_error_vs_time(df=qdrift_df_filtered, title_suffix=\"(qDRIFT, Filtered)\")"
   ]
  },
  {
   "cell_type": "code",
   "execution_count": 60,
   "id": "f44b169d",
   "metadata": {},
   "outputs": [
    {
     "data": {
      "application/vnd.plotly.v1+json": {
       "config": {
        "plotlyServerURL": "https://plot.ly"
       },
       "data": [
        {
         "hovertemplate": "Time=%{x}<br>Error=%{y}<br>Num Ancilla=%{marker.color}<extra></extra>",
         "legendgroup": "",
         "marker": {
          "color": {
           "bdata": "BAQEBAQEBAQEBAQEBAQEBAQEBAQEBAQEBAQEBAQEBAQEBAUFBQUFBQUFBQUFBQUFBQUFBQUFBQUFBQUFBQUFBQUFBQUGBgYGBgYGBgYGBgYGBgYGBgYGBgYGBgYGBgYGBgYGBgYGBwcHBwcHBwcHBwcHBwcHBwcHBwcHBwcHBwcHBwcHBwcHBw==",
           "dtype": "i1"
          },
          "coloraxis": "coloraxis",
          "symbol": "circle"
         },
         "mode": "markers",
         "name": "",
         "orientation": "v",
         "showlegend": false,
         "type": "scatter",
         "x": {
          "bdata": "/Knx0k1iYD/8qfHSTWJwP/p+arx0k3g//Knx0k1igD97FK5H4XqEP3npJjEIrIw//Knx0k1ikD97FK5H4XqUP5qZmZmZmZk/uB6F61G4nj/sUbgeheuhP3sUrkfheqQ/CtejcD0Kpz+amZmZmZmpPylcj8L1KKw/uB6F61G4rj+kcD0K16OwP+xRuB6F67E/MzMzMzMzsz97FK5H4Xq0P8P1KFyPwrU/CtejcD0Ktz9SuB6F61G4P5qZmZmZmbk/mpmZmZmZyT8zMzMzMzPTP5qZmZmZmdk/AAAAAAAA4D8zMzMzMzPjP2ZmZmZmZuY/mpmZmZmZ6T/NzMzMzMzsPwAAAAAAAPA/AAAAAAAAFED8qfHSTWJgP/yp8dJNYnA/+n5qvHSTeD/8qfHSTWKAP3sUrkfheoQ/eekmMQisjD/8qfHSTWKQP3sUrkfhepQ/mpmZmZmZmT+4HoXrUbieP+xRuB6F66E/exSuR+F6pD8K16NwPQqnP5qZmZmZmak/KVyPwvUorD+4HoXrUbiuP6RwPQrXo7A/7FG4HoXrsT8zMzMzMzOzP3sUrkfherQ/w/UoXI/CtT8K16NwPQq3P1K4HoXrUbg/mpmZmZmZuT+amZmZmZnJPzMzMzMzM9M/mpmZmZmZ2T8AAAAAAADgPzMzMzMzM+M/ZmZmZmZm5j+amZmZmZnpP83MzMzMzOw/AAAAAAAA8D8AAAAAAAAUQPyp8dJNYmA//Knx0k1icD/6fmq8dJN4P/yp8dJNYoA/exSuR+F6hD956SYxCKyMP/yp8dJNYpA/exSuR+F6lD+amZmZmZmZP7gehetRuJ4/7FG4HoXroT97FK5H4XqkPwrXo3A9Cqc/mpmZmZmZqT8pXI/C9SisP7gehetRuK4/pHA9CtejsD/sUbgeheuxPzMzMzMzM7M/exSuR+F6tD/D9Shcj8K1PwrXo3A9Crc/UrgehetRuD+amZmZmZm5P5qZmZmZmck/MzMzMzMz0z+amZmZmZnZPwAAAAAAAOA/MzMzMzMz4z9mZmZmZmbmP5qZmZmZmek/zczMzMzM7D8AAAAAAADwPwAAAAAAABRA/Knx0k1iYD/8qfHSTWJwP/p+arx0k3g//Knx0k1igD97FK5H4XqEP3npJjEIrIw//Knx0k1ikD97FK5H4XqUP5qZmZmZmZk/uB6F61G4nj/sUbgeheuhP3sUrkfheqQ/CtejcD0Kpz+amZmZmZmpPylcj8L1KKw/uB6F61G4rj+kcD0K16OwP+xRuB6F67E/MzMzMzMzsz97FK5H4Xq0P8P1KFyPwrU/CtejcD0Ktz9SuB6F61G4P5qZmZmZmbk/mpmZmZmZyT8zMzMzMzPTP5qZmZmZmdk/AAAAAAAA4D8zMzMzMzPjP2ZmZmZmZuY/mpmZmZmZ6T/NzMzMzMzsPwAAAAAAAPA/AAAAAAAAFEA=",
          "dtype": "f8"
         },
         "xaxis": "x",
         "y": {
          "bdata": "MzMzMzMzA0AzMzMzMzMDQDMzMzMzMwNAMzMzMzMzA0AzMzMzMzMDQDMzMzMzMwNAMzMzMzMzA0AzMzMzMzMDQDMzMzMzMwNAMzMzMzMzA0AzMzMzMzMDQDMzMzMzMwNAMzMzMzMzA0AzMzMzMzMDQDMzMzMzMwNAMzMzMzMzA0AzMzMzMzMDQDMzMzMzMwNAMzMzMzMzA0AzMzMzMzMDQA0AIrKJwgFAw0+sg8Vp/z9uv9OEIb37P1cKROyNbvg/ILhE9LDv2z/A0FkwOefLPyC4RPSw79s/NVgEAK1tpj/A0FkwOefLP63m3t3698M/vAGEqEnWqz+dWuiKg/LLPzVYBACtbaY/lEQz5+mM8z8zMzMzMzMDQDMzMzMzMwNAMzMzMzMzA0AzMzMzMzMDQDMzMzMzMwNAMzMzMzMzA0AzMzMzMzMDQDMzMzMzMwNAMzMzMzMzA0AzMzMzMzMDQDMzMzMzMwNAMzMzMzMzA0DDT6yDxWn/P1cKROyNbvg/AKORKkm48j9wRE8SdevrP+CRr55I3eM/Lxa7m2nr2T/A0FkwOefLP/YBhKhJ1qs/WzITEZgKtz+PWuiKg/LLP+9NJcOJUtU/ILhE9LDv2z8guET0sO/bP8DQWTA558s/vAGEqEnWqz81WAQArW2mP3yfL7go+Ls/u0WXWdjevz+8AYSoSdarP7H7Ex21lCY/NVgEAK1tpj8bLOhiwy30PzMzMzMzMwNAMzMzMzMzA0AzMzMzMzMDQDMzMzMzMwNAMzMzMzMzA0AzMzMzMzMDQDMzMzMzMwNAMzMzMzMzA0BXCkTsjW74P3BETxJ16+s/Lxa7m2nr2T/2AYSoSdarP49a6IqD8ss/ILhE9LDv2z9mw9Q7Ha7jPy7EPt2rcOg/4JGvnkjd4z8vFrubaevZP8DQWTA558s/9gGEqEnWqz9bMhMRmAq3P49a6IqD8ss/700lw4lS1T8guET0sO/bP7wBhKhJ1qs/fJ8vuCj4uz+8AYSoSdarPzVYBACtbaY/9gGEqEnWqz/4Dk3EOiKQP7wBhKhJ1qs/sfsTHbWUJj81WAQArW2mPxss6GLDLfQ/MzMzMzMzA0AzMzMzMzMDQDMzMzMzMwNAMzMzMzMzA0BDU3eA5REEQIoQRJoqs/E/WINd9PBf5T/2AYSoSdarPyC4RPSw79s/LsQ+3atw6D8vFrubaevZP/YBhKhJ1qs/j1roioPyyz8guET0sO/bP5eCThl1wtE/9gGEqEnWqz8wF77w8jTBP8AVmjHX9dI/wNBZMDnnyz/2AYSoSdarP1syExGYCrc/j1roioPyyz/wie9kdH7HP7wBhKhJ1qs/vAGEqEnWqz/2AYSoSdarP7wBhKhJ1qs/NVgEAK1tpj/0PNvHBxqcP/gOTcQ6IpA/87OJBoShfD+x+xMdtZQmP6il/qFyonU/GyzoYsMt9D8=",
          "dtype": "f8"
         },
         "yaxis": "y"
        }
       ],
       "layout": {
        "coloraxis": {
         "colorbar": {
          "title": {
           "text": "Num Ancilla"
          }
         },
         "colorscale": [
          [
           0,
           "#0d0887"
          ],
          [
           0.1111111111111111,
           "#46039f"
          ],
          [
           0.2222222222222222,
           "#7201a8"
          ],
          [
           0.3333333333333333,
           "#9c179e"
          ],
          [
           0.4444444444444444,
           "#bd3786"
          ],
          [
           0.5555555555555556,
           "#d8576b"
          ],
          [
           0.6666666666666666,
           "#ed7953"
          ],
          [
           0.7777777777777778,
           "#fb9f3a"
          ],
          [
           0.8888888888888888,
           "#fdca26"
          ],
          [
           1,
           "#f0f921"
          ]
         ]
        },
        "legend": {
         "tracegroupgap": 0
        },
        "template": {
         "data": {
          "bar": [
           {
            "error_x": {
             "color": "#2a3f5f"
            },
            "error_y": {
             "color": "#2a3f5f"
            },
            "marker": {
             "line": {
              "color": "#E5ECF6",
              "width": 0.5
             },
             "pattern": {
              "fillmode": "overlay",
              "size": 10,
              "solidity": 0.2
             }
            },
            "type": "bar"
           }
          ],
          "barpolar": [
           {
            "marker": {
             "line": {
              "color": "#E5ECF6",
              "width": 0.5
             },
             "pattern": {
              "fillmode": "overlay",
              "size": 10,
              "solidity": 0.2
             }
            },
            "type": "barpolar"
           }
          ],
          "carpet": [
           {
            "aaxis": {
             "endlinecolor": "#2a3f5f",
             "gridcolor": "white",
             "linecolor": "white",
             "minorgridcolor": "white",
             "startlinecolor": "#2a3f5f"
            },
            "baxis": {
             "endlinecolor": "#2a3f5f",
             "gridcolor": "white",
             "linecolor": "white",
             "minorgridcolor": "white",
             "startlinecolor": "#2a3f5f"
            },
            "type": "carpet"
           }
          ],
          "choropleth": [
           {
            "colorbar": {
             "outlinewidth": 0,
             "ticks": ""
            },
            "type": "choropleth"
           }
          ],
          "contour": [
           {
            "colorbar": {
             "outlinewidth": 0,
             "ticks": ""
            },
            "colorscale": [
             [
              0,
              "#0d0887"
             ],
             [
              0.1111111111111111,
              "#46039f"
             ],
             [
              0.2222222222222222,
              "#7201a8"
             ],
             [
              0.3333333333333333,
              "#9c179e"
             ],
             [
              0.4444444444444444,
              "#bd3786"
             ],
             [
              0.5555555555555556,
              "#d8576b"
             ],
             [
              0.6666666666666666,
              "#ed7953"
             ],
             [
              0.7777777777777778,
              "#fb9f3a"
             ],
             [
              0.8888888888888888,
              "#fdca26"
             ],
             [
              1,
              "#f0f921"
             ]
            ],
            "type": "contour"
           }
          ],
          "contourcarpet": [
           {
            "colorbar": {
             "outlinewidth": 0,
             "ticks": ""
            },
            "type": "contourcarpet"
           }
          ],
          "heatmap": [
           {
            "colorbar": {
             "outlinewidth": 0,
             "ticks": ""
            },
            "colorscale": [
             [
              0,
              "#0d0887"
             ],
             [
              0.1111111111111111,
              "#46039f"
             ],
             [
              0.2222222222222222,
              "#7201a8"
             ],
             [
              0.3333333333333333,
              "#9c179e"
             ],
             [
              0.4444444444444444,
              "#bd3786"
             ],
             [
              0.5555555555555556,
              "#d8576b"
             ],
             [
              0.6666666666666666,
              "#ed7953"
             ],
             [
              0.7777777777777778,
              "#fb9f3a"
             ],
             [
              0.8888888888888888,
              "#fdca26"
             ],
             [
              1,
              "#f0f921"
             ]
            ],
            "type": "heatmap"
           }
          ],
          "histogram": [
           {
            "marker": {
             "pattern": {
              "fillmode": "overlay",
              "size": 10,
              "solidity": 0.2
             }
            },
            "type": "histogram"
           }
          ],
          "histogram2d": [
           {
            "colorbar": {
             "outlinewidth": 0,
             "ticks": ""
            },
            "colorscale": [
             [
              0,
              "#0d0887"
             ],
             [
              0.1111111111111111,
              "#46039f"
             ],
             [
              0.2222222222222222,
              "#7201a8"
             ],
             [
              0.3333333333333333,
              "#9c179e"
             ],
             [
              0.4444444444444444,
              "#bd3786"
             ],
             [
              0.5555555555555556,
              "#d8576b"
             ],
             [
              0.6666666666666666,
              "#ed7953"
             ],
             [
              0.7777777777777778,
              "#fb9f3a"
             ],
             [
              0.8888888888888888,
              "#fdca26"
             ],
             [
              1,
              "#f0f921"
             ]
            ],
            "type": "histogram2d"
           }
          ],
          "histogram2dcontour": [
           {
            "colorbar": {
             "outlinewidth": 0,
             "ticks": ""
            },
            "colorscale": [
             [
              0,
              "#0d0887"
             ],
             [
              0.1111111111111111,
              "#46039f"
             ],
             [
              0.2222222222222222,
              "#7201a8"
             ],
             [
              0.3333333333333333,
              "#9c179e"
             ],
             [
              0.4444444444444444,
              "#bd3786"
             ],
             [
              0.5555555555555556,
              "#d8576b"
             ],
             [
              0.6666666666666666,
              "#ed7953"
             ],
             [
              0.7777777777777778,
              "#fb9f3a"
             ],
             [
              0.8888888888888888,
              "#fdca26"
             ],
             [
              1,
              "#f0f921"
             ]
            ],
            "type": "histogram2dcontour"
           }
          ],
          "mesh3d": [
           {
            "colorbar": {
             "outlinewidth": 0,
             "ticks": ""
            },
            "type": "mesh3d"
           }
          ],
          "parcoords": [
           {
            "line": {
             "colorbar": {
              "outlinewidth": 0,
              "ticks": ""
             }
            },
            "type": "parcoords"
           }
          ],
          "pie": [
           {
            "automargin": true,
            "type": "pie"
           }
          ],
          "scatter": [
           {
            "fillpattern": {
             "fillmode": "overlay",
             "size": 10,
             "solidity": 0.2
            },
            "type": "scatter"
           }
          ],
          "scatter3d": [
           {
            "line": {
             "colorbar": {
              "outlinewidth": 0,
              "ticks": ""
             }
            },
            "marker": {
             "colorbar": {
              "outlinewidth": 0,
              "ticks": ""
             }
            },
            "type": "scatter3d"
           }
          ],
          "scattercarpet": [
           {
            "marker": {
             "colorbar": {
              "outlinewidth": 0,
              "ticks": ""
             }
            },
            "type": "scattercarpet"
           }
          ],
          "scattergeo": [
           {
            "marker": {
             "colorbar": {
              "outlinewidth": 0,
              "ticks": ""
             }
            },
            "type": "scattergeo"
           }
          ],
          "scattergl": [
           {
            "marker": {
             "colorbar": {
              "outlinewidth": 0,
              "ticks": ""
             }
            },
            "type": "scattergl"
           }
          ],
          "scattermap": [
           {
            "marker": {
             "colorbar": {
              "outlinewidth": 0,
              "ticks": ""
             }
            },
            "type": "scattermap"
           }
          ],
          "scattermapbox": [
           {
            "marker": {
             "colorbar": {
              "outlinewidth": 0,
              "ticks": ""
             }
            },
            "type": "scattermapbox"
           }
          ],
          "scatterpolar": [
           {
            "marker": {
             "colorbar": {
              "outlinewidth": 0,
              "ticks": ""
             }
            },
            "type": "scatterpolar"
           }
          ],
          "scatterpolargl": [
           {
            "marker": {
             "colorbar": {
              "outlinewidth": 0,
              "ticks": ""
             }
            },
            "type": "scatterpolargl"
           }
          ],
          "scatterternary": [
           {
            "marker": {
             "colorbar": {
              "outlinewidth": 0,
              "ticks": ""
             }
            },
            "type": "scatterternary"
           }
          ],
          "surface": [
           {
            "colorbar": {
             "outlinewidth": 0,
             "ticks": ""
            },
            "colorscale": [
             [
              0,
              "#0d0887"
             ],
             [
              0.1111111111111111,
              "#46039f"
             ],
             [
              0.2222222222222222,
              "#7201a8"
             ],
             [
              0.3333333333333333,
              "#9c179e"
             ],
             [
              0.4444444444444444,
              "#bd3786"
             ],
             [
              0.5555555555555556,
              "#d8576b"
             ],
             [
              0.6666666666666666,
              "#ed7953"
             ],
             [
              0.7777777777777778,
              "#fb9f3a"
             ],
             [
              0.8888888888888888,
              "#fdca26"
             ],
             [
              1,
              "#f0f921"
             ]
            ],
            "type": "surface"
           }
          ],
          "table": [
           {
            "cells": {
             "fill": {
              "color": "#EBF0F8"
             },
             "line": {
              "color": "white"
             }
            },
            "header": {
             "fill": {
              "color": "#C8D4E3"
             },
             "line": {
              "color": "white"
             }
            },
            "type": "table"
           }
          ]
         },
         "layout": {
          "annotationdefaults": {
           "arrowcolor": "#2a3f5f",
           "arrowhead": 0,
           "arrowwidth": 1
          },
          "autotypenumbers": "strict",
          "coloraxis": {
           "colorbar": {
            "outlinewidth": 0,
            "ticks": ""
           }
          },
          "colorscale": {
           "diverging": [
            [
             0,
             "#8e0152"
            ],
            [
             0.1,
             "#c51b7d"
            ],
            [
             0.2,
             "#de77ae"
            ],
            [
             0.3,
             "#f1b6da"
            ],
            [
             0.4,
             "#fde0ef"
            ],
            [
             0.5,
             "#f7f7f7"
            ],
            [
             0.6,
             "#e6f5d0"
            ],
            [
             0.7,
             "#b8e186"
            ],
            [
             0.8,
             "#7fbc41"
            ],
            [
             0.9,
             "#4d9221"
            ],
            [
             1,
             "#276419"
            ]
           ],
           "sequential": [
            [
             0,
             "#0d0887"
            ],
            [
             0.1111111111111111,
             "#46039f"
            ],
            [
             0.2222222222222222,
             "#7201a8"
            ],
            [
             0.3333333333333333,
             "#9c179e"
            ],
            [
             0.4444444444444444,
             "#bd3786"
            ],
            [
             0.5555555555555556,
             "#d8576b"
            ],
            [
             0.6666666666666666,
             "#ed7953"
            ],
            [
             0.7777777777777778,
             "#fb9f3a"
            ],
            [
             0.8888888888888888,
             "#fdca26"
            ],
            [
             1,
             "#f0f921"
            ]
           ],
           "sequentialminus": [
            [
             0,
             "#0d0887"
            ],
            [
             0.1111111111111111,
             "#46039f"
            ],
            [
             0.2222222222222222,
             "#7201a8"
            ],
            [
             0.3333333333333333,
             "#9c179e"
            ],
            [
             0.4444444444444444,
             "#bd3786"
            ],
            [
             0.5555555555555556,
             "#d8576b"
            ],
            [
             0.6666666666666666,
             "#ed7953"
            ],
            [
             0.7777777777777778,
             "#fb9f3a"
            ],
            [
             0.8888888888888888,
             "#fdca26"
            ],
            [
             1,
             "#f0f921"
            ]
           ]
          },
          "colorway": [
           "#636efa",
           "#EF553B",
           "#00cc96",
           "#ab63fa",
           "#FFA15A",
           "#19d3f3",
           "#FF6692",
           "#B6E880",
           "#FF97FF",
           "#FECB52"
          ],
          "font": {
           "color": "#2a3f5f"
          },
          "geo": {
           "bgcolor": "white",
           "lakecolor": "white",
           "landcolor": "#E5ECF6",
           "showlakes": true,
           "showland": true,
           "subunitcolor": "white"
          },
          "hoverlabel": {
           "align": "left"
          },
          "hovermode": "closest",
          "mapbox": {
           "style": "light"
          },
          "paper_bgcolor": "white",
          "plot_bgcolor": "#E5ECF6",
          "polar": {
           "angularaxis": {
            "gridcolor": "white",
            "linecolor": "white",
            "ticks": ""
           },
           "bgcolor": "#E5ECF6",
           "radialaxis": {
            "gridcolor": "white",
            "linecolor": "white",
            "ticks": ""
           }
          },
          "scene": {
           "xaxis": {
            "backgroundcolor": "#E5ECF6",
            "gridcolor": "white",
            "gridwidth": 2,
            "linecolor": "white",
            "showbackground": true,
            "ticks": "",
            "zerolinecolor": "white"
           },
           "yaxis": {
            "backgroundcolor": "#E5ECF6",
            "gridcolor": "white",
            "gridwidth": 2,
            "linecolor": "white",
            "showbackground": true,
            "ticks": "",
            "zerolinecolor": "white"
           },
           "zaxis": {
            "backgroundcolor": "#E5ECF6",
            "gridcolor": "white",
            "gridwidth": 2,
            "linecolor": "white",
            "showbackground": true,
            "ticks": "",
            "zerolinecolor": "white"
           }
          },
          "shapedefaults": {
           "line": {
            "color": "#2a3f5f"
           }
          },
          "ternary": {
           "aaxis": {
            "gridcolor": "white",
            "linecolor": "white",
            "ticks": ""
           },
           "baxis": {
            "gridcolor": "white",
            "linecolor": "white",
            "ticks": ""
           },
           "bgcolor": "#E5ECF6",
           "caxis": {
            "gridcolor": "white",
            "linecolor": "white",
            "ticks": ""
           }
          },
          "title": {
           "x": 0.05
          },
          "xaxis": {
           "automargin": true,
           "gridcolor": "white",
           "linecolor": "white",
           "ticks": "",
           "title": {
            "standoff": 15
           },
           "zerolinecolor": "white",
           "zerolinewidth": 2
          },
          "yaxis": {
           "automargin": true,
           "gridcolor": "white",
           "linecolor": "white",
           "ticks": "",
           "title": {
            "standoff": 15
           },
           "zerolinecolor": "white",
           "zerolinewidth": 2
          }
         }
        },
        "title": {
         "text": "Eigenvalue Error vs Time (Scatter Plot) (Standard QPE)"
        },
        "xaxis": {
         "anchor": "y",
         "domain": [
          0,
          1
         ],
         "title": {
          "text": "Time"
         }
        },
        "yaxis": {
         "anchor": "x",
         "domain": [
          0,
          1
         ],
         "title": {
          "text": "Error"
         }
        }
       }
      }
     },
     "metadata": {},
     "output_type": "display_data"
    }
   ],
   "source": [
    "error_vs_time_fig = plot_error_vs_time(df=standard_df, title_suffix=\"(Standard QPE)\")"
   ]
  },
  {
   "cell_type": "code",
   "execution_count": 61,
   "id": "fa7a7562",
   "metadata": {},
   "outputs": [
    {
     "data": {
      "application/vnd.plotly.v1+json": {
       "config": {
        "plotlyServerURL": "https://plot.ly"
       },
       "data": [
        {
         "alignmentgroup": "True",
         "boxpoints": "all",
         "hovertemplate": "# Ancilla Qubits=%{x}<br>Eigenvalue Estimation Error=%{y}<extra></extra>",
         "legendgroup": "",
         "marker": {
          "color": "#636efa"
         },
         "name": "",
         "notched": false,
         "offsetgroup": "",
         "orientation": "v",
         "showlegend": false,
         "type": "box",
         "x": {
          "bdata": "BQUGBQYFBQUGBQYFBQUGBQYFBQUFBgUFBgUFBQUFBgUFBgUFBQUGBQUGBQUFBQYFBQYFBQUFBQUGBQUFBgUFBQYFBQUGBQUFBgUFBQYFBQUFBgUFBgUFBgYFBQUGBQUFBgYFBQYFBQYGBQUGBQUGBgUFBgUFBgYFBQYFBQYGBQUFBQYGBgUFBQUGBgYFBQUFBgYFBgUFBQYGBQUGBQUGBwUGBQYFBQYFBgUGBQUGBQYGBQUFBgcFBQYGBQYFBQYGBQUGBQUGBgUHBQYFBQYGBQUFBgUGBgUFBQcGBgUFBgYFBwUFBgYFBwUGBgUFBgYFBwYGBwYGBgYHBgYIBwYGBwYGBgYHBgYHBgYIBwYGBgYHBgYHBgYIBgYHBgYHBgYGBwYGBgcIBgYHBgYGBgcGBgcGCAYGBwYGBgcGBgcGBwgGBgcGBwYIBwYGBwYHBgcGCAYHBgcHCAcHBwcIBwcHCAcHBwgHBwcICQcHBwcIBwcHCAcHBwkHCAcHCAcHBwcIBwcHCAcHBwcICQcHBwgHBwcIBwcHCAcHCQcHCAcHBwgHBwcIBwcIBwkIBwcIBwcIBwgHCQcIBwcIBwgHBwkIBwcIBwgHBwgHCQcIBwgHBwgHBwgJBwgHBwgHBwgHCAcJBwgHBwgHCAcJBwgHBwgHCAcHCAcJCgcIBwgHBwgHBwgJBwgHBwgHBwgJCAgICAgICQgICAgJCAgICAkICAgICQgICAkICAgKCAkICAgJCAgICAgJCAoICAkICAgICAkICQgICQkICAkICggJCQgJCAgKCAkJCAkICAkICQgJCAgJCAkICQoICAkJCAgJCggJCAkICQgICQgJCAkICAkICQgKCQgICQkICAoJCAkICQgICQgJCAkICQgICQkKCQkJCgkJCQkJCQoJCgkKCQkJCQkKCQkKCgkJCQkJCgkJCgoJCQkJCQkLCgkKCQoJCQkJCQoJCQoKCQkJCQkKCQ==",
          "dtype": "i1"
         },
         "x0": " ",
         "xaxis": "x",
         "y": {
          "bdata": "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",
          "dtype": "f8"
         },
         "y0": " ",
         "yaxis": "y"
        }
       ],
       "layout": {
        "boxmode": "group",
        "legend": {
         "tracegroupgap": 0
        },
        "template": {
         "data": {
          "bar": [
           {
            "error_x": {
             "color": "#2a3f5f"
            },
            "error_y": {
             "color": "#2a3f5f"
            },
            "marker": {
             "line": {
              "color": "#E5ECF6",
              "width": 0.5
             },
             "pattern": {
              "fillmode": "overlay",
              "size": 10,
              "solidity": 0.2
             }
            },
            "type": "bar"
           }
          ],
          "barpolar": [
           {
            "marker": {
             "line": {
              "color": "#E5ECF6",
              "width": 0.5
             },
             "pattern": {
              "fillmode": "overlay",
              "size": 10,
              "solidity": 0.2
             }
            },
            "type": "barpolar"
           }
          ],
          "carpet": [
           {
            "aaxis": {
             "endlinecolor": "#2a3f5f",
             "gridcolor": "white",
             "linecolor": "white",
             "minorgridcolor": "white",
             "startlinecolor": "#2a3f5f"
            },
            "baxis": {
             "endlinecolor": "#2a3f5f",
             "gridcolor": "white",
             "linecolor": "white",
             "minorgridcolor": "white",
             "startlinecolor": "#2a3f5f"
            },
            "type": "carpet"
           }
          ],
          "choropleth": [
           {
            "colorbar": {
             "outlinewidth": 0,
             "ticks": ""
            },
            "type": "choropleth"
           }
          ],
          "contour": [
           {
            "colorbar": {
             "outlinewidth": 0,
             "ticks": ""
            },
            "colorscale": [
             [
              0,
              "#0d0887"
             ],
             [
              0.1111111111111111,
              "#46039f"
             ],
             [
              0.2222222222222222,
              "#7201a8"
             ],
             [
              0.3333333333333333,
              "#9c179e"
             ],
             [
              0.4444444444444444,
              "#bd3786"
             ],
             [
              0.5555555555555556,
              "#d8576b"
             ],
             [
              0.6666666666666666,
              "#ed7953"
             ],
             [
              0.7777777777777778,
              "#fb9f3a"
             ],
             [
              0.8888888888888888,
              "#fdca26"
             ],
             [
              1,
              "#f0f921"
             ]
            ],
            "type": "contour"
           }
          ],
          "contourcarpet": [
           {
            "colorbar": {
             "outlinewidth": 0,
             "ticks": ""
            },
            "type": "contourcarpet"
           }
          ],
          "heatmap": [
           {
            "colorbar": {
             "outlinewidth": 0,
             "ticks": ""
            },
            "colorscale": [
             [
              0,
              "#0d0887"
             ],
             [
              0.1111111111111111,
              "#46039f"
             ],
             [
              0.2222222222222222,
              "#7201a8"
             ],
             [
              0.3333333333333333,
              "#9c179e"
             ],
             [
              0.4444444444444444,
              "#bd3786"
             ],
             [
              0.5555555555555556,
              "#d8576b"
             ],
             [
              0.6666666666666666,
              "#ed7953"
             ],
             [
              0.7777777777777778,
              "#fb9f3a"
             ],
             [
              0.8888888888888888,
              "#fdca26"
             ],
             [
              1,
              "#f0f921"
             ]
            ],
            "type": "heatmap"
           }
          ],
          "histogram": [
           {
            "marker": {
             "pattern": {
              "fillmode": "overlay",
              "size": 10,
              "solidity": 0.2
             }
            },
            "type": "histogram"
           }
          ],
          "histogram2d": [
           {
            "colorbar": {
             "outlinewidth": 0,
             "ticks": ""
            },
            "colorscale": [
             [
              0,
              "#0d0887"
             ],
             [
              0.1111111111111111,
              "#46039f"
             ],
             [
              0.2222222222222222,
              "#7201a8"
             ],
             [
              0.3333333333333333,
              "#9c179e"
             ],
             [
              0.4444444444444444,
              "#bd3786"
             ],
             [
              0.5555555555555556,
              "#d8576b"
             ],
             [
              0.6666666666666666,
              "#ed7953"
             ],
             [
              0.7777777777777778,
              "#fb9f3a"
             ],
             [
              0.8888888888888888,
              "#fdca26"
             ],
             [
              1,
              "#f0f921"
             ]
            ],
            "type": "histogram2d"
           }
          ],
          "histogram2dcontour": [
           {
            "colorbar": {
             "outlinewidth": 0,
             "ticks": ""
            },
            "colorscale": [
             [
              0,
              "#0d0887"
             ],
             [
              0.1111111111111111,
              "#46039f"
             ],
             [
              0.2222222222222222,
              "#7201a8"
             ],
             [
              0.3333333333333333,
              "#9c179e"
             ],
             [
              0.4444444444444444,
              "#bd3786"
             ],
             [
              0.5555555555555556,
              "#d8576b"
             ],
             [
              0.6666666666666666,
              "#ed7953"
             ],
             [
              0.7777777777777778,
              "#fb9f3a"
             ],
             [
              0.8888888888888888,
              "#fdca26"
             ],
             [
              1,
              "#f0f921"
             ]
            ],
            "type": "histogram2dcontour"
           }
          ],
          "mesh3d": [
           {
            "colorbar": {
             "outlinewidth": 0,
             "ticks": ""
            },
            "type": "mesh3d"
           }
          ],
          "parcoords": [
           {
            "line": {
             "colorbar": {
              "outlinewidth": 0,
              "ticks": ""
             }
            },
            "type": "parcoords"
           }
          ],
          "pie": [
           {
            "automargin": true,
            "type": "pie"
           }
          ],
          "scatter": [
           {
            "fillpattern": {
             "fillmode": "overlay",
             "size": 10,
             "solidity": 0.2
            },
            "type": "scatter"
           }
          ],
          "scatter3d": [
           {
            "line": {
             "colorbar": {
              "outlinewidth": 0,
              "ticks": ""
             }
            },
            "marker": {
             "colorbar": {
              "outlinewidth": 0,
              "ticks": ""
             }
            },
            "type": "scatter3d"
           }
          ],
          "scattercarpet": [
           {
            "marker": {
             "colorbar": {
              "outlinewidth": 0,
              "ticks": ""
             }
            },
            "type": "scattercarpet"
           }
          ],
          "scattergeo": [
           {
            "marker": {
             "colorbar": {
              "outlinewidth": 0,
              "ticks": ""
             }
            },
            "type": "scattergeo"
           }
          ],
          "scattergl": [
           {
            "marker": {
             "colorbar": {
              "outlinewidth": 0,
              "ticks": ""
             }
            },
            "type": "scattergl"
           }
          ],
          "scattermap": [
           {
            "marker": {
             "colorbar": {
              "outlinewidth": 0,
              "ticks": ""
             }
            },
            "type": "scattermap"
           }
          ],
          "scattermapbox": [
           {
            "marker": {
             "colorbar": {
              "outlinewidth": 0,
              "ticks": ""
             }
            },
            "type": "scattermapbox"
           }
          ],
          "scatterpolar": [
           {
            "marker": {
             "colorbar": {
              "outlinewidth": 0,
              "ticks": ""
             }
            },
            "type": "scatterpolar"
           }
          ],
          "scatterpolargl": [
           {
            "marker": {
             "colorbar": {
              "outlinewidth": 0,
              "ticks": ""
             }
            },
            "type": "scatterpolargl"
           }
          ],
          "scatterternary": [
           {
            "marker": {
             "colorbar": {
              "outlinewidth": 0,
              "ticks": ""
             }
            },
            "type": "scatterternary"
           }
          ],
          "surface": [
           {
            "colorbar": {
             "outlinewidth": 0,
             "ticks": ""
            },
            "colorscale": [
             [
              0,
              "#0d0887"
             ],
             [
              0.1111111111111111,
              "#46039f"
             ],
             [
              0.2222222222222222,
              "#7201a8"
             ],
             [
              0.3333333333333333,
              "#9c179e"
             ],
             [
              0.4444444444444444,
              "#bd3786"
             ],
             [
              0.5555555555555556,
              "#d8576b"
             ],
             [
              0.6666666666666666,
              "#ed7953"
             ],
             [
              0.7777777777777778,
              "#fb9f3a"
             ],
             [
              0.8888888888888888,
              "#fdca26"
             ],
             [
              1,
              "#f0f921"
             ]
            ],
            "type": "surface"
           }
          ],
          "table": [
           {
            "cells": {
             "fill": {
              "color": "#EBF0F8"
             },
             "line": {
              "color": "white"
             }
            },
            "header": {
             "fill": {
              "color": "#C8D4E3"
             },
             "line": {
              "color": "white"
             }
            },
            "type": "table"
           }
          ]
         },
         "layout": {
          "annotationdefaults": {
           "arrowcolor": "#2a3f5f",
           "arrowhead": 0,
           "arrowwidth": 1
          },
          "autotypenumbers": "strict",
          "coloraxis": {
           "colorbar": {
            "outlinewidth": 0,
            "ticks": ""
           }
          },
          "colorscale": {
           "diverging": [
            [
             0,
             "#8e0152"
            ],
            [
             0.1,
             "#c51b7d"
            ],
            [
             0.2,
             "#de77ae"
            ],
            [
             0.3,
             "#f1b6da"
            ],
            [
             0.4,
             "#fde0ef"
            ],
            [
             0.5,
             "#f7f7f7"
            ],
            [
             0.6,
             "#e6f5d0"
            ],
            [
             0.7,
             "#b8e186"
            ],
            [
             0.8,
             "#7fbc41"
            ],
            [
             0.9,
             "#4d9221"
            ],
            [
             1,
             "#276419"
            ]
           ],
           "sequential": [
            [
             0,
             "#0d0887"
            ],
            [
             0.1111111111111111,
             "#46039f"
            ],
            [
             0.2222222222222222,
             "#7201a8"
            ],
            [
             0.3333333333333333,
             "#9c179e"
            ],
            [
             0.4444444444444444,
             "#bd3786"
            ],
            [
             0.5555555555555556,
             "#d8576b"
            ],
            [
             0.6666666666666666,
             "#ed7953"
            ],
            [
             0.7777777777777778,
             "#fb9f3a"
            ],
            [
             0.8888888888888888,
             "#fdca26"
            ],
            [
             1,
             "#f0f921"
            ]
           ],
           "sequentialminus": [
            [
             0,
             "#0d0887"
            ],
            [
             0.1111111111111111,
             "#46039f"
            ],
            [
             0.2222222222222222,
             "#7201a8"
            ],
            [
             0.3333333333333333,
             "#9c179e"
            ],
            [
             0.4444444444444444,
             "#bd3786"
            ],
            [
             0.5555555555555556,
             "#d8576b"
            ],
            [
             0.6666666666666666,
             "#ed7953"
            ],
            [
             0.7777777777777778,
             "#fb9f3a"
            ],
            [
             0.8888888888888888,
             "#fdca26"
            ],
            [
             1,
             "#f0f921"
            ]
           ]
          },
          "colorway": [
           "#636efa",
           "#EF553B",
           "#00cc96",
           "#ab63fa",
           "#FFA15A",
           "#19d3f3",
           "#FF6692",
           "#B6E880",
           "#FF97FF",
           "#FECB52"
          ],
          "font": {
           "color": "#2a3f5f"
          },
          "geo": {
           "bgcolor": "white",
           "lakecolor": "white",
           "landcolor": "#E5ECF6",
           "showlakes": true,
           "showland": true,
           "subunitcolor": "white"
          },
          "hoverlabel": {
           "align": "left"
          },
          "hovermode": "closest",
          "mapbox": {
           "style": "light"
          },
          "paper_bgcolor": "white",
          "plot_bgcolor": "#E5ECF6",
          "polar": {
           "angularaxis": {
            "gridcolor": "white",
            "linecolor": "white",
            "ticks": ""
           },
           "bgcolor": "#E5ECF6",
           "radialaxis": {
            "gridcolor": "white",
            "linecolor": "white",
            "ticks": ""
           }
          },
          "scene": {
           "xaxis": {
            "backgroundcolor": "#E5ECF6",
            "gridcolor": "white",
            "gridwidth": 2,
            "linecolor": "white",
            "showbackground": true,
            "ticks": "",
            "zerolinecolor": "white"
           },
           "yaxis": {
            "backgroundcolor": "#E5ECF6",
            "gridcolor": "white",
            "gridwidth": 2,
            "linecolor": "white",
            "showbackground": true,
            "ticks": "",
            "zerolinecolor": "white"
           },
           "zaxis": {
            "backgroundcolor": "#E5ECF6",
            "gridcolor": "white",
            "gridwidth": 2,
            "linecolor": "white",
            "showbackground": true,
            "ticks": "",
            "zerolinecolor": "white"
           }
          },
          "shapedefaults": {
           "line": {
            "color": "#2a3f5f"
           }
          },
          "ternary": {
           "aaxis": {
            "gridcolor": "white",
            "linecolor": "white",
            "ticks": ""
           },
           "baxis": {
            "gridcolor": "white",
            "linecolor": "white",
            "ticks": ""
           },
           "bgcolor": "#E5ECF6",
           "caxis": {
            "gridcolor": "white",
            "linecolor": "white",
            "ticks": ""
           }
          },
          "title": {
           "x": 0.05
          },
          "xaxis": {
           "automargin": true,
           "gridcolor": "white",
           "linecolor": "white",
           "ticks": "",
           "title": {
            "standoff": 15
           },
           "zerolinecolor": "white",
           "zerolinewidth": 2
          },
          "yaxis": {
           "automargin": true,
           "gridcolor": "white",
           "linecolor": "white",
           "ticks": "",
           "title": {
            "standoff": 15
           },
           "zerolinecolor": "white",
           "zerolinewidth": 2
          }
         }
        },
        "title": {
         "text": "Error vs Number of Ancilla Qubits (qDRIFT)"
        },
        "xaxis": {
         "anchor": "y",
         "domain": [
          0,
          1
         ],
         "title": {
          "text": "# Ancilla Qubits"
         }
        },
        "yaxis": {
         "anchor": "x",
         "domain": [
          0,
          1
         ],
         "title": {
          "text": "Eigenvalue Estimation Error"
         }
        }
       }
      }
     },
     "metadata": {},
     "output_type": "display_data"
    }
   ],
   "source": [
    "plot_error_vs_ancilla(df=qdrift_df, title_suffix=\"(qDRIFT)\")"
   ]
  },
  {
   "cell_type": "code",
   "execution_count": 62,
   "id": "1cd4a18b",
   "metadata": {},
   "outputs": [
    {
     "data": {
      "application/vnd.plotly.v1+json": {
       "config": {
        "plotlyServerURL": "https://plot.ly"
       },
       "data": [
        {
         "hovertemplate": "Simulation Time=%{x}<br># Ancilla Qubits=%{y}<br>Error=%{marker.color}<extra></extra>",
         "legendgroup": "",
         "marker": {
          "color": {
           "bdata": "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",
           "dtype": "f8"
          },
          "coloraxis": "coloraxis",
          "symbol": "circle"
         },
         "mode": "markers",
         "name": "",
         "scene": "scene",
         "showlegend": false,
         "type": "scatter3d",
         "x": {
          "bdata": "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",
          "dtype": "f8"
         },
         "y": {
          "bdata": "BQUGBQYFBQUGBQYFBQUGBQYFBQUFBgUFBgUFBQUFBgUFBgUFBQUGBQUGBQUFBQYFBQYFBQUFBQUGBQUFBgUFBQYFBQUGBQUFBgUFBQYFBQUFBgUFBgUFBgYFBQUGBQUFBgYFBQYFBQYGBQUGBQUGBgUFBgUFBgYFBQYFBQYGBQUFBQYGBgUFBQUGBgYFBQUFBgYFBgUFBQYGBQUGBQUGBwUGBQYFBQYFBgUGBQUGBQYGBQUFBgcFBQYGBQYFBQYGBQUGBQUGBgUHBQYFBQYGBQUFBgUGBgUFBQcGBgUFBgYFBwUFBgYFBwUGBgUFBgYFBwYGBwYGBgYHBgYIBwYGBwYGBgYHBgYHBgYIBwYGBgYHBgYHBgYIBgYHBgYHBgYGBwYGBgcIBgYHBgYGBgcGBgcGCAYGBwYGBgcGBgcGBwgGBgcGBwYIBwYGBwYHBgcGCAYHBgcHCAcHBwcIBwcHCAcHBwgHBwcICQcHBwcIBwcHCAcHBwkHCAcHCAcHBwcIBwcHCAcHBwcICQcHBwgHBwcIBwcHCAcHCQcHCAcHBwgHBwcIBwcIBwkIBwcIBwcIBwgHCQcIBwcIBwgHBwkIBwcIBwgHBwgHCQcIBwgHBwgHBwgJBwgHBwgHBwgHCAcJBwgHBwgHCAcJBwgHBwgHCAcHCAcJCgcIBwgHBwgHBwgJBwgHBwgHBwgJCAgICAgICQgICAgJCAgICAkICAgICQgICAkICAgKCAkICAgJCAgICAgJCAoICAkICAgICAkICQgICQkICAkICggJCQgJCAgKCAkJCAkICAkICQgJCAgJCAkICQoICAkJCAgJCggJCAkICQgICQgJCAkICAkICQgKCQgICQkICAoJCAkICQgICQgJCAkICQgICQkKCQkJCgkJCQkJCQoJCgkKCQkJCQkKCQkKCgkJCQkJCgkJCgoJCQkJCQkLCgkKCQoJCQkJCQoJCQoKCQkJCQkKCQ==",
          "dtype": "i1"
         },
         "z": {
          "bdata": "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",
          "dtype": "f8"
         }
        }
       ],
       "layout": {
        "coloraxis": {
         "colorbar": {
          "title": {
           "text": "Error"
          }
         },
         "colorscale": [
          [
           0,
           "#0d0887"
          ],
          [
           0.1111111111111111,
           "#46039f"
          ],
          [
           0.2222222222222222,
           "#7201a8"
          ],
          [
           0.3333333333333333,
           "#9c179e"
          ],
          [
           0.4444444444444444,
           "#bd3786"
          ],
          [
           0.5555555555555556,
           "#d8576b"
          ],
          [
           0.6666666666666666,
           "#ed7953"
          ],
          [
           0.7777777777777778,
           "#fb9f3a"
          ],
          [
           0.8888888888888888,
           "#fdca26"
          ],
          [
           1,
           "#f0f921"
          ]
         ]
        },
        "legend": {
         "tracegroupgap": 0
        },
        "scene": {
         "domain": {
          "x": [
           0,
           1
          ],
          "y": [
           0,
           1
          ]
         },
         "xaxis": {
          "title": {
           "text": "Simulation Time"
          }
         },
         "yaxis": {
          "title": {
           "text": "# Ancilla Qubits"
          }
         },
         "zaxis": {
          "title": {
           "text": "Error"
          }
         }
        },
        "template": {
         "data": {
          "bar": [
           {
            "error_x": {
             "color": "#2a3f5f"
            },
            "error_y": {
             "color": "#2a3f5f"
            },
            "marker": {
             "line": {
              "color": "#E5ECF6",
              "width": 0.5
             },
             "pattern": {
              "fillmode": "overlay",
              "size": 10,
              "solidity": 0.2
             }
            },
            "type": "bar"
           }
          ],
          "barpolar": [
           {
            "marker": {
             "line": {
              "color": "#E5ECF6",
              "width": 0.5
             },
             "pattern": {
              "fillmode": "overlay",
              "size": 10,
              "solidity": 0.2
             }
            },
            "type": "barpolar"
           }
          ],
          "carpet": [
           {
            "aaxis": {
             "endlinecolor": "#2a3f5f",
             "gridcolor": "white",
             "linecolor": "white",
             "minorgridcolor": "white",
             "startlinecolor": "#2a3f5f"
            },
            "baxis": {
             "endlinecolor": "#2a3f5f",
             "gridcolor": "white",
             "linecolor": "white",
             "minorgridcolor": "white",
             "startlinecolor": "#2a3f5f"
            },
            "type": "carpet"
           }
          ],
          "choropleth": [
           {
            "colorbar": {
             "outlinewidth": 0,
             "ticks": ""
            },
            "type": "choropleth"
           }
          ],
          "contour": [
           {
            "colorbar": {
             "outlinewidth": 0,
             "ticks": ""
            },
            "colorscale": [
             [
              0,
              "#0d0887"
             ],
             [
              0.1111111111111111,
              "#46039f"
             ],
             [
              0.2222222222222222,
              "#7201a8"
             ],
             [
              0.3333333333333333,
              "#9c179e"
             ],
             [
              0.4444444444444444,
              "#bd3786"
             ],
             [
              0.5555555555555556,
              "#d8576b"
             ],
             [
              0.6666666666666666,
              "#ed7953"
             ],
             [
              0.7777777777777778,
              "#fb9f3a"
             ],
             [
              0.8888888888888888,
              "#fdca26"
             ],
             [
              1,
              "#f0f921"
             ]
            ],
            "type": "contour"
           }
          ],
          "contourcarpet": [
           {
            "colorbar": {
             "outlinewidth": 0,
             "ticks": ""
            },
            "type": "contourcarpet"
           }
          ],
          "heatmap": [
           {
            "colorbar": {
             "outlinewidth": 0,
             "ticks": ""
            },
            "colorscale": [
             [
              0,
              "#0d0887"
             ],
             [
              0.1111111111111111,
              "#46039f"
             ],
             [
              0.2222222222222222,
              "#7201a8"
             ],
             [
              0.3333333333333333,
              "#9c179e"
             ],
             [
              0.4444444444444444,
              "#bd3786"
             ],
             [
              0.5555555555555556,
              "#d8576b"
             ],
             [
              0.6666666666666666,
              "#ed7953"
             ],
             [
              0.7777777777777778,
              "#fb9f3a"
             ],
             [
              0.8888888888888888,
              "#fdca26"
             ],
             [
              1,
              "#f0f921"
             ]
            ],
            "type": "heatmap"
           }
          ],
          "histogram": [
           {
            "marker": {
             "pattern": {
              "fillmode": "overlay",
              "size": 10,
              "solidity": 0.2
             }
            },
            "type": "histogram"
           }
          ],
          "histogram2d": [
           {
            "colorbar": {
             "outlinewidth": 0,
             "ticks": ""
            },
            "colorscale": [
             [
              0,
              "#0d0887"
             ],
             [
              0.1111111111111111,
              "#46039f"
             ],
             [
              0.2222222222222222,
              "#7201a8"
             ],
             [
              0.3333333333333333,
              "#9c179e"
             ],
             [
              0.4444444444444444,
              "#bd3786"
             ],
             [
              0.5555555555555556,
              "#d8576b"
             ],
             [
              0.6666666666666666,
              "#ed7953"
             ],
             [
              0.7777777777777778,
              "#fb9f3a"
             ],
             [
              0.8888888888888888,
              "#fdca26"
             ],
             [
              1,
              "#f0f921"
             ]
            ],
            "type": "histogram2d"
           }
          ],
          "histogram2dcontour": [
           {
            "colorbar": {
             "outlinewidth": 0,
             "ticks": ""
            },
            "colorscale": [
             [
              0,
              "#0d0887"
             ],
             [
              0.1111111111111111,
              "#46039f"
             ],
             [
              0.2222222222222222,
              "#7201a8"
             ],
             [
              0.3333333333333333,
              "#9c179e"
             ],
             [
              0.4444444444444444,
              "#bd3786"
             ],
             [
              0.5555555555555556,
              "#d8576b"
             ],
             [
              0.6666666666666666,
              "#ed7953"
             ],
             [
              0.7777777777777778,
              "#fb9f3a"
             ],
             [
              0.8888888888888888,
              "#fdca26"
             ],
             [
              1,
              "#f0f921"
             ]
            ],
            "type": "histogram2dcontour"
           }
          ],
          "mesh3d": [
           {
            "colorbar": {
             "outlinewidth": 0,
             "ticks": ""
            },
            "type": "mesh3d"
           }
          ],
          "parcoords": [
           {
            "line": {
             "colorbar": {
              "outlinewidth": 0,
              "ticks": ""
             }
            },
            "type": "parcoords"
           }
          ],
          "pie": [
           {
            "automargin": true,
            "type": "pie"
           }
          ],
          "scatter": [
           {
            "fillpattern": {
             "fillmode": "overlay",
             "size": 10,
             "solidity": 0.2
            },
            "type": "scatter"
           }
          ],
          "scatter3d": [
           {
            "line": {
             "colorbar": {
              "outlinewidth": 0,
              "ticks": ""
             }
            },
            "marker": {
             "colorbar": {
              "outlinewidth": 0,
              "ticks": ""
             }
            },
            "type": "scatter3d"
           }
          ],
          "scattercarpet": [
           {
            "marker": {
             "colorbar": {
              "outlinewidth": 0,
              "ticks": ""
             }
            },
            "type": "scattercarpet"
           }
          ],
          "scattergeo": [
           {
            "marker": {
             "colorbar": {
              "outlinewidth": 0,
              "ticks": ""
             }
            },
            "type": "scattergeo"
           }
          ],
          "scattergl": [
           {
            "marker": {
             "colorbar": {
              "outlinewidth": 0,
              "ticks": ""
             }
            },
            "type": "scattergl"
           }
          ],
          "scattermap": [
           {
            "marker": {
             "colorbar": {
              "outlinewidth": 0,
              "ticks": ""
             }
            },
            "type": "scattermap"
           }
          ],
          "scattermapbox": [
           {
            "marker": {
             "colorbar": {
              "outlinewidth": 0,
              "ticks": ""
             }
            },
            "type": "scattermapbox"
           }
          ],
          "scatterpolar": [
           {
            "marker": {
             "colorbar": {
              "outlinewidth": 0,
              "ticks": ""
             }
            },
            "type": "scatterpolar"
           }
          ],
          "scatterpolargl": [
           {
            "marker": {
             "colorbar": {
              "outlinewidth": 0,
              "ticks": ""
             }
            },
            "type": "scatterpolargl"
           }
          ],
          "scatterternary": [
           {
            "marker": {
             "colorbar": {
              "outlinewidth": 0,
              "ticks": ""
             }
            },
            "type": "scatterternary"
           }
          ],
          "surface": [
           {
            "colorbar": {
             "outlinewidth": 0,
             "ticks": ""
            },
            "colorscale": [
             [
              0,
              "#0d0887"
             ],
             [
              0.1111111111111111,
              "#46039f"
             ],
             [
              0.2222222222222222,
              "#7201a8"
             ],
             [
              0.3333333333333333,
              "#9c179e"
             ],
             [
              0.4444444444444444,
              "#bd3786"
             ],
             [
              0.5555555555555556,
              "#d8576b"
             ],
             [
              0.6666666666666666,
              "#ed7953"
             ],
             [
              0.7777777777777778,
              "#fb9f3a"
             ],
             [
              0.8888888888888888,
              "#fdca26"
             ],
             [
              1,
              "#f0f921"
             ]
            ],
            "type": "surface"
           }
          ],
          "table": [
           {
            "cells": {
             "fill": {
              "color": "#EBF0F8"
             },
             "line": {
              "color": "white"
             }
            },
            "header": {
             "fill": {
              "color": "#C8D4E3"
             },
             "line": {
              "color": "white"
             }
            },
            "type": "table"
           }
          ]
         },
         "layout": {
          "annotationdefaults": {
           "arrowcolor": "#2a3f5f",
           "arrowhead": 0,
           "arrowwidth": 1
          },
          "autotypenumbers": "strict",
          "coloraxis": {
           "colorbar": {
            "outlinewidth": 0,
            "ticks": ""
           }
          },
          "colorscale": {
           "diverging": [
            [
             0,
             "#8e0152"
            ],
            [
             0.1,
             "#c51b7d"
            ],
            [
             0.2,
             "#de77ae"
            ],
            [
             0.3,
             "#f1b6da"
            ],
            [
             0.4,
             "#fde0ef"
            ],
            [
             0.5,
             "#f7f7f7"
            ],
            [
             0.6,
             "#e6f5d0"
            ],
            [
             0.7,
             "#b8e186"
            ],
            [
             0.8,
             "#7fbc41"
            ],
            [
             0.9,
             "#4d9221"
            ],
            [
             1,
             "#276419"
            ]
           ],
           "sequential": [
            [
             0,
             "#0d0887"
            ],
            [
             0.1111111111111111,
             "#46039f"
            ],
            [
             0.2222222222222222,
             "#7201a8"
            ],
            [
             0.3333333333333333,
             "#9c179e"
            ],
            [
             0.4444444444444444,
             "#bd3786"
            ],
            [
             0.5555555555555556,
             "#d8576b"
            ],
            [
             0.6666666666666666,
             "#ed7953"
            ],
            [
             0.7777777777777778,
             "#fb9f3a"
            ],
            [
             0.8888888888888888,
             "#fdca26"
            ],
            [
             1,
             "#f0f921"
            ]
           ],
           "sequentialminus": [
            [
             0,
             "#0d0887"
            ],
            [
             0.1111111111111111,
             "#46039f"
            ],
            [
             0.2222222222222222,
             "#7201a8"
            ],
            [
             0.3333333333333333,
             "#9c179e"
            ],
            [
             0.4444444444444444,
             "#bd3786"
            ],
            [
             0.5555555555555556,
             "#d8576b"
            ],
            [
             0.6666666666666666,
             "#ed7953"
            ],
            [
             0.7777777777777778,
             "#fb9f3a"
            ],
            [
             0.8888888888888888,
             "#fdca26"
            ],
            [
             1,
             "#f0f921"
            ]
           ]
          },
          "colorway": [
           "#636efa",
           "#EF553B",
           "#00cc96",
           "#ab63fa",
           "#FFA15A",
           "#19d3f3",
           "#FF6692",
           "#B6E880",
           "#FF97FF",
           "#FECB52"
          ],
          "font": {
           "color": "#2a3f5f"
          },
          "geo": {
           "bgcolor": "white",
           "lakecolor": "white",
           "landcolor": "#E5ECF6",
           "showlakes": true,
           "showland": true,
           "subunitcolor": "white"
          },
          "hoverlabel": {
           "align": "left"
          },
          "hovermode": "closest",
          "mapbox": {
           "style": "light"
          },
          "paper_bgcolor": "white",
          "plot_bgcolor": "#E5ECF6",
          "polar": {
           "angularaxis": {
            "gridcolor": "white",
            "linecolor": "white",
            "ticks": ""
           },
           "bgcolor": "#E5ECF6",
           "radialaxis": {
            "gridcolor": "white",
            "linecolor": "white",
            "ticks": ""
           }
          },
          "scene": {
           "xaxis": {
            "backgroundcolor": "#E5ECF6",
            "gridcolor": "white",
            "gridwidth": 2,
            "linecolor": "white",
            "showbackground": true,
            "ticks": "",
            "zerolinecolor": "white"
           },
           "yaxis": {
            "backgroundcolor": "#E5ECF6",
            "gridcolor": "white",
            "gridwidth": 2,
            "linecolor": "white",
            "showbackground": true,
            "ticks": "",
            "zerolinecolor": "white"
           },
           "zaxis": {
            "backgroundcolor": "#E5ECF6",
            "gridcolor": "white",
            "gridwidth": 2,
            "linecolor": "white",
            "showbackground": true,
            "ticks": "",
            "zerolinecolor": "white"
           }
          },
          "shapedefaults": {
           "line": {
            "color": "#2a3f5f"
           }
          },
          "ternary": {
           "aaxis": {
            "gridcolor": "white",
            "linecolor": "white",
            "ticks": ""
           },
           "baxis": {
            "gridcolor": "white",
            "linecolor": "white",
            "ticks": ""
           },
           "bgcolor": "#E5ECF6",
           "caxis": {
            "gridcolor": "white",
            "linecolor": "white",
            "ticks": ""
           }
          },
          "title": {
           "x": 0.05
          },
          "xaxis": {
           "automargin": true,
           "gridcolor": "white",
           "linecolor": "white",
           "ticks": "",
           "title": {
            "standoff": 15
           },
           "zerolinecolor": "white",
           "zerolinewidth": 2
          },
          "yaxis": {
           "automargin": true,
           "gridcolor": "white",
           "linecolor": "white",
           "ticks": "",
           "title": {
            "standoff": 15
           },
           "zerolinecolor": "white",
           "zerolinewidth": 2
          }
         }
        },
        "title": {
         "text": "3D Plot of Error vs Time vs Ancilla Qubits (qDRIFT)"
        }
       }
      }
     },
     "metadata": {},
     "output_type": "display_data"
    }
   ],
   "source": [
    "plot_3d_relationship(df=qdrift_df, title_suffix=\"(qDRIFT)\")"
   ]
  }
 ],
 "metadata": {
  "kernelspec": {
   "display_name": "quantum_stuff",
   "language": "python",
   "name": "python3"
  },
  "language_info": {
   "codemirror_mode": {
    "name": "ipython",
    "version": 3
   },
   "file_extension": ".py",
   "mimetype": "text/x-python",
   "name": "python",
   "nbconvert_exporter": "python",
   "pygments_lexer": "ipython3",
   "version": "3.13.1"
  }
 },
 "nbformat": 4,
 "nbformat_minor": 5
}
