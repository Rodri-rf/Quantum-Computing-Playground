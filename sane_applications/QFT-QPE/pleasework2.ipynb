{
 "cells": [
  {
   "cell_type": "code",
   "execution_count": 74,
   "id": "d0504d51",
   "metadata": {},
   "outputs": [],
   "source": [
    "#initialization\n",
    "import matplotlib.pyplot as plt\n",
    "import numpy as np\n",
    "import math\n",
    "from typing import List, Tuple, Dict, Any, Union\n",
    "import scipy\n",
    "import random\n",
    "from functools import reduce\n",
    "\n",
    "from qiskit import transpile\n",
    "from qiskit_aer import AerSimulator  # as of 25Mar2025\n",
    "from qiskit import QuantumCircuit, QuantumRegister, ClassicalRegister\n",
    "from qiskit.circuit.library import QFT, UnitaryGate, PhaseGate, RZGate\n",
    "from qiskit.quantum_info import Operator\n",
    "from sympy import latex, Matrix # for latex display\n",
    "from IPython.display import display, Math\n",
    "from qiskit.quantum_info import Pauli, SparsePauliOp, Operator\n",
    "\n",
    "\n",
    "\n",
    "# import basic plot tools\n",
    "from qiskit.visualization import plot_histogram\n",
    "\n",
    "from algos import *"
   ]
  },
  {
   "cell_type": "code",
   "execution_count": 75,
   "id": "00cb5fdc",
   "metadata": {},
   "outputs": [],
   "source": [
    "def standard_qpe(unitary: Operator, eigenstate: QuantumCircuit, num_ancilla: int) -> QuantumCircuit:\n",
    "    \"\"\"Constructs a standard Quantum Phase Estimation (QPE) circuit using repeated controlled-U applications.\"\"\"\n",
    "    num_qubits = unitary.num_qubits\n",
    "    qc = QuantumCircuit(num_ancilla + num_qubits, num_ancilla)\n",
    "\n",
    "    # Prepare eigenstate on system qubits\n",
    "    qc.append(eigenstate, range(num_ancilla, num_ancilla + num_qubits))\n",
    "\n",
    "    # Apply Hadamard gates to ancilla qubits\n",
    "    qc.h(range(num_ancilla))\n",
    "\n",
    "    # Apply controlled-U^(2^k) using repeated controlled applications of U\n",
    "    for k in range(num_ancilla):\n",
    "        controlled_U = UnitaryGate(unitary.data).control(1, label=f\"U\")\n",
    "        \n",
    "        # Apply controlled-U 2^k times\n",
    "        for _ in range(2**k):  \n",
    "            qc.append(controlled_U, [k] + list(range(num_ancilla, num_ancilla + num_qubits)))\n",
    "\n",
    "    # Apply inverse QFT on ancilla qubits\n",
    "    qc.append(QFT(num_ancilla, inverse=True, do_swaps=True), range(num_ancilla))\n",
    "\n",
    "    # Measure ancilla qubits\n",
    "    qc.measure(range(num_ancilla), range(num_ancilla))\n",
    "\n",
    "    return qc"
   ]
  },
  {
   "cell_type": "markdown",
   "id": "a30c4ced",
   "metadata": {},
   "source": [
    "SANITY CHECK:\n",
    "\n",
    "$$ U = \\begin{pmatrix}\n",
    "                    1 & 0 \\\\\n",
    "                    0 & e^{i\\theta}\n",
    "                \\end{pmatrix} $$\n",
    "\n",
    "So, for $|\\lambda \\rangle = |1\\rangle$  we have $U |1\\rangle = e^{i\\theta} |1\\rangle$ \n",
    "\n",
    "In happy cases, we have $ \\theta = \\frac{2 \\pi k}{2^n} $ where $k$ is an integer and $n$ is the number of ancilla qubits and the number read in the ancila register willbe exactly $k$.\n",
    "\n",
    "Experiments:\n",
    "Let n = 3, so we have 3 ancilla qubits. The possible values of $k$ are $0, 1, 2, 3, 4, 5, 6, 7$.\n",
    "- $k = 1 \\implies \\theta = \\frac{2 \\pi}{8} = \\frac{\\pi}{4}$\n",
    "- $k = 2 \\implies \\theta = \\frac{4 \\pi}{8} = \\frac{\\pi}{2}$\n",
    "- $k = 3 \\implies \\theta = \\frac{6 \\pi}{8} = \\frac{3\\pi}{4}$\n",
    "- $k = 4 \\implies \\theta = \\frac{8 \\pi}{8} = \\pi$\n",
    "- $k = 5 \\implies \\theta = \\frac{10 \\pi}{8} = \\frac{5\\pi}{4}$\n",
    "- $k = 6 \\implies \\theta = \\frac{12 \\pi}{8} = \\frac{3\\pi}{2}$\n",
    "- $k = 7 \\implies \\theta = \\frac{14 \\pi}{8} = \\frac{7\\pi}{4}$\n",
    "..."
   ]
  },
  {
   "cell_type": "code",
   "execution_count": 76,
   "id": "2344be33",
   "metadata": {},
   "outputs": [
    {
     "name": "stdout",
     "output_type": "stream",
     "text": [
      "Most probable outcome for phase 0.7853981633974483: 001\n",
      "Estimated phase: 0.7853981633974483\n",
      "Most probable outcome for phase 1.5707963267948966: 010\n",
      "Estimated phase: 1.5707963267948966\n",
      "Most probable outcome for phase 2.356194490192345: 011\n",
      "Estimated phase: 2.356194490192345\n"
     ]
    }
   ],
   "source": [
    "def test_general_qpe_with_parametrized_phase(phase, expected_bin):\n",
    "    unitary = Operator(PhaseGate(phase))\n",
    "    \n",
    "    eigenstate = QuantumCircuit(1)\n",
    "    eigenstate.x(0)\n",
    "\n",
    "    num_ancilla = 3\n",
    "    shots = 1024\n",
    "    qc = standard_qpe(unitary, eigenstate, num_ancilla)\n",
    "\n",
    "    simulator = AerSimulator()\n",
    "    job = simulator.run(transpile(qc, simulator), shots=shots)\n",
    "    result = job.result()\n",
    "    counts = result.get_counts(qc)\n",
    "    most_probable = max(counts, key=counts.get)\n",
    "    assert most_probable.startswith(expected_bin), f\"Expected prefix {expected_bin}, got {most_probable}\"\n",
    "\n",
    "    plot_histogram(counts).savefig(f\"output_general_phase_{round(phase, 3)}.png\")\n",
    "\n",
    "easy_test_cases = [np.pi/4, np.pi/2, 3*np.pi/4]\n",
    "for phase in easy_test_cases:\n",
    "    U = Operator(PhaseGate(phase))\n",
    "    eigenstate = QuantumCircuit(1)\n",
    "    eigenstate.x(0)\n",
    "    num_ancilla = 3\n",
    "    shots = 1024\n",
    "    qc = standard_qpe(U, eigenstate, num_ancilla)\n",
    "    qc.draw(\"mpl\").savefig(f\"circuit_general_phase_{round(phase, 3)}.png\")\n",
    "\n",
    "    simulator = AerSimulator()\n",
    "    job = simulator.run(transpile(qc, simulator), shots=shots)\n",
    "    result = job.result()\n",
    "    counts = result.get_counts(qc)\n",
    "    most_probable = max(counts, key=counts.get)\n",
    "    print(f\"Most probable outcome for phase {phase}: {most_probable}\")\n",
    "    print(\"Estimated phase:\", math.pi * 2 * int(most_probable, 2) / (2**3))"
   ]
  },
  {
   "cell_type": "markdown",
   "id": "e7b5b654",
   "metadata": {},
   "source": [
    "## Real test: estimating eigenvalues of a Hermitian matrix\n",
    "\n",
    "Let $H$ be a Hermitian matrix. We can use the quantum phase estimation algorithm to estimate the eigenvalues of $H$.\n",
    "\n",
    "Since $H$ is Hermitian, then $e^{iHt}$ is unitary, so we can apply QPE to it. Let $|\\lambda\\rangle$ be an eigenvector of $H$ with eigenvalue $\\lambda$.\n",
    "\n",
    "Then $$e^{iHt}|\\lambda\\rangle = e^{i\\lambda t}|\\lambda\\rangle$$\n",
    "\n",
    "Of course, the measurements of QPE will *not* give us a direct approximation of $\\lambda$, but rather of some \"phase\" $\\theta$ such that $e^{i\\lambda t} = e^{i\\theta}$, i.e. $\\lambda = \\frac{\\theta}{t}$.\n",
    "\n",
    "With this in mind, we can perform two types of tests:\n",
    "\n",
    "1. **exact eigenvalue estimation**: Recall the if the phase $\\theta$ happens to be of the form $\\frac{2\\pi k}{2^n}$, then we can measure the ancilla qubits and get $k$ exactly. This is the case when $H$ has eigenvalues of the form $\\frac{2\\pi k}{t 2^n}$, where $k$ is an integer. In this case, we can measure the ancilla qubits and get $k$ exactly. \n",
    "\n",
    "We can \"force\" this to happen. Let us say we pre-compute all eigenvalues $\\lambda_1,...\\lambda_n$ of $H$ and want to estimate the eigenvalue $\\lambda_i$. Well, we can simply choose $t$ such that $\\lambda_i = \\frac{2\\pi k}{t 2^n}$ for some integer $k$. This is equivalent to choosing $t = \\frac{2\\pi k}{\\lambda_i 2^n}$.\n",
    "\n"
   ]
  },
  {
   "cell_type": "code",
   "execution_count": 77,
   "id": "cbc3f4cb",
   "metadata": {},
   "outputs": [
    {
     "data": {
      "text/latex": [
       "$\\displaystyle \\left[\\begin{matrix}-2.4 & -1.0 & -1.0 & 0\\\\-1.0 & 2.4 & 0 & -1.0\\\\-1.0 & 0 & 2.4 & -1.0\\\\0 & -1.0 & -1.0 & -2.4\\end{matrix}\\right]$"
      ],
      "text/plain": [
       "<IPython.core.display.Math object>"
      ]
     },
     "metadata": {},
     "output_type": "display_data"
    }
   ],
   "source": [
    "# Type aliases\n",
    "coefficient = float\n",
    "Hamiltonian = list[tuple[coefficient, Pauli]]\n",
    "\n",
    "def format_hamiltonian_matrix_as_latex(matrix: np.ndarray):\n",
    "    \"\"\"Formats a matrix as LaTeX.\"\"\"\n",
    "    sympy_matrix = Matrix(matrix)\n",
    "    return latex(sympy_matrix)\n",
    "\n",
    "# example for 2 qubits\n",
    "H = generate_ising_hamiltonian(2, 1.2, 1)\n",
    "H_nice_format = format_hamiltonian_matrix_as_latex(H)\n",
    "display(Math(H_nice_format))"
   ]
  },
  {
   "cell_type": "code",
   "execution_count": 78,
   "id": "3e37ce48",
   "metadata": {},
   "outputs": [
    {
     "data": {
      "text/latex": [
       "$\\displaystyle H = \\mathtt{\\text{(-1+0j)}} \\cdot Z \\otimes Z + \\mathtt{\\text{(-1+0j)}} \\cdot Z \\otimes Z + \\mathtt{\\text{(-0.5+0j)}} \\cdot X \\otimes I + \\mathtt{\\text{(-0.5+0j)}} \\cdot I \\otimes X$"
      ],
      "text/plain": [
       "<IPython.core.display.Math object>"
      ]
     },
     "metadata": {},
     "output_type": "display_data"
    },
    {
     "data": {
      "text/latex": [
       "$\\displaystyle H = - 1.0 I X - 2.0 Z^{2}$"
      ],
      "text/plain": [
       "<IPython.core.display.Math object>"
      ]
     },
     "metadata": {},
     "output_type": "display_data"
    },
    {
     "data": {
      "text/latex": [
       "$\\displaystyle H = \\left[\\begin{matrix}-2.0 & -0.5 & -0.5 & 0\\\\-0.5 & 2.0 & 0 & -0.5\\\\-0.5 & 0 & 2.0 & -0.5\\\\0 & -0.5 & -0.5 & -2.0\\end{matrix}\\right]$"
      ],
      "text/plain": [
       "<IPython.core.display.Math object>"
      ]
     },
     "metadata": {},
     "output_type": "display_data"
    }
   ],
   "source": [
    "import numpy as np\n",
    "import scipy.linalg\n",
    "from qiskit.quantum_info import SparsePauliOp, Operator, Pauli\n",
    "from qiskit.circuit import QuantumCircuit, Gate\n",
    "from sympy import symbols, I, exp, latex, simplify, Matrix\n",
    "from IPython.display import display, Math\n",
    "\n",
    "\n",
    "def pauli_term_to_tensor_product(pauli_str: str) -> str:\n",
    "    \"\"\"\n",
    "    Converts a Pauli string (e.g., 'XI') to an explicit tensor product representation.\n",
    "    \"\"\"\n",
    "    pauli_symbols = {\n",
    "        'I': symbols('I'),\n",
    "        'X': symbols('X'),\n",
    "        'Y': symbols('Y'),\n",
    "        'Z': symbols('Z')\n",
    "    }\n",
    "    \n",
    "    # Construct the tensor product explicitly\n",
    "    term_expr = []\n",
    "    for char in pauli_str:\n",
    "        term_expr.append(pauli_symbols[char])\n",
    "    \n",
    "    # Format as tensor product\n",
    "    tensor_expr = ' \\\\otimes '.join([latex(term) for term in term_expr])\n",
    "    \n",
    "    return tensor_expr\n",
    "\n",
    "\n",
    "def pauli_term_to_simplified(pauli_str: str) -> str:\n",
    "    \"\"\"\n",
    "    Converts a Pauli string (e.g., 'XI') to a simplified symbolic form.\n",
    "    \"\"\"\n",
    "    pauli_symbols = {\n",
    "        'I': symbols('I'),\n",
    "        'X': symbols('X'),\n",
    "        'Y': symbols('Y'),\n",
    "        'Z': symbols('Z')\n",
    "    }\n",
    "    \n",
    "    # Construct the product expression (compact form)\n",
    "    term_expr = 1\n",
    "    for char in pauli_str:\n",
    "        term_expr *= pauli_symbols[char]\n",
    "    \n",
    "    return term_expr\n",
    "\n",
    "\n",
    "def hamiltonian_explicit(H: SparsePauliOp) -> str:\n",
    "    \"\"\"\n",
    "    Construct the Hamiltonian with full tensor product notation.\n",
    "    \"\"\"\n",
    "    pauli_terms = H.to_list()\n",
    "    explicit_terms = []\n",
    "\n",
    "    for pauli_str, coeff in pauli_terms:\n",
    "        tensor_product = pauli_term_to_tensor_product(pauli_str)\n",
    "        # Construct the term explicitly\n",
    "        term_expr = f\"{latex(coeff)} \\\\cdot {tensor_product}\"\n",
    "        explicit_terms.append(term_expr)\n",
    "    \n",
    "    # Join all terms into a single LaTeX string\n",
    "    explicit_hamiltonian = ' + '.join(explicit_terms)\n",
    "    return explicit_hamiltonian\n",
    "\n",
    "\n",
    "def hamiltonian_simplified(H: SparsePauliOp) -> str:\n",
    "    \"\"\"\n",
    "    Construct the Hamiltonian in a simplified symbolic form.\n",
    "    \"\"\"\n",
    "    pauli_terms = H.to_list()\n",
    "    H_sym = 0\n",
    "\n",
    "    for pauli_str, coeff in pauli_terms:\n",
    "        # Construct each term in simplified form\n",
    "        term_expr = coeff * pauli_term_to_simplified(pauli_str)\n",
    "        H_sym += term_expr\n",
    "    \n",
    "    # Simplify the expression to make it more readable\n",
    "    H_sym = simplify(H_sym)\n",
    "    \n",
    "    # Return the LaTeX string representation\n",
    "    return latex(H_sym)\n",
    "\n",
    "def format_hamiltonian_matrix_as_latex(matrix: np.ndarray):\n",
    "    \"\"\"Formats a matrix as LaTeX.\"\"\"\n",
    "    sympy_matrix = Matrix(matrix)\n",
    "    return latex(sympy_matrix)\n",
    "\n",
    "def display_hamiltonian(H: SparsePauliOp):\n",
    "    \"\"\"Display both the explicit tensor product form and the simplified form of the Hamiltonian.\"\"\"\n",
    "    \n",
    "    # Explicit tensor product form\n",
    "    explicit_latex = hamiltonian_explicit(H)\n",
    "    display(Math(f\"H = {explicit_latex}\"))\n",
    "    \n",
    "    # Simplified form\n",
    "    simplified_latex = hamiltonian_simplified(H)\n",
    "    display(Math(f\"H = {simplified_latex}\"))\n",
    "\n",
    "    # matrx representation\n",
    "    matrix = H.to_matrix()\n",
    "    matrix_latex = format_hamiltonian_matrix_as_latex(matrix)\n",
    "    display(Math(f\"H = {matrix_latex}\"))\n",
    "\n",
    "\n",
    "# Example Usage:\n",
    "num_qubits = 2\n",
    "J = 1.0\n",
    "g = 0.5\n",
    "time = 1.0\n",
    "\n",
    "# Generate Hamiltonian\n",
    "H = generate_ising_hamiltonian(num_qubits, J, g)\n",
    "\n",
    "# Display the Hamiltonian as a sum of Pauli terms\n",
    "display_hamiltonian(H)\n"
   ]
  },
  {
   "cell_type": "code",
   "execution_count": 79,
   "id": "5347eea8",
   "metadata": {},
   "outputs": [
    {
     "data": {
      "text/latex": [
       "$\\displaystyle \\left[\\begin{matrix}1.88595346215202 & 0.502417773299496 & 0 & 0\\\\0.502417773299496 & 0.512471809056881 & 0 & 0\\\\0 & 0 & 0.472097097811866 & 0.502417773299496\\\\0 & 0 & 0.502417773299496 & -0.901384555283276\\end{matrix}\\right]$"
      ],
      "text/plain": [
       "<IPython.core.display.Math object>"
      ]
     },
     "metadata": {},
     "output_type": "display_data"
    },
    {
     "data": {
      "text/latex": [
       "$\\displaystyle H = \\mathtt{\\text{(0.492284453434374+0j)}} \\cdot I \\otimes I + \\mathtt{\\text{(0.6867408265475715+0j)}} \\cdot I \\otimes Z + \\mathtt{\\text{(0.7069281821700789+0j)}} \\cdot Z \\otimes I + \\mathtt{\\text{(0.5024177732994957+0j)}} \\cdot I \\otimes X$"
      ],
      "text/plain": [
       "<IPython.core.display.Math object>"
      ]
     },
     "metadata": {},
     "output_type": "display_data"
    },
    {
     "data": {
      "text/latex": [
       "$\\displaystyle H = I \\left(0.492284453434374 I + 0.502417773299496 X + 1.39366900871765 Z\\right)$"
      ],
      "text/plain": [
       "<IPython.core.display.Math object>"
      ]
     },
     "metadata": {},
     "output_type": "display_data"
    },
    {
     "data": {
      "text/latex": [
       "$\\displaystyle H = \\left[\\begin{matrix}1.88595346215202 & 0.502417773299496 & 0 & 0\\\\0.502417773299496 & 0.512471809056881 & 0 & 0\\\\0 & 0 & 0.472097097811866 & 0.502417773299496\\\\0 & 0 & 0.502417773299496 & -0.901384555283276\\end{matrix}\\right]$"
      ],
      "text/plain": [
       "<IPython.core.display.Math object>"
      ]
     },
     "metadata": {},
     "output_type": "display_data"
    }
   ],
   "source": [
    "# Function to generate a random Hamiltonian\n",
    "def generate_random_hamiltonian(num_qubits, num_terms) -> Hamiltonian:\n",
    "    pauli_matrices = [Pauli('X'), Pauli('Z'), Pauli('I')]\n",
    "    hamiltonian_terms = []\n",
    "    for _ in range(num_terms):\n",
    "        pauli_string = reduce(lambda x, y: x.tensor(y), random.choices(pauli_matrices, k=num_qubits))\n",
    "        hamiltonian_terms.append((random.uniform(0, 1), pauli_string)) # The first element is the coefficient\n",
    "    return hamiltonian_terms\n",
    "\n",
    "\n",
    "def construct_hamiltonian(hamiltonian_terms: Hamiltonian) -> SparsePauliOp:\n",
    "    \"\"\"Constructs the full Hamiltonian as a SparsePauliOp.\"\"\"\n",
    "    return SparsePauliOp([term[1] for term in hamiltonian_terms], coeffs=[term[0] for term in hamiltonian_terms])\n",
    "\n",
    "\n",
    "H_terms = generate_random_hamiltonian(2, 4)\n",
    "H = construct_hamiltonian(H_terms)\n",
    "\n",
    "H_nice_format = format_hamiltonian_matrix_as_latex(H.to_matrix())\n",
    "display(Math(H_nice_format))\n",
    "\n",
    "display_hamiltonian(H)"
   ]
  },
  {
   "cell_type": "code",
   "execution_count": 80,
   "id": "f3199d8f",
   "metadata": {},
   "outputs": [],
   "source": [
    "def matrix_exponential_explicit(H: SparsePauliOp, time: float):\n",
    "    \"\"\"\n",
    "    Computes the matrix exponential in its full matrix form using SciPy.\n",
    "\n",
    "    Args:\n",
    "        H (SparsePauliOp): The Hamiltonian as a Qiskit SparsePauliOp object.\n",
    "        time (float): The evolution time.\n",
    "\n",
    "    Returns:\n",
    "        str: LaTeX string of the matrix exponential in explicit matrix form.\n",
    "    \"\"\"\n",
    "    # Convert Hamiltonian to matrix form\n",
    "    H_matrix = H.to_matrix()\n",
    "    \n",
    "    # Compute the matrix exponential using SciPy\n",
    "    U_matrix = scipy.linalg.expm(1j * time * H_matrix)\n",
    "    \n",
    "    # Convert to SymPy matrix for LaTeX rendering\n",
    "    sympy_matrix = Matrix(U_matrix)\n",
    "    latex_matrix = latex(sympy_matrix)\n",
    "    \n",
    "    # Display the matrix form\n",
    "    display(Math(f\"U(t) = {latex_matrix}\"))\n",
    "    \n",
    "    return latex_matrix, Operator(U_matrix)"
   ]
  },
  {
   "cell_type": "code",
   "execution_count": 81,
   "id": "4d644ce4",
   "metadata": {},
   "outputs": [],
   "source": [
    "from qiskit import QuantumCircuit\n",
    "from qiskit.circuit.library import Initialize\n",
    "from qiskit.quantum_info import Statevector\n",
    "import numpy as np\n",
    "\n",
    "def prepare_ground_state_circuit(ground_state: np.ndarray) -> QuantumCircuit:\n",
    "    \"\"\"\n",
    "    Prepare a quantum circuit that initializes the ground state.\n",
    "    \n",
    "    Args:\n",
    "        ground_state (np.ndarray): State vector representing the ground state.\n",
    "\n",
    "    Returns:\n",
    "        QuantumCircuit: Circuit that prepares the ground state.\n",
    "    \"\"\"\n",
    "    num_qubits = int(np.log2(len(ground_state)))\n",
    "    if 2 ** num_qubits != len(ground_state):\n",
    "        raise ValueError(\"The length of the state vector must be a power of 2.\")\n",
    "\n",
    "    # Normalize the state vector\n",
    "    ground_state = ground_state / np.linalg.norm(ground_state)\n",
    "\n",
    "    # Initialize circuit\n",
    "    qc = QuantumCircuit(num_qubits)\n",
    "    init_gate = Initialize(ground_state)\n",
    "    qc.append(init_gate, range(num_qubits))\n",
    "\n",
    "    # Optional: Simplify the circuit using transpile\n",
    "    # from qiskit import transpile\n",
    "    # qc = transpile(qc, optimization_level=3)\n",
    "\n",
    "    qc.barrier()\n",
    "    return qc"
   ]
  },
  {
   "cell_type": "code",
   "execution_count": null,
   "id": "e1048917",
   "metadata": {},
   "outputs": [
    {
     "data": {
      "text/latex": [
       "$\\displaystyle H = \\mathtt{\\text{(-1.2+0j)}} \\cdot Z \\otimes Z + \\mathtt{\\text{(-1.2+0j)}} \\cdot Z \\otimes Z + \\mathtt{\\text{(-1+0j)}} \\cdot X \\otimes I + \\mathtt{\\text{(-1+0j)}} \\cdot I \\otimes X$"
      ],
      "text/plain": [
       "<IPython.core.display.Math object>"
      ]
     },
     "metadata": {},
     "output_type": "display_data"
    },
    {
     "data": {
      "text/latex": [
       "$\\displaystyle H = - 2.0 I X - 2.4 Z^{2}$"
      ],
      "text/plain": [
       "<IPython.core.display.Math object>"
      ]
     },
     "metadata": {},
     "output_type": "display_data"
    },
    {
     "data": {
      "text/latex": [
       "$\\displaystyle H = \\left[\\begin{matrix}-2.4 & -1.0 & -1.0 & 0\\\\-1.0 & 2.4 & 0 & -1.0\\\\-1.0 & 0 & 2.4 & -1.0\\\\0 & -1.0 & -1.0 & -2.4\\end{matrix}\\right]$"
      ],
      "text/plain": [
       "<IPython.core.display.Math object>"
      ]
     },
     "metadata": {},
     "output_type": "display_data"
    },
    {
     "name": "stdout",
     "output_type": "stream",
     "text": [
      "Ground state: [0.66487241-0.j 0.24071701-0.j 0.24071701-0.j 0.66487241+0.j], Ground energy: (-3.1240998703626617+0j)\n",
      "For k=1, t=(-1.579591692109325-0j), phase=(0.7853981633974483+0j)\n"
     ]
    },
    {
     "data": {
      "text/latex": [
       "$\\displaystyle U(t) = \\left[\\begin{matrix}-0.287923076245574 - 0.677014453255109 i & 1.90733464193584 \\cdot 10^{-17} - 0.31220767983016 i & 5.90072061125983 \\cdot 10^{-17} - 0.31220767983016 i & 0.508507116995273 - 0.0722839783372761 i\\\\4.56958339533722 \\cdot 10^{-17} - 0.31220767983016 i & -0.287923076245574 + 0.677014453255109 i & 0.508507116995273 + 0.072283978337276 i & -8.2573653669146 \\cdot 10^{-17} - 0.312207679830161 i\\\\-1.09478360501996 \\cdot 10^{-16} - 0.31220767983016 i & 0.508507116995273 + 0.0722839783372759 i & -0.287923076245574 + 0.677014453255108 i & -2.50153426499144 \\cdot 10^{-16} - 0.31220767983016 i\\\\0.508507116995273 - 0.0722839783372761 i & -6.02070250070444 \\cdot 10^{-17} - 0.31220767983016 i & 5.18883717397482 \\cdot 10^{-17} - 0.31220767983016 i & -0.287923076245574 - 0.677014453255109 i\\end{matrix}\\right]$"
      ],
      "text/plain": [
       "<IPython.core.display.Math object>"
      ]
     },
     "metadata": {},
     "output_type": "display_data"
    },
    {
     "name": "stdout",
     "output_type": "stream",
     "text": [
      "Expected most probable outcome: 001\n",
      "Most probable outcome for k=1: 110\n",
      "For k=2, t=(-3.15918338421865-0j), phase=(1.5707963267948966+0j)\n"
     ]
    },
    {
     "data": {
      "text/latex": [
       "$\\displaystyle U(t) = \\left[\\begin{matrix}-0.317041628260883 + 0.316342333229379 i & -1.96128326183981 \\cdot 10^{-16} - 0.13773606314005 i & -2.23519673999725 \\cdot 10^{-16} - 0.13773606314005 i & -0.585643733672188 - 0.646908884765499 i\\\\-2.58096138216626 \\cdot 10^{-16} - 0.13773606314005 i & -0.317041628260883 - 0.316342333229379 i & -0.585643733672188 + 0.646908884765498 i & -2.63455219433029 \\cdot 10^{-16} - 0.13773606314005 i\\\\-3.02331297687567 \\cdot 10^{-16} - 0.13773606314005 i & -0.585643733672187 + 0.646908884765498 i & -0.317041628260882 - 0.316342333229378 i & -2.79772053028211 \\cdot 10^{-16} - 0.13773606314005 i\\\\-0.585643733672188 - 0.646908884765499 i & -1.62314599817905 \\cdot 10^{-16} - 0.13773606314005 i & -3.36999408673688 \\cdot 10^{-16} - 0.13773606314005 i & -0.317041628260883 + 0.316342333229379 i\\end{matrix}\\right]$"
      ],
      "text/plain": [
       "<IPython.core.display.Math object>"
      ]
     },
     "metadata": {},
     "output_type": "display_data"
    },
    {
     "name": "stdout",
     "output_type": "stream",
     "text": [
      "Expected most probable outcome: 010\n",
      "Most probable outcome for k=2: 101\n"
     ]
    }
   ],
   "source": [
    "# Parameters for the Ising model\n",
    "NUM_QUBITS = 2\n",
    "J = 1.2\n",
    "G = 1.0\n",
    "\n",
    "def test_qpe_ising_hamiltonian_nice_phase(num_ancilla):\n",
    "    # Generate Ising Hamiltonian\n",
    "    H = generate_ising_hamiltonian(NUM_QUBITS, J, G)\n",
    "    display_hamiltonian(H)\n",
    "    ground_state, ground_energy = calculate_ground_state_and_energy(H)\n",
    "    print(f\"Ground state: {ground_state}, Ground energy: {ground_energy}\")\n",
    "    eigenstate_circuit = prepare_ground_state_circuit(ground_state)\n",
    "    for k in range(1, num_ancilla):\n",
    "        t = (4 * math.pi ** 2 * k) / (2**num_ancilla * ground_energy)\n",
    "        phase = t * ground_energy / (2 * math.pi)\n",
    "        print(f\"For k={k}, t={t}, phase={phase}\")\n",
    "        U_latex, U = matrix_exponential_explicit(H=H, time=t)\n",
    "        expected_bin = bin(k)[2:].zfill(num_ancilla)\n",
    "        print(f\"Expected most probable outcome: {expected_bin}\")\n",
    "        qc = standard_qpe(U, eigenstate_circuit, num_ancilla)\n",
    "        qc.draw(\"mpl\").savefig(f\"circuit_qpe_ising_{k}.png\")\n",
    "        simulator = AerSimulator()\n",
    "        job = simulator.run(transpile(qc, simulator), shots=1024)\n",
    "        result = job.result()\n",
    "        counts = result.get_counts(qc)\n",
    "        most_probable = max(counts, key=counts.get)\n",
    "        print(f\"Most probable outcome for k={k}: {most_probable}\")\n",
    "\n",
    "    \n",
    "test_qpe_ising_hamiltonian_nice_phase(3)"
   ]
  },
  {
   "cell_type": "code",
   "execution_count": 83,
   "id": "174e535e",
   "metadata": {},
   "outputs": [],
   "source": [
    "\n",
    "# Function to sample unitaries from the qDRIFT distribution\n",
    "def qdrift_sample(hamiltonian_terms: list[tuple[coefficient, Pauli]], time, num_samples) -> tuple[list[Operator], list[str]]:\n",
    "    lam = sum(abs(term[0]) for term in hamiltonian_terms)\n",
    "    tau = time  * lam / num_samples\n",
    "    sampled_unitaries = []\n",
    "    hamiltonian_specific_pmf = [abs(coeff) for coeff, _ in hamiltonian_terms]\n",
    "    num_terms = len(hamiltonian_terms)\n",
    "    labels = []\n",
    "    for _ in range(num_samples):\n",
    "        j = random.choices(range(num_terms), weights=hamiltonian_specific_pmf, k=1)[0]\n",
    "        h_j = hamiltonian_terms[j][1]\n",
    "        v = scipy.linalg.expm(1j * tau * h_j.to_matrix())\n",
    "        sampled_unitaries.append(v)\n",
    "        # Format the label as LaTeX\n",
    "        labels.append(f\"$e^{{i\\\\cdot \\\\tau \\\\cdot H_{j}}}$\")\n",
    "    return sampled_unitaries, labels\n",
    "\n",
    "# Function to construct controlled unitaries\n",
    "def construct_controlled_unitary(sampled_unitaries, labels):\n",
    "    controlled_unitaries = []\n",
    "    for unitary, label in zip(sampled_unitaries, labels):\n",
    "        controlled_unitary = UnitaryGate(unitary, label=label).control(1)\n",
    "        controlled_unitaries.append(controlled_unitary)\n",
    "    return controlled_unitaries\n",
    "\n",
    "# Function to perform qDRIFT-based QPE\n",
    "def qdrift_qpe(hamiltonian_terms, time, eigenstate, num_qubits, num_ancilla):\n",
    "    # Initialize the quantum circuit\n",
    "    qc = QuantumCircuit(num_ancilla + num_qubits, num_ancilla)\n",
    "    \n",
    "    # Prepare the eigenstate on the system qubits\n",
    "    if isinstance(eigenstate, np.ndarray):\n",
    "        eigenstate_circuit = QuantumCircuit(num_qubits, name=f'eigenstate')\n",
    "        eigenstate_circuit.initialize(eigenstate)\n",
    "    else:\n",
    "        eigenstate_circuit = eigenstate\n",
    "    \n",
    "    qc.append(eigenstate_circuit, range(num_ancilla, num_ancilla + num_qubits))\n",
    "    \n",
    "    # Apply QFT to the ancilla qubits\n",
    "    qc.append(QFT(num_ancilla), range(num_ancilla ))\n",
    "    \n",
    "    # Perform controlled qDRIFT unitaries\n",
    "    for k in range(num_ancilla):\n",
    "        for _ in range(2**k):\n",
    "            # Sample unitaries from qDRIFT distribution\n",
    "            sampled_unitaries, labels = qdrift_sample(hamiltonian_terms=hamiltonian_terms, time=time, num_samples=1)\n",
    "            # Construct controlled unitaries\n",
    "            controlled_unitaries = construct_controlled_unitary(sampled_unitaries, labels)\n",
    "            # Apply controlled unitaries\n",
    "            for controlled_unitary in controlled_unitaries:\n",
    "                # apply controlled unitary such that the control qubit is ancilla qubit k\n",
    "                qc.append(controlled_unitary, [k] + list(range(num_ancilla, num_ancilla + num_qubits)))\n",
    "    # Apply inverse QFT\n",
    "    qc.append(QFT(num_ancilla, inverse=True), range(num_ancilla))\n",
    "    \n",
    "    # Measure the ancilla qubits\n",
    "    qc.measure(range(num_ancilla), range(num_ancilla))\n",
    "    \n",
    "    return qc\n"
   ]
  },
  {
   "cell_type": "code",
   "execution_count": 84,
   "id": "630d1f40",
   "metadata": {},
   "outputs": [
    {
     "name": "stdout",
     "output_type": "stream",
     "text": [
      "Hamiltonian: SparsePauliOp(['IZ', 'ZI', 'IX', 'ZI'],\n",
      "              coeffs=[0.21801041+0.j, 0.1079477 +0.j, 0.11972848+0.j, 0.24774583+0.j])\n",
      "Ground state: [ 0.        +0.j  0.        +0.j -0.24847872+0.j  0.96863735+0.j]\n",
      "Ground energy: (-0.6044171616721654+0j)\n"
     ]
    }
   ],
   "source": [
    "num_qubits = 2\n",
    "num_ancilla = 4\n",
    "time = 1\n",
    "\n",
    "# Generate Hamiltonian\n",
    "H_terms = generate_random_hamiltonian(num_qubits=num_qubits, num_terms=4)\n",
    "H = construct_hamiltonian(H_terms)\n",
    "print(f\"Hamiltonian: {H}\")\n",
    "\n",
    "# Calculate the eigenvalues of the Hamiltonian\n",
    "ground_state, ground_energy = calculate_ground_state_and_energy(H)\n",
    "print(\"Ground state:\", ground_state)\n",
    "print(\"Ground energy:\", ground_energy)\n",
    "ground_state_circuit = prepare_ground_state_circuit(ground_state)\n",
    "\n",
    "qc_qdrift_qpe = qdrift_qpe(hamiltonian_terms=H_terms, time=time, eigenstate=ground_state, num_ancilla=num_ancilla, num_qubits=num_qubits)\n",
    "\n",
    "U = exponentiate_hamiltonian(H, time)\n",
    "qc_qpe = standard_qpe(U, ground_state_circuit, num_ancilla)"
   ]
  },
  {
   "cell_type": "code",
   "execution_count": 85,
   "id": "36a0a59c",
   "metadata": {},
   "outputs": [
    {
     "data": {
      "image/png": "[encoded data removed]",
      "text/plain": [
       "<Figure size 640x480 with 1 Axes>"
      ]
     },
     "execution_count": 85,
     "metadata": {},
     "output_type": "execute_result"
    }
   ],
   "source": [
    "# test regular QPE first\n",
    "simulator = AerSimulator()\n",
    "job = simulator.run(transpile(qc_qpe, simulator), shots=1024)\n",
    "result = job.result()\n",
    "counts = result.get_counts(qc_qpe)\n",
    "plot_histogram(counts)"
   ]
  },
  {
   "cell_type": "code",
   "execution_count": 86,
   "id": "3b441a42",
   "metadata": {},
   "outputs": [
    {
     "data": {
      "image/png": "[encoded data removed]",
      "text/plain": [
       "<Figure size 640x480 with 1 Axes>"
      ]
     },
     "execution_count": 86,
     "metadata": {},
     "output_type": "execute_result"
    }
   ],
   "source": [
    "simulator = AerSimulator()\n",
    "job = simulator.run(transpile(qc_qdrift_qpe, simulator), shots=1024)\n",
    "result = job.result()\n",
    "counts_qdrift = result.get_counts(qc_qdrift_qpe)\n",
    "plot_histogram(counts_qdrift)\n"
   ]
  },
  {
   "cell_type": "code",
   "execution_count": 87,
   "id": "866776b0",
   "metadata": {},
   "outputs": [
    {
     "name": "stdout",
     "output_type": "stream",
     "text": [
      "Most frequent bitstring (qdrift):1110 (as int: 14)\n",
      "Estimated phase: 0.875\n",
      "Estimated eigenvalue: 5.497787143782138\n",
      "Real eigenvalue: (-0.6044171616721654+0j)\n"
     ]
    }
   ],
   "source": [
    "most_frequent_bitstring = max(counts_qdrift, key=counts_qdrift.get)\n",
    "print(f\"Most frequent bitstring (qdrift):{most_frequent_bitstring} (as int: {int(most_frequent_bitstring, 2)})\")\n",
    "print(\"Estimated phase:\", int(most_frequent_bitstring, 2) / (2**num_ancilla))\n",
    "print(f\"Estimated eigenvalue: {2 * math.pi * int(most_frequent_bitstring, 2) / (2**num_ancilla * time)}\")\n",
    "print(f\"Real eigenvalue: {ground_energy}\")"
   ]
  },
  {
   "cell_type": "code",
   "execution_count": 88,
   "id": "1474372f",
   "metadata": {},
   "outputs": [
    {
     "name": "stdout",
     "output_type": "stream",
     "text": [
      "Most frequent bitstring (regular QPE):1110 (as int: 14)\n",
      "Estimated phase: 0.875\n",
      "Estimated eigenvalue: 5.497787143782138\n",
      "Real eigenvalue: (-0.6044171616721654+0j)\n"
     ]
    }
   ],
   "source": [
    "most_frequent_bitstring = max(counts, key=counts.get)\n",
    "print(f\"Most frequent bitstring (regular QPE):{most_frequent_bitstring} (as int: {int(most_frequent_bitstring, 2)})\")\n",
    "print(\"Estimated phase:\", int(most_frequent_bitstring, 2) / (2**num_ancilla))\n",
    "print(f\"Estimated eigenvalue: {2 * math.pi * int(most_frequent_bitstring, 2) / (2**num_ancilla * time)}\")\n",
    "print(f\"Real eigenvalue: {ground_energy}\")"
   ]
  },
  {
   "cell_type": "markdown",
   "id": "3b0bb32c",
   "metadata": {},
   "source": []
  }
 ],
 "metadata": {
  "kernelspec": {
   "display_name": "quantum_stuff",
   "language": "python",
   "name": "python3"
  },
  "language_info": {
   "codemirror_mode": {
    "name": "ipython",
    "version": 3
   },
   "file_extension": ".py",
   "mimetype": "text/x-python",
   "name": "python",
   "nbconvert_exporter": "python",
   "pygments_lexer": "ipython3",
   "version": "3.13.1"
  }
 },
 "nbformat": 4,
 "nbformat_minor": 5
}
