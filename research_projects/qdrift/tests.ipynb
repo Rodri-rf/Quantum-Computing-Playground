{
 "cells": [
  {
   "cell_type": "code",
   "execution_count": 1,
   "metadata": {},
   "outputs": [],
   "source": [
    "from qiskit.synthesis import QDrift\n",
    "from qiskit.circuit.library import PauliEvolutionGate\n",
    "from qiskit import QuantumCircuit\n",
    "from qiskit.quantum_info import Pauli\n"
   ]
  },
  {
   "cell_type": "code",
   "execution_count": 7,
   "metadata": {},
   "outputs": [
    {
     "data": {
      "image/png": "[encoded data removed]",
      "text/plain": [
       "<Figure size 287.294x200.667 with 1 Axes>"
      ]
     },
     "execution_count": 7,
     "metadata": {},
     "output_type": "execute_result"
    }
   ],
   "source": [
    "# Define the Hamiltonian\n",
    "XX = Pauli('XX')\n",
    "YY = Pauli('YY')\n",
    "ZZ = Pauli('ZZ')\n",
    "a = 1\n",
    "b = -1\n",
    "c = 1\n",
    "# A simple Hamiltonian: a XX + b YY + c ZZ. Use the appropriate Pauli compose method to do this.\n",
    "hamiltonian = a * YY.compose(b*XX)\n",
    "reps = 10\n",
    "time = 1\n",
    "\n",
    "evo_gate = PauliEvolutionGate(hamiltonian, time, synthesis=QDrift(reps=reps))\n",
    "\n",
    "qc = QuantumCircuit(2)\n",
    "qc.append(evo_gate, [0, 1])\n",
    "\n",
    "qc.draw('mpl')"
   ]
  },
  {
   "cell_type": "code",
   "execution_count": 12,
   "metadata": {},
   "outputs": [
    {
     "data": {
      "text/plain": [
       "FermionicOp({'+_0 -_1': -1, '+_1 -_0': -1, '+_0 -_0 +_1 -_1': 1}, num_spin_orbitals=2, )"
      ]
     },
     "execution_count": 12,
     "metadata": {},
     "output_type": "execute_result"
    }
   ],
   "source": [
    "# Sexier Hamiltonian: Hubbard model\n",
    "from qiskit_nature.second_q.operators import FermionicOp\n",
    "\n",
    "'''A FermionicOp represents a weighted sum of fermionic creation/annihilation operator terms. \n",
    "These terms are encoded as sparse labels, which are strings consisting of a space-separated \n",
    "list of expressions. Each expression must look like [+-]_<index>, where the <index> is a \n",
    "non-negative integer representing the index of the fermionic mode where the + (creation) \n",
    "or - (annihilation) operation is to be performed. The value of index is bound by the number of spin orbitals \n",
    "(num_spin_orbitals) of the operator '''\n",
    "\n",
    "# Define the one-body interactions (kinetic term)\n",
    "t = 1 # hopping term\n",
    "one_body_interactions = FermionicOp({\"+_0 -_1\": -t, \"+_1 -_0\": -t})\n",
    "\n",
    "# Define the two-body interactions (interaction term)\n",
    "U = 1 # Coulomb repulsion\n",
    "two_body_interactions = FermionicOp({\"+_0 -_0 +_1 -_1\": U})\n",
    "\n",
    "# Define the Hubbard Hamiltonian\n",
    "H = one_body_interactions + two_body_interactions\n",
    "\n",
    "\n",
    "H\n"
   ]
  },
  {
   "cell_type": "code",
   "execution_count": 16,
   "metadata": {},
   "outputs": [
    {
     "data": {
      "text/plain": [
       "SparsePauliOp(['YY', 'XX', 'II', 'ZI', 'IZ', 'ZZ'],\n",
       "              coeffs=[-0.5 +0.j, -0.5 +0.j,  0.25+0.j, -0.25+0.j, -0.25+0.j,  0.25+0.j])"
      ]
     },
     "execution_count": 16,
     "metadata": {},
     "output_type": "execute_result"
    }
   ],
   "source": [
    "# Convert Fermionic hamiltonian to pauli operators using the Jordan-Wigner transformation\n",
    "from qiskit_nature.second_q.mappers import JordanWignerMapper\n",
    "\n",
    "mapper = JordanWignerMapper()\n",
    "\n",
    "qubit_op = mapper.map(H)\n",
    "\n",
    "qubit_op\n",
    "\n"
   ]
  },
  {
   "cell_type": "code",
   "execution_count": 33,
   "metadata": {},
   "outputs": [
    {
     "data": {
      "text/plain": [
       "-0.9999999999999998"
      ]
     },
     "execution_count": 33,
     "metadata": {},
     "output_type": "execute_result"
    }
   ],
   "source": [
    "# calculate exact energy(eigenvalues) of the Hamiltonian\n",
    "from qiskit_algorithms import NumPyEigensolver\n",
    "\n",
    "exact_eigensolver = NumPyEigensolver()\n",
    "result = exact_eigensolver.compute_eigenvalues(qubit_op)\n",
    "exact_energy = result.eigenvalues[0].real\n",
    "exact_energy\n"
   ]
  },
  {
   "cell_type": "code",
   "execution_count": 35,
   "metadata": {},
   "outputs": [
    {
     "data": {
      "image/png": "[encoded data removed]",
      "text/plain": [
       "<Figure size 621.941x284.278 with 1 Axes>"
      ]
     },
     "execution_count": 35,
     "metadata": {},
     "output_type": "execute_result"
    }
   ],
   "source": [
    "# Approximate hamilonian using QDrift\n",
    "reps = 10\n",
    "time = 1\n",
    "evo_gate_qdrift = PauliEvolutionGate(qubit_op, time, synthesis=QDrift(reps=reps))\n",
    "\n",
    "qc_qdrift = QuantumCircuit(3)\n",
    "# need a control qubit for the evolution gate\n",
    "qc_qdrift.h(0)\n",
    "qc_qdrift.append(evo_gate, [1, 2])\n",
    "\n",
    "qc_qdrift.draw('mpl')\n"
   ]
  },
  {
   "cell_type": "code",
   "execution_count": 38,
   "metadata": {},
   "outputs": [],
   "source": [
    "# Use Quantum phase estimation to estimate the ground state energy (eigenvalue) of the Hamiltonian\n",
    "\n",
    "from qiskit_algorithms.optimizers import L_BFGS_B # optimizer suggested for VQE\n",
    "from qiskit.primitives import Estimator # Estimator to estimate the expectation value of the Hamiltonian\n",
    "\n",
    "optimizer = L_BFGS_B()\n",
    "estimator = Estimator()\n",
    "\n",
    "# setup the ansatz for VQE. This is our \"guess\" for the ground state of the Hamiltonian. UCSSD is a common choice, recommended by qiskit_nature\n",
    "from qiskit_nature.second_q.circuit.library import HartreeFock, UCCSD\n",
    "\n",
    "num_spin_orbitals = 2\n",
    "num_particles = (1, 1)\n",
    "qubit_mapping = JordanWignerMapper()\n",
    "two_qubit_reduction = False\n",
    "z2symmetry_reduction = None\n",
    "\n",
    "initial_state = HartreeFock(num_spin_orbitals, num_particles, qubit_mapping)\n",
    "\n",
    "ansatz = UCCSD(num_spin_orbitals, num_particles, qubit_mapping)\n",
    "\n",
    "# setup the VQE algorithm\n",
    "from qiskit_algorithms import VQE\n",
    "\n",
    "vqe = VQE(estimator=estimator, optimizer=optimizer, ansatz=ansatz)\n",
    "# ensure that the optimizer starts in the all-zero state which corresponds to\n",
    "# the Hartree-Fock starting point\n",
    "vqe.initial_point = [0] * ansatz.num_parameters"
   ]
  },
  {
   "cell_type": "code",
   "execution_count": null,
   "metadata": {},
   "outputs": [
    {
     "ename": "",
     "evalue": "",
     "output_type": "error",
     "traceback": [
      "\u001b[1;31mRunning cells with 'Python 3.11.7' requires the ipykernel package.\n",
      "\u001b[1;31mRun the following command to install 'ipykernel' into the Python environment. \n",
      "\u001b[1;31mCommand: 'c:/msys64/ucrt64/bin/python3.exe -m pip install ipykernel -U --user --force-reinstall'"
     ]
    }
   ],
   "source": [
    "# Baby's first phase estimation + qDRIFT\n",
    "from qiskit.quantum_info import Pauli, Operator\n",
    "import random\n",
    "from functools import reduce\n",
    "import numpy as np\n",
    "from qiskit import QuantumCircuit\n",
    "\n",
    "def generate_random_hamiltonian(num_qubits, num_terms):\n",
    "    # Generate a random Pauli string\n",
    "    pauli_matrices = [Pauli('X'), Pauli('Y'), Pauli('Z'), Pauli('I')]\n",
    "    hamiltonian_terms = []\n",
    "    for _ in range(num_terms):\n",
    "        pauli_string = reduce(lambda x, y: x.tensor(y), random.choices(pauli_matrices, k=num_qubits))\n",
    "        hamiltonian_terms.append((random.uniform(-1, 1), pauli_string))\n",
    "    return hamiltonian_terms\n",
    "\n",
    "def qdrift_channel(hamiltonian_terms, time, num_samples):\n",
    "    for term in hamiltonian_terms:\n",
    "        assert isinstance(term[1], Pauli)\n",
    "\n",
    "    l = sum(term[0] for term in hamiltonian_terms)\n",
    "    tau = time * l / num_samples\n",
    "    v_lst = []\n",
    "    hamiltonian_specific_pmf = [abs(coeff) / l for coeff, _ in hamiltonian_terms]\n",
    "    for i in range(num_samples):\n",
    "        j = random.choices(range(num_terms), weights=hamiltonian_specific_pmf, k=1)[0]\n",
    "        # append e^{i*l*hamltonian_terms[j][1]} to v_lst\n",
    "        \n",
    "        v = (1j * l * hamiltonian_terms[j][1]).exp_i()\n",
    "\n",
    "        # perform phase estimation\n",
    "        qpe_circuit = QuantumCircuit()"
   ]
  }
 ],
 "metadata": {
  "kernelspec": {
   "display_name": "Python 3",
   "language": "python",
   "name": "python3"
  },
  "language_info": {
   "codemirror_mode": {
    "name": "ipython",
    "version": 3
   },
   "file_extension": ".py",
   "mimetype": "text/x-python",
   "name": "python",
   "nbconvert_exporter": "python",
   "pygments_lexer": "ipython3",
   "version": "3.11.7"
  }
 },
 "nbformat": 4,
 "nbformat_minor": 2
}
