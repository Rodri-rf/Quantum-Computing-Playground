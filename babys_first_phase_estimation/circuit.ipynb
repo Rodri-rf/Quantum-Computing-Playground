{
 "cells": [
  {
   "cell_type": "code",
   "execution_count": 8,
   "metadata": {},
   "outputs": [],
   "source": [
    "from qiskit import QuantumCircuit\n",
    "from qiskit.quantum_info import Pauli\n",
    "from qiskit.circuit.library import UnitaryGate\n",
    "import numpy as np\n",
    "from numpy import linalg "
   ]
  },
  {
   "cell_type": "code",
   "execution_count": 9,
   "metadata": {},
   "outputs": [
    {
     "data": {
      "image/png": "[encoded data removed]",
      "text/plain": [
       "<Figure size 203.683x200.667 with 1 Axes>"
      ]
     },
     "execution_count": 9,
     "metadata": {},
     "output_type": "execute_result"
    }
   ],
   "source": [
    "# for 2 qubits\n",
    "qc = QuantumCircuit(2)\n",
    "\n",
    "# Apply H-gate to the first qubit:\n",
    "qc.h(0)\n",
    "\n",
    "\n",
    "qc.draw('mpl')"
   ]
  },
  {
   "cell_type": "code",
   "execution_count": 12,
   "metadata": {},
   "outputs": [
    {
     "name": "stdout",
     "output_type": "stream",
     "text": [
      "Eigenvalues: [0.-1.j 0.-1.j] \n",
      "\n",
      "Eigenvectors: [[1.+0.j 0.+0.j]\n",
      " [0.+0.j 1.+0.j]]\n"
     ]
    },
    {
     "data": {
      "image/png": "[encoded data removed]",
      "text/plain": [
       "<Figure size 538.128x200.667 with 1 Axes>"
      ]
     },
     "execution_count": 12,
     "metadata": {},
     "output_type": "execute_result"
    }
   ],
   "source": [
    "# Define the Hamiltonian for 1 qubit\n",
    "X = Pauli('X')\n",
    "Y = Pauli('Y')\n",
    "Z = Pauli('Z')\n",
    "\n",
    "H = UnitaryGate(X.compose(Y.compose(Z)), label='X*Y*Z')\n",
    "\n",
    "#get eigenvectors and eigenvalues of the Hamiltonian\n",
    "eigenvalues, eigenvectors = linalg.eig(H.to_matrix())\n",
    "print(f\"Eigenvalues: {eigenvalues} \\n\")\n",
    "print(f\"Eigenvectors: {eigenvectors}\")\n",
    "\n",
    "\n",
    "# In Phase estimation, the requirement for the quantum circuit is that it must be a Unitary matrix.\n",
    "# So, we can use the UnitaryGate class to define the Hamiltonian.\n",
    "# We will need to prepare an input state that is an eigenvector of the Hamiltonian.\n",
    "# Then, we want to approximate the eigenvalue of the Hamiltonian.\n",
    "# U*psi = e^(i*theta)*psi, where U is the Hamiltonian, psi is the eigenvector, and theta is the eigenvalue.\n",
    "\n",
    "# apply the Hamiltonian to the second qubit, and turn first qubit into a control qubit\n",
    "from qiskit.circuit import ControlledGate\n",
    "\n",
    "CH = H.control(1)\n",
    "\n",
    "qc.append(CH, [0, 1])\n",
    "\n",
    "qc.h(0)\n",
    "\n",
    "\n",
    "qc.draw('mpl')\n",
    "\n",
    "\n"
   ]
  },
  {
   "cell_type": "markdown",
   "metadata": {},
   "source": [
    "# Down to business: Iterative Phase Estimation: \n",
    "## Replicating stuff from the paper \"Arbitrary accuracy iterative phase estimation algorithm as a two qubit benchmark\"\n",
    "\n",
    "Source:https://arxiv.org/pdf/quant-ph/0610214"
   ]
  },
  {
   "cell_type": "code",
   "execution_count": 11,
   "metadata": {},
   "outputs": [
    {
     "data": {
      "text/plain": [
       "Instruction(name='unitary', num_qubits=1, num_clbits=0, params=[array([[0.-1.j, 0.+0.j],\n",
       "       [0.+0.j, 0.-1.j]])])"
      ]
     },
     "execution_count": 11,
     "metadata": {},
     "output_type": "execute_result"
    }
   ],
   "source": [
    "# Iterative PEA. We now describe the IPEA briefly, but\n",
    "# still in some detail, in order to make the robustness anal\u0002ysis clear. The most straightforward approach for phase\n",
    "# estimation is shown in Fig. 1. The upper line is the ancil lary qubit which is measured, and the lower line describes\n",
    "# the qubits representing the physical system in which Uˆ operates. Initially the ancillary qubit is set to |0>\n",
    "#  and the lower line register to an eigenstate |Ψ> of the operator Uˆwith eigenvalue e^{i2πφ}. \n",
    "# Right before the measurement the system state is 1/2 [(1+e^{i2πφ})|0> + (1−e^{i2πφ})|1>] |Ψ>.\n",
    "# giving the probability P0 = cos2 (πφ) to measure ”0”.\n",
    "#By repeating this procedure N times, P0 can be deter\u0002mined to an accuracy of 1/√N. \n",
    "\n",
    "# qc is an example of a quantum circuit that implements the IPEA.\n",
    "\n",
    "q_0_initial_state = 0\n",
    "\n",
    "# the initial state of the second qubit is an eigenvector of the Hamiltonian\n",
    "\n",
    "# need the eigenvector of the Hamiltonian H\n",
    "\n",
    "q_1_initial_state = eigenvectors[0]\n",
    "\n",
    "# run the circuit\n",
    "\n",
    "\n"
   ]
  }
 ],
 "metadata": {
  "kernelspec": {
   "display_name": "Python 3",
   "language": "python",
   "name": "python3"
  },
  "language_info": {
   "codemirror_mode": {
    "name": "ipython",
    "version": 3
   },
   "file_extension": ".py",
   "mimetype": "text/x-python",
   "name": "python",
   "nbconvert_exporter": "python",
   "pygments_lexer": "ipython3",
   "version": "3.10.4"
  }
 },
 "nbformat": 4,
 "nbformat_minor": 2
}
