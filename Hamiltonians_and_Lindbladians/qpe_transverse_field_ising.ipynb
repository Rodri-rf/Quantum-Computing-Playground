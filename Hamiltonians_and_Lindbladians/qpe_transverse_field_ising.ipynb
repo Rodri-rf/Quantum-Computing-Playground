{
 "cells": [
  {
   "cell_type": "code",
   "execution_count": 4,
   "metadata": {},
   "outputs": [],
   "source": [
    "# Import Aer, transpile and execute\n",
    "from qiskit import transpile\n",
    "from qiskit_aer import AerSimulator  # as of 25Mar2025\n",
    "from qiskit import QuantumCircuit, QuantumRegister, ClassicalRegister\n",
    "from qiskit.circuit.library import QFT, UnitaryGate, PhaseGate, RZGate\n",
    "from qiskit.quantum_info import Operator\n",
    "\n",
    "import sys\n",
    "sys.path.append('../') # Relative imports in jupyter notebooks are also a mess, but that´s a whole other story\n",
    "from Hamiltonians_and_Lindbladians.utils_hamiltonian_simulation import *\n",
    "from qiskit.visualization import plot_histogram, plot_state_city\n",
    "from sympy import Matrix, latex\n",
    "from IPython.display import display, Math\n",
    "import matplotlib.pyplot as plt"
   ]
  },
  {
   "cell_type": "markdown",
   "metadata": {},
   "source": [
    "## Preface: quantum vs non-quantum Ising models:\n",
    "\n",
    "If one were to Google \"Ising Model\", like I was for the past couple hours, there is a high chance one will encounter two different formulations of the Ising model: The \"classical\" Ising model, which defines a Hamiltonian as\n",
    "\n",
    "$$ H = -j \\sum_{<i,j>} s_i s_j - h \\sum_i s_i $$\n",
    "\n",
    "where $s_i$ are the spins, $j$ is the coupling constant, and $h$ is the external magnetic field. The sum is over nearest neighbors.\n",
    "The second formulation is the quantum Ising model, which is defined as\n",
    "\n",
    "$$ H = -j \\sum_{<i,j>} \\sigma_i^z \\sigma_j^z - h \\sum_i \\sigma_i^x $$\n",
    "\n",
    "where $\\sigma_i^z$ and $\\sigma_i^x$ are the Pauli matrices. The sum is over nearest neighbors. \n",
    "\n",
    "The quantum Ising model is a quantum mechanical version of the classical Ising model, and it describes the behavior of spins in a magnetic field. The classical Ising model is a statistical mechanics model that describes the behavior of spins in a lattice, and it is used to study phase transitions and critical phenomena.\n",
    "\n",
    "The quantum Ising model is a generalization of the classical Ising model, and it includes quantum effects such as tunneling and entanglement. The quantum Ising model can be solved using various methods, including mean-field theory, renormalization group theory, and numerical simulations.\n",
    "\n",
    "(Obviously) I will focus on the quantum Ising model in this notebook, as it maps amazingly naturally to the quantum circuit model of computation. \n"
   ]
  },
  {
   "cell_type": "markdown",
   "metadata": {},
   "source": [
    "On a more superficial note, a  nicer notation (in my optinion at least) is to write the Hamiltonian as\n",
    "$$\n",
    "H_\\mathrm{Ising} = - J \\sum_{j=1}^{N-1} Z^{(j)} Z^{(j+1)} + g\\sum_{j=1}^N X^{(j)}\n",
    "$$\n",
    "\n",
    "such that $\\forall j \\in \\{1, \\ldots, N\\} $ we have $Z^{(j)}$ and $X^{(j)}$ are the Pauli matrices acting on the $j$-th qubit - aka we actually have an n-fold tensor product $H_j = \\bigotimes_{j=0}^N \\sigma_j\\,, \\quad \\sigma_j \\in \\{I, X, Y, Z\\}$ where every entry is just the identity matrix except for the $j$-th entry which is the specified Pauli matrix.\n",
    "\n",
    "Check this souce out: https://people.maths.bris.ac.uk/~csxam/teaching/qc2020/lecturenotes.pdf\n"
   ]
  },
  {
   "cell_type": "code",
   "execution_count": 33,
   "metadata": {},
   "outputs": [
    {
     "data": {
      "text/plain": [
       "SparsePauliOp(['ZZ', 'ZZ', 'XI', 'IX'],\n",
       "              coeffs=[-1.2+0.j, -1.2+0.j, -1. +0.j, -1. +0.j])"
      ]
     },
     "execution_count": 33,
     "metadata": {},
     "output_type": "execute_result"
    }
   ],
   "source": [
    "def generate_ising_hamiltonian(num_qubits: int, J, g) -> Union[SparsePauliOp, Pauli]:\n",
    "    z_terms = []\n",
    "    z_coeffs = []\n",
    "    \n",
    "    # ZZ interaction terms\n",
    "    for j in range(num_qubits):\n",
    "        pauli_string = ['I'] * num_qubits\n",
    "        pauli_string[j] = 'Z'\n",
    "        pauli_string[(j + 1) % num_qubits] = 'Z'  # Periodic boundary conditions\n",
    "        z_terms.append(\"\".join(pauli_string))\n",
    "        z_coeffs.append(-J)  # Coefficient for ZZ interaction\n",
    "\n",
    "    x_terms = []\n",
    "    x_coeffs = []\n",
    "    \n",
    "    # X field terms\n",
    "    for j in range(num_qubits):\n",
    "        pauli_string = ['I'] * num_qubits\n",
    "        pauli_string[j] = 'X'\n",
    "        x_terms.append(\"\".join(pauli_string))\n",
    "        x_coeffs.append(-g)  # Coefficient for X term\n",
    "\n",
    "    # Combine the Z and X terms into a single Hamiltonian\n",
    "    all_terms = z_terms + x_terms\n",
    "    all_coeffs = z_coeffs + x_coeffs\n",
    "\n",
    "    return SparsePauliOp(all_terms, coeffs=all_coeffs)\n",
    "\n",
    "def exponentiate_hamiltonian(hamiltonian: SparsePauliOp, time: float) -> Operator:\n",
    "    \"\"\"Exponentiates the Hamiltonian to obtain U = e^(-i H t).\"\"\"\n",
    "    matrix = hamiltonian.to_matrix()\n",
    "    unitary_matrix = scipy.linalg.expm(-1j * time * matrix)\n",
    "    display(Math(latex(Matrix(unitary_matrix))))  # Display the unitary matrix in LaTeX format\n",
    "    return Operator(unitary_matrix)\n",
    "\n",
    "# example for 2 qubits\n",
    "H = generate_ising_hamiltonian(2, 1.2, 1)\n",
    "H"
   ]
  },
  {
   "cell_type": "markdown",
   "metadata": {},
   "source": [
    "### (a) $g = 0$ (Classical Ising Limit)\n",
    "\n",
    "The Hamiltonian reduces to a classical Ising model with only $Z_j Z_{j+1}$ interactions.\n",
    "\n",
    "The ground states are ferromagnetic states:\n",
    "\n",
    "$|00\\ldots 0\\rangle$ and $|11\\ldots 1\\rangle$  \n",
    "(or in the Pauli-$X$ basis, $|\\uparrow\\uparrow\\cdots\\uparrow\\rangle$ and $|\\downarrow\\downarrow\\cdots\\downarrow\\rangle$).\n",
    "\n",
    "The energy eigenvalues are:\n",
    "\n",
    "$E = -JN,\\ -J(N-4),\\ \\ldots,\\ JN$\n",
    "\n",
    "with different spin flip excitations.\n",
    "\n",
    "### (b) $J = 0$ (Quantum Paramagnetic Limit)\n",
    "\n",
    "The Hamiltonian reduces to a transverse field only:\n",
    "\n",
    "$H = -g \\sum_j X_j$\n",
    "\n",
    "The ground state is a fully polarized state in the $X$-basis:\n",
    "\n",
    "$|+\\rangle^{\\otimes N} = \\frac{1}{\\sqrt{2^N}} \\sum_z |z\\rangle$\n",
    "\n",
    "Eigenvalues are:\n",
    "\n",
    "$E = -gN,\\ -g(N-2),\\ \\ldots,\\ gN$\n"
   ]
  },
  {
   "cell_type": "code",
   "execution_count": 3,
   "metadata": {},
   "outputs": [
    {
     "data": {
      "text/latex": [
       "$\\displaystyle \\text{Eigenvectors: } \\left[\\begin{matrix}0.664872408736702 & -0.707106781186547 & 0 & -0.240717012486978\\\\0.240717012486978 & 1.45950367100549 \\cdot 10^{-16} & 0.707106781186547 & 0.664872408736702\\\\0.240717012486978 & 1.45950367100549 \\cdot 10^{-16} & -0.707106781186547 & 0.664872408736702\\\\0.664872408736702 & 0.707106781186548 & 0 & -0.240717012486978\\end{matrix}\\right]$"
      ],
      "text/plain": [
       "<IPython.core.display.Math object>"
      ]
     },
     "metadata": {},
     "output_type": "display_data"
    },
    {
     "name": "stdout",
     "output_type": "stream",
     "text": [
      "Eigenvalues:  [-3.12409987 -2.4         2.4         3.12409987]\n"
     ]
    }
   ],
   "source": [
    "H = generate_ising_hamiltonian(2, 1.2, 1)\n",
    "\n",
    "# Convert to matrix form\n",
    "H_matrix = H.to_matrix()\n",
    "\n",
    "# Compute eigenvalues and eigenvectors\n",
    "eigenvalues, eigenvectors = np.linalg.eigh(H_matrix)\n",
    "\n",
    "# Display eigenvalues and eigenvectors\n",
    "latex_vecs = latex(Matrix(eigenvectors))  # Convert matrix to LaTeX format\n",
    "display(Math(r\"\\text{Eigenvectors: } \" + latex_vecs))\n",
    "print(\"Eigenvalues: \", eigenvalues)"
   ]
  },
  {
   "cell_type": "markdown",
   "metadata": {},
   "source": [
    "## **Effect of MSB Choice in Quantum Phase Estimation (QPE)**\n",
    "\n",
    "### **1. Overview**\n",
    "Quantum Phase Estimation (QPE) extracts the phase $\\theta $ in the eigenvalue equation:\n",
    "\n",
    "$$\n",
    "U | \\psi \\rangle = e^{2\\pi i \\theta} | \\psi \\rangle\n",
    "$$\n",
    "\n",
    "where $ U $ is a unitary matrix with eigenvalue $ e^{2\\pi i \\theta} $. The algorithm encodes $ \\theta $ using a register of $ t $ ancilla qubits and controlled-$ U^{2^k} $ operations.\n",
    "\n",
    "---\n",
    "\n",
    "### **2. Controlled-$ U^{2^k} $ Order**\n",
    "The choice of whether the **most significant bit (MSB) or least significant bit (LSB) is assigned to qubit 0** determines how powers of $ U $ are applied.\n",
    "\n",
    "- **MSB-first (Standard Convention)**\n",
    "  - Qubit $ 0 $ controls $ U^{2^0} $.\n",
    "  - Qubit $ 1 $ controls $ U^{2^1} $.\n",
    "  - Qubit $ t-1 $ controls $ U^{2^{t-1}} $.\n",
    "  - The measurement outcome is in **standard binary order**, directly yielding:\n",
    "\n",
    "    $$\n",
    "    \\theta \\approx \\frac{j}{2^t}\n",
    "    $$\n",
    "\n",
    "    where $j $ is the measurement outcome in binary.\n",
    "\n",
    "- **LSB-first (Alternative Convention)**\n",
    "  - Qubit $ 0 $ controls $ U^{2^{t-1}} $.\n",
    "  - Qubit $ 1 $ controls $ U^{2^{t-2}} $.\n",
    "  - Qubit $ t-1 $ controls $ U^{2^0} $.\n",
    "  - The measurement outcome is in **bit-reversed order**, yielding:\n",
    "\n",
    "    $$\n",
    "    \\theta \\approx \\frac{j_{\\mathrm{rev}}}{2^t}\n",
    "    $$\n",
    "\n",
    "    where $ j_{\\mathrm{rev}} $ is the bit-reversed measurement outcome.\n",
    "    - This requires additional processing to recover the original phase estimate.\n",
    "\n",
    "## **5. Conclusion**\n",
    "- The **MSB-first convention** directly encodes \\( \\theta \\) in standard binary fraction form.\n",
    "- The **LSB-first convention** leads to a **bit-reversed result**, requiring additional processing to recover \\( \\theta \\).\n"
   ]
  },
  {
   "cell_type": "code",
   "execution_count": 2,
   "metadata": {},
   "outputs": [],
   "source": [
    "\n",
    "\n",
    "def test_many_implementations_of_qpe(U, num_qubits, num_ancilla, eigenstate):\n",
    "    qpe_circ_1 = standard_qpe(unitary=U, eigenstate=eigenstate, num_ancilla=num_ancilla, swap=True)\n",
    "    qpe_circ_2 = standard_qpe(unitary=U, eigenstate=eigenstate, num_ancilla=num_ancilla, swap=False)\n",
    "    qpe_circ_3 = standard_qpe_v2(unitary=U, eigenstate=eigenstate, num_ancilla=num_ancilla, num_target=num_qubits, swap=True)\n",
    "    qpe_circ_4 = standard_qpe_v2(unitary=U, eigenstate=eigenstate, num_ancilla=num_ancilla, num_target=num_qubits, swap=False)\n",
    "\n",
    "    return [qpe_circ_1, qpe_circ_2, qpe_circ_3, qpe_circ_4]\n",
    "\n",
    "    "
   ]
  }
 ],
 "metadata": {
  "kernelspec": {
   "display_name": "quantum_stuff",
   "language": "python",
   "name": "python3"
  },
  "language_info": {
   "codemirror_mode": {
    "name": "ipython",
    "version": 3
   },
   "file_extension": ".py",
   "mimetype": "text/x-python",
   "name": "python",
   "nbconvert_exporter": "python",
   "pygments_lexer": "ipython3",
   "version": "3.13.1"
  }
 },
 "nbformat": 4,
 "nbformat_minor": 2
}
