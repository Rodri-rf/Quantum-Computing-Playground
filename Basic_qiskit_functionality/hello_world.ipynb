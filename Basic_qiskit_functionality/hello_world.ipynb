{
 "cells": [
  {
   "cell_type": "code",
   "execution_count": null,
   "metadata": {},
   "outputs": [],
   "source": [
    "# Following the tutorials in the IBM website\n",
    "\n",
    "# Qiskit pattern:\n",
    "# 1. Map the problem to crcuits and operators\n",
    "# 2. Optimize the circuit\n",
    "# 3. Excetute the circuit on a quantum computer (backend)\n",
    "# 4. Post-process the results"
   ]
  },
  {
   "cell_type": "markdown",
   "metadata": {},
   "source": [
    "# Hello World example on a 2 qubit Bell state\n",
    " Step 1: Map the problem to crcuits and operators"
   ]
  },
  {
   "cell_type": "code",
   "execution_count": 3,
   "metadata": {},
   "outputs": [
    {
     "data": {
      "image/png": "[encoded data removed]",
      "text/plain": [
       "<Figure size 287.294x200.667 with 1 Axes>"
      ]
     },
     "execution_count": 3,
     "metadata": {},
     "output_type": "execute_result"
    }
   ],
   "source": [
    "from qiskit import QuantumCircuit\n",
    "\n",
    "qc = QuantumCircuit(2) # Create a quantum circuit with 2 qubits\n",
    "\n",
    "qc.h(0) # Apply a Hadamard gate on qubit 0\n",
    "qc.cx(0,1) # Apply a CNOT gate on control qubit 0 and target qubit 1. aka if the control qubit is 1, then apply X gate on the target qubit\n",
    "\n",
    "qc.draw(output='mpl') # Draw the circuit. output='mpl' is to draw the circuit using matplotlib\n"
   ]
  },
  {
   "cell_type": "code",
   "execution_count": 5,
   "metadata": {},
   "outputs": [],
   "source": [
    "from qiskit.quantum_info import Pauli\n",
    "\n",
    "ZZ = Pauli('ZZ') # Create a Pauli object with label ZZ\n",
    "ZI = Pauli('ZI')\n",
    "IZ = Pauli('IZ')\n",
    "XX = Pauli('XX')\n",
    "XI = Pauli('XI')\n",
    "IX = Pauli('IX')\n",
    "\n",
    "operators_lst = [ZZ, ZI, IZ, XX, XI, IX]"
   ]
  },
  {
   "cell_type": "markdown",
   "metadata": {},
   "source": [
    "# Step 3: Execute the circuit on backend (we sktp step 2 for now)"
   ]
  },
  {
   "cell_type": "code",
   "execution_count": 8,
   "metadata": {},
   "outputs": [
    {
     "name": "stdout",
     "output_type": "stream",
     "text": [
      "EstimatorResult(values=array([ 1.        ,  0.00390625,  0.00390625,  1.        , -0.0078125 ,\n",
      "       -0.0078125 ]), metadata=[{'shots': 1024, 'variance': 0.0, 'simulator_metadata': [{'batched_shots_optimization': False, 'required_memory_mb': 0, 'method': 'stabilizer', 'active_input_qubits': [0, 1], 'device': 'CPU', 'remapped_qubits': False, 'num_qubits': 2, 'num_clbits': 2, 'time_taken': 0.0083894, 'sample_measure_time': 0.0015154, 'input_qubit_map': [[0, 0], [1, 1]], 'max_memory_mb': 23271, 'measure_sampling': True, 'noise': 'ideal', 'parallel_shots': 1, 'parallel_state_update': 12, 'runtime_parameter_bind': False, 'num_bind_params': 1, 'fusion': {'enabled': False}}]}, {'shots': 1024, 'variance': 0.9999847412109375, 'simulator_metadata': [{'batched_shots_optimization': False, 'required_memory_mb': 0, 'method': 'stabilizer', 'active_input_qubits': [0, 1], 'device': 'CPU', 'remapped_qubits': False, 'num_qubits': 2, 'num_clbits': 2, 'time_taken': 0.0083894, 'sample_measure_time': 0.0015154, 'input_qubit_map': [[0, 0], [1, 1]], 'max_memory_mb': 23271, 'measure_sampling': True, 'noise': 'ideal', 'parallel_shots': 1, 'parallel_state_update': 12, 'runtime_parameter_bind': False, 'num_bind_params': 1, 'fusion': {'enabled': False}}]}, {'shots': 1024, 'variance': 0.9999847412109375, 'simulator_metadata': [{'batched_shots_optimization': False, 'required_memory_mb': 0, 'method': 'stabilizer', 'active_input_qubits': [0, 1], 'device': 'CPU', 'remapped_qubits': False, 'num_qubits': 2, 'num_clbits': 2, 'time_taken': 0.0083894, 'sample_measure_time': 0.0015154, 'input_qubit_map': [[0, 0], [1, 1]], 'max_memory_mb': 23271, 'measure_sampling': True, 'noise': 'ideal', 'parallel_shots': 1, 'parallel_state_update': 12, 'runtime_parameter_bind': False, 'num_bind_params': 1, 'fusion': {'enabled': False}}]}, {'shots': 1024, 'variance': 0.0, 'simulator_metadata': [{'batched_shots_optimization': False, 'required_memory_mb': 0, 'method': 'stabilizer', 'active_input_qubits': [0, 1], 'device': 'CPU', 'remapped_qubits': False, 'num_qubits': 2, 'num_clbits': 2, 'time_taken': 0.0050723, 'sample_measure_time': 0.0024923, 'input_qubit_map': [[0, 0], [1, 1]], 'max_memory_mb': 23271, 'measure_sampling': True, 'noise': 'ideal', 'parallel_shots': 1, 'parallel_state_update': 12, 'runtime_parameter_bind': False, 'num_bind_params': 1, 'fusion': {'enabled': False}}]}, {'shots': 1024, 'variance': 0.99993896484375, 'simulator_metadata': [{'batched_shots_optimization': False, 'required_memory_mb': 0, 'method': 'stabilizer', 'active_input_qubits': [0, 1], 'device': 'CPU', 'remapped_qubits': False, 'num_qubits': 2, 'num_clbits': 2, 'time_taken': 0.0050723, 'sample_measure_time': 0.0024923, 'input_qubit_map': [[0, 0], [1, 1]], 'max_memory_mb': 23271, 'measure_sampling': True, 'noise': 'ideal', 'parallel_shots': 1, 'parallel_state_update': 12, 'runtime_parameter_bind': False, 'num_bind_params': 1, 'fusion': {'enabled': False}}]}, {'shots': 1024, 'variance': 0.99993896484375, 'simulator_metadata': [{'batched_shots_optimization': False, 'required_memory_mb': 0, 'method': 'stabilizer', 'active_input_qubits': [0, 1], 'device': 'CPU', 'remapped_qubits': False, 'num_qubits': 2, 'num_clbits': 2, 'time_taken': 0.0050723, 'sample_measure_time': 0.0024923, 'input_qubit_map': [[0, 0], [1, 1]], 'max_memory_mb': 23271, 'measure_sampling': True, 'noise': 'ideal', 'parallel_shots': 1, 'parallel_state_update': 12, 'runtime_parameter_bind': False, 'num_bind_params': 1, 'fusion': {'enabled': False}}]}])\n"
     ]
    }
   ],
   "source": [
    "from qiskit_aer.primitives import Estimator\n",
    "\n",
    "estimator = Estimator() # Create an Estimator object. This object is used to estimate the expectation value of a given operator\n",
    "job = estimator.run([qc] * len(operators_lst), observables=operators_lst) # Run the estimator object with the quantum circuit and the operators list\n",
    "\n",
    "print(job.result()) # Print the result of the job"
   ]
  },
  {
   "cell_type": "markdown",
   "metadata": {},
   "source": [
    "# Step 4: Post processing and plotting"
   ]
  },
  {
   "cell_type": "code",
   "execution_count": 10,
   "metadata": {},
   "outputs": [
    {
     "data": {
      "image/png": "[encoded data removed]",
      "text/plain": [
       "<Figure size 640x480 with 1 Axes>"
      ]
     },
     "metadata": {},
     "output_type": "display_data"
    },
    {
     "name": "stdout",
     "output_type": "stream",
     "text": [
      "Operator([[ 1.+0.j,  0.+0.j],\n",
      "          [ 0.+0.j, -1.+0.j]],\n",
      "         input_dims=(2,), output_dims=(2,))\n",
      "Operator([[0.+0.j, 1.+0.j],\n",
      "          [1.+0.j, 0.+0.j]],\n",
      "         input_dims=(2,), output_dims=(2,))\n"
     ]
    }
   ],
   "source": [
    "import matplotlib.pyplot as plt\n",
    "\n",
    "labels = [str(op) for op in operators_lst] # Create a list of labels for the operators\n",
    "values = job.result().values # Get the values from the result of the job\n",
    "\n",
    "plt.bar(labels, values) # Create a bar plot with the labels and values\n",
    "plt.xlabel('Observables') # Set the x-axis label\n",
    "plt.ylabel('Expectation value') # Set the y-axis label\n",
    "plt.show() # Show the plot\n",
    "\n",
    "# Print Z gate and X gate\n",
    "from qiskit.quantum_info import Operator\n",
    "\n",
    "Z = Operator.from_label('Z') # Create a Z gate\n",
    "X = Operator.from_label('X') # Create an X gate\n",
    "\n",
    "print(Z) # Print the Z gate\n",
    "print(X) # Print the X gate"
   ]
  },
  {
   "cell_type": "code",
   "execution_count": 11,
   "metadata": {},
   "outputs": [
    {
     "data": {
      "text/plain": [
       "[0, 1, 1, 0]"
      ]
     },
     "execution_count": 11,
     "metadata": {},
     "output_type": "execute_result"
    }
   ],
   "source": []
  }
 ],
 "metadata": {
  "kernelspec": {
   "display_name": "Python 3",
   "language": "python",
   "name": "python3"
  },
  "language_info": {
   "codemirror_mode": {
    "name": "ipython",
    "version": 3
   },
   "file_extension": ".py",
   "mimetype": "text/x-python",
   "name": "python",
   "nbconvert_exporter": "python",
   "pygments_lexer": "ipython3",
   "version": "3.10.4"
  }
 },
 "nbformat": 4,
 "nbformat_minor": 2
}
